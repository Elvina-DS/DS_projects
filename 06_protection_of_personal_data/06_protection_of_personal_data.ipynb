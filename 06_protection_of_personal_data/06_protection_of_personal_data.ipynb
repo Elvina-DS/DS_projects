{
 "cells": [
  {
   "cell_type": "markdown",
   "metadata": {},
   "source": [
    "<div style=\"border:inset orange 2px; padding: 20px\">\n",
    "    \n",
    "<h2 style=\"color: cornflowerblue\">Protection of Customer Personal Data<a class=\"tocSkip\"></a></h2>\n",
    "    \n",
    "The task is to protect the data of customers of the insurance company.\n",
    "\n",
    "**Project Goal** - to develop a data transformation method that makes it difficult to reconstruct personal information from the data. The goal is to protect the data while ensuring that the quality of machine learning models does not degrade.\n",
    "\n",
    "**Research Process**\n",
    "\n",
    "The research will be conducted in 6 stages:\n",
    "\n",
    "- 1. Data Overview.\n",
    "- 2. Matrix Multiplication.\n",
    "   - 2.1. Evaluating the impact on the linear regression quality when multiplying features by an invertible matrix.\n",
    "- 3. Proposal of Transformation Algorithm.\n",
    "- 4. Algorithm Testing.\n",
    "- 5. Data Decoding.\n",
    "- 6. General Conclusion.\n",
    "\n",
    "**Data Description**\n",
    "\n",
    "* Features: gender, age, insured person's salary, number of family members.\n",
    "* Target Feature: the number of insurance benefits to the client in the last 5 years.\n",
    "    \n",
    "<img src=\"https://img.freepik.com/free-vector/global-data-security-personal-data-security-cyber-data-security-online-concept-illustration-internet-security-information-privacy-protection_1150-37375.jpg\" width=\"500\" height=\"500\" alt=\"Security\" />"
   ]
  },
  {
   "cell_type": "markdown",
   "metadata": {},
   "source": [
    "## Data Overview"
   ]
  },
  {
   "cell_type": "code",
   "execution_count": 24,
   "metadata": {},
   "outputs": [],
   "source": [
    "# Importing libraries\n",
    "\n",
    "import pandas as pd\n",
    "import numpy as np\n",
    "import seaborn as sns\n",
    "\n",
    "from sklearn.metrics import r2_score\n",
    "from sklearn.linear_model import LinearRegression\n",
    "from sklearn.preprocessing import StandardScaler "
   ]
  },
  {
   "cell_type": "code",
   "execution_count": 25,
   "metadata": {},
   "outputs": [],
   "source": [
    "# Setting parameters\n",
    "\n",
    "sns.set_style(\"whitegrid\")"
   ]
  },
  {
   "cell_type": "code",
   "execution_count": 26,
   "metadata": {},
   "outputs": [],
   "source": [
    "# Reading the data file and storing it in the variable df\n",
    "\n",
    "df = pd.read_csv('./insurance.csv')"
   ]
  },
  {
   "cell_type": "markdown",
   "metadata": {},
   "source": [
    "Now we proceed to explore the available data."
   ]
  },
  {
   "cell_type": "code",
   "execution_count": 27,
   "metadata": {},
   "outputs": [
    {
     "data": {
      "text/html": [
       "<div>\n",
       "<style scoped>\n",
       "    .dataframe tbody tr th:only-of-type {\n",
       "        vertical-align: middle;\n",
       "    }\n",
       "\n",
       "    .dataframe tbody tr th {\n",
       "        vertical-align: top;\n",
       "    }\n",
       "\n",
       "    .dataframe thead th {\n",
       "        text-align: right;\n",
       "    }\n",
       "</style>\n",
       "<table border=\"1\" class=\"dataframe\">\n",
       "  <thead>\n",
       "    <tr style=\"text-align: right;\">\n",
       "      <th></th>\n",
       "      <th>Пол</th>\n",
       "      <th>Возраст</th>\n",
       "      <th>Зарплата</th>\n",
       "      <th>Члены семьи</th>\n",
       "      <th>Страховые выплаты</th>\n",
       "    </tr>\n",
       "  </thead>\n",
       "  <tbody>\n",
       "    <tr>\n",
       "      <th>0</th>\n",
       "      <td>1</td>\n",
       "      <td>41.0</td>\n",
       "      <td>49600.0</td>\n",
       "      <td>1</td>\n",
       "      <td>0</td>\n",
       "    </tr>\n",
       "    <tr>\n",
       "      <th>1</th>\n",
       "      <td>0</td>\n",
       "      <td>46.0</td>\n",
       "      <td>38000.0</td>\n",
       "      <td>1</td>\n",
       "      <td>1</td>\n",
       "    </tr>\n",
       "    <tr>\n",
       "      <th>2</th>\n",
       "      <td>0</td>\n",
       "      <td>29.0</td>\n",
       "      <td>21000.0</td>\n",
       "      <td>0</td>\n",
       "      <td>0</td>\n",
       "    </tr>\n",
       "    <tr>\n",
       "      <th>3</th>\n",
       "      <td>0</td>\n",
       "      <td>21.0</td>\n",
       "      <td>41700.0</td>\n",
       "      <td>2</td>\n",
       "      <td>0</td>\n",
       "    </tr>\n",
       "    <tr>\n",
       "      <th>4</th>\n",
       "      <td>1</td>\n",
       "      <td>28.0</td>\n",
       "      <td>26100.0</td>\n",
       "      <td>0</td>\n",
       "      <td>0</td>\n",
       "    </tr>\n",
       "  </tbody>\n",
       "</table>\n",
       "</div>"
      ],
      "text/plain": [
       "   Пол  Возраст  Зарплата  Члены семьи  Страховые выплаты\n",
       "0    1     41.0   49600.0            1                  0\n",
       "1    0     46.0   38000.0            1                  1\n",
       "2    0     29.0   21000.0            0                  0\n",
       "3    0     21.0   41700.0            2                  0\n",
       "4    1     28.0   26100.0            0                  0"
      ]
     },
     "execution_count": 27,
     "metadata": {},
     "output_type": "execute_result"
    }
   ],
   "source": [
    "# Displaying the first 5 rows of the dataframe\n",
    "\n",
    "df.head()"
   ]
  },
  {
   "cell_type": "code",
   "execution_count": 28,
   "metadata": {},
   "outputs": [],
   "source": [
    "# Renaming column names in English\n",
    "\n",
    "df = df.rename(\n",
    "    columns={\n",
    "        'Пол': 'Gender',\n",
    "        'Возраст': 'Age',\n",
    "        'Зарплата': 'Salary',\n",
    "        'Члены семьи': 'Family Members',\n",
    "        'Страховые выплаты': 'Insurance benefits'\n",
    "    }\n",
    ")"
   ]
  },
  {
   "cell_type": "code",
   "execution_count": 29,
   "metadata": {},
   "outputs": [
    {
     "name": "stdout",
     "output_type": "stream",
     "text": [
      "<class 'pandas.core.frame.DataFrame'>\n",
      "RangeIndex: 5000 entries, 0 to 4999\n",
      "Data columns (total 5 columns):\n",
      " #   Column              Non-Null Count  Dtype  \n",
      "---  ------              --------------  -----  \n",
      " 0   Gender              5000 non-null   int64  \n",
      " 1   Age                 5000 non-null   float64\n",
      " 2   Salary              5000 non-null   float64\n",
      " 3   Family Members      5000 non-null   int64  \n",
      " 4   Insurance benefits  5000 non-null   int64  \n",
      "dtypes: float64(2), int64(3)\n",
      "memory usage: 195.4 KB\n"
     ]
    }
   ],
   "source": [
    "# Displaying general information about the dataframe\n",
    "\n",
    "df.info()"
   ]
  },
  {
   "cell_type": "code",
   "execution_count": 30,
   "metadata": {},
   "outputs": [
    {
     "data": {
      "text/html": [
       "<div>\n",
       "<style scoped>\n",
       "    .dataframe tbody tr th:only-of-type {\n",
       "        vertical-align: middle;\n",
       "    }\n",
       "\n",
       "    .dataframe tbody tr th {\n",
       "        vertical-align: top;\n",
       "    }\n",
       "\n",
       "    .dataframe thead th {\n",
       "        text-align: right;\n",
       "    }\n",
       "</style>\n",
       "<table border=\"1\" class=\"dataframe\">\n",
       "  <thead>\n",
       "    <tr style=\"text-align: right;\">\n",
       "      <th></th>\n",
       "      <th>Gender</th>\n",
       "      <th>Age</th>\n",
       "      <th>Salary</th>\n",
       "      <th>Family Members</th>\n",
       "      <th>Insurance benefits</th>\n",
       "    </tr>\n",
       "  </thead>\n",
       "  <tbody>\n",
       "    <tr>\n",
       "      <th>count</th>\n",
       "      <td>5000.000000</td>\n",
       "      <td>5000.000000</td>\n",
       "      <td>5000.000000</td>\n",
       "      <td>5000.000000</td>\n",
       "      <td>5000.000000</td>\n",
       "    </tr>\n",
       "    <tr>\n",
       "      <th>mean</th>\n",
       "      <td>0.499000</td>\n",
       "      <td>30.952800</td>\n",
       "      <td>39916.360000</td>\n",
       "      <td>1.194200</td>\n",
       "      <td>0.148000</td>\n",
       "    </tr>\n",
       "    <tr>\n",
       "      <th>std</th>\n",
       "      <td>0.500049</td>\n",
       "      <td>8.440807</td>\n",
       "      <td>9900.083569</td>\n",
       "      <td>1.091387</td>\n",
       "      <td>0.463183</td>\n",
       "    </tr>\n",
       "    <tr>\n",
       "      <th>min</th>\n",
       "      <td>0.000000</td>\n",
       "      <td>18.000000</td>\n",
       "      <td>5300.000000</td>\n",
       "      <td>0.000000</td>\n",
       "      <td>0.000000</td>\n",
       "    </tr>\n",
       "    <tr>\n",
       "      <th>25%</th>\n",
       "      <td>0.000000</td>\n",
       "      <td>24.000000</td>\n",
       "      <td>33300.000000</td>\n",
       "      <td>0.000000</td>\n",
       "      <td>0.000000</td>\n",
       "    </tr>\n",
       "    <tr>\n",
       "      <th>50%</th>\n",
       "      <td>0.000000</td>\n",
       "      <td>30.000000</td>\n",
       "      <td>40200.000000</td>\n",
       "      <td>1.000000</td>\n",
       "      <td>0.000000</td>\n",
       "    </tr>\n",
       "    <tr>\n",
       "      <th>75%</th>\n",
       "      <td>1.000000</td>\n",
       "      <td>37.000000</td>\n",
       "      <td>46600.000000</td>\n",
       "      <td>2.000000</td>\n",
       "      <td>0.000000</td>\n",
       "    </tr>\n",
       "    <tr>\n",
       "      <th>max</th>\n",
       "      <td>1.000000</td>\n",
       "      <td>65.000000</td>\n",
       "      <td>79000.000000</td>\n",
       "      <td>6.000000</td>\n",
       "      <td>5.000000</td>\n",
       "    </tr>\n",
       "  </tbody>\n",
       "</table>\n",
       "</div>"
      ],
      "text/plain": [
       "            Gender          Age        Salary  Family Members  \\\n",
       "count  5000.000000  5000.000000   5000.000000     5000.000000   \n",
       "mean      0.499000    30.952800  39916.360000        1.194200   \n",
       "std       0.500049     8.440807   9900.083569        1.091387   \n",
       "min       0.000000    18.000000   5300.000000        0.000000   \n",
       "25%       0.000000    24.000000  33300.000000        0.000000   \n",
       "50%       0.000000    30.000000  40200.000000        1.000000   \n",
       "75%       1.000000    37.000000  46600.000000        2.000000   \n",
       "max       1.000000    65.000000  79000.000000        6.000000   \n",
       "\n",
       "       Insurance benefits  \n",
       "count         5000.000000  \n",
       "mean             0.148000  \n",
       "std              0.463183  \n",
       "min              0.000000  \n",
       "25%              0.000000  \n",
       "50%              0.000000  \n",
       "75%              0.000000  \n",
       "max              5.000000  "
      ]
     },
     "execution_count": 30,
     "metadata": {},
     "output_type": "execute_result"
    }
   ],
   "source": [
    "# Displaying feature characteristics\n",
    "\n",
    "df.describe()"
   ]
  },
  {
   "cell_type": "code",
   "execution_count": 31,
   "metadata": {},
   "outputs": [
    {
     "data": {
      "image/png": "[encoded data removed]",
      "text/plain": [
       "<Figure size 720x720 with 6 Axes>"
      ]
     },
     "metadata": {},
     "output_type": "display_data"
    }
   ],
   "source": [
    "# Data distribution\n",
    "\n",
    "df.hist(figsize=(10, 10));"
   ]
  },
  {
   "cell_type": "markdown",
   "metadata": {},
   "source": [
    "**Conclusion**. All the data is numerical. There are no missing values in the data. Judging by the standard deviation (std) values, the values are scattered. According to the distribution of values in the features, the following has been observed: the number of male and female insured individuals is roughly the same, with the majority of insured individuals being between 20 to 30 years old and having a salary level of 30,000 to 50,000 rubles. The majority of insured individuals are either single or have one family member. Most clients have not received insurance benefits.\n",
    "\n",
    "Data preprocessing is not required; the data is ready for further analysis."
   ]
  },
  {
   "cell_type": "markdown",
   "metadata": {},
   "source": [
    "## Matrix Multiplication"
   ]
  },
  {
   "cell_type": "markdown",
   "metadata": {},
   "source": [
    "According to the task conditions, we need to protect the data while ensuring that the quality of machine learning models does not degrade. First, I will train a linear regression model and evaluate its performance on the original data.\n",
    "\n",
    "I will create variables for features and target features."
   ]
  },
  {
   "cell_type": "code",
   "execution_count": 32,
   "metadata": {},
   "outputs": [],
   "source": [
    "features = df.drop('Insurance benefits', axis=1)\n",
    "target = df['Insurance benefits']"
   ]
  },
  {
   "cell_type": "markdown",
   "metadata": {},
   "source": [
    "Then, I will train a linear regression using sklearn."
   ]
  },
  {
   "cell_type": "code",
   "execution_count": 33,
   "metadata": {},
   "outputs": [
    {
     "name": "stdout",
     "output_type": "stream",
     "text": [
      "0.4249455028666801\n"
     ]
    }
   ],
   "source": [
    "model = LinearRegression()\n",
    "\n",
    "# Training the linear regression model\n",
    "\n",
    "model.fit(features, target)\n",
    "\n",
    "# Predicting the target variable\n",
    "\n",
    "predictions = model.predict(features)\n",
    "\n",
    "# Calculating the R2 metric\n",
    "\n",
    "print(r2_score(target, predictions))"
   ]
  },
  {
   "cell_type": "markdown",
   "metadata": {},
   "source": [
    "Next, using numpy's matrix operations, I will write an analytical solution for linear regression."
   ]
  },
  {
   "cell_type": "code",
   "execution_count": 34,
   "metadata": {},
   "outputs": [
    {
     "name": "stdout",
     "output_type": "stream",
     "text": [
      "R2 on the original data: 0.4249455028666801\n"
     ]
    }
   ],
   "source": [
    "# Creating the LinearRegression class\n",
    "\n",
    "class LinearRegression:\n",
    "    \n",
    "    # fit() method, which takes features and target features as input\n",
    "    \n",
    "    def fit(self, features, target):\n",
    "        \n",
    "        # Adding a column of ones to features\n",
    "        \n",
    "        X = np.concatenate((np.ones((features.shape[0], 1)), features), axis=1)\n",
    "        y = target\n",
    "        \n",
    "        # Calculating the model weights using the method of least squares\n",
    "        \n",
    "        w = np.linalg.inv(X.T.dot(X)).dot(X.T).dot(y)\n",
    "        \n",
    "        # Weight separation\n",
    "        \n",
    "        self.w = w[1:]\n",
    "        self.w0 = w[0]\n",
    "        \n",
    "    # predict() method to calculate the prediction of linear regression\n",
    "\n",
    "    def predict(self, features):\n",
    "        return features.dot(self.w) + self.w0\n",
    "\n",
    "# Creating a data structure object\n",
    "\n",
    "model = LinearRegression()\n",
    "\n",
    "# Training the model\n",
    "\n",
    "model.fit(features, target)\n",
    "\n",
    "# Getting predictions\n",
    "\n",
    "predictions = model.predict(features)\n",
    "\n",
    "# Calculating the R2 metric\n",
    "\n",
    "r2_score_original = r2_score(target, predictions)\n",
    "\n",
    "# Displaying R2\n",
    "\n",
    "print('R2 on the original data:', r2_score_original)"
   ]
  },
  {
   "cell_type": "markdown",
   "metadata": {},
   "source": [
    "**Conclusion**. I trained a linear regression using sklearn and wrote an analytical solution using numpy on the same data, and obtained the same coefficient of determination (R2) equal to 0.4249."
   ]
  },
  {
   "cell_type": "markdown",
   "metadata": {},
   "source": [
    "### Evaluating the Impact on Linear Regression Quality When Multiplying Features by an Invertible Matrix"
   ]
  },
  {
   "cell_type": "markdown",
   "metadata": {},
   "source": [
    "The features are multiplied by an invertible matrix. Will the quality of linear regression change?\n",
    "\n",
    "Notation:\n",
    "\n",
    "- $X$ — feature matrix (the zero column consists of ones)\n",
    "\n",
    "- $y$ — target feature vector\n",
    "\n",
    "- $P$ — the matrix by which features are multiplied\n",
    "\n",
    "- $w$ — linear regression weights vector (the zero element equals the bias)\n",
    "\n",
    "Predictions:\n",
    "\n",
    "$$\n",
    "a = Xw\n",
    "$$\n",
    "\n",
    "Training Task:\n",
    "\n",
    "$$\n",
    "w = \\arg\\min_w MSE(Xw, y)\n",
    "$$\n",
    "\n",
    "Training Formula:\n",
    "\n",
    "$$\n",
    "w = (X^T X)^{-1} X^T y\n",
    "$$\n",
    "\n",
    "**Answer:** It will not change.\n",
    "\n",
    "**Justification:** If the features are multiplied by an invertible matrix P, then the quality of linear regression will not change because the matrix P is invertible, and multiplying the features by it does not change the original data. The predictions and model weights will be changed, but it will not affect the quality of linear regression as they will be computed anew using the new data. The parameters of linear regression in the original task and the transformed task will be related in that they will rely on the same data but will be computed differently. I will prove this statement using formulas.\n",
    "\n",
    "Let's multiply the features by an invertible matrix P.\n",
    "\n",
    "Predictions for transformed data:\n",
    "\n",
    "$$\n",
    "a' = XPw'\n",
    "$$\n",
    "\n",
    "Training Formula:\n",
    "$$\n",
    "w' = ((XP)^T XP)^{-1} (XP)^T y,\n",
    "$$\n",
    "\n",
    "Substitute the training formula into predictions:\n",
    "\n",
    "$$\n",
    "a'= XP((XP)^T XP)^{-1} (XP)^T y,\n",
    "$$\n",
    "\n",
    "Next, when expanding the parentheses $(XP)^T$ I group them into $X^T$ and $X$ since I do not know if the feature matrix X is square, but I know that $(X^T X)$ is a square matrix.\n",
    "\n",
    "$$\n",
    "a' = XP(P^T (X^T X) P)^{-1} (XP)^T y\n",
    "$$\n",
    "\n",
    "$$\n",
    "a' = XP(P^T (X^T X) P)^{-1} P^T X^T y\n",
    "$$\n",
    "\n",
    "$$\n",
    "a' = XP P^{-1} (X^T X)^{-1} (P^T)^{-1} P^T X^T y\n",
    "$$\n",
    "\n",
    "Since $PP^{-1} = E$ and $(P^T)^{-1} P^T = E$ (identity matrices), then:\n",
    "\n",
    "$$\n",
    "a' = X(X^T X)^{-1} X^T y\n",
    "$$\n",
    "\n",
    "Thus,\n",
    "\n",
    "$$\n",
    "a' = a\n",
    "$$\n",
    "\n",
    "**Conclusion**. As a result, I obtained an equality of predictions. This means that the model quality will not change, as the transformation of the feature matrix X by the matrix P does not alter the data properties; it only changes the representation of the data."
   ]
  },
  {
   "cell_type": "markdown",
   "metadata": {},
   "source": [
    "## Data Transformation Algorithm"
   ]
  },
  {
   "cell_type": "markdown",
   "metadata": {},
   "source": [
    "**Algorithm**\n",
    "\n",
    "One of the possible data transformation algorithms to make it difficult to recover customers' personal information is scaling the data using standardization and using matrix operations. I can create a random invertible matrix and multiply it by the original data to obtain the transformed data. This will change the feature values but not their relationships, ensuring that the quality of linear regression remains unchanged.\n",
    "\n",
    "1. Transform the data using feature scaling.\n",
    "2. Generate a random matrix.\n",
    "3. Compute the inverse of the generated matrix.\n",
    "4. Multiply the feature matrix by the created inverse matrix.\n",
    "5. Use a linear regression model for training and prediction on the transformed data.\n",
    "\n",
    "**Justification**\n",
    "\n",
    "This data transformation algorithm allows to modify the original data in such a way that recovering customers' personal information becomes difficult. This is achieved by using a random invertible matrix, which alters the data structure and makes it incomprehensible to humans. However, the quality of linear regression remains unchanged, as matrix operations do not affect the relationship between the target variable and predictors."
   ]
  },
  {
   "cell_type": "markdown",
   "metadata": {},
   "source": [
    "## Algorithm Verification"
   ]
  },
  {
   "cell_type": "markdown",
   "metadata": {},
   "source": [
    "First, I will scale the data. Applying StandardScaler guarantees that each feature will have a mean of 0 and a variance of 1, resulting in all features having the same scale."
   ]
  },
  {
   "cell_type": "code",
   "execution_count": 35,
   "metadata": {},
   "outputs": [],
   "source": [
    "# Creating the scaler object\n",
    "\n",
    "scaler = StandardScaler()\n",
    "\n",
    "# Data normalization\n",
    "\n",
    "features_scaled = scaler.fit_transform(features)"
   ]
  },
  {
   "cell_type": "markdown",
   "metadata": {},
   "source": [
    "Next, I will create a matrix from the available features."
   ]
  },
  {
   "cell_type": "code",
   "execution_count": 36,
   "metadata": {},
   "outputs": [
    {
     "data": {
      "text/plain": [
       "array([[ 1.002002  ,  1.19043179,  0.97823503, -0.17795659],\n",
       "       [-0.998002  ,  1.78285146, -0.19358944, -0.17795659],\n",
       "       [-0.998002  , -0.23137543, -1.91091841, -1.09431388],\n",
       "       ...,\n",
       "       [-0.998002  , -1.29773084, -0.60776878,  0.7384007 ],\n",
       "       [ 1.002002  , -1.06076297, -0.728992  ,  1.654758  ],\n",
       "       [ 1.002002  , -0.34985936,  0.06906087, -0.17795659]])"
      ]
     },
     "execution_count": 36,
     "metadata": {},
     "output_type": "execute_result"
    }
   ],
   "source": [
    "# Creating a matrix using NumPy array\n",
    "\n",
    "features_matrix = np.array(features_scaled)\n",
    "\n",
    "# Displaying the matrix\n",
    "\n",
    "features_matrix"
   ]
  },
  {
   "cell_type": "markdown",
   "metadata": {},
   "source": [
    "I will create a random matrix, compute its inverse, and transform the data by multiplying the feature matrix by the created inverse matrix."
   ]
  },
  {
   "cell_type": "code",
   "execution_count": 37,
   "metadata": {},
   "outputs": [
    {
     "data": {
      "text/plain": [
       "array([[ -5.44801677,   7.66107132,   3.22080017,  -3.90617536],\n",
       "       [ -4.81461818,  -0.43467206,   5.44270795,  -0.59306613],\n",
       "       [ -5.25297287,   4.11962556,   2.65846123,  -3.67497673],\n",
       "       ...,\n",
       "       [  8.49773276, -11.87920052,  -4.65496331,   6.76115195],\n",
       "       [ -0.99048122,  -2.53196931,  -1.9419239 ,   4.5386368 ],\n",
       "       [ -2.84956178,   6.35796722,  -0.13187029,  -2.92881842]])"
      ]
     },
     "execution_count": 37,
     "metadata": {},
     "output_type": "execute_result"
    }
   ],
   "source": [
    "# Generating a random matrix\n",
    "\n",
    "random_matrix = np.random.rand(features_matrix.shape[1], features_matrix.shape[1])\n",
    "\n",
    "# Computing its inverse matrix\n",
    "\n",
    "random_matrix = np.linalg.inv(random_matrix)\n",
    "\n",
    "# Data transformation\n",
    "\n",
    "transformed_df = features_matrix @ random_matrix\n",
    "\n",
    "# Displaying the transformed data\n",
    "\n",
    "transformed_df"
   ]
  },
  {
   "cell_type": "markdown",
   "metadata": {},
   "source": [
    "I will convert the matrix back to a DataFrame."
   ]
  },
  {
   "cell_type": "code",
   "execution_count": 38,
   "metadata": {},
   "outputs": [
    {
     "data": {
      "text/html": [
       "<div>\n",
       "<style scoped>\n",
       "    .dataframe tbody tr th:only-of-type {\n",
       "        vertical-align: middle;\n",
       "    }\n",
       "\n",
       "    .dataframe tbody tr th {\n",
       "        vertical-align: top;\n",
       "    }\n",
       "\n",
       "    .dataframe thead th {\n",
       "        text-align: right;\n",
       "    }\n",
       "</style>\n",
       "<table border=\"1\" class=\"dataframe\">\n",
       "  <thead>\n",
       "    <tr style=\"text-align: right;\">\n",
       "      <th></th>\n",
       "      <th>0</th>\n",
       "      <th>1</th>\n",
       "      <th>2</th>\n",
       "      <th>3</th>\n",
       "    </tr>\n",
       "  </thead>\n",
       "  <tbody>\n",
       "    <tr>\n",
       "      <th>0</th>\n",
       "      <td>-5.448017</td>\n",
       "      <td>7.661071</td>\n",
       "      <td>3.220800</td>\n",
       "      <td>-3.906175</td>\n",
       "    </tr>\n",
       "    <tr>\n",
       "      <th>1</th>\n",
       "      <td>-4.814618</td>\n",
       "      <td>-0.434672</td>\n",
       "      <td>5.442708</td>\n",
       "      <td>-0.593066</td>\n",
       "    </tr>\n",
       "    <tr>\n",
       "      <th>2</th>\n",
       "      <td>-5.252973</td>\n",
       "      <td>4.119626</td>\n",
       "      <td>2.658461</td>\n",
       "      <td>-3.674977</td>\n",
       "    </tr>\n",
       "    <tr>\n",
       "      <th>3</th>\n",
       "      <td>11.806188</td>\n",
       "      <td>-13.894211</td>\n",
       "      <td>-5.866542</td>\n",
       "      <td>7.538241</td>\n",
       "    </tr>\n",
       "    <tr>\n",
       "      <th>4</th>\n",
       "      <td>-11.261161</td>\n",
       "      <td>15.374847</td>\n",
       "      <td>3.384507</td>\n",
       "      <td>-8.400267</td>\n",
       "    </tr>\n",
       "  </tbody>\n",
       "</table>\n",
       "</div>"
      ],
      "text/plain": [
       "           0          1         2         3\n",
       "0  -5.448017   7.661071  3.220800 -3.906175\n",
       "1  -4.814618  -0.434672  5.442708 -0.593066\n",
       "2  -5.252973   4.119626  2.658461 -3.674977\n",
       "3  11.806188 -13.894211 -5.866542  7.538241\n",
       "4 -11.261161  15.374847  3.384507 -8.400267"
      ]
     },
     "execution_count": 38,
     "metadata": {},
     "output_type": "execute_result"
    }
   ],
   "source": [
    "transformed_df = pd.DataFrame(transformed_df)\n",
    "\n",
    "# Performing the verification and displaying the first 5 rows of the DataFrame\n",
    "\n",
    "transformed_df.head()"
   ]
  },
  {
   "cell_type": "markdown",
   "metadata": {},
   "source": [
    "Now i will check the quality of linear regression after transformation."
   ]
  },
  {
   "cell_type": "code",
   "execution_count": 39,
   "metadata": {},
   "outputs": [
    {
     "name": "stdout",
     "output_type": "stream",
     "text": [
      "R2 on the transformed data: 0.42494550286668\n"
     ]
    }
   ],
   "source": [
    "# Creating the structure data object\n",
    "\n",
    "model_transformed_df = LinearRegression()\n",
    "\n",
    "# Model training\n",
    "\n",
    "model_transformed_df.fit(transformed_df, target)\n",
    "\n",
    "# Obtaining the prediction\n",
    "\n",
    "prediction_transformed = model_transformed_df.predict(transformed_df)\n",
    "\n",
    "# Calculating the R2 metric\n",
    "\n",
    "r2_score_transformed = r2_score(target, prediction_transformed)\n",
    "\n",
    "# Displaying R2\n",
    "\n",
    "print('R2 on the transformed data:', r2_score_transformed)"
   ]
  },
  {
   "cell_type": "markdown",
   "metadata": {},
   "source": [
    "I will compare the quality of linear regression before and after the transformation."
   ]
  },
  {
   "cell_type": "code",
   "execution_count": 40,
   "metadata": {},
   "outputs": [
    {
     "data": {
      "text/html": [
       "<div>\n",
       "<style scoped>\n",
       "    .dataframe tbody tr th:only-of-type {\n",
       "        vertical-align: middle;\n",
       "    }\n",
       "\n",
       "    .dataframe tbody tr th {\n",
       "        vertical-align: top;\n",
       "    }\n",
       "\n",
       "    .dataframe thead th {\n",
       "        text-align: right;\n",
       "    }\n",
       "</style>\n",
       "<table border=\"1\" class=\"dataframe\">\n",
       "  <thead>\n",
       "    <tr style=\"text-align: right;\">\n",
       "      <th></th>\n",
       "      <th>R2 score</th>\n",
       "    </tr>\n",
       "  </thead>\n",
       "  <tbody>\n",
       "    <tr>\n",
       "      <th>On original data</th>\n",
       "      <td>0.424946</td>\n",
       "    </tr>\n",
       "    <tr>\n",
       "      <th>On transformed data</th>\n",
       "      <td>0.424946</td>\n",
       "    </tr>\n",
       "  </tbody>\n",
       "</table>\n",
       "</div>"
      ],
      "text/plain": [
       "                     R2 score\n",
       "On original data     0.424946\n",
       "On transformed data  0.424946"
      ]
     },
     "metadata": {},
     "output_type": "display_data"
    }
   ],
   "source": [
    "# Passing the results to the DataFrame constructor()\n",
    "\n",
    "results = pd.DataFrame({'R2 score' : [r2_score_original, r2_score_transformed]})\n",
    "\n",
    "# Setting names for the indices\n",
    "\n",
    "results.index = ['On original data', 'On transformed data']\n",
    "\n",
    "# Displaying the table\n",
    "\n",
    "display(results)"
   ]
  },
  {
   "cell_type": "markdown",
   "metadata": {},
   "source": [
    "**Conclusion**. The quality of linear regression before and after the transformation remained unchanged."
   ]
  },
  {
   "cell_type": "markdown",
   "metadata": {},
   "source": [
    "## Data Decoding"
   ]
  },
  {
   "cell_type": "markdown",
   "metadata": {},
   "source": [
    "The transformation algorithm has been verified, and now we can recover the original data. \n",
    "\n",
    "To decode the data, we need to use the inverse matrix $P^{-1}$. To do this, we multiply the transformed matrix transformed_df by the inverse matrix $P^{-1}$."
   ]
  },
  {
   "cell_type": "code",
   "execution_count": 41,
   "metadata": {},
   "outputs": [],
   "source": [
    "decrypted_df = transformed_df @ np.linalg.inv(random_matrix)"
   ]
  },
  {
   "cell_type": "markdown",
   "metadata": {},
   "source": [
    "I will restore the normalized data using the scaler.inverse_transform method."
   ]
  },
  {
   "cell_type": "code",
   "execution_count": 42,
   "metadata": {},
   "outputs": [],
   "source": [
    "decrypted_df = scaler.inverse_transform(decrypted_df).astype(int)"
   ]
  },
  {
   "cell_type": "markdown",
   "metadata": {},
   "source": [
    "I will convert the features back to a DataFrame."
   ]
  },
  {
   "cell_type": "code",
   "execution_count": 43,
   "metadata": {},
   "outputs": [],
   "source": [
    "decrypted_df = pd.DataFrame(decrypted_df)\n",
    "\n",
    "# Setting column names as in the original data\n",
    "\n",
    "decrypted_df.columns = features.columns"
   ]
  },
  {
   "cell_type": "markdown",
   "metadata": {},
   "source": [
    "I will perform a check after data restoration."
   ]
  },
  {
   "cell_type": "code",
   "execution_count": 44,
   "metadata": {},
   "outputs": [
    {
     "data": {
      "text/html": [
       "<div>\n",
       "<style scoped>\n",
       "    .dataframe tbody tr th:only-of-type {\n",
       "        vertical-align: middle;\n",
       "    }\n",
       "\n",
       "    .dataframe tbody tr th {\n",
       "        vertical-align: top;\n",
       "    }\n",
       "\n",
       "    .dataframe thead th {\n",
       "        text-align: right;\n",
       "    }\n",
       "</style>\n",
       "<table border=\"1\" class=\"dataframe\">\n",
       "  <thead>\n",
       "    <tr style=\"text-align: right;\">\n",
       "      <th></th>\n",
       "      <th>Gender</th>\n",
       "      <th>Age</th>\n",
       "      <th>Salary</th>\n",
       "      <th>Family Members</th>\n",
       "    </tr>\n",
       "  </thead>\n",
       "  <tbody>\n",
       "    <tr>\n",
       "      <th>0</th>\n",
       "      <td>1</td>\n",
       "      <td>41</td>\n",
       "      <td>49600</td>\n",
       "      <td>1</td>\n",
       "    </tr>\n",
       "    <tr>\n",
       "      <th>1</th>\n",
       "      <td>0</td>\n",
       "      <td>46</td>\n",
       "      <td>38000</td>\n",
       "      <td>1</td>\n",
       "    </tr>\n",
       "    <tr>\n",
       "      <th>2</th>\n",
       "      <td>0</td>\n",
       "      <td>29</td>\n",
       "      <td>20999</td>\n",
       "      <td>0</td>\n",
       "    </tr>\n",
       "    <tr>\n",
       "      <th>3</th>\n",
       "      <td>0</td>\n",
       "      <td>21</td>\n",
       "      <td>41699</td>\n",
       "      <td>2</td>\n",
       "    </tr>\n",
       "    <tr>\n",
       "      <th>4</th>\n",
       "      <td>1</td>\n",
       "      <td>28</td>\n",
       "      <td>26100</td>\n",
       "      <td>0</td>\n",
       "    </tr>\n",
       "  </tbody>\n",
       "</table>\n",
       "</div>"
      ],
      "text/plain": [
       "   Gender  Age  Salary  Family Members\n",
       "0       1   41   49600               1\n",
       "1       0   46   38000               1\n",
       "2       0   29   20999               0\n",
       "3       0   21   41699               2\n",
       "4       1   28   26100               0"
      ]
     },
     "execution_count": 44,
     "metadata": {},
     "output_type": "execute_result"
    }
   ],
   "source": [
    "decrypted_df.head()"
   ]
  },
  {
   "cell_type": "markdown",
   "metadata": {},
   "source": [
    "For comparison, I will display the original features."
   ]
  },
  {
   "cell_type": "code",
   "execution_count": 45,
   "metadata": {},
   "outputs": [
    {
     "data": {
      "text/html": [
       "<div>\n",
       "<style scoped>\n",
       "    .dataframe tbody tr th:only-of-type {\n",
       "        vertical-align: middle;\n",
       "    }\n",
       "\n",
       "    .dataframe tbody tr th {\n",
       "        vertical-align: top;\n",
       "    }\n",
       "\n",
       "    .dataframe thead th {\n",
       "        text-align: right;\n",
       "    }\n",
       "</style>\n",
       "<table border=\"1\" class=\"dataframe\">\n",
       "  <thead>\n",
       "    <tr style=\"text-align: right;\">\n",
       "      <th></th>\n",
       "      <th>Gender</th>\n",
       "      <th>Age</th>\n",
       "      <th>Salary</th>\n",
       "      <th>Family Members</th>\n",
       "    </tr>\n",
       "  </thead>\n",
       "  <tbody>\n",
       "    <tr>\n",
       "      <th>0</th>\n",
       "      <td>1</td>\n",
       "      <td>41.0</td>\n",
       "      <td>49600.0</td>\n",
       "      <td>1</td>\n",
       "    </tr>\n",
       "    <tr>\n",
       "      <th>1</th>\n",
       "      <td>0</td>\n",
       "      <td>46.0</td>\n",
       "      <td>38000.0</td>\n",
       "      <td>1</td>\n",
       "    </tr>\n",
       "    <tr>\n",
       "      <th>2</th>\n",
       "      <td>0</td>\n",
       "      <td>29.0</td>\n",
       "      <td>21000.0</td>\n",
       "      <td>0</td>\n",
       "    </tr>\n",
       "    <tr>\n",
       "      <th>3</th>\n",
       "      <td>0</td>\n",
       "      <td>21.0</td>\n",
       "      <td>41700.0</td>\n",
       "      <td>2</td>\n",
       "    </tr>\n",
       "    <tr>\n",
       "      <th>4</th>\n",
       "      <td>1</td>\n",
       "      <td>28.0</td>\n",
       "      <td>26100.0</td>\n",
       "      <td>0</td>\n",
       "    </tr>\n",
       "  </tbody>\n",
       "</table>\n",
       "</div>"
      ],
      "text/plain": [
       "   Gender   Age   Salary  Family Members\n",
       "0       1  41.0  49600.0               1\n",
       "1       0  46.0  38000.0               1\n",
       "2       0  29.0  21000.0               0\n",
       "3       0  21.0  41700.0               2\n",
       "4       1  28.0  26100.0               0"
      ]
     },
     "execution_count": 45,
     "metadata": {},
     "output_type": "execute_result"
    }
   ],
   "source": [
    "features.head()"
   ]
  },
  {
   "cell_type": "markdown",
   "metadata": {},
   "source": [
    "The feature values match, and the data has been successfully restored."
   ]
  },
  {
   "cell_type": "markdown",
   "metadata": {},
   "source": [
    "## General Conclusion"
   ]
  },
  {
   "cell_type": "markdown",
   "metadata": {},
   "source": [
    "During the research, the following work was accomplished:\n",
    "\n",
    "* Data exploration.\n",
    "* Linear regression model training and evaluation of its quality on the original data.\n",
    "* Analysis of how linear regression quality changes when multiplying the matrix by a random invertible matrix.\n",
    "* Proposal of a transformation algorithm.\n",
    "* Implementation of the proposed data transformation algorithm using matrix operations.\n",
    "* Comparison of linear regression quality before and after the transformation.\n",
    "* Data restoration.\n",
    "\n",
    "The work allowed making the following conclusions:\n",
    "\n",
    "* No data preprocessing was required, and the data is correct.\n",
    "* It was demonstrated that when multiplying the matrix by a random invertible matrix, the quality of linear regression does not change.\n",
    "* The proposed transformation algorithm involves data normalization and the use of matrix operations. The algorithm did not alter the quality of linear regression, meeting the requirements of the task.\n",
    "\n",
    "Thus, this data transformation method can be used to protect the personal data of the insurance company's clients. However, it is worth noting that more advanced data protection methods, such as encryption and anonymization, can also be used, and security systems should be regularly reviewed."
   ]
  }
 ],
 "metadata": {
  "ExecuteTimeLog": [
   {
    "duration": 1507,
    "start_time": "2023-01-23T09:04:51.874Z"
   },
   {
    "duration": 85,
    "start_time": "2023-01-23T09:07:51.656Z"
   },
   {
    "duration": 11,
    "start_time": "2023-01-23T09:08:09.905Z"
   },
   {
    "duration": 12,
    "start_time": "2023-01-23T09:08:30.091Z"
   },
   {
    "duration": 21,
    "start_time": "2023-01-23T09:08:51.028Z"
   },
   {
    "duration": 3,
    "start_time": "2023-01-23T09:27:32.974Z"
   },
   {
    "duration": 825,
    "start_time": "2023-01-23T09:29:15.543Z"
   },
   {
    "duration": 800,
    "start_time": "2023-01-23T09:29:42.518Z"
   },
   {
    "duration": 704,
    "start_time": "2023-01-23T09:29:52.390Z"
   },
   {
    "duration": 3327,
    "start_time": "2023-01-23T09:30:24.322Z"
   },
   {
    "duration": 568,
    "start_time": "2023-01-23T09:31:52.667Z"
   },
   {
    "duration": 623,
    "start_time": "2023-01-23T09:32:09.169Z"
   },
   {
    "duration": 498,
    "start_time": "2023-01-23T09:34:09.658Z"
   },
   {
    "duration": 3,
    "start_time": "2023-01-23T09:38:06.268Z"
   },
   {
    "duration": 9,
    "start_time": "2023-01-23T09:50:09.158Z"
   },
   {
    "duration": 8,
    "start_time": "2023-01-23T09:51:20.651Z"
   },
   {
    "duration": 44,
    "start_time": "2023-01-23T10:53:09.750Z"
   },
   {
    "duration": 46,
    "start_time": "2023-01-23T10:56:04.344Z"
   },
   {
    "duration": 1148,
    "start_time": "2023-01-23T12:00:31.680Z"
   },
   {
    "duration": 1493,
    "start_time": "2023-01-23T12:00:39.698Z"
   },
   {
    "duration": 3,
    "start_time": "2023-01-23T12:00:41.193Z"
   },
   {
    "duration": 95,
    "start_time": "2023-01-23T12:00:41.198Z"
   },
   {
    "duration": 13,
    "start_time": "2023-01-23T12:00:41.296Z"
   },
   {
    "duration": 12,
    "start_time": "2023-01-23T12:00:41.312Z"
   },
   {
    "duration": 24,
    "start_time": "2023-01-23T12:00:41.326Z"
   },
   {
    "duration": 1186,
    "start_time": "2023-01-23T12:00:41.352Z"
   },
   {
    "duration": 4,
    "start_time": "2023-01-23T12:00:42.542Z"
   },
   {
    "duration": 250,
    "start_time": "2023-01-23T12:00:42.547Z"
   },
   {
    "duration": 675,
    "start_time": "2023-01-23T12:00:50.944Z"
   },
   {
    "duration": 1509,
    "start_time": "2023-01-23T12:53:15.847Z"
   },
   {
    "duration": 3,
    "start_time": "2023-01-23T12:53:17.359Z"
   },
   {
    "duration": 37,
    "start_time": "2023-01-23T12:53:17.363Z"
   },
   {
    "duration": 13,
    "start_time": "2023-01-23T12:53:17.401Z"
   },
   {
    "duration": 13,
    "start_time": "2023-01-23T12:53:17.417Z"
   },
   {
    "duration": 24,
    "start_time": "2023-01-23T12:53:17.432Z"
   },
   {
    "duration": 759,
    "start_time": "2023-01-23T12:53:17.457Z"
   },
   {
    "duration": 4,
    "start_time": "2023-01-23T12:53:18.219Z"
   },
   {
    "duration": 30,
    "start_time": "2023-01-23T12:53:18.225Z"
   },
   {
    "duration": 165,
    "start_time": "2023-01-23T12:53:18.257Z"
   },
   {
    "duration": 8,
    "start_time": "2023-01-23T13:04:48.324Z"
   },
   {
    "duration": 1590,
    "start_time": "2023-01-23T13:04:54.505Z"
   },
   {
    "duration": 3,
    "start_time": "2023-01-23T13:04:56.099Z"
   },
   {
    "duration": 42,
    "start_time": "2023-01-23T13:04:56.103Z"
   },
   {
    "duration": 13,
    "start_time": "2023-01-23T13:04:56.148Z"
   },
   {
    "duration": 14,
    "start_time": "2023-01-23T13:04:56.163Z"
   },
   {
    "duration": 34,
    "start_time": "2023-01-23T13:04:56.179Z"
   },
   {
    "duration": 802,
    "start_time": "2023-01-23T13:04:56.216Z"
   },
   {
    "duration": 4,
    "start_time": "2023-01-23T13:04:57.021Z"
   },
   {
    "duration": 30,
    "start_time": "2023-01-23T13:04:57.027Z"
   },
   {
    "duration": 11,
    "start_time": "2023-01-23T13:04:57.059Z"
   },
   {
    "duration": 11,
    "start_time": "2023-01-23T13:04:57.072Z"
   },
   {
    "duration": 1395,
    "start_time": "2023-01-23T13:11:49.012Z"
   },
   {
    "duration": 3,
    "start_time": "2023-01-23T13:11:50.410Z"
   },
   {
    "duration": 36,
    "start_time": "2023-01-23T13:11:50.415Z"
   },
   {
    "duration": 14,
    "start_time": "2023-01-23T13:11:50.453Z"
   },
   {
    "duration": 12,
    "start_time": "2023-01-23T13:11:50.469Z"
   },
   {
    "duration": 32,
    "start_time": "2023-01-23T13:11:50.484Z"
   },
   {
    "duration": 739,
    "start_time": "2023-01-23T13:11:50.517Z"
   },
   {
    "duration": 4,
    "start_time": "2023-01-23T13:11:51.257Z"
   },
   {
    "duration": 61,
    "start_time": "2023-01-23T13:11:51.263Z"
   },
   {
    "duration": 104,
    "start_time": "2023-01-23T13:11:51.326Z"
   },
   {
    "duration": 5,
    "start_time": "2023-01-23T13:15:56.001Z"
   },
   {
    "duration": 17,
    "start_time": "2023-01-23T13:16:04.595Z"
   },
   {
    "duration": 49,
    "start_time": "2023-01-23T20:29:20.303Z"
   },
   {
    "duration": 1497,
    "start_time": "2023-01-23T20:29:29.975Z"
   },
   {
    "duration": 2,
    "start_time": "2023-01-23T20:29:31.474Z"
   },
   {
    "duration": 118,
    "start_time": "2023-01-23T20:29:31.478Z"
   },
   {
    "duration": 15,
    "start_time": "2023-01-23T20:29:31.598Z"
   },
   {
    "duration": 27,
    "start_time": "2023-01-23T20:29:31.616Z"
   },
   {
    "duration": 23,
    "start_time": "2023-01-23T20:29:31.645Z"
   },
   {
    "duration": 664,
    "start_time": "2023-01-23T20:29:31.669Z"
   },
   {
    "duration": 4,
    "start_time": "2023-01-23T20:29:32.334Z"
   },
   {
    "duration": 34,
    "start_time": "2023-01-23T20:29:32.339Z"
   },
   {
    "duration": 154,
    "start_time": "2023-01-23T20:29:32.374Z"
   },
   {
    "duration": 75,
    "start_time": "2023-01-23T20:29:32.534Z"
   },
   {
    "duration": 125,
    "start_time": "2023-01-23T20:29:32.616Z"
   },
   {
    "duration": 146,
    "start_time": "2023-01-23T20:37:42.795Z"
   },
   {
    "duration": 5,
    "start_time": "2023-01-23T20:43:39.157Z"
   },
   {
    "duration": 13,
    "start_time": "2023-01-23T20:43:52.955Z"
   },
   {
    "duration": 3,
    "start_time": "2023-01-23T20:44:09.948Z"
   },
   {
    "duration": 6,
    "start_time": "2023-01-23T20:44:52.303Z"
   },
   {
    "duration": 9,
    "start_time": "2023-01-23T20:45:55.308Z"
   },
   {
    "duration": 10,
    "start_time": "2023-01-23T20:47:48.674Z"
   },
   {
    "duration": 3,
    "start_time": "2023-01-23T20:48:21.593Z"
   },
   {
    "duration": 15,
    "start_time": "2023-01-23T20:48:26.244Z"
   },
   {
    "duration": 12,
    "start_time": "2023-01-23T20:48:44.283Z"
   },
   {
    "duration": 8,
    "start_time": "2023-01-23T20:48:57.053Z"
   },
   {
    "duration": 8,
    "start_time": "2023-01-23T20:49:52.935Z"
   },
   {
    "duration": 8,
    "start_time": "2023-01-23T20:50:06.568Z"
   },
   {
    "duration": 4,
    "start_time": "2023-01-23T20:51:36.165Z"
   },
   {
    "duration": 48,
    "start_time": "2023-01-23T20:59:24.391Z"
   },
   {
    "duration": 61,
    "start_time": "2023-01-23T20:59:36.726Z"
   },
   {
    "duration": 4,
    "start_time": "2023-01-23T20:59:45.523Z"
   },
   {
    "duration": 4,
    "start_time": "2023-01-23T21:00:13.586Z"
   },
   {
    "duration": 6,
    "start_time": "2023-01-23T21:00:20.616Z"
   },
   {
    "duration": 4,
    "start_time": "2023-01-23T21:00:32.657Z"
   },
   {
    "duration": 5,
    "start_time": "2023-01-23T21:00:41.158Z"
   },
   {
    "duration": 4,
    "start_time": "2023-01-23T21:01:04.730Z"
   },
   {
    "duration": 14,
    "start_time": "2023-01-23T21:03:17.525Z"
   },
   {
    "duration": 6,
    "start_time": "2023-01-23T21:03:39.372Z"
   },
   {
    "duration": 53,
    "start_time": "2023-01-23T21:03:40.300Z"
   },
   {
    "duration": 46,
    "start_time": "2023-01-23T21:03:49.980Z"
   },
   {
    "duration": 40,
    "start_time": "2023-01-23T21:04:27.385Z"
   },
   {
    "duration": 5,
    "start_time": "2023-01-23T21:04:32.689Z"
   },
   {
    "duration": 54,
    "start_time": "2023-01-23T21:04:33.141Z"
   },
   {
    "duration": 61,
    "start_time": "2023-01-23T21:05:01.234Z"
   },
   {
    "duration": 4,
    "start_time": "2023-01-23T21:05:27.110Z"
   },
   {
    "duration": 3,
    "start_time": "2023-01-23T21:06:00.302Z"
   },
   {
    "duration": 3,
    "start_time": "2023-01-23T21:07:09.724Z"
   },
   {
    "duration": 3,
    "start_time": "2023-01-23T21:07:26.801Z"
   },
   {
    "duration": 15,
    "start_time": "2023-01-23T21:08:55.999Z"
   },
   {
    "duration": 10,
    "start_time": "2023-01-23T21:09:58.151Z"
   },
   {
    "duration": 6,
    "start_time": "2023-01-23T21:11:07.042Z"
   },
   {
    "duration": 20,
    "start_time": "2023-01-23T21:13:11.238Z"
   },
   {
    "duration": 17,
    "start_time": "2023-01-23T21:13:29.644Z"
   },
   {
    "duration": 6,
    "start_time": "2023-01-23T21:17:57.195Z"
   },
   {
    "duration": 15,
    "start_time": "2023-01-23T21:21:55.208Z"
   },
   {
    "duration": 1767,
    "start_time": "2023-01-23T23:55:37.529Z"
   },
   {
    "duration": 3,
    "start_time": "2023-01-23T23:55:39.305Z"
   },
   {
    "duration": 116,
    "start_time": "2023-01-23T23:55:39.310Z"
   },
   {
    "duration": 14,
    "start_time": "2023-01-23T23:55:39.428Z"
   },
   {
    "duration": 14,
    "start_time": "2023-01-23T23:55:39.445Z"
   },
   {
    "duration": 44,
    "start_time": "2023-01-23T23:55:39.461Z"
   },
   {
    "duration": 947,
    "start_time": "2023-01-23T23:55:39.507Z"
   },
   {
    "duration": 5,
    "start_time": "2023-01-23T23:55:40.456Z"
   },
   {
    "duration": 37,
    "start_time": "2023-01-23T23:55:40.463Z"
   },
   {
    "duration": 279,
    "start_time": "2023-01-23T23:55:40.504Z"
   },
   {
    "duration": 103,
    "start_time": "2023-01-23T23:55:40.800Z"
   },
   {
    "duration": 12,
    "start_time": "2023-01-23T23:55:40.905Z"
   },
   {
    "duration": 13,
    "start_time": "2023-01-23T23:55:40.919Z"
   },
   {
    "duration": 52,
    "start_time": "2023-01-23T23:55:40.940Z"
   },
   {
    "duration": 94,
    "start_time": "2023-01-23T23:55:40.994Z"
   },
   {
    "duration": 12,
    "start_time": "2023-01-23T23:55:41.090Z"
   },
   {
    "duration": 19,
    "start_time": "2023-01-23T23:55:41.106Z"
   },
   {
    "duration": 10,
    "start_time": "2023-01-23T23:55:41.127Z"
   },
   {
    "duration": 8,
    "start_time": "2023-01-23T23:55:41.139Z"
   },
   {
    "duration": 16,
    "start_time": "2023-01-23T23:55:41.152Z"
   },
   {
    "duration": 21,
    "start_time": "2023-01-23T23:55:41.170Z"
   },
   {
    "duration": 102,
    "start_time": "2023-01-23T23:55:41.193Z"
   },
   {
    "duration": 30,
    "start_time": "2023-01-23T23:55:41.297Z"
   },
   {
    "duration": 19,
    "start_time": "2023-01-23T23:55:41.389Z"
   },
   {
    "duration": 120,
    "start_time": "2023-01-24T00:08:36.010Z"
   },
   {
    "duration": 16,
    "start_time": "2023-01-24T00:09:24.097Z"
   },
   {
    "duration": 16,
    "start_time": "2023-01-24T00:09:47.385Z"
   },
   {
    "duration": 6,
    "start_time": "2023-01-24T00:11:08.807Z"
   },
   {
    "duration": 1503,
    "start_time": "2023-01-24T00:41:23.368Z"
   },
   {
    "duration": 3,
    "start_time": "2023-01-24T00:41:24.873Z"
   },
   {
    "duration": 36,
    "start_time": "2023-01-24T00:41:24.878Z"
   },
   {
    "duration": 15,
    "start_time": "2023-01-24T00:41:24.916Z"
   },
   {
    "duration": 13,
    "start_time": "2023-01-24T00:41:24.933Z"
   },
   {
    "duration": 25,
    "start_time": "2023-01-24T00:41:24.947Z"
   },
   {
    "duration": 758,
    "start_time": "2023-01-24T00:41:24.974Z"
   },
   {
    "duration": 4,
    "start_time": "2023-01-24T00:41:25.734Z"
   },
   {
    "duration": 47,
    "start_time": "2023-01-24T00:41:25.740Z"
   },
   {
    "duration": 106,
    "start_time": "2023-01-24T00:41:25.789Z"
   },
   {
    "duration": 96,
    "start_time": "2023-01-24T00:41:25.897Z"
   },
   {
    "duration": 98,
    "start_time": "2023-01-24T00:41:25.995Z"
   },
   {
    "duration": 7,
    "start_time": "2023-01-24T00:41:26.095Z"
   },
   {
    "duration": 85,
    "start_time": "2023-01-24T00:41:26.105Z"
   },
   {
    "duration": 5,
    "start_time": "2023-01-24T00:41:26.192Z"
   },
   {
    "duration": 85,
    "start_time": "2023-01-24T00:41:26.199Z"
   },
   {
    "duration": 5,
    "start_time": "2023-01-24T00:41:26.287Z"
   },
   {
    "duration": 7,
    "start_time": "2023-01-24T00:41:26.294Z"
   },
   {
    "duration": 11,
    "start_time": "2023-01-24T00:41:26.303Z"
   },
   {
    "duration": 4,
    "start_time": "2023-01-24T00:41:26.316Z"
   },
   {
    "duration": 6,
    "start_time": "2023-01-24T00:41:26.322Z"
   },
   {
    "duration": 63,
    "start_time": "2023-01-24T00:41:26.330Z"
   },
   {
    "duration": 195,
    "start_time": "2023-01-24T00:41:26.395Z"
   },
   {
    "duration": 7,
    "start_time": "2023-01-24T00:41:26.592Z"
   },
   {
    "duration": 141,
    "start_time": "2023-01-24T00:47:59.497Z"
   },
   {
    "duration": 11,
    "start_time": "2023-01-24T00:48:36.188Z"
   },
   {
    "duration": 58,
    "start_time": "2023-01-24T00:48:55.752Z"
   },
   {
    "duration": 14,
    "start_time": "2023-01-24T00:53:48.737Z"
   },
   {
    "duration": 9,
    "start_time": "2023-01-24T01:05:42.155Z"
   },
   {
    "duration": 1593,
    "start_time": "2023-01-24T10:06:47.360Z"
   },
   {
    "duration": 3,
    "start_time": "2023-01-24T10:06:48.957Z"
   },
   {
    "duration": 107,
    "start_time": "2023-01-24T10:06:48.961Z"
   },
   {
    "duration": 13,
    "start_time": "2023-01-24T10:06:49.070Z"
   },
   {
    "duration": 11,
    "start_time": "2023-01-24T10:06:49.085Z"
   },
   {
    "duration": 22,
    "start_time": "2023-01-24T10:06:49.097Z"
   },
   {
    "duration": 673,
    "start_time": "2023-01-24T10:06:49.120Z"
   },
   {
    "duration": 4,
    "start_time": "2023-01-24T10:06:49.795Z"
   },
   {
    "duration": 70,
    "start_time": "2023-01-24T10:06:49.801Z"
   },
   {
    "duration": 106,
    "start_time": "2023-01-24T10:06:49.873Z"
   },
   {
    "duration": 185,
    "start_time": "2023-01-24T10:06:49.983Z"
   },
   {
    "duration": 7,
    "start_time": "2023-01-24T10:06:50.170Z"
   },
   {
    "duration": 88,
    "start_time": "2023-01-24T10:06:50.179Z"
   },
   {
    "duration": 3,
    "start_time": "2023-01-24T10:06:50.272Z"
   },
   {
    "duration": 91,
    "start_time": "2023-01-24T10:06:50.277Z"
   },
   {
    "duration": 23,
    "start_time": "2023-01-24T10:06:50.370Z"
   },
   {
    "duration": 76,
    "start_time": "2023-01-24T10:06:50.397Z"
   },
   {
    "duration": 90,
    "start_time": "2023-01-24T10:06:50.478Z"
   },
   {
    "duration": 109,
    "start_time": "2023-01-24T10:06:50.570Z"
   },
   {
    "duration": 6,
    "start_time": "2023-01-24T10:06:50.768Z"
   },
   {
    "duration": 14,
    "start_time": "2023-01-24T10:50:06.847Z"
   },
   {
    "duration": 4,
    "start_time": "2023-01-24T11:35:40.167Z"
   },
   {
    "duration": 1227,
    "start_time": "2023-01-24T11:37:06.293Z"
   },
   {
    "duration": 1072,
    "start_time": "2023-01-24T11:37:11.555Z"
   },
   {
    "duration": 111,
    "start_time": "2023-01-24T11:37:12.629Z"
   },
   {
    "duration": 0,
    "start_time": "2023-01-24T11:37:12.743Z"
   },
   {
    "duration": 0,
    "start_time": "2023-01-24T11:37:12.744Z"
   },
   {
    "duration": 0,
    "start_time": "2023-01-24T11:37:12.745Z"
   },
   {
    "duration": 0,
    "start_time": "2023-01-24T11:37:12.747Z"
   },
   {
    "duration": 0,
    "start_time": "2023-01-24T11:37:12.748Z"
   },
   {
    "duration": 0,
    "start_time": "2023-01-24T11:37:12.749Z"
   },
   {
    "duration": 0,
    "start_time": "2023-01-24T11:37:12.750Z"
   },
   {
    "duration": 0,
    "start_time": "2023-01-24T11:37:12.751Z"
   },
   {
    "duration": 0,
    "start_time": "2023-01-24T11:37:12.753Z"
   },
   {
    "duration": 0,
    "start_time": "2023-01-24T11:37:12.754Z"
   },
   {
    "duration": 0,
    "start_time": "2023-01-24T11:37:12.756Z"
   },
   {
    "duration": 0,
    "start_time": "2023-01-24T11:37:12.757Z"
   },
   {
    "duration": 0,
    "start_time": "2023-01-24T11:37:12.758Z"
   },
   {
    "duration": 0,
    "start_time": "2023-01-24T11:37:12.759Z"
   },
   {
    "duration": 0,
    "start_time": "2023-01-24T11:37:12.760Z"
   },
   {
    "duration": 0,
    "start_time": "2023-01-24T11:37:12.761Z"
   },
   {
    "duration": 0,
    "start_time": "2023-01-24T11:37:12.762Z"
   },
   {
    "duration": 1621,
    "start_time": "2023-01-24T11:37:27.055Z"
   },
   {
    "duration": 3,
    "start_time": "2023-01-24T11:37:28.678Z"
   },
   {
    "duration": 91,
    "start_time": "2023-01-24T11:37:28.682Z"
   },
   {
    "duration": 15,
    "start_time": "2023-01-24T11:37:28.775Z"
   },
   {
    "duration": 20,
    "start_time": "2023-01-24T11:37:28.793Z"
   },
   {
    "duration": 26,
    "start_time": "2023-01-24T11:37:28.814Z"
   },
   {
    "duration": 813,
    "start_time": "2023-01-24T11:37:28.842Z"
   },
   {
    "duration": 4,
    "start_time": "2023-01-24T11:37:29.657Z"
   },
   {
    "duration": 149,
    "start_time": "2023-01-24T11:37:29.662Z"
   },
   {
    "duration": 113,
    "start_time": "2023-01-24T11:37:29.813Z"
   },
   {
    "duration": 88,
    "start_time": "2023-01-24T11:37:29.928Z"
   },
   {
    "duration": 102,
    "start_time": "2023-01-24T11:37:30.023Z"
   },
   {
    "duration": 105,
    "start_time": "2023-01-24T11:37:30.128Z"
   },
   {
    "duration": 15,
    "start_time": "2023-01-24T11:37:30.308Z"
   },
   {
    "duration": 31,
    "start_time": "2023-01-24T11:37:30.326Z"
   },
   {
    "duration": 64,
    "start_time": "2023-01-24T11:37:30.359Z"
   },
   {
    "duration": 178,
    "start_time": "2023-01-24T11:37:30.425Z"
   },
   {
    "duration": 111,
    "start_time": "2023-01-24T11:37:30.605Z"
   },
   {
    "duration": 48,
    "start_time": "2023-01-24T11:37:30.718Z"
   },
   {
    "duration": 41,
    "start_time": "2023-01-24T12:34:53.063Z"
   },
   {
    "duration": 4,
    "start_time": "2023-01-24T12:42:48.892Z"
   },
   {
    "duration": 1386,
    "start_time": "2023-01-24T12:43:59.453Z"
   },
   {
    "duration": 3,
    "start_time": "2023-01-24T12:44:00.841Z"
   },
   {
    "duration": 50,
    "start_time": "2023-01-24T12:44:00.845Z"
   },
   {
    "duration": 21,
    "start_time": "2023-01-24T12:44:00.897Z"
   },
   {
    "duration": 34,
    "start_time": "2023-01-24T12:44:00.921Z"
   },
   {
    "duration": 48,
    "start_time": "2023-01-24T12:44:00.957Z"
   },
   {
    "duration": 745,
    "start_time": "2023-01-24T12:44:01.008Z"
   },
   {
    "duration": 5,
    "start_time": "2023-01-24T12:44:01.755Z"
   },
   {
    "duration": 53,
    "start_time": "2023-01-24T12:44:01.762Z"
   },
   {
    "duration": 93,
    "start_time": "2023-01-24T12:44:01.817Z"
   },
   {
    "duration": 198,
    "start_time": "2023-01-24T12:44:01.911Z"
   },
   {
    "duration": 39,
    "start_time": "2023-01-24T12:44:02.110Z"
   },
   {
    "duration": 29,
    "start_time": "2023-01-24T12:44:02.151Z"
   },
   {
    "duration": 44,
    "start_time": "2023-01-24T12:44:02.183Z"
   },
   {
    "duration": 3,
    "start_time": "2023-01-24T12:44:02.304Z"
   },
   {
    "duration": 29,
    "start_time": "2023-01-24T12:44:02.308Z"
   },
   {
    "duration": 16,
    "start_time": "2023-01-24T12:44:02.339Z"
   },
   {
    "duration": 48,
    "start_time": "2023-01-24T12:44:02.357Z"
   },
   {
    "duration": 7,
    "start_time": "2023-01-24T12:44:02.407Z"
   },
   {
    "duration": 5,
    "start_time": "2023-01-24T12:51:02.087Z"
   },
   {
    "duration": 1371,
    "start_time": "2023-01-24T12:51:20.626Z"
   },
   {
    "duration": 3,
    "start_time": "2023-01-24T12:51:22.000Z"
   },
   {
    "duration": 34,
    "start_time": "2023-01-24T12:51:22.004Z"
   },
   {
    "duration": 14,
    "start_time": "2023-01-24T12:51:22.040Z"
   },
   {
    "duration": 14,
    "start_time": "2023-01-24T12:51:22.055Z"
   },
   {
    "duration": 33,
    "start_time": "2023-01-24T12:51:22.071Z"
   },
   {
    "duration": 758,
    "start_time": "2023-01-24T12:51:22.106Z"
   },
   {
    "duration": 4,
    "start_time": "2023-01-24T12:51:22.865Z"
   },
   {
    "duration": 40,
    "start_time": "2023-01-24T12:51:22.872Z"
   },
   {
    "duration": 108,
    "start_time": "2023-01-24T12:51:22.915Z"
   },
   {
    "duration": 107,
    "start_time": "2023-01-24T12:51:23.103Z"
   },
   {
    "duration": 16,
    "start_time": "2023-01-24T12:51:23.212Z"
   },
   {
    "duration": 18,
    "start_time": "2023-01-24T12:51:23.230Z"
   },
   {
    "duration": 69,
    "start_time": "2023-01-24T12:51:23.251Z"
   },
   {
    "duration": 81,
    "start_time": "2023-01-24T12:51:23.322Z"
   },
   {
    "duration": 7,
    "start_time": "2023-01-24T12:51:23.406Z"
   },
   {
    "duration": 7,
    "start_time": "2023-01-24T12:51:23.415Z"
   },
   {
    "duration": 190,
    "start_time": "2023-01-24T12:51:23.424Z"
   },
   {
    "duration": 89,
    "start_time": "2023-01-24T12:51:23.618Z"
   },
   {
    "duration": 1440,
    "start_time": "2023-01-24T12:51:34.805Z"
   },
   {
    "duration": 3,
    "start_time": "2023-01-24T12:51:36.247Z"
   },
   {
    "duration": 63,
    "start_time": "2023-01-24T12:51:36.252Z"
   },
   {
    "duration": 17,
    "start_time": "2023-01-24T12:51:36.319Z"
   },
   {
    "duration": 143,
    "start_time": "2023-01-24T12:51:36.338Z"
   },
   {
    "duration": 27,
    "start_time": "2023-01-24T12:51:36.482Z"
   },
   {
    "duration": 739,
    "start_time": "2023-01-24T12:51:36.511Z"
   },
   {
    "duration": 5,
    "start_time": "2023-01-24T12:51:37.252Z"
   },
   {
    "duration": 54,
    "start_time": "2023-01-24T12:51:37.260Z"
   },
   {
    "duration": 12,
    "start_time": "2023-01-24T12:51:37.404Z"
   },
   {
    "duration": 183,
    "start_time": "2023-01-24T12:51:37.420Z"
   },
   {
    "duration": 7,
    "start_time": "2023-01-24T12:51:37.605Z"
   },
   {
    "duration": 12,
    "start_time": "2023-01-24T12:51:37.613Z"
   },
   {
    "duration": 84,
    "start_time": "2023-01-24T12:51:37.627Z"
   },
   {
    "duration": 10,
    "start_time": "2023-01-24T12:51:37.714Z"
   },
   {
    "duration": 10,
    "start_time": "2023-01-24T12:51:37.803Z"
   },
   {
    "duration": 6,
    "start_time": "2023-01-24T12:51:37.815Z"
   },
   {
    "duration": 89,
    "start_time": "2023-01-24T12:51:37.823Z"
   },
   {
    "duration": 89,
    "start_time": "2023-01-24T12:51:37.915Z"
   },
   {
    "duration": 1516,
    "start_time": "2023-01-24T12:53:32.735Z"
   },
   {
    "duration": 3,
    "start_time": "2023-01-24T12:53:34.253Z"
   },
   {
    "duration": 35,
    "start_time": "2023-01-24T12:53:34.258Z"
   },
   {
    "duration": 17,
    "start_time": "2023-01-24T12:53:34.296Z"
   },
   {
    "duration": 15,
    "start_time": "2023-01-24T12:53:34.315Z"
   },
   {
    "duration": 32,
    "start_time": "2023-01-24T12:53:34.333Z"
   },
   {
    "duration": 744,
    "start_time": "2023-01-24T12:53:34.366Z"
   },
   {
    "duration": 5,
    "start_time": "2023-01-24T12:53:35.112Z"
   },
   {
    "duration": 85,
    "start_time": "2023-01-24T12:53:35.118Z"
   },
   {
    "duration": 105,
    "start_time": "2023-01-24T12:53:35.206Z"
   },
   {
    "duration": 196,
    "start_time": "2023-01-24T12:53:35.313Z"
   },
   {
    "duration": 14,
    "start_time": "2023-01-24T12:53:35.511Z"
   },
   {
    "duration": 9,
    "start_time": "2023-01-24T12:53:35.527Z"
   },
   {
    "duration": 71,
    "start_time": "2023-01-24T12:53:35.538Z"
   },
   {
    "duration": 92,
    "start_time": "2023-01-24T12:53:35.611Z"
   },
   {
    "duration": 8,
    "start_time": "2023-01-24T12:53:35.705Z"
   },
   {
    "duration": 11,
    "start_time": "2023-01-24T12:53:35.715Z"
   },
   {
    "duration": 87,
    "start_time": "2023-01-24T12:53:35.728Z"
   },
   {
    "duration": 189,
    "start_time": "2023-01-24T12:53:35.818Z"
   },
   {
    "duration": 1379,
    "start_time": "2023-01-24T13:11:12.120Z"
   },
   {
    "duration": 2,
    "start_time": "2023-01-24T13:11:13.501Z"
   },
   {
    "duration": 34,
    "start_time": "2023-01-24T13:11:13.504Z"
   },
   {
    "duration": 12,
    "start_time": "2023-01-24T13:11:13.540Z"
   },
   {
    "duration": 12,
    "start_time": "2023-01-24T13:11:13.554Z"
   },
   {
    "duration": 23,
    "start_time": "2023-01-24T13:11:13.568Z"
   },
   {
    "duration": 820,
    "start_time": "2023-01-24T13:11:13.592Z"
   },
   {
    "duration": 4,
    "start_time": "2023-01-24T13:11:14.414Z"
   },
   {
    "duration": 17,
    "start_time": "2023-01-24T13:11:14.420Z"
   },
   {
    "duration": 107,
    "start_time": "2023-01-24T13:11:14.505Z"
   },
   {
    "duration": 209,
    "start_time": "2023-01-24T13:11:14.613Z"
   },
   {
    "duration": 9,
    "start_time": "2023-01-24T13:11:14.824Z"
   },
   {
    "duration": 26,
    "start_time": "2023-01-24T13:11:14.835Z"
   },
   {
    "duration": 49,
    "start_time": "2023-01-24T13:11:14.863Z"
   },
   {
    "duration": 96,
    "start_time": "2023-01-24T13:11:14.914Z"
   },
   {
    "duration": 8,
    "start_time": "2023-01-24T13:14:01.972Z"
   },
   {
    "duration": 1350,
    "start_time": "2023-01-24T13:14:12.962Z"
   },
   {
    "duration": 3,
    "start_time": "2023-01-24T13:14:14.314Z"
   },
   {
    "duration": 40,
    "start_time": "2023-01-24T13:14:14.319Z"
   },
   {
    "duration": 13,
    "start_time": "2023-01-24T13:14:14.361Z"
   },
   {
    "duration": 12,
    "start_time": "2023-01-24T13:14:14.375Z"
   },
   {
    "duration": 32,
    "start_time": "2023-01-24T13:14:14.389Z"
   },
   {
    "duration": 698,
    "start_time": "2023-01-24T13:14:14.423Z"
   },
   {
    "duration": 4,
    "start_time": "2023-01-24T13:14:15.122Z"
   },
   {
    "duration": 39,
    "start_time": "2023-01-24T13:14:15.128Z"
   },
   {
    "duration": 148,
    "start_time": "2023-01-24T13:14:15.170Z"
   },
   {
    "duration": 90,
    "start_time": "2023-01-24T13:14:15.320Z"
   },
   {
    "duration": 9,
    "start_time": "2023-01-24T13:14:15.503Z"
   },
   {
    "duration": 8,
    "start_time": "2023-01-24T13:14:15.514Z"
   },
   {
    "duration": 82,
    "start_time": "2023-01-24T13:14:15.524Z"
   },
   {
    "duration": 98,
    "start_time": "2023-01-24T13:14:15.608Z"
   },
   {
    "duration": 101,
    "start_time": "2023-01-24T13:14:15.708Z"
   },
   {
    "duration": 19,
    "start_time": "2023-01-24T13:26:08.888Z"
   },
   {
    "duration": 8,
    "start_time": "2023-01-24T13:26:12.470Z"
   },
   {
    "duration": 8,
    "start_time": "2023-01-24T17:01:29.728Z"
   },
   {
    "duration": 1562,
    "start_time": "2023-01-24T17:01:49.414Z"
   },
   {
    "duration": 3,
    "start_time": "2023-01-24T17:01:50.978Z"
   },
   {
    "duration": 123,
    "start_time": "2023-01-24T17:01:50.983Z"
   },
   {
    "duration": 14,
    "start_time": "2023-01-24T17:01:51.108Z"
   },
   {
    "duration": 38,
    "start_time": "2023-01-24T17:01:51.124Z"
   },
   {
    "duration": 69,
    "start_time": "2023-01-24T17:01:51.164Z"
   },
   {
    "duration": 710,
    "start_time": "2023-01-24T17:01:51.235Z"
   },
   {
    "duration": 3,
    "start_time": "2023-01-24T17:01:51.947Z"
   },
   {
    "duration": 54,
    "start_time": "2023-01-24T17:01:51.952Z"
   },
   {
    "duration": 108,
    "start_time": "2023-01-24T17:01:52.012Z"
   },
   {
    "duration": 87,
    "start_time": "2023-01-24T17:01:52.124Z"
   },
   {
    "duration": 89,
    "start_time": "2023-01-24T17:01:52.217Z"
   },
   {
    "duration": 19,
    "start_time": "2023-01-24T17:01:52.308Z"
   },
   {
    "duration": 84,
    "start_time": "2023-01-24T17:01:52.329Z"
   },
   {
    "duration": 88,
    "start_time": "2023-01-24T17:01:52.416Z"
   },
   {
    "duration": 113,
    "start_time": "2023-01-24T17:01:52.505Z"
   },
   {
    "duration": 21,
    "start_time": "2023-01-24T17:01:52.620Z"
   },
   {
    "duration": 63,
    "start_time": "2023-01-24T17:01:52.642Z"
   },
   {
    "duration": 15,
    "start_time": "2023-01-24T17:02:25.951Z"
   },
   {
    "duration": 8,
    "start_time": "2023-01-24T17:06:27.964Z"
   },
   {
    "duration": 5,
    "start_time": "2023-01-24T17:07:09.426Z"
   },
   {
    "duration": 13,
    "start_time": "2023-01-24T17:07:21.460Z"
   },
   {
    "duration": 4,
    "start_time": "2023-01-24T17:07:31.921Z"
   },
   {
    "duration": 4,
    "start_time": "2023-01-24T17:07:32.629Z"
   },
   {
    "duration": 3,
    "start_time": "2023-01-24T17:07:54.157Z"
   },
   {
    "duration": 16,
    "start_time": "2023-01-24T17:08:14.457Z"
   },
   {
    "duration": 3,
    "start_time": "2023-01-24T17:08:34.648Z"
   },
   {
    "duration": 10,
    "start_time": "2023-01-24T17:08:35.632Z"
   },
   {
    "duration": 120,
    "start_time": "2023-01-24T17:10:15.124Z"
   },
   {
    "duration": 1422,
    "start_time": "2023-01-24T17:10:22.843Z"
   },
   {
    "duration": 3,
    "start_time": "2023-01-24T17:10:24.268Z"
   },
   {
    "duration": 72,
    "start_time": "2023-01-24T17:10:24.273Z"
   },
   {
    "duration": 43,
    "start_time": "2023-01-24T17:10:24.348Z"
   },
   {
    "duration": 22,
    "start_time": "2023-01-24T17:10:24.393Z"
   },
   {
    "duration": 56,
    "start_time": "2023-01-24T17:10:24.417Z"
   },
   {
    "duration": 807,
    "start_time": "2023-01-24T17:10:24.474Z"
   },
   {
    "duration": 4,
    "start_time": "2023-01-24T17:10:25.283Z"
   },
   {
    "duration": 32,
    "start_time": "2023-01-24T17:10:25.289Z"
   },
   {
    "duration": 209,
    "start_time": "2023-01-24T17:10:25.323Z"
   },
   {
    "duration": 190,
    "start_time": "2023-01-24T17:10:25.536Z"
   },
   {
    "duration": 16,
    "start_time": "2023-01-24T17:10:25.728Z"
   },
   {
    "duration": 27,
    "start_time": "2023-01-24T17:10:25.745Z"
   },
   {
    "duration": 42,
    "start_time": "2023-01-24T17:10:25.775Z"
   },
   {
    "duration": 88,
    "start_time": "2023-01-24T17:10:25.820Z"
   },
   {
    "duration": 195,
    "start_time": "2023-01-24T17:10:25.910Z"
   },
   {
    "duration": 47,
    "start_time": "2023-01-24T17:10:26.107Z"
   },
   {
    "duration": 27,
    "start_time": "2023-01-24T17:10:26.156Z"
   },
   {
    "duration": 293,
    "start_time": "2023-01-24T17:10:26.184Z"
   },
   {
    "duration": 0,
    "start_time": "2023-01-24T17:10:26.479Z"
   },
   {
    "duration": 3,
    "start_time": "2023-01-24T17:13:40.394Z"
   },
   {
    "duration": 10,
    "start_time": "2023-01-24T17:14:33.975Z"
   },
   {
    "duration": 4,
    "start_time": "2023-01-24T17:14:42.422Z"
   },
   {
    "duration": 1418,
    "start_time": "2023-01-24T17:14:57.226Z"
   },
   {
    "duration": 2,
    "start_time": "2023-01-24T17:14:58.646Z"
   },
   {
    "duration": 34,
    "start_time": "2023-01-24T17:14:58.650Z"
   },
   {
    "duration": 11,
    "start_time": "2023-01-24T17:14:58.686Z"
   },
   {
    "duration": 39,
    "start_time": "2023-01-24T17:14:58.699Z"
   },
   {
    "duration": 23,
    "start_time": "2023-01-24T17:14:58.739Z"
   },
   {
    "duration": 820,
    "start_time": "2023-01-24T17:14:58.764Z"
   },
   {
    "duration": 5,
    "start_time": "2023-01-24T17:14:59.585Z"
   },
   {
    "duration": 37,
    "start_time": "2023-01-24T17:14:59.591Z"
   },
   {
    "duration": 200,
    "start_time": "2023-01-24T17:14:59.630Z"
   },
   {
    "duration": 230,
    "start_time": "2023-01-24T17:14:59.832Z"
   },
   {
    "duration": 31,
    "start_time": "2023-01-24T17:15:00.064Z"
   },
   {
    "duration": 71,
    "start_time": "2023-01-24T17:15:00.097Z"
   },
   {
    "duration": 144,
    "start_time": "2023-01-24T17:15:00.172Z"
   },
   {
    "duration": 63,
    "start_time": "2023-01-24T17:15:00.318Z"
   },
   {
    "duration": 137,
    "start_time": "2023-01-24T17:15:00.403Z"
   },
   {
    "duration": 41,
    "start_time": "2023-01-24T17:15:00.542Z"
   },
   {
    "duration": 119,
    "start_time": "2023-01-24T17:15:00.586Z"
   },
   {
    "duration": 40,
    "start_time": "2023-01-24T17:15:00.708Z"
   },
   {
    "duration": 30,
    "start_time": "2023-01-24T17:15:00.749Z"
   },
   {
    "duration": 44,
    "start_time": "2023-01-24T17:15:00.781Z"
   },
   {
    "duration": 51,
    "start_time": "2023-01-24T17:15:00.827Z"
   },
   {
    "duration": 4,
    "start_time": "2023-01-24T17:15:27.498Z"
   },
   {
    "duration": 3,
    "start_time": "2023-01-24T17:15:27.989Z"
   },
   {
    "duration": 3,
    "start_time": "2023-01-24T17:15:28.404Z"
   },
   {
    "duration": 13,
    "start_time": "2023-01-24T17:15:28.989Z"
   },
   {
    "duration": 4,
    "start_time": "2023-01-24T17:15:51.643Z"
   },
   {
    "duration": 4,
    "start_time": "2023-01-24T17:15:52.107Z"
   },
   {
    "duration": 3,
    "start_time": "2023-01-24T17:15:52.556Z"
   },
   {
    "duration": 8,
    "start_time": "2023-01-24T17:15:53.511Z"
   },
   {
    "duration": 3,
    "start_time": "2023-01-24T17:16:28.103Z"
   },
   {
    "duration": 11,
    "start_time": "2023-01-24T17:16:28.728Z"
   },
   {
    "duration": 9,
    "start_time": "2023-01-24T17:17:44.423Z"
   },
   {
    "duration": 10,
    "start_time": "2023-01-24T17:17:52.828Z"
   },
   {
    "duration": 54,
    "start_time": "2023-01-24T17:50:51.864Z"
   },
   {
    "duration": 62,
    "start_time": "2023-01-24T18:00:12.423Z"
   },
   {
    "duration": 48,
    "start_time": "2023-01-24T18:01:06.745Z"
   },
   {
    "duration": 470,
    "start_time": "2023-01-24T18:40:04.662Z"
   },
   {
    "duration": 47,
    "start_time": "2023-01-24T18:46:52.694Z"
   },
   {
    "duration": 48,
    "start_time": "2023-01-24T21:19:24.447Z"
   },
   {
    "duration": 54,
    "start_time": "2023-01-24T21:20:17.186Z"
   },
   {
    "duration": 45,
    "start_time": "2023-01-24T21:44:23.613Z"
   },
   {
    "duration": 51,
    "start_time": "2023-01-24T22:06:32.548Z"
   },
   {
    "duration": 52,
    "start_time": "2023-01-24T22:07:52.222Z"
   },
   {
    "duration": 51,
    "start_time": "2023-01-24T22:14:55.973Z"
   },
   {
    "duration": 85,
    "start_time": "2023-01-24T22:16:09.205Z"
   },
   {
    "duration": 47,
    "start_time": "2023-01-24T22:17:49.158Z"
   },
   {
    "duration": 48,
    "start_time": "2023-01-24T22:36:11.245Z"
   },
   {
    "duration": 61,
    "start_time": "2023-01-24T22:38:35.677Z"
   },
   {
    "duration": 46,
    "start_time": "2023-01-24T23:05:14.732Z"
   },
   {
    "duration": 49,
    "start_time": "2023-01-24T23:21:51.391Z"
   },
   {
    "duration": 102,
    "start_time": "2023-01-25T12:05:39.015Z"
   },
   {
    "duration": 74,
    "start_time": "2023-01-25T12:14:36.091Z"
   }
  ],
  "kernelspec": {
   "display_name": "Python 3 (ipykernel)",
   "language": "python",
   "name": "python3"
  },
  "language_info": {
   "codemirror_mode": {
    "name": "ipython",
    "version": 3
   },
   "file_extension": ".py",
   "mimetype": "text/x-python",
   "name": "python",
   "nbconvert_exporter": "python",
   "pygments_lexer": "ipython3",
   "version": "3.9.12"
  },
  "toc": {
   "base_numbering": 1,
   "nav_menu": {},
   "number_sections": true,
   "sideBar": true,
   "skip_h1_title": true,
   "title_cell": "Содержание",
   "title_sidebar": "Contents",
   "toc_cell": true,
   "toc_position": {},
   "toc_section_display": true,
   "toc_window_display": false
  }
 },
 "nbformat": 4,
 "nbformat_minor": 2
}

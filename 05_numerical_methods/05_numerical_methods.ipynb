{
 "cells": [
  {
   "cell_type": "markdown",
   "metadata": {},
   "source": [
    "<div style=\"border:inset golden 2px; padding: 20px\">\n",
    "\n",
    "# Car Price Estimation\n",
    "    \n",
    "The \"Non-Accident, Non-Painted\" used car sales service is developing an application to attract new customers. The app allows users to quickly determine the market value of their car. We have historical data available, including technical characteristics, configurations, and prices of cars.\n",
    "\n",
    "**Project Goal** - Build a model to estimate the price of a car.\n",
    "\n",
    "The client emphasizes the following criteria:\n",
    "\n",
    "* Prediction quality.\n",
    "* Prediction speed.\n",
    "* Training time.\n",
    "\n",
    "**Research Plan**\n",
    "\n",
    "The research will proceed through 4 stages:\n",
    "\n",
    "- 1. Data Preparation.\n",
    "   - 1.1. Handling missing values.\n",
    "   - 1.2. Dealing with anomalies in columns.\n",
    "- 2. Model Training.\n",
    "   - 2.1. Preparing datasets for model training.\n",
    "   - 2.2. Training models.\n",
    "     - 2.2.1. LightGBM.\n",
    "     - 2.2.2. XGBRegressor.\n",
    "     - 2.2.3. CatBoost.\n",
    "     - 2.2.4. LinearRegression.\n",
    "- 3. Model Analysis.\n",
    "- 4. Conclusion.\n",
    "\n",
    "<img src=\"https://img.freepik.com/premium-vector/american-muscle-car-vector-monochrome-image-of-american-muscle-car-in-white-background-isolated_289688-398.jpg\" width=\"500\" height=\"500\" alt=\"Car\" />"
   ]
  },
  {
   "cell_type": "code",
   "execution_count": 1,
   "metadata": {},
   "outputs": [
    {
     "data": {
      "application/javascript": [
       "IPython.notebook.set_autosave_interval(20000)"
      ]
     },
     "metadata": {},
     "output_type": "display_data"
    },
    {
     "name": "stdout",
     "output_type": "stream",
     "text": [
      "Autosaving every 20 seconds\n"
     ]
    }
   ],
   "source": [
    "%autosave 20"
   ]
  },
  {
   "cell_type": "markdown",
   "metadata": {},
   "source": [
    "## Data Preparation"
   ]
  },
  {
   "cell_type": "markdown",
   "metadata": {},
   "source": [
    "Let's load the necessary libraries and open the data source file."
   ]
  },
  {
   "cell_type": "code",
   "execution_count": 2,
   "metadata": {},
   "outputs": [],
   "source": [
    "# Load libraries\n",
    "\n",
    "import pandas as pd\n",
    "import numpy as np\n",
    "import matplotlib.pyplot as plt\n",
    "import seaborn as sns\n",
    "\n",
    "from sklearn.compose import make_column_transformer\n",
    "from sklearn.model_selection import train_test_split, GridSearchCV\n",
    "from sklearn.metrics import mean_squared_error\n",
    "from lightgbm import LGBMRegressor\n",
    "from xgboost import XGBRegressor\n",
    "from catboost import CatBoostRegressor\n",
    "from sklearn.linear_model import LinearRegression\n",
    "from sklearn.pipeline import make_pipeline\n",
    "from sklearn.preprocessing import OneHotEncoder, OrdinalEncoder, StandardScaler\n",
    "\n",
    "import lightgbm as lgb\n",
    "import random\n",
    "import time\n",
    "import warnings\n",
    "warnings.filterwarnings(\"ignore\")"
   ]
  },
  {
   "cell_type": "code",
   "execution_count": 3,
   "metadata": {},
   "outputs": [],
   "source": [
    "# Configure parameters\n",
    "\n",
    "sns.set_style(\"whitegrid\")\n",
    "RANDOM_STATE = 12345"
   ]
  },
  {
   "cell_type": "code",
   "execution_count": 4,
   "metadata": {},
   "outputs": [],
   "source": [
    "# Read the file with data and save it to the \"df\" variable\n",
    "\n",
    "df = pd.read_csv('./autos.csv')"
   ]
  },
  {
   "cell_type": "markdown",
   "metadata": {},
   "source": [
    "Now i proceed to examining the available data."
   ]
  },
  {
   "cell_type": "code",
   "execution_count": 5,
   "metadata": {
    "scrolled": true
   },
   "outputs": [
    {
     "data": {
      "text/html": [
       "<div>\n",
       "<style scoped>\n",
       "    .dataframe tbody tr th:only-of-type {\n",
       "        vertical-align: middle;\n",
       "    }\n",
       "\n",
       "    .dataframe tbody tr th {\n",
       "        vertical-align: top;\n",
       "    }\n",
       "\n",
       "    .dataframe thead th {\n",
       "        text-align: right;\n",
       "    }\n",
       "</style>\n",
       "<table border=\"1\" class=\"dataframe\">\n",
       "  <thead>\n",
       "    <tr style=\"text-align: right;\">\n",
       "      <th></th>\n",
       "      <th>DateCrawled</th>\n",
       "      <th>Price</th>\n",
       "      <th>VehicleType</th>\n",
       "      <th>RegistrationYear</th>\n",
       "      <th>Gearbox</th>\n",
       "      <th>Power</th>\n",
       "      <th>Model</th>\n",
       "      <th>Kilometer</th>\n",
       "      <th>RegistrationMonth</th>\n",
       "      <th>FuelType</th>\n",
       "      <th>Brand</th>\n",
       "      <th>Repaired</th>\n",
       "      <th>DateCreated</th>\n",
       "      <th>NumberOfPictures</th>\n",
       "      <th>PostalCode</th>\n",
       "      <th>LastSeen</th>\n",
       "    </tr>\n",
       "  </thead>\n",
       "  <tbody>\n",
       "    <tr>\n",
       "      <th>0</th>\n",
       "      <td>2016-03-24 11:52:17</td>\n",
       "      <td>480</td>\n",
       "      <td>NaN</td>\n",
       "      <td>1993</td>\n",
       "      <td>manual</td>\n",
       "      <td>0</td>\n",
       "      <td>golf</td>\n",
       "      <td>150000</td>\n",
       "      <td>0</td>\n",
       "      <td>petrol</td>\n",
       "      <td>volkswagen</td>\n",
       "      <td>NaN</td>\n",
       "      <td>2016-03-24 00:00:00</td>\n",
       "      <td>0</td>\n",
       "      <td>70435</td>\n",
       "      <td>2016-04-07 03:16:57</td>\n",
       "    </tr>\n",
       "    <tr>\n",
       "      <th>1</th>\n",
       "      <td>2016-03-24 10:58:45</td>\n",
       "      <td>18300</td>\n",
       "      <td>coupe</td>\n",
       "      <td>2011</td>\n",
       "      <td>manual</td>\n",
       "      <td>190</td>\n",
       "      <td>NaN</td>\n",
       "      <td>125000</td>\n",
       "      <td>5</td>\n",
       "      <td>gasoline</td>\n",
       "      <td>audi</td>\n",
       "      <td>yes</td>\n",
       "      <td>2016-03-24 00:00:00</td>\n",
       "      <td>0</td>\n",
       "      <td>66954</td>\n",
       "      <td>2016-04-07 01:46:50</td>\n",
       "    </tr>\n",
       "    <tr>\n",
       "      <th>2</th>\n",
       "      <td>2016-03-14 12:52:21</td>\n",
       "      <td>9800</td>\n",
       "      <td>suv</td>\n",
       "      <td>2004</td>\n",
       "      <td>auto</td>\n",
       "      <td>163</td>\n",
       "      <td>grand</td>\n",
       "      <td>125000</td>\n",
       "      <td>8</td>\n",
       "      <td>gasoline</td>\n",
       "      <td>jeep</td>\n",
       "      <td>NaN</td>\n",
       "      <td>2016-03-14 00:00:00</td>\n",
       "      <td>0</td>\n",
       "      <td>90480</td>\n",
       "      <td>2016-04-05 12:47:46</td>\n",
       "    </tr>\n",
       "    <tr>\n",
       "      <th>3</th>\n",
       "      <td>2016-03-17 16:54:04</td>\n",
       "      <td>1500</td>\n",
       "      <td>small</td>\n",
       "      <td>2001</td>\n",
       "      <td>manual</td>\n",
       "      <td>75</td>\n",
       "      <td>golf</td>\n",
       "      <td>150000</td>\n",
       "      <td>6</td>\n",
       "      <td>petrol</td>\n",
       "      <td>volkswagen</td>\n",
       "      <td>no</td>\n",
       "      <td>2016-03-17 00:00:00</td>\n",
       "      <td>0</td>\n",
       "      <td>91074</td>\n",
       "      <td>2016-03-17 17:40:17</td>\n",
       "    </tr>\n",
       "    <tr>\n",
       "      <th>4</th>\n",
       "      <td>2016-03-31 17:25:20</td>\n",
       "      <td>3600</td>\n",
       "      <td>small</td>\n",
       "      <td>2008</td>\n",
       "      <td>manual</td>\n",
       "      <td>69</td>\n",
       "      <td>fabia</td>\n",
       "      <td>90000</td>\n",
       "      <td>7</td>\n",
       "      <td>gasoline</td>\n",
       "      <td>skoda</td>\n",
       "      <td>no</td>\n",
       "      <td>2016-03-31 00:00:00</td>\n",
       "      <td>0</td>\n",
       "      <td>60437</td>\n",
       "      <td>2016-04-06 10:17:21</td>\n",
       "    </tr>\n",
       "  </tbody>\n",
       "</table>\n",
       "</div>"
      ],
      "text/plain": [
       "           DateCrawled  Price VehicleType  RegistrationYear Gearbox  Power  \\\n",
       "0  2016-03-24 11:52:17    480         NaN              1993  manual      0   \n",
       "1  2016-03-24 10:58:45  18300       coupe              2011  manual    190   \n",
       "2  2016-03-14 12:52:21   9800         suv              2004    auto    163   \n",
       "3  2016-03-17 16:54:04   1500       small              2001  manual     75   \n",
       "4  2016-03-31 17:25:20   3600       small              2008  manual     69   \n",
       "\n",
       "   Model  Kilometer  RegistrationMonth  FuelType       Brand Repaired  \\\n",
       "0   golf     150000                  0    petrol  volkswagen      NaN   \n",
       "1    NaN     125000                  5  gasoline        audi      yes   \n",
       "2  grand     125000                  8  gasoline        jeep      NaN   \n",
       "3   golf     150000                  6    petrol  volkswagen       no   \n",
       "4  fabia      90000                  7  gasoline       skoda       no   \n",
       "\n",
       "           DateCreated  NumberOfPictures  PostalCode             LastSeen  \n",
       "0  2016-03-24 00:00:00                 0       70435  2016-04-07 03:16:57  \n",
       "1  2016-03-24 00:00:00                 0       66954  2016-04-07 01:46:50  \n",
       "2  2016-03-14 00:00:00                 0       90480  2016-04-05 12:47:46  \n",
       "3  2016-03-17 00:00:00                 0       91074  2016-03-17 17:40:17  \n",
       "4  2016-03-31 00:00:00                 0       60437  2016-04-06 10:17:21  "
      ]
     },
     "execution_count": 5,
     "metadata": {},
     "output_type": "execute_result"
    }
   ],
   "source": [
    "# Display the first 5 rows of the dataframe\n",
    "\n",
    "df.head()"
   ]
  },
  {
   "cell_type": "markdown",
   "metadata": {},
   "source": [
    "According to the task requirements, I need features that characterize the technical characteristics, configurations, and prices of cars. Columns such as `DateCrawled`, `DateCreated`, `NumberOfPictures`, `PostalCode`, and `LastSeen` are not needed for this analysis and can be removed."
   ]
  },
  {
   "cell_type": "code",
   "execution_count": 6,
   "metadata": {},
   "outputs": [],
   "source": [
    "# Remove unnecessary columns\n",
    "\n",
    "df = df.drop(columns=['DateCrawled', 'DateCreated', 'NumberOfPictures', 'PostalCode', 'LastSeen'])"
   ]
  },
  {
   "cell_type": "code",
   "execution_count": 7,
   "metadata": {},
   "outputs": [
    {
     "name": "stdout",
     "output_type": "stream",
     "text": [
      "<class 'pandas.core.frame.DataFrame'>\n",
      "RangeIndex: 354369 entries, 0 to 354368\n",
      "Data columns (total 11 columns):\n",
      " #   Column             Non-Null Count   Dtype \n",
      "---  ------             --------------   ----- \n",
      " 0   Price              354369 non-null  int64 \n",
      " 1   VehicleType        316879 non-null  object\n",
      " 2   RegistrationYear   354369 non-null  int64 \n",
      " 3   Gearbox            334536 non-null  object\n",
      " 4   Power              354369 non-null  int64 \n",
      " 5   Model              334664 non-null  object\n",
      " 6   Kilometer          354369 non-null  int64 \n",
      " 7   RegistrationMonth  354369 non-null  int64 \n",
      " 8   FuelType           321474 non-null  object\n",
      " 9   Brand              354369 non-null  object\n",
      " 10  Repaired           283215 non-null  object\n",
      "dtypes: int64(5), object(6)\n",
      "memory usage: 29.7+ MB\n"
     ]
    }
   ],
   "source": [
    "# Display general information about the dataframe\n",
    "\n",
    "df.info()"
   ]
  },
  {
   "cell_type": "markdown",
   "metadata": {},
   "source": [
    "There are a total of 11 features and 354,369 instances in the dataset. The features have the correct data types, and there are missing values in the `VehicleType`, `Gearbox`, `Model`, `FuelType`, and `Repaired` columns."
   ]
  },
  {
   "cell_type": "code",
   "execution_count": 8,
   "metadata": {},
   "outputs": [
    {
     "data": {
      "text/html": [
       "<div>\n",
       "<style scoped>\n",
       "    .dataframe tbody tr th:only-of-type {\n",
       "        vertical-align: middle;\n",
       "    }\n",
       "\n",
       "    .dataframe tbody tr th {\n",
       "        vertical-align: top;\n",
       "    }\n",
       "\n",
       "    .dataframe thead th {\n",
       "        text-align: right;\n",
       "    }\n",
       "</style>\n",
       "<table border=\"1\" class=\"dataframe\">\n",
       "  <thead>\n",
       "    <tr style=\"text-align: right;\">\n",
       "      <th></th>\n",
       "      <th>Price</th>\n",
       "      <th>VehicleType</th>\n",
       "      <th>RegistrationYear</th>\n",
       "      <th>Gearbox</th>\n",
       "      <th>Power</th>\n",
       "      <th>Model</th>\n",
       "      <th>Kilometer</th>\n",
       "      <th>RegistrationMonth</th>\n",
       "      <th>FuelType</th>\n",
       "      <th>Brand</th>\n",
       "      <th>Repaired</th>\n",
       "    </tr>\n",
       "  </thead>\n",
       "  <tbody>\n",
       "    <tr>\n",
       "      <th>count</th>\n",
       "      <td>354369.000000</td>\n",
       "      <td>316879</td>\n",
       "      <td>354369.000000</td>\n",
       "      <td>334536</td>\n",
       "      <td>354369.000000</td>\n",
       "      <td>334664</td>\n",
       "      <td>354369.000000</td>\n",
       "      <td>354369.000000</td>\n",
       "      <td>321474</td>\n",
       "      <td>354369</td>\n",
       "      <td>283215</td>\n",
       "    </tr>\n",
       "    <tr>\n",
       "      <th>unique</th>\n",
       "      <td>NaN</td>\n",
       "      <td>8</td>\n",
       "      <td>NaN</td>\n",
       "      <td>2</td>\n",
       "      <td>NaN</td>\n",
       "      <td>250</td>\n",
       "      <td>NaN</td>\n",
       "      <td>NaN</td>\n",
       "      <td>7</td>\n",
       "      <td>40</td>\n",
       "      <td>2</td>\n",
       "    </tr>\n",
       "    <tr>\n",
       "      <th>top</th>\n",
       "      <td>NaN</td>\n",
       "      <td>sedan</td>\n",
       "      <td>NaN</td>\n",
       "      <td>manual</td>\n",
       "      <td>NaN</td>\n",
       "      <td>golf</td>\n",
       "      <td>NaN</td>\n",
       "      <td>NaN</td>\n",
       "      <td>petrol</td>\n",
       "      <td>volkswagen</td>\n",
       "      <td>no</td>\n",
       "    </tr>\n",
       "    <tr>\n",
       "      <th>freq</th>\n",
       "      <td>NaN</td>\n",
       "      <td>91457</td>\n",
       "      <td>NaN</td>\n",
       "      <td>268251</td>\n",
       "      <td>NaN</td>\n",
       "      <td>29232</td>\n",
       "      <td>NaN</td>\n",
       "      <td>NaN</td>\n",
       "      <td>216352</td>\n",
       "      <td>77013</td>\n",
       "      <td>247161</td>\n",
       "    </tr>\n",
       "    <tr>\n",
       "      <th>mean</th>\n",
       "      <td>4416.656776</td>\n",
       "      <td>NaN</td>\n",
       "      <td>2004.234448</td>\n",
       "      <td>NaN</td>\n",
       "      <td>110.094337</td>\n",
       "      <td>NaN</td>\n",
       "      <td>128211.172535</td>\n",
       "      <td>5.714645</td>\n",
       "      <td>NaN</td>\n",
       "      <td>NaN</td>\n",
       "      <td>NaN</td>\n",
       "    </tr>\n",
       "    <tr>\n",
       "      <th>std</th>\n",
       "      <td>4514.158514</td>\n",
       "      <td>NaN</td>\n",
       "      <td>90.227958</td>\n",
       "      <td>NaN</td>\n",
       "      <td>189.850405</td>\n",
       "      <td>NaN</td>\n",
       "      <td>37905.341530</td>\n",
       "      <td>3.726421</td>\n",
       "      <td>NaN</td>\n",
       "      <td>NaN</td>\n",
       "      <td>NaN</td>\n",
       "    </tr>\n",
       "    <tr>\n",
       "      <th>min</th>\n",
       "      <td>0.000000</td>\n",
       "      <td>NaN</td>\n",
       "      <td>1000.000000</td>\n",
       "      <td>NaN</td>\n",
       "      <td>0.000000</td>\n",
       "      <td>NaN</td>\n",
       "      <td>5000.000000</td>\n",
       "      <td>0.000000</td>\n",
       "      <td>NaN</td>\n",
       "      <td>NaN</td>\n",
       "      <td>NaN</td>\n",
       "    </tr>\n",
       "    <tr>\n",
       "      <th>25%</th>\n",
       "      <td>1050.000000</td>\n",
       "      <td>NaN</td>\n",
       "      <td>1999.000000</td>\n",
       "      <td>NaN</td>\n",
       "      <td>69.000000</td>\n",
       "      <td>NaN</td>\n",
       "      <td>125000.000000</td>\n",
       "      <td>3.000000</td>\n",
       "      <td>NaN</td>\n",
       "      <td>NaN</td>\n",
       "      <td>NaN</td>\n",
       "    </tr>\n",
       "    <tr>\n",
       "      <th>50%</th>\n",
       "      <td>2700.000000</td>\n",
       "      <td>NaN</td>\n",
       "      <td>2003.000000</td>\n",
       "      <td>NaN</td>\n",
       "      <td>105.000000</td>\n",
       "      <td>NaN</td>\n",
       "      <td>150000.000000</td>\n",
       "      <td>6.000000</td>\n",
       "      <td>NaN</td>\n",
       "      <td>NaN</td>\n",
       "      <td>NaN</td>\n",
       "    </tr>\n",
       "    <tr>\n",
       "      <th>75%</th>\n",
       "      <td>6400.000000</td>\n",
       "      <td>NaN</td>\n",
       "      <td>2008.000000</td>\n",
       "      <td>NaN</td>\n",
       "      <td>143.000000</td>\n",
       "      <td>NaN</td>\n",
       "      <td>150000.000000</td>\n",
       "      <td>9.000000</td>\n",
       "      <td>NaN</td>\n",
       "      <td>NaN</td>\n",
       "      <td>NaN</td>\n",
       "    </tr>\n",
       "    <tr>\n",
       "      <th>max</th>\n",
       "      <td>20000.000000</td>\n",
       "      <td>NaN</td>\n",
       "      <td>9999.000000</td>\n",
       "      <td>NaN</td>\n",
       "      <td>20000.000000</td>\n",
       "      <td>NaN</td>\n",
       "      <td>150000.000000</td>\n",
       "      <td>12.000000</td>\n",
       "      <td>NaN</td>\n",
       "      <td>NaN</td>\n",
       "      <td>NaN</td>\n",
       "    </tr>\n",
       "  </tbody>\n",
       "</table>\n",
       "</div>"
      ],
      "text/plain": [
       "                Price VehicleType  RegistrationYear Gearbox          Power  \\\n",
       "count   354369.000000      316879     354369.000000  334536  354369.000000   \n",
       "unique            NaN           8               NaN       2            NaN   \n",
       "top               NaN       sedan               NaN  manual            NaN   \n",
       "freq              NaN       91457               NaN  268251            NaN   \n",
       "mean      4416.656776         NaN       2004.234448     NaN     110.094337   \n",
       "std       4514.158514         NaN         90.227958     NaN     189.850405   \n",
       "min          0.000000         NaN       1000.000000     NaN       0.000000   \n",
       "25%       1050.000000         NaN       1999.000000     NaN      69.000000   \n",
       "50%       2700.000000         NaN       2003.000000     NaN     105.000000   \n",
       "75%       6400.000000         NaN       2008.000000     NaN     143.000000   \n",
       "max      20000.000000         NaN       9999.000000     NaN   20000.000000   \n",
       "\n",
       "         Model      Kilometer  RegistrationMonth FuelType       Brand Repaired  \n",
       "count   334664  354369.000000      354369.000000   321474      354369   283215  \n",
       "unique     250            NaN                NaN        7          40        2  \n",
       "top       golf            NaN                NaN   petrol  volkswagen       no  \n",
       "freq     29232            NaN                NaN   216352       77013   247161  \n",
       "mean       NaN  128211.172535           5.714645      NaN         NaN      NaN  \n",
       "std        NaN   37905.341530           3.726421      NaN         NaN      NaN  \n",
       "min        NaN    5000.000000           0.000000      NaN         NaN      NaN  \n",
       "25%        NaN  125000.000000           3.000000      NaN         NaN      NaN  \n",
       "50%        NaN  150000.000000           6.000000      NaN         NaN      NaN  \n",
       "75%        NaN  150000.000000           9.000000      NaN         NaN      NaN  \n",
       "max        NaN  150000.000000          12.000000      NaN         NaN      NaN  "
      ]
     },
     "execution_count": 8,
     "metadata": {},
     "output_type": "execute_result"
    }
   ],
   "source": [
    "# Display information about the features\n",
    "\n",
    "df.describe(include='all')"
   ]
  },
  {
   "cell_type": "markdown",
   "metadata": {},
   "source": [
    "Based on the data indicators of std (standard deviation), min (minimum value), and max (maximum value) for all features, it can be observed that the values in the dataset have sufficient dispersion, and there are anomalies and outliers that need to be excluded from the data. Additionally, incorrect zero values in the `Price` and `Power` columns can be removed."
   ]
  },
  {
   "cell_type": "code",
   "execution_count": 9,
   "metadata": {},
   "outputs": [
    {
     "data": {
      "text/plain": [
       "Price                3731\n",
       "VehicleType             8\n",
       "RegistrationYear      151\n",
       "Gearbox                 2\n",
       "Power                 712\n",
       "Model                 250\n",
       "Kilometer              13\n",
       "RegistrationMonth      13\n",
       "FuelType                7\n",
       "Brand                  40\n",
       "Repaired                2\n",
       "dtype: int64"
      ]
     },
     "execution_count": 9,
     "metadata": {},
     "output_type": "execute_result"
    }
   ],
   "source": [
    "df.nunique()"
   ]
  },
  {
   "cell_type": "markdown",
   "metadata": {},
   "source": [
    "The `RegistrationMonth` feature contains 13 unique values, including zeros, which is incorrect. To replace the zero values, we will write a function that returns random numbers from the range (1, 12)."
   ]
  },
  {
   "cell_type": "code",
   "execution_count": 10,
   "metadata": {},
   "outputs": [],
   "source": [
    "# Create the zero_values function with the row parameter\n",
    "\n",
    "def zero_values(row):\n",
    "    month = row['RegistrationMonth']\n",
    "    \n",
    "    # Set a condition for non-zero data\n",
    "    \n",
    "    if month > 0:\n",
    "        \n",
    "        # In this case, the function returns the same number\n",
    "        \n",
    "        return month\n",
    "    else:\n",
    "        \n",
    "        # For each zero cell, the function returns a random value from the range (0, 12)\n",
    "        \n",
    "        return random.randint(1,12)"
   ]
  },
  {
   "cell_type": "code",
   "execution_count": 11,
   "metadata": {},
   "outputs": [],
   "source": [
    "# The apply() method applies the function to the values in the dataframe column \n",
    "\n",
    "df['RegistrationMonth'] = df.apply(zero_values, axis=1)"
   ]
  },
  {
   "cell_type": "markdown",
   "metadata": {},
   "source": [
    "Let's look at the transformed data description in our dataset."
   ]
  },
  {
   "cell_type": "code",
   "execution_count": 12,
   "metadata": {},
   "outputs": [
    {
     "data": {
      "text/html": [
       "<div>\n",
       "<style scoped>\n",
       "    .dataframe tbody tr th:only-of-type {\n",
       "        vertical-align: middle;\n",
       "    }\n",
       "\n",
       "    .dataframe tbody tr th {\n",
       "        vertical-align: top;\n",
       "    }\n",
       "\n",
       "    .dataframe thead th {\n",
       "        text-align: right;\n",
       "    }\n",
       "</style>\n",
       "<table border=\"1\" class=\"dataframe\">\n",
       "  <thead>\n",
       "    <tr style=\"text-align: right;\">\n",
       "      <th></th>\n",
       "      <th>Price</th>\n",
       "      <th>VehicleType</th>\n",
       "      <th>RegistrationYear</th>\n",
       "      <th>Gearbox</th>\n",
       "      <th>Power</th>\n",
       "      <th>Model</th>\n",
       "      <th>Kilometer</th>\n",
       "      <th>RegistrationMonth</th>\n",
       "      <th>FuelType</th>\n",
       "      <th>Brand</th>\n",
       "      <th>Repaired</th>\n",
       "    </tr>\n",
       "  </thead>\n",
       "  <tbody>\n",
       "    <tr>\n",
       "      <th>count</th>\n",
       "      <td>354369.000000</td>\n",
       "      <td>316879</td>\n",
       "      <td>354369.000000</td>\n",
       "      <td>334536</td>\n",
       "      <td>354369.000000</td>\n",
       "      <td>334664</td>\n",
       "      <td>354369.000000</td>\n",
       "      <td>354369.000000</td>\n",
       "      <td>321474</td>\n",
       "      <td>354369</td>\n",
       "      <td>283215</td>\n",
       "    </tr>\n",
       "    <tr>\n",
       "      <th>unique</th>\n",
       "      <td>NaN</td>\n",
       "      <td>8</td>\n",
       "      <td>NaN</td>\n",
       "      <td>2</td>\n",
       "      <td>NaN</td>\n",
       "      <td>250</td>\n",
       "      <td>NaN</td>\n",
       "      <td>NaN</td>\n",
       "      <td>7</td>\n",
       "      <td>40</td>\n",
       "      <td>2</td>\n",
       "    </tr>\n",
       "    <tr>\n",
       "      <th>top</th>\n",
       "      <td>NaN</td>\n",
       "      <td>sedan</td>\n",
       "      <td>NaN</td>\n",
       "      <td>manual</td>\n",
       "      <td>NaN</td>\n",
       "      <td>golf</td>\n",
       "      <td>NaN</td>\n",
       "      <td>NaN</td>\n",
       "      <td>petrol</td>\n",
       "      <td>volkswagen</td>\n",
       "      <td>no</td>\n",
       "    </tr>\n",
       "    <tr>\n",
       "      <th>freq</th>\n",
       "      <td>NaN</td>\n",
       "      <td>91457</td>\n",
       "      <td>NaN</td>\n",
       "      <td>268251</td>\n",
       "      <td>NaN</td>\n",
       "      <td>29232</td>\n",
       "      <td>NaN</td>\n",
       "      <td>NaN</td>\n",
       "      <td>216352</td>\n",
       "      <td>77013</td>\n",
       "      <td>247161</td>\n",
       "    </tr>\n",
       "    <tr>\n",
       "      <th>mean</th>\n",
       "      <td>4416.656776</td>\n",
       "      <td>NaN</td>\n",
       "      <td>2004.234448</td>\n",
       "      <td>NaN</td>\n",
       "      <td>110.094337</td>\n",
       "      <td>NaN</td>\n",
       "      <td>128211.172535</td>\n",
       "      <td>6.402070</td>\n",
       "      <td>NaN</td>\n",
       "      <td>NaN</td>\n",
       "      <td>NaN</td>\n",
       "    </tr>\n",
       "    <tr>\n",
       "      <th>std</th>\n",
       "      <td>4514.158514</td>\n",
       "      <td>NaN</td>\n",
       "      <td>90.227958</td>\n",
       "      <td>NaN</td>\n",
       "      <td>189.850405</td>\n",
       "      <td>NaN</td>\n",
       "      <td>37905.341530</td>\n",
       "      <td>3.361903</td>\n",
       "      <td>NaN</td>\n",
       "      <td>NaN</td>\n",
       "      <td>NaN</td>\n",
       "    </tr>\n",
       "    <tr>\n",
       "      <th>min</th>\n",
       "      <td>0.000000</td>\n",
       "      <td>NaN</td>\n",
       "      <td>1000.000000</td>\n",
       "      <td>NaN</td>\n",
       "      <td>0.000000</td>\n",
       "      <td>NaN</td>\n",
       "      <td>5000.000000</td>\n",
       "      <td>1.000000</td>\n",
       "      <td>NaN</td>\n",
       "      <td>NaN</td>\n",
       "      <td>NaN</td>\n",
       "    </tr>\n",
       "    <tr>\n",
       "      <th>25%</th>\n",
       "      <td>1050.000000</td>\n",
       "      <td>NaN</td>\n",
       "      <td>1999.000000</td>\n",
       "      <td>NaN</td>\n",
       "      <td>69.000000</td>\n",
       "      <td>NaN</td>\n",
       "      <td>125000.000000</td>\n",
       "      <td>4.000000</td>\n",
       "      <td>NaN</td>\n",
       "      <td>NaN</td>\n",
       "      <td>NaN</td>\n",
       "    </tr>\n",
       "    <tr>\n",
       "      <th>50%</th>\n",
       "      <td>2700.000000</td>\n",
       "      <td>NaN</td>\n",
       "      <td>2003.000000</td>\n",
       "      <td>NaN</td>\n",
       "      <td>105.000000</td>\n",
       "      <td>NaN</td>\n",
       "      <td>150000.000000</td>\n",
       "      <td>6.000000</td>\n",
       "      <td>NaN</td>\n",
       "      <td>NaN</td>\n",
       "      <td>NaN</td>\n",
       "    </tr>\n",
       "    <tr>\n",
       "      <th>75%</th>\n",
       "      <td>6400.000000</td>\n",
       "      <td>NaN</td>\n",
       "      <td>2008.000000</td>\n",
       "      <td>NaN</td>\n",
       "      <td>143.000000</td>\n",
       "      <td>NaN</td>\n",
       "      <td>150000.000000</td>\n",
       "      <td>9.000000</td>\n",
       "      <td>NaN</td>\n",
       "      <td>NaN</td>\n",
       "      <td>NaN</td>\n",
       "    </tr>\n",
       "    <tr>\n",
       "      <th>max</th>\n",
       "      <td>20000.000000</td>\n",
       "      <td>NaN</td>\n",
       "      <td>9999.000000</td>\n",
       "      <td>NaN</td>\n",
       "      <td>20000.000000</td>\n",
       "      <td>NaN</td>\n",
       "      <td>150000.000000</td>\n",
       "      <td>12.000000</td>\n",
       "      <td>NaN</td>\n",
       "      <td>NaN</td>\n",
       "      <td>NaN</td>\n",
       "    </tr>\n",
       "  </tbody>\n",
       "</table>\n",
       "</div>"
      ],
      "text/plain": [
       "                Price VehicleType  RegistrationYear Gearbox          Power  \\\n",
       "count   354369.000000      316879     354369.000000  334536  354369.000000   \n",
       "unique            NaN           8               NaN       2            NaN   \n",
       "top               NaN       sedan               NaN  manual            NaN   \n",
       "freq              NaN       91457               NaN  268251            NaN   \n",
       "mean      4416.656776         NaN       2004.234448     NaN     110.094337   \n",
       "std       4514.158514         NaN         90.227958     NaN     189.850405   \n",
       "min          0.000000         NaN       1000.000000     NaN       0.000000   \n",
       "25%       1050.000000         NaN       1999.000000     NaN      69.000000   \n",
       "50%       2700.000000         NaN       2003.000000     NaN     105.000000   \n",
       "75%       6400.000000         NaN       2008.000000     NaN     143.000000   \n",
       "max      20000.000000         NaN       9999.000000     NaN   20000.000000   \n",
       "\n",
       "         Model      Kilometer  RegistrationMonth FuelType       Brand Repaired  \n",
       "count   334664  354369.000000      354369.000000   321474      354369   283215  \n",
       "unique     250            NaN                NaN        7          40        2  \n",
       "top       golf            NaN                NaN   petrol  volkswagen       no  \n",
       "freq     29232            NaN                NaN   216352       77013   247161  \n",
       "mean       NaN  128211.172535           6.402070      NaN         NaN      NaN  \n",
       "std        NaN   37905.341530           3.361903      NaN         NaN      NaN  \n",
       "min        NaN    5000.000000           1.000000      NaN         NaN      NaN  \n",
       "25%        NaN  125000.000000           4.000000      NaN         NaN      NaN  \n",
       "50%        NaN  150000.000000           6.000000      NaN         NaN      NaN  \n",
       "75%        NaN  150000.000000           9.000000      NaN         NaN      NaN  \n",
       "max        NaN  150000.000000          12.000000      NaN         NaN      NaN  "
      ]
     },
     "execution_count": 12,
     "metadata": {},
     "output_type": "execute_result"
    }
   ],
   "source": [
    "# Display information about the features\n",
    "\n",
    "df.describe(include='all')"
   ]
  },
  {
   "cell_type": "markdown",
   "metadata": {},
   "source": [
    "After filling the zero values using the method of replacing them with a random value from the specified range, we managed to maintain the original distribution of features.\n",
    "\n",
    "Let's examine the distribution of data in the numerical features."
   ]
  },
  {
   "cell_type": "code",
   "execution_count": 13,
   "metadata": {},
   "outputs": [
    {
     "data": {
      "image/png": "[encoded data removed]",
      "text/plain": [
       "<Figure size 1500x1000 with 6 Axes>"
      ]
     },
     "metadata": {},
     "output_type": "display_data"
    }
   ],
   "source": [
    "df.hist(figsize=(15, 10));"
   ]
  },
  {
   "cell_type": "markdown",
   "metadata": {},
   "source": [
    "As the price of cars increases, the number of cars in observations decreases. The majority of cars have a mileage of over 140,000 km. Cars are predominantly registered at the beginning, middle, and end of the year.\n",
    "\n",
    "Now, let's examine the distribution of data in individual categorical features."
   ]
  },
  {
   "cell_type": "code",
   "execution_count": 14,
   "metadata": {},
   "outputs": [],
   "source": [
    "df_categories = df[['VehicleType', 'Gearbox', 'FuelType', 'Brand', 'Repaired']]"
   ]
  },
  {
   "cell_type": "code",
   "execution_count": 15,
   "metadata": {
    "scrolled": false
   },
   "outputs": [
    {
     "data": {
      "image/png": "[encoded data removed]",
      "text/plain": [
       "<Figure size 640x480 with 1 Axes>"
      ]
     },
     "metadata": {},
     "output_type": "display_data"
    },
    {
     "data": {
      "image/png": "[encoded data removed]",
      "text/plain": [
       "<Figure size 640x480 with 1 Axes>"
      ]
     },
     "metadata": {},
     "output_type": "display_data"
    },
    {
     "data": {
      "image/png": "[encoded data removed]",
      "text/plain": [
       "<Figure size 640x480 with 1 Axes>"
      ]
     },
     "metadata": {},
     "output_type": "display_data"
    },
    {
     "data": {
      "image/png": "[encoded data removed]",
      "text/plain": [
       "<Figure size 640x480 with 1 Axes>"
      ]
     },
     "metadata": {},
     "output_type": "display_data"
    },
    {
     "data": {
      "image/png": "[encoded data removed]",
      "text/plain": [
       "<Figure size 640x480 with 1 Axes>"
      ]
     },
     "metadata": {},
     "output_type": "display_data"
    }
   ],
   "source": [
    "# To build histograms for each of the six categorical columns, I will write a loop\n",
    "\n",
    "for col in df_categories:\n",
    "    df_categories[col].value_counts().plot(kind='bar', title=col)\n",
    "    plt.show()"
   ]
  },
  {
   "cell_type": "markdown",
   "metadata": {},
   "source": [
    "* The majority of cars have a sedan body type, belong to the compact class, or are station wagons.\n",
    "* There are more cars with a manual transmission than with an automatic transmission.\n",
    "* Most drivers use gasoline, while gas is used nearly twice less.\n",
    "* The majority of car listings belong to the Volkswagen brand, followed by Opel, BMW, Mercedes-Benz, and Audi in descending order.\n",
    "* The majority of cars are not repaired.\n",
    "\n",
    "Next, I will examine the presence of multicollinearity in the dataframe by visualizing the correlation matrix using a heatmap."
   ]
  },
  {
   "cell_type": "code",
   "execution_count": 16,
   "metadata": {
    "scrolled": false
   },
   "outputs": [
    {
     "data": {
      "image/png": "[encoded data removed]",
      "text/plain": [
       "<Figure size 1000x700 with 2 Axes>"
      ]
     },
     "metadata": {},
     "output_type": "display_data"
    }
   ],
   "source": [
    "# Graph for the direct relationship between variables\n",
    "\n",
    "fif, ax = plt.subplots(figsize=(10, 7))\n",
    "_ = sns.heatmap(df.corr(), vmin=-1, vmax=1, annot=True, ax=ax)"
   ]
  },
  {
   "cell_type": "markdown",
   "metadata": {},
   "source": [
    "No strong correlations between features have been identified."
   ]
  },
  {
   "cell_type": "markdown",
   "metadata": {},
   "source": [
    "### Handling Missing Values"
   ]
  },
  {
   "cell_type": "markdown",
   "metadata": {},
   "source": [
    "Earlier, we have already identified missing values in specific columns. Let's display them as a percentage of the total sample."
   ]
  },
  {
   "cell_type": "code",
   "execution_count": 17,
   "metadata": {},
   "outputs": [
    {
     "data": {
      "text/html": [
       "<style type=\"text/css\">\n",
       "#T_94909_row0_col0 {\n",
       "  background-color: #b40426;\n",
       "  color: #f1f1f1;\n",
       "}\n",
       "#T_94909_row1_col0 {\n",
       "  background-color: #e3d9d3;\n",
       "  color: #000000;\n",
       "}\n",
       "#T_94909_row2_col0 {\n",
       "  background-color: #d3dbe7;\n",
       "  color: #000000;\n",
       "}\n",
       "#T_94909_row3_col0 {\n",
       "  background-color: #97b8ff;\n",
       "  color: #000000;\n",
       "}\n",
       "#T_94909_row4_col0 {\n",
       "  background-color: #96b7ff;\n",
       "  color: #000000;\n",
       "}\n",
       "#T_94909_row5_col0, #T_94909_row6_col0, #T_94909_row7_col0, #T_94909_row8_col0, #T_94909_row9_col0, #T_94909_row10_col0 {\n",
       "  background-color: #3b4cc0;\n",
       "  color: #f1f1f1;\n",
       "}\n",
       "</style>\n",
       "<table id=\"T_94909\">\n",
       "  <thead>\n",
       "    <tr>\n",
       "      <th class=\"blank level0\" >&nbsp;</th>\n",
       "      <th id=\"T_94909_level0_col0\" class=\"col_heading level0 col0\" >Percentage of missing values (%)</th>\n",
       "    </tr>\n",
       "  </thead>\n",
       "  <tbody>\n",
       "    <tr>\n",
       "      <th id=\"T_94909_level0_row0\" class=\"row_heading level0 row0\" >Repaired</th>\n",
       "      <td id=\"T_94909_row0_col0\" class=\"data row0 col0\" >20.080000</td>\n",
       "    </tr>\n",
       "    <tr>\n",
       "      <th id=\"T_94909_level0_row1\" class=\"row_heading level0 row1\" >VehicleType</th>\n",
       "      <td id=\"T_94909_row1_col0\" class=\"data row1 col0\" >10.580000</td>\n",
       "    </tr>\n",
       "    <tr>\n",
       "      <th id=\"T_94909_level0_row2\" class=\"row_heading level0 row2\" >FuelType</th>\n",
       "      <td id=\"T_94909_row2_col0\" class=\"data row2 col0\" >9.280000</td>\n",
       "    </tr>\n",
       "    <tr>\n",
       "      <th id=\"T_94909_level0_row3\" class=\"row_heading level0 row3\" >Gearbox</th>\n",
       "      <td id=\"T_94909_row3_col0\" class=\"data row3 col0\" >5.600000</td>\n",
       "    </tr>\n",
       "    <tr>\n",
       "      <th id=\"T_94909_level0_row4\" class=\"row_heading level0 row4\" >Model</th>\n",
       "      <td id=\"T_94909_row4_col0\" class=\"data row4 col0\" >5.560000</td>\n",
       "    </tr>\n",
       "    <tr>\n",
       "      <th id=\"T_94909_level0_row5\" class=\"row_heading level0 row5\" >Price</th>\n",
       "      <td id=\"T_94909_row5_col0\" class=\"data row5 col0\" >0.000000</td>\n",
       "    </tr>\n",
       "    <tr>\n",
       "      <th id=\"T_94909_level0_row6\" class=\"row_heading level0 row6\" >RegistrationYear</th>\n",
       "      <td id=\"T_94909_row6_col0\" class=\"data row6 col0\" >0.000000</td>\n",
       "    </tr>\n",
       "    <tr>\n",
       "      <th id=\"T_94909_level0_row7\" class=\"row_heading level0 row7\" >Power</th>\n",
       "      <td id=\"T_94909_row7_col0\" class=\"data row7 col0\" >0.000000</td>\n",
       "    </tr>\n",
       "    <tr>\n",
       "      <th id=\"T_94909_level0_row8\" class=\"row_heading level0 row8\" >Kilometer</th>\n",
       "      <td id=\"T_94909_row8_col0\" class=\"data row8 col0\" >0.000000</td>\n",
       "    </tr>\n",
       "    <tr>\n",
       "      <th id=\"T_94909_level0_row9\" class=\"row_heading level0 row9\" >RegistrationMonth</th>\n",
       "      <td id=\"T_94909_row9_col0\" class=\"data row9 col0\" >0.000000</td>\n",
       "    </tr>\n",
       "    <tr>\n",
       "      <th id=\"T_94909_level0_row10\" class=\"row_heading level0 row10\" >Brand</th>\n",
       "      <td id=\"T_94909_row10_col0\" class=\"data row10 col0\" >0.000000</td>\n",
       "    </tr>\n",
       "  </tbody>\n",
       "</table>\n"
      ],
      "text/plain": [
       "<pandas.io.formats.style.Styler at 0x2b5787b10>"
      ]
     },
     "execution_count": 17,
     "metadata": {},
     "output_type": "execute_result"
    }
   ],
   "source": [
    "# Calculate the average number of missing values in features\n",
    "\n",
    "skips_df = pd.DataFrame(df.isna().mean()*100).round(2)\n",
    "\n",
    "# Rename the column name with missing values in the table\n",
    "\n",
    "skips_df.columns = ['Percentage of missing values (%)']\n",
    "\n",
    "# Display the table on the screen\n",
    "\n",
    "skips_df.sort_values(by='Percentage of missing values (%)', ascending=False).style.background_gradient('coolwarm')"
   ]
  },
  {
   "cell_type": "markdown",
   "metadata": {},
   "source": [
    "The highest number of missing data is related to the car repair status, body type, and fuel type. Several reasons could lead to missing data, such as data corruption, absence of data during certain time periods, or bias in the data collection process. Let's examine the table with empty values in these columns."
   ]
  },
  {
   "cell_type": "code",
   "execution_count": 18,
   "metadata": {},
   "outputs": [
    {
     "data": {
      "text/html": [
       "<div>\n",
       "<style scoped>\n",
       "    .dataframe tbody tr th:only-of-type {\n",
       "        vertical-align: middle;\n",
       "    }\n",
       "\n",
       "    .dataframe tbody tr th {\n",
       "        vertical-align: top;\n",
       "    }\n",
       "\n",
       "    .dataframe thead th {\n",
       "        text-align: right;\n",
       "    }\n",
       "</style>\n",
       "<table border=\"1\" class=\"dataframe\">\n",
       "  <thead>\n",
       "    <tr style=\"text-align: right;\">\n",
       "      <th></th>\n",
       "      <th>Price</th>\n",
       "      <th>VehicleType</th>\n",
       "      <th>RegistrationYear</th>\n",
       "      <th>Gearbox</th>\n",
       "      <th>Power</th>\n",
       "      <th>Model</th>\n",
       "      <th>Kilometer</th>\n",
       "      <th>RegistrationMonth</th>\n",
       "      <th>FuelType</th>\n",
       "      <th>Brand</th>\n",
       "      <th>Repaired</th>\n",
       "    </tr>\n",
       "  </thead>\n",
       "  <tbody>\n",
       "    <tr>\n",
       "      <th>0</th>\n",
       "      <td>480</td>\n",
       "      <td>NaN</td>\n",
       "      <td>1993</td>\n",
       "      <td>manual</td>\n",
       "      <td>0</td>\n",
       "      <td>golf</td>\n",
       "      <td>150000</td>\n",
       "      <td>6</td>\n",
       "      <td>petrol</td>\n",
       "      <td>volkswagen</td>\n",
       "      <td>NaN</td>\n",
       "    </tr>\n",
       "    <tr>\n",
       "      <th>1</th>\n",
       "      <td>18300</td>\n",
       "      <td>coupe</td>\n",
       "      <td>2011</td>\n",
       "      <td>manual</td>\n",
       "      <td>190</td>\n",
       "      <td>NaN</td>\n",
       "      <td>125000</td>\n",
       "      <td>5</td>\n",
       "      <td>gasoline</td>\n",
       "      <td>audi</td>\n",
       "      <td>yes</td>\n",
       "    </tr>\n",
       "    <tr>\n",
       "      <th>2</th>\n",
       "      <td>9800</td>\n",
       "      <td>suv</td>\n",
       "      <td>2004</td>\n",
       "      <td>auto</td>\n",
       "      <td>163</td>\n",
       "      <td>grand</td>\n",
       "      <td>125000</td>\n",
       "      <td>8</td>\n",
       "      <td>gasoline</td>\n",
       "      <td>jeep</td>\n",
       "      <td>NaN</td>\n",
       "    </tr>\n",
       "    <tr>\n",
       "      <th>8</th>\n",
       "      <td>14500</td>\n",
       "      <td>bus</td>\n",
       "      <td>2014</td>\n",
       "      <td>manual</td>\n",
       "      <td>125</td>\n",
       "      <td>c_max</td>\n",
       "      <td>30000</td>\n",
       "      <td>8</td>\n",
       "      <td>petrol</td>\n",
       "      <td>ford</td>\n",
       "      <td>NaN</td>\n",
       "    </tr>\n",
       "    <tr>\n",
       "      <th>9</th>\n",
       "      <td>999</td>\n",
       "      <td>small</td>\n",
       "      <td>1998</td>\n",
       "      <td>manual</td>\n",
       "      <td>101</td>\n",
       "      <td>golf</td>\n",
       "      <td>150000</td>\n",
       "      <td>9</td>\n",
       "      <td>NaN</td>\n",
       "      <td>volkswagen</td>\n",
       "      <td>NaN</td>\n",
       "    </tr>\n",
       "    <tr>\n",
       "      <th>...</th>\n",
       "      <td>...</td>\n",
       "      <td>...</td>\n",
       "      <td>...</td>\n",
       "      <td>...</td>\n",
       "      <td>...</td>\n",
       "      <td>...</td>\n",
       "      <td>...</td>\n",
       "      <td>...</td>\n",
       "      <td>...</td>\n",
       "      <td>...</td>\n",
       "      <td>...</td>\n",
       "    </tr>\n",
       "    <tr>\n",
       "      <th>354357</th>\n",
       "      <td>1690</td>\n",
       "      <td>wagon</td>\n",
       "      <td>2004</td>\n",
       "      <td>manual</td>\n",
       "      <td>55</td>\n",
       "      <td>fabia</td>\n",
       "      <td>150000</td>\n",
       "      <td>4</td>\n",
       "      <td>petrol</td>\n",
       "      <td>skoda</td>\n",
       "      <td>NaN</td>\n",
       "    </tr>\n",
       "    <tr>\n",
       "      <th>354361</th>\n",
       "      <td>5250</td>\n",
       "      <td>NaN</td>\n",
       "      <td>2016</td>\n",
       "      <td>auto</td>\n",
       "      <td>150</td>\n",
       "      <td>159</td>\n",
       "      <td>150000</td>\n",
       "      <td>12</td>\n",
       "      <td>NaN</td>\n",
       "      <td>alfa_romeo</td>\n",
       "      <td>no</td>\n",
       "    </tr>\n",
       "    <tr>\n",
       "      <th>354364</th>\n",
       "      <td>0</td>\n",
       "      <td>NaN</td>\n",
       "      <td>2005</td>\n",
       "      <td>manual</td>\n",
       "      <td>0</td>\n",
       "      <td>colt</td>\n",
       "      <td>150000</td>\n",
       "      <td>7</td>\n",
       "      <td>petrol</td>\n",
       "      <td>mitsubishi</td>\n",
       "      <td>yes</td>\n",
       "    </tr>\n",
       "    <tr>\n",
       "      <th>354365</th>\n",
       "      <td>2200</td>\n",
       "      <td>NaN</td>\n",
       "      <td>2005</td>\n",
       "      <td>NaN</td>\n",
       "      <td>0</td>\n",
       "      <td>NaN</td>\n",
       "      <td>20000</td>\n",
       "      <td>1</td>\n",
       "      <td>NaN</td>\n",
       "      <td>sonstige_autos</td>\n",
       "      <td>NaN</td>\n",
       "    </tr>\n",
       "    <tr>\n",
       "      <th>354368</th>\n",
       "      <td>3400</td>\n",
       "      <td>wagon</td>\n",
       "      <td>2002</td>\n",
       "      <td>manual</td>\n",
       "      <td>100</td>\n",
       "      <td>golf</td>\n",
       "      <td>150000</td>\n",
       "      <td>6</td>\n",
       "      <td>gasoline</td>\n",
       "      <td>volkswagen</td>\n",
       "      <td>NaN</td>\n",
       "    </tr>\n",
       "  </tbody>\n",
       "</table>\n",
       "<p>108555 rows × 11 columns</p>\n",
       "</div>"
      ],
      "text/plain": [
       "        Price VehicleType  RegistrationYear Gearbox  Power  Model  Kilometer  \\\n",
       "0         480         NaN              1993  manual      0   golf     150000   \n",
       "1       18300       coupe              2011  manual    190    NaN     125000   \n",
       "2        9800         suv              2004    auto    163  grand     125000   \n",
       "8       14500         bus              2014  manual    125  c_max      30000   \n",
       "9         999       small              1998  manual    101   golf     150000   \n",
       "...       ...         ...               ...     ...    ...    ...        ...   \n",
       "354357   1690       wagon              2004  manual     55  fabia     150000   \n",
       "354361   5250         NaN              2016    auto    150    159     150000   \n",
       "354364      0         NaN              2005  manual      0   colt     150000   \n",
       "354365   2200         NaN              2005     NaN      0    NaN      20000   \n",
       "354368   3400       wagon              2002  manual    100   golf     150000   \n",
       "\n",
       "        RegistrationMonth  FuelType           Brand Repaired  \n",
       "0                       6    petrol      volkswagen      NaN  \n",
       "1                       5  gasoline            audi      yes  \n",
       "2                       8  gasoline            jeep      NaN  \n",
       "8                       8    petrol            ford      NaN  \n",
       "9                       9       NaN      volkswagen      NaN  \n",
       "...                   ...       ...             ...      ...  \n",
       "354357                  4    petrol           skoda      NaN  \n",
       "354361                 12       NaN      alfa_romeo       no  \n",
       "354364                  7    petrol      mitsubishi      yes  \n",
       "354365                  1       NaN  sonstige_autos      NaN  \n",
       "354368                  6  gasoline      volkswagen      NaN  \n",
       "\n",
       "[108555 rows x 11 columns]"
      ]
     },
     "execution_count": 18,
     "metadata": {},
     "output_type": "execute_result"
    }
   ],
   "source": [
    "skips = df[df[['Repaired', 'VehicleType', 'FuelType', 'Gearbox', 'Model']].isna().any(axis=1)]\n",
    "skips"
   ]
  },
  {
   "cell_type": "markdown",
   "metadata": {},
   "source": [
    "Now, let's see if the missing data appears randomly."
   ]
  },
  {
   "cell_type": "code",
   "execution_count": 19,
   "metadata": {},
   "outputs": [
    {
     "data": {
      "image/png": "[encoded data removed]",
      "text/plain": [
       "<Figure size 1500x1000 with 6 Axes>"
      ]
     },
     "metadata": {},
     "output_type": "display_data"
    }
   ],
   "source": [
    "# Examine the distribution of features in the table with empty values\n",
    "\n",
    "skips.hist(figsize=(15, 10));"
   ]
  },
  {
   "cell_type": "markdown",
   "metadata": {},
   "source": [
    "Based on the obtained graphs, the probability of missing data is not the same for all data points, and there is no known data grouping where missing data is equally likely.\n",
    "\n",
    "Filling the missing values with median values in this case will not be correct, as it may lead to biased estimates. Leaving cells blank is also not an option as it would hinder further analysis. Considering these circumstances, I will use an indicator value (\"placeholder\") for handling missing values. I will replace them using the fillna() method."
   ]
  },
  {
   "cell_type": "code",
   "execution_count": 20,
   "metadata": {},
   "outputs": [],
   "source": [
    "df = df.fillna('unknown')"
   ]
  },
  {
   "cell_type": "markdown",
   "metadata": {},
   "source": [
    "Let's check for the presence of missing values after the transformations"
   ]
  },
  {
   "cell_type": "code",
   "execution_count": 21,
   "metadata": {},
   "outputs": [
    {
     "data": {
      "text/plain": [
       "Price                0\n",
       "VehicleType          0\n",
       "RegistrationYear     0\n",
       "Gearbox              0\n",
       "Power                0\n",
       "Model                0\n",
       "Kilometer            0\n",
       "RegistrationMonth    0\n",
       "FuelType             0\n",
       "Brand                0\n",
       "Repaired             0\n",
       "dtype: int64"
      ]
     },
     "execution_count": 21,
     "metadata": {},
     "output_type": "execute_result"
    }
   ],
   "source": [
    "# Count the number of missing values in the dataframe\n",
    "\n",
    "df.isna().sum()"
   ]
  },
  {
   "cell_type": "markdown",
   "metadata": {},
   "source": [
    "The work on handling missing values is complete, and we can move on to the next stage."
   ]
  },
  {
   "cell_type": "markdown",
   "metadata": {},
   "source": [
    "### Handling Anomalies in Columns"
   ]
  },
  {
   "cell_type": "markdown",
   "metadata": {},
   "source": [
    "We have already noticed the presence of anomalies in some features, including zero values in the `Price` and `Power` features earlier. Let's display the proportion of zero values in these features."
   ]
  },
  {
   "cell_type": "code",
   "execution_count": 22,
   "metadata": {},
   "outputs": [
    {
     "name": "stdout",
     "output_type": "stream",
     "text": [
      "Percentage of zero values in the Price column 3.0397692800442475\n",
      "Percentage of zero values in the Power column 11.351162206626427\n"
     ]
    }
   ],
   "source": [
    "print('Percentage of zero values in the Price column', len(df[df['Price'] == 0]) / len(df['Price']) * 100)\n",
    "print('Percentage of zero values in the Power column', len(df[df['Power'] == 0]) / len(df['Power']) * 100)"
   ]
  },
  {
   "cell_type": "markdown",
   "metadata": {},
   "source": [
    "I will clean these features from zero values."
   ]
  },
  {
   "cell_type": "code",
   "execution_count": 23,
   "metadata": {},
   "outputs": [],
   "source": [
    "df = df[(df['Price'] != 0) & (df['Power'] != 0)]"
   ]
  },
  {
   "cell_type": "markdown",
   "metadata": {},
   "source": [
    "Next, I will write a function that will return the boundaries of normal values for the features."
   ]
  },
  {
   "cell_type": "code",
   "execution_count": 24,
   "metadata": {},
   "outputs": [],
   "source": [
    "# Create a function with one parameter\n",
    "\n",
    "def normal_range(column):\n",
    "    \n",
    "    # Save the result of the describe() method to a variable\n",
    "    \n",
    "    value = df[column].describe()\n",
    "    \n",
    "    # Calculate the interquartile range\n",
    "    \n",
    "    iqr = value[6] - value[4]  \n",
    "    \n",
    "    # Range boundaries\n",
    "    \n",
    "    min = value[4] - 1.5 * iqr\n",
    "    max = value[6] + 1.5 * iqr\n",
    "    if min < value[3]: \n",
    "        min = value[3] \n",
    "    if max > value[7]: \n",
    "        max = value[7]\n",
    "    \n",
    "    # Plot a histogram within the obtained range\n",
    "    \n",
    "    df.plot(\n",
    "        title = ('Histogram ' + column), \n",
    "        y = column,\n",
    "        kind = 'hist', \n",
    "        bins = 50, \n",
    "        grid = True, \n",
    "        range = ((min), (max)), \n",
    "        figsize = (10, 5)\n",
    "    )\n",
    "    \n",
    "    # Display the column characteristics\n",
    "    \n",
    "    print('Boundaries of normal values for the feature {}: ({:.2f}, {:.2f})'.format(\n",
    "            column, \n",
    "            min,\n",
    "            max))\n",
    "    display(df[[column]].describe())\n",
    "    return { 'column': column, 'normal_range': [min, max] }"
   ]
  },
  {
   "cell_type": "markdown",
   "metadata": {},
   "source": [
    "I will create an array to store the results of the function's work."
   ]
  },
  {
   "cell_type": "code",
   "execution_count": 25,
   "metadata": {},
   "outputs": [],
   "source": [
    "normal_ranges = []"
   ]
  },
  {
   "cell_type": "markdown",
   "metadata": {},
   "source": [
    "I will call the function for the `Price` feature and save it to the array."
   ]
  },
  {
   "cell_type": "code",
   "execution_count": 26,
   "metadata": {
    "scrolled": false
   },
   "outputs": [
    {
     "name": "stdout",
     "output_type": "stream",
     "text": [
      "Boundaries of normal values for the feature Price: (1.00, 15425.00)\n"
     ]
    },
    {
     "data": {
      "text/html": [
       "<div>\n",
       "<style scoped>\n",
       "    .dataframe tbody tr th:only-of-type {\n",
       "        vertical-align: middle;\n",
       "    }\n",
       "\n",
       "    .dataframe tbody tr th {\n",
       "        vertical-align: top;\n",
       "    }\n",
       "\n",
       "    .dataframe thead th {\n",
       "        text-align: right;\n",
       "    }\n",
       "</style>\n",
       "<table border=\"1\" class=\"dataframe\">\n",
       "  <thead>\n",
       "    <tr style=\"text-align: right;\">\n",
       "      <th></th>\n",
       "      <th>Price</th>\n",
       "    </tr>\n",
       "  </thead>\n",
       "  <tbody>\n",
       "    <tr>\n",
       "      <th>count</th>\n",
       "      <td>307237.000000</td>\n",
       "    </tr>\n",
       "    <tr>\n",
       "      <th>mean</th>\n",
       "      <td>4809.847098</td>\n",
       "    </tr>\n",
       "    <tr>\n",
       "      <th>std</th>\n",
       "      <td>4586.524359</td>\n",
       "    </tr>\n",
       "    <tr>\n",
       "      <th>min</th>\n",
       "      <td>1.000000</td>\n",
       "    </tr>\n",
       "    <tr>\n",
       "      <th>25%</th>\n",
       "      <td>1300.000000</td>\n",
       "    </tr>\n",
       "    <tr>\n",
       "      <th>50%</th>\n",
       "      <td>3100.000000</td>\n",
       "    </tr>\n",
       "    <tr>\n",
       "      <th>75%</th>\n",
       "      <td>6950.000000</td>\n",
       "    </tr>\n",
       "    <tr>\n",
       "      <th>max</th>\n",
       "      <td>20000.000000</td>\n",
       "    </tr>\n",
       "  </tbody>\n",
       "</table>\n",
       "</div>"
      ],
      "text/plain": [
       "               Price\n",
       "count  307237.000000\n",
       "mean     4809.847098\n",
       "std      4586.524359\n",
       "min         1.000000\n",
       "25%      1300.000000\n",
       "50%      3100.000000\n",
       "75%      6950.000000\n",
       "max     20000.000000"
      ]
     },
     "metadata": {},
     "output_type": "display_data"
    },
    {
     "data": {
      "image/png": "[encoded data removed]",
      "text/plain": [
       "<Figure size 1000x500 with 1 Axes>"
      ]
     },
     "metadata": {},
     "output_type": "display_data"
    }
   ],
   "source": [
    "normal_ranges.append(normal_range('Price'))"
   ]
  },
  {
   "cell_type": "markdown",
   "metadata": {},
   "source": [
    "For the `RegistrationYear` column:"
   ]
  },
  {
   "cell_type": "code",
   "execution_count": 27,
   "metadata": {},
   "outputs": [
    {
     "name": "stdout",
     "output_type": "stream",
     "text": [
      "Boundaries of normal values for the feature RegistrationYear: (1985.50, 2021.50)\n"
     ]
    },
    {
     "data": {
      "text/html": [
       "<div>\n",
       "<style scoped>\n",
       "    .dataframe tbody tr th:only-of-type {\n",
       "        vertical-align: middle;\n",
       "    }\n",
       "\n",
       "    .dataframe tbody tr th {\n",
       "        vertical-align: top;\n",
       "    }\n",
       "\n",
       "    .dataframe thead th {\n",
       "        text-align: right;\n",
       "    }\n",
       "</style>\n",
       "<table border=\"1\" class=\"dataframe\">\n",
       "  <thead>\n",
       "    <tr style=\"text-align: right;\">\n",
       "      <th></th>\n",
       "      <th>RegistrationYear</th>\n",
       "    </tr>\n",
       "  </thead>\n",
       "  <tbody>\n",
       "    <tr>\n",
       "      <th>count</th>\n",
       "      <td>307237.000000</td>\n",
       "    </tr>\n",
       "    <tr>\n",
       "      <th>mean</th>\n",
       "      <td>2003.524549</td>\n",
       "    </tr>\n",
       "    <tr>\n",
       "      <th>std</th>\n",
       "      <td>33.641250</td>\n",
       "    </tr>\n",
       "    <tr>\n",
       "      <th>min</th>\n",
       "      <td>1000.000000</td>\n",
       "    </tr>\n",
       "    <tr>\n",
       "      <th>25%</th>\n",
       "      <td>1999.000000</td>\n",
       "    </tr>\n",
       "    <tr>\n",
       "      <th>50%</th>\n",
       "      <td>2003.000000</td>\n",
       "    </tr>\n",
       "    <tr>\n",
       "      <th>75%</th>\n",
       "      <td>2008.000000</td>\n",
       "    </tr>\n",
       "    <tr>\n",
       "      <th>max</th>\n",
       "      <td>9999.000000</td>\n",
       "    </tr>\n",
       "  </tbody>\n",
       "</table>\n",
       "</div>"
      ],
      "text/plain": [
       "       RegistrationYear\n",
       "count     307237.000000\n",
       "mean        2003.524549\n",
       "std           33.641250\n",
       "min         1000.000000\n",
       "25%         1999.000000\n",
       "50%         2003.000000\n",
       "75%         2008.000000\n",
       "max         9999.000000"
      ]
     },
     "metadata": {},
     "output_type": "display_data"
    },
    {
     "data": {
      "image/png": "[encoded data removed]",
      "text/plain": [
       "<Figure size 1000x500 with 1 Axes>"
      ]
     },
     "metadata": {},
     "output_type": "display_data"
    }
   ],
   "source": [
    "normal_ranges.append(normal_range('RegistrationYear'))"
   ]
  },
  {
   "cell_type": "markdown",
   "metadata": {},
   "source": [
    "For the `Power` column:"
   ]
  },
  {
   "cell_type": "code",
   "execution_count": 28,
   "metadata": {},
   "outputs": [
    {
     "name": "stdout",
     "output_type": "stream",
     "text": [
      "Boundaries of normal values for the feature Power: (1.00, 262.50)\n"
     ]
    },
    {
     "data": {
      "text/html": [
       "<div>\n",
       "<style scoped>\n",
       "    .dataframe tbody tr th:only-of-type {\n",
       "        vertical-align: middle;\n",
       "    }\n",
       "\n",
       "    .dataframe tbody tr th {\n",
       "        vertical-align: top;\n",
       "    }\n",
       "\n",
       "    .dataframe thead th {\n",
       "        text-align: right;\n",
       "    }\n",
       "</style>\n",
       "<table border=\"1\" class=\"dataframe\">\n",
       "  <thead>\n",
       "    <tr style=\"text-align: right;\">\n",
       "      <th></th>\n",
       "      <th>Power</th>\n",
       "    </tr>\n",
       "  </thead>\n",
       "  <tbody>\n",
       "    <tr>\n",
       "      <th>count</th>\n",
       "      <td>307237.000000</td>\n",
       "    </tr>\n",
       "    <tr>\n",
       "      <th>mean</th>\n",
       "      <td>124.136523</td>\n",
       "    </tr>\n",
       "    <tr>\n",
       "      <th>std</th>\n",
       "      <td>194.861419</td>\n",
       "    </tr>\n",
       "    <tr>\n",
       "      <th>min</th>\n",
       "      <td>1.000000</td>\n",
       "    </tr>\n",
       "    <tr>\n",
       "      <th>25%</th>\n",
       "      <td>75.000000</td>\n",
       "    </tr>\n",
       "    <tr>\n",
       "      <th>50%</th>\n",
       "      <td>110.000000</td>\n",
       "    </tr>\n",
       "    <tr>\n",
       "      <th>75%</th>\n",
       "      <td>150.000000</td>\n",
       "    </tr>\n",
       "    <tr>\n",
       "      <th>max</th>\n",
       "      <td>20000.000000</td>\n",
       "    </tr>\n",
       "  </tbody>\n",
       "</table>\n",
       "</div>"
      ],
      "text/plain": [
       "               Power\n",
       "count  307237.000000\n",
       "mean      124.136523\n",
       "std       194.861419\n",
       "min         1.000000\n",
       "25%        75.000000\n",
       "50%       110.000000\n",
       "75%       150.000000\n",
       "max     20000.000000"
      ]
     },
     "metadata": {},
     "output_type": "display_data"
    },
    {
     "data": {
      "image/png": "[encoded data removed]",
      "text/plain": [
       "<Figure size 1000x500 with 1 Axes>"
      ]
     },
     "metadata": {},
     "output_type": "display_data"
    }
   ],
   "source": [
    "normal_ranges.append(normal_range('Power'))"
   ]
  },
  {
   "cell_type": "markdown",
   "metadata": {},
   "source": [
    "I will exclude rows with anomalous data in the analyzed features:"
   ]
  },
  {
   "cell_type": "code",
   "execution_count": 29,
   "metadata": {},
   "outputs": [
    {
     "name": "stdout",
     "output_type": "stream",
     "text": [
      "(307237, 11)\n",
      "(284768, 11)\n"
     ]
    }
   ],
   "source": [
    "# Display the size of the original sample\n",
    "\n",
    "print(df.shape)\n",
    "\n",
    "# Iterate through the features with normal values using a loop and exclude rows with anomalous data\n",
    "\n",
    "for column_range in normal_ranges:\n",
    "    df = df[(df[column_range['column']] >= column_range['normal_range'][0]) \\\n",
    "                                    & (df[column_range['column']] <= column_range['normal_range'][1])]\n",
    "    \n",
    "# Display the size of the sample after excluding anomalous values\n",
    "    \n",
    "print(df.shape)"
   ]
  },
  {
   "cell_type": "markdown",
   "metadata": {},
   "source": [
    "Anomalies in the columns have been processed, and we can now proceed to prepare datasets for model training."
   ]
  },
  {
   "cell_type": "markdown",
   "metadata": {},
   "source": [
    "## Model Training"
   ]
  },
  {
   "cell_type": "markdown",
   "metadata": {},
   "source": [
    "### Preparing datasets for model training"
   ]
  },
  {
   "cell_type": "markdown",
   "metadata": {},
   "source": [
    "I will extract the categorical features."
   ]
  },
  {
   "cell_type": "code",
   "execution_count": 30,
   "metadata": {},
   "outputs": [],
   "source": [
    "categorical  = ['VehicleType', 'Gearbox', 'Model', 'RegistrationMonth', 'FuelType', 'Brand', 'Repaired']"
   ]
  },
  {
   "cell_type": "markdown",
   "metadata": {},
   "source": [
    "I will create variables for features and target features."
   ]
  },
  {
   "cell_type": "code",
   "execution_count": 31,
   "metadata": {},
   "outputs": [],
   "source": [
    "features = df.drop(columns=['Price'])\n",
    "target = df['Price']"
   ]
  },
  {
   "cell_type": "markdown",
   "metadata": {},
   "source": [
    "I will split the dataset into training and testing sets using the train_test_split() function in an 80:20 ratio."
   ]
  },
  {
   "cell_type": "code",
   "execution_count": 32,
   "metadata": {},
   "outputs": [],
   "source": [
    "features_train, features_test, target_train, target_test = train_test_split(features, target, \\\n",
    "                                                                            test_size=0.2, \\\n",
    "                                                                            random_state=RANDOM_STATE)"
   ]
  },
  {
   "cell_type": "markdown",
   "metadata": {},
   "source": [
    "The datasets are prepared, and now I can proceed to the next step - model training."
   ]
  },
  {
   "cell_type": "markdown",
   "metadata": {},
   "source": [
    "### Training models"
   ]
  },
  {
   "cell_type": "markdown",
   "metadata": {},
   "source": [
    "I will train the gradient boosting models: LightGBM, XGBRegressor, CatBoost, and the linear model LinearRegression (sometimes simpler models work better).\n",
    "\n",
    "Before starting the model training, it is necessary to encode the categorical features and scale the numerical features. For the linear regression model, I will use OneHotEncoder for encoding categorical features and StandardScaler for numerical features. For the gradient boosting models, I will use ordinal encoding for the Model feature, which has a large number of unique values, and OneHotEncoder for encoding the other categorical features."
   ]
  },
  {
   "cell_type": "code",
   "execution_count": 33,
   "metadata": {},
   "outputs": [],
   "source": [
    "features_train_boosting = features_train.copy()\n",
    "features_test_boosting = features_test.copy()"
   ]
  },
  {
   "cell_type": "code",
   "execution_count": 34,
   "metadata": {},
   "outputs": [],
   "source": [
    "features_train_linear = features_train.copy()\n",
    "features_test_linear = features_test.copy()"
   ]
  },
  {
   "cell_type": "markdown",
   "metadata": {},
   "source": [
    "I will save the categorical features separately for OneHotEncoder for the linear model and gradient boosting models."
   ]
  },
  {
   "cell_type": "code",
   "execution_count": 35,
   "metadata": {},
   "outputs": [
    {
     "name": "stdout",
     "output_type": "stream",
     "text": [
      "['VehicleType', 'Gearbox', 'Model', 'FuelType', 'Brand', 'Repaired']\n"
     ]
    },
    {
     "data": {
      "text/plain": [
       "['VehicleType', 'Gearbox', 'FuelType', 'Brand', 'Repaired']"
      ]
     },
     "execution_count": 35,
     "metadata": {},
     "output_type": "execute_result"
    }
   ],
   "source": [
    "# Categorical features for OHE linear\n",
    "\n",
    "ohe_features_linear = features_train.copy().select_dtypes(include='object').columns.to_list()\n",
    "print(ohe_features_linear)\n",
    "\n",
    "# Categorical features for OHE boosting\n",
    "\n",
    "ohe_features_boosting = ohe_features_linear.copy()\n",
    "ohe_features_boosting.remove('Model')\n",
    "ohe_features_boosting"
   ]
  },
  {
   "cell_type": "markdown",
   "metadata": {},
   "source": [
    "I will save the numerical features for StandardScaler."
   ]
  },
  {
   "cell_type": "code",
   "execution_count": 36,
   "metadata": {},
   "outputs": [
    {
     "data": {
      "text/plain": [
       "['RegistrationYear', 'Power', 'Kilometer', 'RegistrationMonth']"
      ]
     },
     "execution_count": 36,
     "metadata": {},
     "output_type": "execute_result"
    }
   ],
   "source": [
    "# Numerical features\n",
    "\n",
    "num_features = features_train.select_dtypes(exclude='object').columns.to_list()\n",
    "num_features"
   ]
  },
  {
   "cell_type": "markdown",
   "metadata": {},
   "source": [
    "To transform our data, I will use the make_column_transformer function, which allows creating a composition of different transformations for different data columns."
   ]
  },
  {
   "cell_type": "code",
   "execution_count": 37,
   "metadata": {},
   "outputs": [],
   "source": [
    "col_transformer_boosting = make_column_transformer(\n",
    "    (\n",
    "        OneHotEncoder(handle_unknown='ignore'), \n",
    "        ohe_features_boosting\n",
    "    ),\n",
    "    (\n",
    "        OrdinalEncoder(handle_unknown='use_encoded_value', unknown_value=-1), \n",
    "        ['Model']\n",
    "    ),\n",
    "    (\n",
    "        StandardScaler(), \n",
    "        num_features\n",
    "    ),\n",
    "    remainder='passthrough'\n",
    ")"
   ]
  },
  {
   "cell_type": "markdown",
   "metadata": {},
   "source": [
    "#### LightGBM"
   ]
  },
  {
   "cell_type": "code",
   "execution_count": 38,
   "metadata": {},
   "outputs": [],
   "source": [
    "# Create a dictionary of model parameters for GridSearchCV\n",
    "\n",
    "params = {\n",
    "    \"lgbmregressor__learning_rate\": [0.05, 0.1, 0.2],\n",
    "    \"lgbmregressor__n_estimators\": [50, 70, 100]\n",
    "}"
   ]
  },
  {
   "cell_type": "markdown",
   "metadata": {},
   "source": [
    "Using the make_pipeline function, I will create a pipeline of passed transformation and model objects, and then perform a grid search for model and transformation hyperparameters."
   ]
  },
  {
   "cell_type": "code",
   "execution_count": 39,
   "metadata": {},
   "outputs": [
    {
     "name": "stdout",
     "output_type": "stream",
     "text": [
      "Training time: 1.0689959526062012\n",
      "Prediction time: 0.09088826179504395\n",
      "RMSE: -1373.3983719403227\n"
     ]
    }
   ],
   "source": [
    "# Create the LightGBM model\n",
    "\n",
    "model_lgb = lgb.LGBMRegressor(random_state=RANDOM_STATE)\n",
    "\n",
    "# Call the make_pipeline function\n",
    "\n",
    "pipeline_lgb = make_pipeline(col_transformer_boosting, model_lgb)\n",
    "\n",
    "# Use GridSearchCV to find the best parameters\n",
    "\n",
    "grid = GridSearchCV(pipeline_lgb, param_grid=params, scoring=\"neg_root_mean_squared_error\")\n",
    "grid.fit(features_train_boosting, target_train)\n",
    "\n",
    "# Display the best parameters\n",
    "\n",
    "print(\"Best parameters:\", grid.best_params_)\n",
    "\n",
    "# Calculate the RMSE\n",
    "\n",
    "rmse = grid.best_score_\n",
    "\n",
    "# Time taken to train the model with the best parameters on the entire dataset\n",
    "\n",
    "print(\"The number of seconds used for refitting the best model on the whole dataset: \", grid.refit_time_)\n",
    "\n",
    "# Train the model with the best parameters\n",
    "\n",
    "start_time = time.time()\n",
    "model_lgb = lgb.LGBMRegressor(learning_rate=grid.best_params_[\"lgbmregressor__learning_rate\"], \n",
    "                              n_estimators=grid.best_params_[\"lgbmregressor__n_estimators\"],\n",
    "                              random_state=RANDOM_STATE)\n",
    "pipeline_lgb.fit(features_train_boosting, target_train)\n",
    "training_time = time.time() - start_time\n",
    "\n",
    "# Make predictions on the test set\n",
    "\n",
    "start_time = time.time()\n",
    "y_pred = pipeline_lgb.predict(features_test_boosting)\n",
    "prediction_time = time.time() - start_time\n",
    "\n",
    "# Display the results\n",
    "\n",
    "print(\"Training time:\", training_time)\n",
    "print(\"Prediction time:\", prediction_time)\n",
    "print(\"RMSE:\", rmse)"
   ]
  },
  {
   "cell_type": "markdown",
   "metadata": {},
   "source": [
    "#### XGBRegressor"
   ]
  },
  {
   "cell_type": "code",
   "execution_count": 40,
   "metadata": {},
   "outputs": [],
   "source": [
    "# Create a dictionary of model parameters for GridSearchCV\n",
    "\n",
    "param_grid = {\n",
    "    \"xgbregressor__n_estimators\": [50, 100, 150],\n",
    "    \"xgbregressor__max_depth\": [2, 4, 6]\n",
    "}"
   ]
  },
  {
   "cell_type": "code",
   "execution_count": 41,
   "metadata": {
    "scrolled": true
   },
   "outputs": [
    {
     "name": "stdout",
     "output_type": "stream",
     "text": [
      "Best parameters: {'xgbregressor__max_depth': 6, 'xgbregressor__n_estimators': 150}\n",
      "The number of seconds used for refitting the best model on the whole dataset:  4.806525945663452\n",
      "Training time: 3.31036114692688\n",
      "Prediction time: 0.07216000556945801\n",
      "RMSE: -1331.2267120231168\n"
     ]
    }
   ],
   "source": [
    "# Create the XGBRegressor model\n",
    "\n",
    "model_xgbr = XGBRegressor(random_state=RANDOM_STATE)\n",
    "\n",
    "# Call the make_pipeline function\n",
    "\n",
    "pipeline_xgbr = make_pipeline(col_transformer_boosting, model_xgbr)\n",
    "\n",
    "# Use GridSearchCV to find the best parameters\n",
    "\n",
    "grid_search = GridSearchCV(pipeline_xgbr, param_grid, scoring=\"neg_root_mean_squared_error\")\n",
    "grid_search.fit(features_train_boosting, target_train)\n",
    "\n",
    "# Display the best parameters\n",
    "\n",
    "print(\"Best parameters:\", grid_search.best_params_)\n",
    "\n",
    "# Calculate the RMSE\n",
    "\n",
    "rmse_xgbr = grid_search.best_score_\n",
    "\n",
    "# Time taken to train the model with the best parameters on the entire dataset\n",
    "\n",
    "print(\"The number of seconds used for refitting the best model on the whole dataset: \", grid_search.refit_time_)\n",
    "\n",
    "# Train the model with the best parameters\n",
    "\n",
    "start_time = time.time()\n",
    "model_xgbr = XGBRegressor(n_estimators=grid_search.best_params_[\"xgbregressor__n_estimators\"], \\\n",
    "                          max_depth=grid_search.best_params_[\"xgbregressor__max_depth\"], n_jobs=-1,\n",
    "                          random_state=RANDOM_STATE)\n",
    "pipeline_xgbr.fit(features_train_boosting, target_train)\n",
    "training_time_xgbr = time.time() - start_time\n",
    "\n",
    "# Make predictions on the test set\n",
    "\n",
    "start_time = time.time()\n",
    "y_pred_xgbr = pipeline_xgbr.predict(features_test_boosting)\n",
    "prediction_time_xgbr = time.time() - start_time\n",
    "\n",
    "# Display the results\n",
    "\n",
    "print(\"Training time:\", training_time_xgbr)\n",
    "print(\"Prediction time:\", prediction_time_xgbr)\n",
    "print(\"RMSE:\", rmse_xgbr)"
   ]
  },
  {
   "cell_type": "markdown",
   "metadata": {},
   "source": [
    "#### CatBoost"
   ]
  },
  {
   "cell_type": "code",
   "execution_count": 42,
   "metadata": {},
   "outputs": [],
   "source": [
    "# Create a dictionary of model parameters for GridSearchCV\n",
    "\n",
    "param_grid = {\n",
    "    \"catboostregressor__depth\": [6, 8, 10],\n",
    "    \"catboostregressor__iterations\": [10, 50, 70]\n",
    "}"
   ]
  },
  {
   "cell_type": "code",
   "execution_count": 43,
   "metadata": {},
   "outputs": [
    {
     "name": "stdout",
     "output_type": "stream",
     "text": [
      "Training time: 4.800843715667725\n",
      "Prediction time: 0.06978011131286621\n",
      "RMSE: 0.8638921133348001\n"
     ]
    }
   ],
   "source": [
    "# Create the CatBoostRegressor model\n",
    "\n",
    "model_catb = CatBoostRegressor(random_state=RANDOM_STATE)\n",
    "\n",
    "# Call the make_pipeline function\n",
    "\n",
    "pipeline_catb = make_pipeline(col_transformer_boosting, model_catb)\n",
    "\n",
    "# Use GridSearchCV to find the best parameters\n",
    "\n",
    "grid_search_catb = GridSearchCV(pipeline_catb, param_grid, cv=3, n_jobs=-1, verbose=1)\n",
    "grid_search_catb.fit(features_train_boosting, target_train)\n",
    "\n",
    "# Display the best parameters\n",
    "\n",
    "print(\"Best parameters:\", grid_search_catb.best_params_)\n",
    "\n",
    "# Calculate the RMSE\n",
    "\n",
    "rmse_catb = grid_search_catb.best_score_\n",
    "\n",
    "# Time taken to train the model with the best parameters on the entire dataset\n",
    "\n",
    "print(\"The number of seconds used for refitting the best model on the whole dataset: \", \\\n",
    "      grid_search_catb.refit_time_)\n",
    "\n",
    "# Train the model with the best parameters\n",
    "\n",
    "start_time = time.time()\n",
    "model_catb = CatBoostRegressor(depth=grid_search_catb.best_params_[\"catboostregressor__depth\"], \\\n",
    "                               iterations=grid_search_catb.best_params_[\"catboostregressor__iterations\"],\n",
    "                               random_state=RANDOM_STATE)\n",
    "pipeline_catb.fit(features_train_boosting, target_train)\n",
    "training_time_catb = time.time() - start_time\n",
    "\n",
    "# Make predictions on the test set\n",
    "\n",
    "start_time = time.time()\n",
    "y_pred_catb = pipeline_catb.predict(features_test_boosting)\n",
    "prediction_time_catb = time.time() - start_time\n",
    "\n",
    "# Display the results\n",
    "\n",
    "print(\"Training time:\", training_time_catb)\n",
    "print(\"Prediction time:\", prediction_time_catb)\n",
    "print(\"RMSE:\", rmse_catb)"
   ]
  },
  {
   "cell_type": "markdown",
   "metadata": {},
   "source": [
    "#### LinearRegression"
   ]
  },
  {
   "cell_type": "code",
   "execution_count": 44,
   "metadata": {},
   "outputs": [],
   "source": [
    "col_transformer_linear = make_column_transformer(\n",
    "    (\n",
    "        OneHotEncoder(handle_unknown='ignore', sparse=False), \n",
    "        ohe_features_linear\n",
    "    ),\n",
    "    (\n",
    "        StandardScaler(), \n",
    "        num_features\n",
    "    ),\n",
    "    remainder='passthrough',\n",
    "    verbose_feature_names_out=False\n",
    ")"
   ]
  },
  {
   "cell_type": "code",
   "execution_count": 45,
   "metadata": {},
   "outputs": [],
   "source": [
    "# Create a dictionary of model parameters for GridSearchCV\n",
    "\n",
    "param_grid_linear = {\"linearregression__fit_intercept\": [True, False]}"
   ]
  },
  {
   "cell_type": "code",
   "execution_count": 46,
   "metadata": {},
   "outputs": [
    {
     "name": "stdout",
     "output_type": "stream",
     "text": [
      "Best parameters: {'linearregression__fit_intercept': True}\n",
      "Training time: 3.8146708011627197\n",
      "Prediction time: 0.12286996841430664\n",
      "RMSE: -3077912600.3881226\n"
     ]
    }
   ],
   "source": [
    "# Create the LinearRegression model\n",
    "\n",
    "model_linear = LinearRegression()\n",
    "\n",
    "# Call the make_pipeline function\n",
    "\n",
    "pipeline_linear = make_pipeline(col_transformer_linear, model_linear)\n",
    "\n",
    "# Use GridSearchCV to find the best parameters\n",
    "\n",
    "grid_search_linear = GridSearchCV(pipeline_linear, param_grid_linear, scoring=\"neg_root_mean_squared_error\")\n",
    "grid_search_linear.fit(features_train_linear, target_train)\n",
    "\n",
    "# Display the best parameters\n",
    "\n",
    "print(\"Best parameters:\", grid_search_linear.best_params_)\n",
    "\n",
    "# Calculate the RMSE\n",
    "\n",
    "rmse_linear = grid_search_linear.best_score_\n",
    "\n",
    "# Train the model with the best parameters\n",
    "\n",
    "start_time = time.time()\n",
    "model_linear = LinearRegression(fit_intercept=grid_search_linear.best_params_[\"linearregression__fit_intercept\"])\n",
    "pipeline_linear.fit(features_train_boosting, target_train)\n",
    "training_time_linear = time.time() - start_time\n",
    "\n",
    "# Make predictions on the test set\n",
    "\n",
    "start_time = time.time()\n",
    "y_pred_linear = pipeline_linear.predict(features_test_boosting)\n",
    "prediction_time_linear = time.time() - start_time\n",
    "\n",
    "# Display the results\n",
    "\n",
    "print(\"Training time:\", training_time_linear)\n",
    "print(\"Prediction time:\", prediction_time_linear)\n",
    "print(\"RMSE:\", rmse_linear)"
   ]
  },
  {
   "cell_type": "markdown",
   "metadata": {},
   "source": [
    "## Model Analysis"
   ]
  },
  {
   "cell_type": "code",
   "execution_count": 47,
   "metadata": {
    "scrolled": true
   },
   "outputs": [
    {
     "data": {
      "text/html": [
       "<div>\n",
       "<style scoped>\n",
       "    .dataframe tbody tr th:only-of-type {\n",
       "        vertical-align: middle;\n",
       "    }\n",
       "\n",
       "    .dataframe tbody tr th {\n",
       "        vertical-align: top;\n",
       "    }\n",
       "\n",
       "    .dataframe thead th {\n",
       "        text-align: right;\n",
       "    }\n",
       "</style>\n",
       "<table border=\"1\" class=\"dataframe\">\n",
       "  <thead>\n",
       "    <tr style=\"text-align: right;\">\n",
       "      <th></th>\n",
       "      <th>Prediction Quality (RMSE)</th>\n",
       "      <th>Model Training Time</th>\n",
       "      <th>Model Prediction Time</th>\n",
       "    </tr>\n",
       "  </thead>\n",
       "  <tbody>\n",
       "    <tr>\n",
       "      <th>LightGBM</th>\n",
       "      <td>-1.373398e+03</td>\n",
       "      <td>1.068996</td>\n",
       "      <td>0.090888</td>\n",
       "    </tr>\n",
       "    <tr>\n",
       "      <th>XGBRegressor</th>\n",
       "      <td>-1.331227e+03</td>\n",
       "      <td>3.310361</td>\n",
       "      <td>0.072160</td>\n",
       "    </tr>\n",
       "    <tr>\n",
       "      <th>CatBoost</th>\n",
       "      <td>8.638921e-01</td>\n",
       "      <td>4.800844</td>\n",
       "      <td>0.069780</td>\n",
       "    </tr>\n",
       "    <tr>\n",
       "      <th>LinearRegression</th>\n",
       "      <td>-3.077913e+09</td>\n",
       "      <td>3.814671</td>\n",
       "      <td>0.122870</td>\n",
       "    </tr>\n",
       "  </tbody>\n",
       "</table>\n",
       "</div>"
      ],
      "text/plain": [
       "                  Prediction Quality (RMSE)  Model Training Time  \\\n",
       "LightGBM                      -1.373398e+03             1.068996   \n",
       "XGBRegressor                  -1.331227e+03             3.310361   \n",
       "CatBoost                       8.638921e-01             4.800844   \n",
       "LinearRegression              -3.077913e+09             3.814671   \n",
       "\n",
       "                  Model Prediction Time  \n",
       "LightGBM                       0.090888  \n",
       "XGBRegressor                   0.072160  \n",
       "CatBoost                       0.069780  \n",
       "LinearRegression               0.122870  "
      ]
     },
     "metadata": {},
     "output_type": "display_data"
    }
   ],
   "source": [
    "results = pd.DataFrame(\n",
    "    {'Prediction Quality (RMSE)' : [rmse, rmse_xgbr, rmse_catb, rmse_linear],\n",
    "     'Model Training Time' : [training_time, training_time_xgbr, training_time_catb, training_time_linear],\n",
    "     'Model Prediction Time' : [prediction_time, prediction_time_xgbr, prediction_time_catb, \\\n",
    "                                prediction_time_linear]\n",
    "    })\n",
    "\n",
    "results.index = ['LightGBM', 'XGBRegressor', 'CatBoost', 'LinearRegression']\n",
    "\n",
    "# Display the table on the screen\n",
    "\n",
    "display(results)"
   ]
  },
  {
   "cell_type": "markdown",
   "metadata": {},
   "source": [
    "## Conclusion"
   ]
  },
  {
   "cell_type": "markdown",
   "metadata": {},
   "source": [
    "The following work has been conducted during the research:\n",
    "\n",
    "✔️ Data was examined.\n",
    "\n",
    "✔️ Non-informative columns were removed.\n",
    "\n",
    "✔️ Missing values were filled.\n",
    "\n",
    "✔️ Anomalous values in features were removed.\n",
    "\n",
    "✔️ Datasets were prepared for model training.\n",
    "\n",
    "✔️ Four models were trained: LightGBM, XGBRegressor, CatBoost, LinearRegression.\n",
    "\n",
    "✔️ The training time, prediction time, and model quality were analyzed:\n",
    "* For the **LightGBM** model, the model quality is (-1373), training time is 1.068, and prediction time is 0.0909.\n",
    "* For the **XGBRegressor** model, the model quality is (-1331), training time is 3.310, and prediction time is 0.0722.\n",
    "* For the **CatBoost** model, the model quality is 0.863, training time is 4.8, and prediction time is 0.0697.\n",
    "* For the **LinearRegression** model, the model quality is (-3077912600), training time is 3.815, and prediction time is 0.1229.\n",
    "\n",
    "Based on the obtained results, it can be concluded that **the best model** for determining the price of a car is **CatBoost**."
   ]
  }
 ],
 "metadata": {
  "ExecuteTimeLog": [
   {
    "duration": 1562,
    "start_time": "2023-01-29T19:52:09.854Z"
   },
   {
    "duration": 5,
    "start_time": "2023-01-29T19:52:33.850Z"
   },
   {
    "duration": 4,
    "start_time": "2023-01-29T19:52:43.508Z"
   },
   {
    "duration": 110,
    "start_time": "2023-01-29T19:53:55.815Z"
   },
   {
    "duration": 36,
    "start_time": "2023-01-29T19:54:17.854Z"
   },
   {
    "duration": 3,
    "start_time": "2023-01-29T19:54:18.197Z"
   },
   {
    "duration": 1218,
    "start_time": "2023-01-29T19:54:58.957Z"
   },
   {
    "duration": 282,
    "start_time": "2023-01-29T19:59:16.525Z"
   },
   {
    "duration": 3,
    "start_time": "2023-01-29T19:59:17.004Z"
   },
   {
    "duration": 1002,
    "start_time": "2023-01-29T19:59:18.244Z"
   },
   {
    "duration": 23,
    "start_time": "2023-01-29T20:05:11.139Z"
   },
   {
    "duration": 131,
    "start_time": "2023-01-29T20:06:00.148Z"
   },
   {
    "duration": 90,
    "start_time": "2023-01-29T20:06:13.124Z"
   },
   {
    "duration": 951,
    "start_time": "2023-01-29T20:06:23.341Z"
   },
   {
    "duration": 15,
    "start_time": "2023-01-29T20:12:14.277Z"
   },
   {
    "duration": 22,
    "start_time": "2023-01-29T20:12:35.252Z"
   },
   {
    "duration": 1449,
    "start_time": "2023-01-29T20:12:51.568Z"
   },
   {
    "duration": 3,
    "start_time": "2023-01-29T20:12:53.019Z"
   },
   {
    "duration": 781,
    "start_time": "2023-01-29T20:12:53.024Z"
   },
   {
    "duration": 15,
    "start_time": "2023-01-29T20:12:53.807Z"
   },
   {
    "duration": 31,
    "start_time": "2023-01-29T20:12:53.824Z"
   },
   {
    "duration": 69,
    "start_time": "2023-01-29T20:12:53.856Z"
   },
   {
    "duration": 74,
    "start_time": "2023-01-29T20:12:53.927Z"
   },
   {
    "duration": 712,
    "start_time": "2023-01-29T20:12:54.002Z"
   },
   {
    "duration": 118,
    "start_time": "2023-01-29T20:24:28.629Z"
   },
   {
    "duration": 6,
    "start_time": "2023-01-29T20:24:47.342Z"
   },
   {
    "duration": 517,
    "start_time": "2023-01-29T20:24:51.022Z"
   },
   {
    "duration": 78,
    "start_time": "2023-01-29T20:26:42.273Z"
   },
   {
    "duration": 102,
    "start_time": "2023-01-29T20:26:51.307Z"
   },
   {
    "duration": 81,
    "start_time": "2023-01-29T20:45:25.207Z"
   },
   {
    "duration": 19,
    "start_time": "2023-01-29T20:56:33.814Z"
   },
   {
    "duration": 159,
    "start_time": "2023-01-29T20:59:47.278Z"
   },
   {
    "duration": 53,
    "start_time": "2023-01-29T21:09:56.042Z"
   },
   {
    "duration": 1965,
    "start_time": "2023-01-29T21:10:00.722Z"
   },
   {
    "duration": 2,
    "start_time": "2023-01-29T21:10:02.689Z"
   },
   {
    "duration": 1142,
    "start_time": "2023-01-29T21:10:02.693Z"
   },
   {
    "duration": 18,
    "start_time": "2023-01-29T21:10:03.837Z"
   },
   {
    "duration": 23,
    "start_time": "2023-01-29T21:10:03.856Z"
   },
   {
    "duration": 96,
    "start_time": "2023-01-29T21:10:03.880Z"
   },
   {
    "duration": 136,
    "start_time": "2023-01-29T21:10:03.988Z"
   },
   {
    "duration": 107,
    "start_time": "2023-01-29T21:10:04.127Z"
   },
   {
    "duration": 761,
    "start_time": "2023-01-29T21:10:04.236Z"
   },
   {
    "duration": 890,
    "start_time": "2023-01-29T21:10:04.999Z"
   },
   {
    "duration": 0,
    "start_time": "2023-01-29T21:10:05.890Z"
   },
   {
    "duration": 0,
    "start_time": "2023-01-29T21:10:05.891Z"
   },
   {
    "duration": 20,
    "start_time": "2023-01-29T21:12:32.921Z"
   },
   {
    "duration": 362693,
    "start_time": "2023-01-29T21:12:33.630Z"
   },
   {
    "duration": 1007,
    "start_time": "2023-01-29T21:20:54.047Z"
   },
   {
    "duration": 9116,
    "start_time": "2023-01-29T21:22:41.373Z"
   },
   {
    "duration": 17,
    "start_time": "2023-01-29T21:23:23.092Z"
   },
   {
    "duration": 992,
    "start_time": "2023-01-29T21:23:24.086Z"
   },
   {
    "duration": 487,
    "start_time": "2023-01-29T21:23:34.543Z"
   },
   {
    "duration": 1200,
    "start_time": "2023-01-29T21:24:18.622Z"
   },
   {
    "duration": 1041,
    "start_time": "2023-01-29T21:24:26.164Z"
   },
   {
    "duration": 1069,
    "start_time": "2023-01-29T21:24:37.625Z"
   },
   {
    "duration": 1292,
    "start_time": "2023-01-29T21:26:15.481Z"
   },
   {
    "duration": 1492,
    "start_time": "2023-01-29T21:26:28.625Z"
   },
   {
    "duration": 1478,
    "start_time": "2023-01-29T21:26:38.442Z"
   },
   {
    "duration": 1036,
    "start_time": "2023-01-29T21:26:53.032Z"
   },
   {
    "duration": 1242,
    "start_time": "2023-01-29T21:30:50.924Z"
   },
   {
    "duration": 330,
    "start_time": "2023-01-29T21:42:45.324Z"
   },
   {
    "duration": 2100,
    "start_time": "2023-01-29T21:42:51.325Z"
   },
   {
    "duration": 4,
    "start_time": "2023-01-29T21:43:03.293Z"
   },
   {
    "duration": 1927,
    "start_time": "2023-01-29T21:43:36.655Z"
   },
   {
    "duration": 1971,
    "start_time": "2023-01-29T21:43:50.584Z"
   },
   {
    "duration": 2001,
    "start_time": "2023-01-29T21:44:03.160Z"
   },
   {
    "duration": 162,
    "start_time": "2023-01-29T21:47:35.625Z"
   },
   {
    "duration": 1168,
    "start_time": "2023-01-29T21:48:46.606Z"
   },
   {
    "duration": 1070,
    "start_time": "2023-01-29T21:48:54.404Z"
   },
   {
    "duration": 1154,
    "start_time": "2023-01-29T21:49:01.121Z"
   },
   {
    "duration": 1006,
    "start_time": "2023-01-29T21:51:03.758Z"
   },
   {
    "duration": 1119,
    "start_time": "2023-01-29T21:51:20.736Z"
   },
   {
    "duration": 1927,
    "start_time": "2023-01-29T21:51:55.339Z"
   },
   {
    "duration": 1883,
    "start_time": "2023-01-29T21:52:17.252Z"
   },
   {
    "duration": 2205,
    "start_time": "2023-01-29T21:52:42.585Z"
   },
   {
    "duration": 2061,
    "start_time": "2023-01-29T21:53:55.679Z"
   },
   {
    "duration": 1112,
    "start_time": "2023-01-29T21:54:45.190Z"
   },
   {
    "duration": 208,
    "start_time": "2023-01-29T22:02:11.344Z"
   },
   {
    "duration": 760,
    "start_time": "2023-01-29T22:04:21.485Z"
   },
   {
    "duration": 6,
    "start_time": "2023-01-29T22:04:33.258Z"
   },
   {
    "duration": 14,
    "start_time": "2023-01-29T22:04:45.046Z"
   },
   {
    "duration": 91,
    "start_time": "2023-01-29T22:06:06.193Z"
   },
   {
    "duration": 98,
    "start_time": "2023-01-29T22:06:14.325Z"
   },
   {
    "duration": 765,
    "start_time": "2023-01-29T22:06:26.569Z"
   },
   {
    "duration": 1517,
    "start_time": "2023-01-29T22:07:45.240Z"
   },
   {
    "duration": 3,
    "start_time": "2023-01-29T22:07:46.760Z"
   },
   {
    "duration": 857,
    "start_time": "2023-01-29T22:07:46.764Z"
   },
   {
    "duration": 16,
    "start_time": "2023-01-29T22:07:47.623Z"
   },
   {
    "duration": 27,
    "start_time": "2023-01-29T22:07:47.642Z"
   },
   {
    "duration": 107,
    "start_time": "2023-01-29T22:07:47.671Z"
   },
   {
    "duration": 144,
    "start_time": "2023-01-29T22:07:47.780Z"
   },
   {
    "duration": 109,
    "start_time": "2023-01-29T22:07:47.928Z"
   },
   {
    "duration": 800,
    "start_time": "2023-01-29T22:07:48.038Z"
   },
   {
    "duration": 114,
    "start_time": "2023-01-29T22:07:48.839Z"
   },
   {
    "duration": 122,
    "start_time": "2023-01-29T22:07:48.954Z"
   },
   {
    "duration": 716,
    "start_time": "2023-01-29T22:07:49.077Z"
   },
   {
    "duration": 26,
    "start_time": "2023-01-29T22:07:49.794Z"
   },
   {
    "duration": 1019,
    "start_time": "2023-01-29T22:07:49.822Z"
   },
   {
    "duration": 544,
    "start_time": "2023-01-29T22:07:50.843Z"
   },
   {
    "duration": 81,
    "start_time": "2023-01-29T22:08:26.477Z"
   },
   {
    "duration": 10,
    "start_time": "2023-01-29T22:12:56.100Z"
   },
   {
    "duration": 5,
    "start_time": "2023-01-29T22:13:29.231Z"
   },
   {
    "duration": 3,
    "start_time": "2023-01-29T22:13:44.161Z"
   },
   {
    "duration": 353,
    "start_time": "2023-01-29T22:14:31.281Z"
   },
   {
    "duration": 138,
    "start_time": "2023-01-29T22:15:14.117Z"
   },
   {
    "duration": 35,
    "start_time": "2023-01-29T22:15:21.786Z"
   },
   {
    "duration": 344,
    "start_time": "2023-01-29T22:16:23.638Z"
   },
   {
    "duration": 307,
    "start_time": "2023-01-29T22:16:40.013Z"
   },
   {
    "duration": 81,
    "start_time": "2023-01-29T22:16:41.361Z"
   },
   {
    "duration": 1780,
    "start_time": "2023-01-30T12:05:02.803Z"
   },
   {
    "duration": 3,
    "start_time": "2023-01-30T12:05:04.585Z"
   },
   {
    "duration": 3029,
    "start_time": "2023-01-30T12:05:04.589Z"
   },
   {
    "duration": 17,
    "start_time": "2023-01-30T12:05:07.620Z"
   },
   {
    "duration": 47,
    "start_time": "2023-01-30T12:05:07.639Z"
   },
   {
    "duration": 146,
    "start_time": "2023-01-30T12:05:07.688Z"
   },
   {
    "duration": 132,
    "start_time": "2023-01-30T12:05:07.836Z"
   },
   {
    "duration": 103,
    "start_time": "2023-01-30T12:05:07.970Z"
   },
   {
    "duration": 781,
    "start_time": "2023-01-30T12:05:08.075Z"
   },
   {
    "duration": 132,
    "start_time": "2023-01-30T12:05:08.858Z"
   },
   {
    "duration": 87,
    "start_time": "2023-01-30T12:05:08.992Z"
   },
   {
    "duration": 223,
    "start_time": "2023-01-30T12:05:09.080Z"
   },
   {
    "duration": 682,
    "start_time": "2023-01-30T12:05:09.304Z"
   },
   {
    "duration": 12,
    "start_time": "2023-01-30T12:05:09.988Z"
   },
   {
    "duration": 1089,
    "start_time": "2023-01-30T12:05:10.001Z"
   },
   {
    "duration": 491,
    "start_time": "2023-01-30T12:05:11.091Z"
   },
   {
    "duration": 6,
    "start_time": "2023-01-30T12:05:11.584Z"
   },
   {
    "duration": 62,
    "start_time": "2023-01-30T12:05:11.593Z"
   },
   {
    "duration": 340,
    "start_time": "2023-01-30T12:05:11.657Z"
   },
   {
    "duration": 310,
    "start_time": "2023-01-30T12:05:11.999Z"
   },
   {
    "duration": 304,
    "start_time": "2023-01-30T12:05:12.310Z"
   },
   {
    "duration": 82,
    "start_time": "2023-01-30T12:05:12.616Z"
   },
   {
    "duration": 4,
    "start_time": "2023-01-30T12:42:33.563Z"
   },
   {
    "duration": 8,
    "start_time": "2023-01-30T12:43:05.179Z"
   },
   {
    "duration": 18,
    "start_time": "2023-01-30T12:43:48.507Z"
   },
   {
    "duration": 23,
    "start_time": "2023-01-30T12:44:23.237Z"
   },
   {
    "duration": 1473,
    "start_time": "2023-01-30T12:44:29.504Z"
   },
   {
    "duration": 2,
    "start_time": "2023-01-30T12:44:30.979Z"
   },
   {
    "duration": 822,
    "start_time": "2023-01-30T12:44:30.983Z"
   },
   {
    "duration": 15,
    "start_time": "2023-01-30T12:44:31.807Z"
   },
   {
    "duration": 43,
    "start_time": "2023-01-30T12:44:31.825Z"
   },
   {
    "duration": 102,
    "start_time": "2023-01-30T12:44:31.870Z"
   },
   {
    "duration": 138,
    "start_time": "2023-01-30T12:44:31.974Z"
   },
   {
    "duration": 107,
    "start_time": "2023-01-30T12:44:32.113Z"
   },
   {
    "duration": 813,
    "start_time": "2023-01-30T12:44:32.221Z"
   },
   {
    "duration": 125,
    "start_time": "2023-01-30T12:44:33.036Z"
   },
   {
    "duration": 88,
    "start_time": "2023-01-30T12:44:33.163Z"
   },
   {
    "duration": 108,
    "start_time": "2023-01-30T12:44:33.254Z"
   },
   {
    "duration": 676,
    "start_time": "2023-01-30T12:44:33.364Z"
   },
   {
    "duration": 18,
    "start_time": "2023-01-30T12:44:34.043Z"
   },
   {
    "duration": 1156,
    "start_time": "2023-01-30T12:44:34.064Z"
   },
   {
    "duration": 585,
    "start_time": "2023-01-30T12:44:35.222Z"
   },
   {
    "duration": 17,
    "start_time": "2023-01-30T12:44:35.809Z"
   },
   {
    "duration": 36,
    "start_time": "2023-01-30T12:44:35.827Z"
   },
   {
    "duration": 5,
    "start_time": "2023-01-30T12:44:35.865Z"
   },
   {
    "duration": 14,
    "start_time": "2023-01-30T12:44:35.871Z"
   },
   {
    "duration": 376,
    "start_time": "2023-01-30T12:44:35.886Z"
   },
   {
    "duration": 312,
    "start_time": "2023-01-30T12:44:36.263Z"
   },
   {
    "duration": 301,
    "start_time": "2023-01-30T12:44:36.577Z"
   },
   {
    "duration": 85,
    "start_time": "2023-01-30T12:44:36.880Z"
   },
   {
    "duration": 1467,
    "start_time": "2023-01-30T12:52:08.184Z"
   },
   {
    "duration": 3,
    "start_time": "2023-01-30T12:52:09.653Z"
   },
   {
    "duration": 869,
    "start_time": "2023-01-30T12:52:09.658Z"
   },
   {
    "duration": 26,
    "start_time": "2023-01-30T12:52:10.529Z"
   },
   {
    "duration": 37,
    "start_time": "2023-01-30T12:52:10.557Z"
   },
   {
    "duration": 118,
    "start_time": "2023-01-30T12:52:10.596Z"
   },
   {
    "duration": 149,
    "start_time": "2023-01-30T12:52:10.717Z"
   },
   {
    "duration": 125,
    "start_time": "2023-01-30T12:52:10.868Z"
   },
   {
    "duration": 864,
    "start_time": "2023-01-30T12:52:10.995Z"
   },
   {
    "duration": 128,
    "start_time": "2023-01-30T12:52:11.862Z"
   },
   {
    "duration": 90,
    "start_time": "2023-01-30T12:52:11.991Z"
   },
   {
    "duration": 123,
    "start_time": "2023-01-30T12:52:12.083Z"
   },
   {
    "duration": 730,
    "start_time": "2023-01-30T12:52:12.207Z"
   },
   {
    "duration": 12,
    "start_time": "2023-01-30T12:52:12.943Z"
   },
   {
    "duration": 1392,
    "start_time": "2023-01-30T13:10:17.090Z"
   },
   {
    "duration": 3,
    "start_time": "2023-01-30T13:10:18.484Z"
   },
   {
    "duration": 751,
    "start_time": "2023-01-30T13:10:18.489Z"
   },
   {
    "duration": 16,
    "start_time": "2023-01-30T13:10:19.243Z"
   },
   {
    "duration": 26,
    "start_time": "2023-01-30T13:10:19.262Z"
   },
   {
    "duration": 138,
    "start_time": "2023-01-30T13:10:19.290Z"
   },
   {
    "duration": 128,
    "start_time": "2023-01-30T13:10:19.430Z"
   },
   {
    "duration": 121,
    "start_time": "2023-01-30T13:10:19.560Z"
   },
   {
    "duration": 768,
    "start_time": "2023-01-30T13:10:19.683Z"
   },
   {
    "duration": 123,
    "start_time": "2023-01-30T13:10:20.453Z"
   },
   {
    "duration": 88,
    "start_time": "2023-01-30T13:10:20.578Z"
   },
   {
    "duration": 118,
    "start_time": "2023-01-30T13:10:20.668Z"
   },
   {
    "duration": 663,
    "start_time": "2023-01-30T13:10:20.788Z"
   },
   {
    "duration": 11,
    "start_time": "2023-01-30T13:10:21.453Z"
   },
   {
    "duration": 1007,
    "start_time": "2023-01-30T13:10:21.465Z"
   },
   {
    "duration": 564,
    "start_time": "2023-01-30T13:10:22.473Z"
   },
   {
    "duration": 17,
    "start_time": "2023-01-30T13:10:23.039Z"
   },
   {
    "duration": 28,
    "start_time": "2023-01-30T13:10:23.057Z"
   },
   {
    "duration": 5,
    "start_time": "2023-01-30T13:10:23.087Z"
   },
   {
    "duration": 20,
    "start_time": "2023-01-30T13:10:23.093Z"
   },
   {
    "duration": 325,
    "start_time": "2023-01-30T13:10:23.115Z"
   },
   {
    "duration": 338,
    "start_time": "2023-01-30T13:10:23.444Z"
   },
   {
    "duration": 326,
    "start_time": "2023-01-30T13:10:23.783Z"
   },
   {
    "duration": 75,
    "start_time": "2023-01-30T13:10:24.111Z"
   },
   {
    "duration": 67,
    "start_time": "2023-01-30T13:27:35.788Z"
   },
   {
    "duration": 1538,
    "start_time": "2023-01-30T13:27:41.225Z"
   },
   {
    "duration": 3,
    "start_time": "2023-01-30T13:27:42.766Z"
   },
   {
    "duration": 768,
    "start_time": "2023-01-30T13:27:42.770Z"
   },
   {
    "duration": 23,
    "start_time": "2023-01-30T13:27:43.543Z"
   },
   {
    "duration": 20,
    "start_time": "2023-01-30T13:27:43.568Z"
   },
   {
    "duration": 169,
    "start_time": "2023-01-30T13:27:43.590Z"
   },
   {
    "duration": 127,
    "start_time": "2023-01-30T13:27:43.761Z"
   },
   {
    "duration": 106,
    "start_time": "2023-01-30T13:27:43.890Z"
   },
   {
    "duration": 910,
    "start_time": "2023-01-30T13:27:43.997Z"
   },
   {
    "duration": 150,
    "start_time": "2023-01-30T13:27:44.911Z"
   },
   {
    "duration": 85,
    "start_time": "2023-01-30T13:27:45.062Z"
   },
   {
    "duration": 102,
    "start_time": "2023-01-30T13:27:45.149Z"
   },
   {
    "duration": 723,
    "start_time": "2023-01-30T13:27:45.253Z"
   },
   {
    "duration": 11,
    "start_time": "2023-01-30T13:27:45.978Z"
   },
   {
    "duration": 1017,
    "start_time": "2023-01-30T13:27:45.991Z"
   },
   {
    "duration": 534,
    "start_time": "2023-01-30T13:27:47.010Z"
   },
   {
    "duration": 16,
    "start_time": "2023-01-30T13:27:47.546Z"
   },
   {
    "duration": 37,
    "start_time": "2023-01-30T13:27:47.564Z"
   },
   {
    "duration": 10,
    "start_time": "2023-01-30T13:27:47.603Z"
   },
   {
    "duration": 14,
    "start_time": "2023-01-30T13:27:47.615Z"
   },
   {
    "duration": 359,
    "start_time": "2023-01-30T13:27:47.631Z"
   },
   {
    "duration": 318,
    "start_time": "2023-01-30T13:27:47.992Z"
   },
   {
    "duration": 376,
    "start_time": "2023-01-30T13:27:48.311Z"
   },
   {
    "duration": 73,
    "start_time": "2023-01-30T13:27:48.689Z"
   },
   {
    "duration": 13,
    "start_time": "2023-01-30T13:34:13.533Z"
   },
   {
    "duration": 57,
    "start_time": "2023-01-30T13:35:02.684Z"
   },
   {
    "duration": 2,
    "start_time": "2023-01-30T13:42:54.481Z"
   },
   {
    "duration": 3,
    "start_time": "2023-01-30T13:43:59.392Z"
   },
   {
    "duration": 2,
    "start_time": "2023-01-30T13:45:20.063Z"
   },
   {
    "duration": 12,
    "start_time": "2023-01-30T13:46:46.097Z"
   },
   {
    "duration": 3,
    "start_time": "2023-01-30T14:14:44.713Z"
   },
   {
    "duration": 1723,
    "start_time": "2023-01-30T17:32:28.581Z"
   },
   {
    "duration": 4,
    "start_time": "2023-01-30T17:32:30.307Z"
   },
   {
    "duration": 1237,
    "start_time": "2023-01-30T17:32:30.313Z"
   },
   {
    "duration": 19,
    "start_time": "2023-01-30T17:32:31.552Z"
   },
   {
    "duration": 45,
    "start_time": "2023-01-30T17:32:31.573Z"
   },
   {
    "duration": 115,
    "start_time": "2023-01-30T17:32:31.620Z"
   },
   {
    "duration": 229,
    "start_time": "2023-01-30T17:32:31.737Z"
   },
   {
    "duration": 93,
    "start_time": "2023-01-30T17:32:31.967Z"
   },
   {
    "duration": 837,
    "start_time": "2023-01-30T17:32:32.062Z"
   },
   {
    "duration": 108,
    "start_time": "2023-01-30T17:32:32.901Z"
   },
   {
    "duration": 71,
    "start_time": "2023-01-30T17:32:33.011Z"
   },
   {
    "duration": 130,
    "start_time": "2023-01-30T17:32:33.083Z"
   },
   {
    "duration": 727,
    "start_time": "2023-01-30T17:32:33.215Z"
   },
   {
    "duration": 12,
    "start_time": "2023-01-30T17:32:33.945Z"
   },
   {
    "duration": 1047,
    "start_time": "2023-01-30T17:32:33.958Z"
   },
   {
    "duration": 629,
    "start_time": "2023-01-30T17:32:35.007Z"
   },
   {
    "duration": 17,
    "start_time": "2023-01-30T17:32:35.638Z"
   },
   {
    "duration": 46,
    "start_time": "2023-01-30T17:32:35.656Z"
   },
   {
    "duration": 5,
    "start_time": "2023-01-30T17:32:35.704Z"
   },
   {
    "duration": 45,
    "start_time": "2023-01-30T17:32:35.711Z"
   },
   {
    "duration": 381,
    "start_time": "2023-01-30T17:32:35.757Z"
   },
   {
    "duration": 366,
    "start_time": "2023-01-30T17:32:36.140Z"
   },
   {
    "duration": 338,
    "start_time": "2023-01-30T17:32:36.508Z"
   },
   {
    "duration": 82,
    "start_time": "2023-01-30T17:32:36.848Z"
   },
   {
    "duration": 14,
    "start_time": "2023-01-30T17:32:36.932Z"
   },
   {
    "duration": 81,
    "start_time": "2023-01-30T17:32:36.948Z"
   },
   {
    "duration": 3,
    "start_time": "2023-01-30T17:32:37.031Z"
   },
   {
    "duration": 13,
    "start_time": "2023-01-30T17:32:37.035Z"
   },
   {
    "duration": 131,
    "start_time": "2023-01-30T17:32:37.050Z"
   },
   {
    "duration": 0,
    "start_time": "2023-01-30T17:32:37.182Z"
   },
   {
    "duration": 0,
    "start_time": "2023-01-30T17:32:37.183Z"
   },
   {
    "duration": 5641,
    "start_time": "2023-01-30T18:15:59.151Z"
   },
   {
    "duration": 4,
    "start_time": "2023-01-30T18:17:38.275Z"
   },
   {
    "duration": 5,
    "start_time": "2023-01-30T18:17:50.481Z"
   },
   {
    "duration": 5533,
    "start_time": "2023-01-30T18:17:58.644Z"
   },
   {
    "duration": 12,
    "start_time": "2023-01-30T19:21:27.916Z"
   },
   {
    "duration": 5355,
    "start_time": "2023-01-30T19:21:41.383Z"
   },
   {
    "duration": 13,
    "start_time": "2023-01-30T19:25:23.091Z"
   },
   {
    "duration": 42,
    "start_time": "2023-01-30T19:25:26.403Z"
   },
   {
    "duration": 18,
    "start_time": "2023-01-30T19:29:25.480Z"
   },
   {
    "duration": 13,
    "start_time": "2023-01-30T19:42:23.255Z"
   },
   {
    "duration": 1643,
    "start_time": "2023-01-30T19:43:18.997Z"
   },
   {
    "duration": 5,
    "start_time": "2023-01-30T19:43:20.643Z"
   },
   {
    "duration": 908,
    "start_time": "2023-01-30T19:43:20.652Z"
   },
   {
    "duration": 16,
    "start_time": "2023-01-30T19:43:21.562Z"
   },
   {
    "duration": 36,
    "start_time": "2023-01-30T19:43:21.580Z"
   },
   {
    "duration": 87,
    "start_time": "2023-01-30T19:43:21.618Z"
   },
   {
    "duration": 150,
    "start_time": "2023-01-30T19:43:21.707Z"
   },
   {
    "duration": 102,
    "start_time": "2023-01-30T19:43:21.859Z"
   },
   {
    "duration": 908,
    "start_time": "2023-01-30T19:43:21.963Z"
   },
   {
    "duration": 118,
    "start_time": "2023-01-30T19:43:22.873Z"
   },
   {
    "duration": 85,
    "start_time": "2023-01-30T19:43:22.993Z"
   },
   {
    "duration": 111,
    "start_time": "2023-01-30T19:43:23.080Z"
   },
   {
    "duration": 784,
    "start_time": "2023-01-30T19:43:23.193Z"
   },
   {
    "duration": 12,
    "start_time": "2023-01-30T19:43:23.979Z"
   },
   {
    "duration": 1123,
    "start_time": "2023-01-30T19:43:23.993Z"
   },
   {
    "duration": 563,
    "start_time": "2023-01-30T19:43:25.118Z"
   },
   {
    "duration": 15,
    "start_time": "2023-01-30T19:43:25.684Z"
   },
   {
    "duration": 46,
    "start_time": "2023-01-30T19:43:25.701Z"
   },
   {
    "duration": 6,
    "start_time": "2023-01-30T19:43:25.749Z"
   },
   {
    "duration": 18,
    "start_time": "2023-01-30T19:43:25.757Z"
   },
   {
    "duration": 388,
    "start_time": "2023-01-30T19:43:25.777Z"
   },
   {
    "duration": 423,
    "start_time": "2023-01-30T19:43:26.167Z"
   },
   {
    "duration": 364,
    "start_time": "2023-01-30T19:43:26.591Z"
   },
   {
    "duration": 87,
    "start_time": "2023-01-30T19:43:26.958Z"
   },
   {
    "duration": 14,
    "start_time": "2023-01-30T19:43:27.047Z"
   },
   {
    "duration": 72,
    "start_time": "2023-01-30T19:43:27.063Z"
   },
   {
    "duration": 17,
    "start_time": "2023-01-30T19:43:27.144Z"
   },
   {
    "duration": 19,
    "start_time": "2023-01-30T19:43:27.163Z"
   },
   {
    "duration": 7,
    "start_time": "2023-01-30T19:43:27.183Z"
   },
   {
    "duration": 154,
    "start_time": "2023-01-30T19:43:27.191Z"
   },
   {
    "duration": 0,
    "start_time": "2023-01-30T19:43:27.347Z"
   },
   {
    "duration": 0,
    "start_time": "2023-01-30T19:43:27.349Z"
   },
   {
    "duration": 0,
    "start_time": "2023-01-30T19:43:27.349Z"
   },
   {
    "duration": 0,
    "start_time": "2023-01-30T19:43:27.351Z"
   },
   {
    "duration": 0,
    "start_time": "2023-01-30T19:43:27.352Z"
   },
   {
    "duration": 3,
    "start_time": "2023-01-30T19:43:57.841Z"
   },
   {
    "duration": 4,
    "start_time": "2023-01-30T19:43:58.933Z"
   },
   {
    "duration": 49,
    "start_time": "2023-01-30T19:44:04.089Z"
   },
   {
    "duration": 185,
    "start_time": "2023-01-30T19:44:47.468Z"
   },
   {
    "duration": 1533,
    "start_time": "2023-01-30T21:27:16.088Z"
   },
   {
    "duration": 3,
    "start_time": "2023-01-30T21:27:17.623Z"
   },
   {
    "duration": 787,
    "start_time": "2023-01-30T21:27:17.628Z"
   },
   {
    "duration": 21,
    "start_time": "2023-01-30T21:27:18.417Z"
   },
   {
    "duration": 29,
    "start_time": "2023-01-30T21:27:18.440Z"
   },
   {
    "duration": 84,
    "start_time": "2023-01-30T21:27:18.471Z"
   },
   {
    "duration": 123,
    "start_time": "2023-01-30T21:27:18.557Z"
   },
   {
    "duration": 104,
    "start_time": "2023-01-30T21:27:18.682Z"
   },
   {
    "duration": 875,
    "start_time": "2023-01-30T21:27:18.788Z"
   },
   {
    "duration": 106,
    "start_time": "2023-01-30T21:27:19.666Z"
   },
   {
    "duration": 83,
    "start_time": "2023-01-30T21:27:19.774Z"
   },
   {
    "duration": 122,
    "start_time": "2023-01-30T21:27:19.859Z"
   },
   {
    "duration": 842,
    "start_time": "2023-01-30T21:27:19.983Z"
   },
   {
    "duration": 12,
    "start_time": "2023-01-30T21:27:20.827Z"
   },
   {
    "duration": 1066,
    "start_time": "2023-01-30T21:27:20.841Z"
   },
   {
    "duration": 557,
    "start_time": "2023-01-30T21:27:21.909Z"
   },
   {
    "duration": 17,
    "start_time": "2023-01-30T21:27:22.468Z"
   },
   {
    "duration": 40,
    "start_time": "2023-01-30T21:27:22.487Z"
   },
   {
    "duration": 5,
    "start_time": "2023-01-30T21:27:22.529Z"
   },
   {
    "duration": 17,
    "start_time": "2023-01-30T21:27:22.536Z"
   },
   {
    "duration": 375,
    "start_time": "2023-01-30T21:27:22.554Z"
   },
   {
    "duration": 343,
    "start_time": "2023-01-30T21:27:22.931Z"
   },
   {
    "duration": 317,
    "start_time": "2023-01-30T21:27:23.275Z"
   },
   {
    "duration": 76,
    "start_time": "2023-01-30T21:27:23.594Z"
   },
   {
    "duration": 13,
    "start_time": "2023-01-30T21:27:23.672Z"
   },
   {
    "duration": 74,
    "start_time": "2023-01-30T21:27:23.687Z"
   },
   {
    "duration": 3,
    "start_time": "2023-01-30T21:27:23.763Z"
   },
   {
    "duration": 8,
    "start_time": "2023-01-30T21:27:23.769Z"
   },
   {
    "duration": 151,
    "start_time": "2023-01-30T21:27:23.778Z"
   },
   {
    "duration": 21,
    "start_time": "2023-01-30T21:27:23.931Z"
   },
   {
    "duration": 14,
    "start_time": "2023-01-30T21:27:23.954Z"
   },
   {
    "duration": 8,
    "start_time": "2023-01-30T21:27:23.970Z"
   },
   {
    "duration": 21,
    "start_time": "2023-01-30T21:27:23.980Z"
   },
   {
    "duration": 22,
    "start_time": "2023-01-30T21:27:24.003Z"
   },
   {
    "duration": 6007,
    "start_time": "2023-01-30T21:39:22.786Z"
   },
   {
    "duration": 11,
    "start_time": "2023-01-30T21:41:09.970Z"
   },
   {
    "duration": 5,
    "start_time": "2023-01-30T21:41:49.504Z"
   },
   {
    "duration": 3,
    "start_time": "2023-01-30T21:41:56.567Z"
   },
   {
    "duration": 5608,
    "start_time": "2023-01-30T21:42:03.390Z"
   },
   {
    "duration": 18,
    "start_time": "2023-01-30T21:42:48.926Z"
   },
   {
    "duration": 5972,
    "start_time": "2023-01-30T21:48:58.666Z"
   },
   {
    "duration": 26,
    "start_time": "2023-01-30T22:07:40.934Z"
   },
   {
    "duration": 733,
    "start_time": "2023-01-30T22:08:30.996Z"
   },
   {
    "duration": 533,
    "start_time": "2023-01-30T22:13:24.859Z"
   },
   {
    "duration": 297052,
    "start_time": "2023-01-30T22:13:52.782Z"
   },
   {
    "duration": 1525,
    "start_time": "2023-01-30T22:38:00.048Z"
   },
   {
    "duration": 2,
    "start_time": "2023-01-30T22:38:01.575Z"
   },
   {
    "duration": 832,
    "start_time": "2023-01-30T22:38:01.579Z"
   },
   {
    "duration": 18,
    "start_time": "2023-01-30T22:38:02.413Z"
   },
   {
    "duration": 41,
    "start_time": "2023-01-30T22:38:02.433Z"
   },
   {
    "duration": 96,
    "start_time": "2023-01-30T22:38:02.475Z"
   },
   {
    "duration": 119,
    "start_time": "2023-01-30T22:38:02.573Z"
   },
   {
    "duration": 190,
    "start_time": "2023-01-30T22:38:02.694Z"
   },
   {
    "duration": 805,
    "start_time": "2023-01-30T22:38:02.886Z"
   },
   {
    "duration": 110,
    "start_time": "2023-01-30T22:38:03.693Z"
   },
   {
    "duration": 71,
    "start_time": "2023-01-30T22:38:03.804Z"
   },
   {
    "duration": 119,
    "start_time": "2023-01-30T22:38:03.877Z"
   },
   {
    "duration": 725,
    "start_time": "2023-01-30T22:38:03.998Z"
   },
   {
    "duration": 12,
    "start_time": "2023-01-30T22:38:04.728Z"
   },
   {
    "duration": 1047,
    "start_time": "2023-01-30T22:38:04.742Z"
   },
   {
    "duration": 532,
    "start_time": "2023-01-30T22:38:05.791Z"
   },
   {
    "duration": 17,
    "start_time": "2023-01-30T22:38:06.326Z"
   },
   {
    "duration": 58,
    "start_time": "2023-01-30T22:38:06.345Z"
   },
   {
    "duration": 8,
    "start_time": "2023-01-30T22:38:06.405Z"
   },
   {
    "duration": 27,
    "start_time": "2023-01-30T22:38:06.415Z"
   },
   {
    "duration": 373,
    "start_time": "2023-01-30T22:38:06.444Z"
   },
   {
    "duration": 345,
    "start_time": "2023-01-30T22:38:06.819Z"
   },
   {
    "duration": 317,
    "start_time": "2023-01-30T22:38:07.166Z"
   },
   {
    "duration": 69,
    "start_time": "2023-01-30T22:38:07.484Z"
   },
   {
    "duration": 3,
    "start_time": "2023-01-30T22:38:07.554Z"
   },
   {
    "duration": 649,
    "start_time": "2023-01-30T22:38:07.558Z"
   },
   {
    "duration": 183,
    "start_time": "2023-01-30T22:38:08.209Z"
   },
   {
    "duration": 270,
    "start_time": "2023-01-30T22:38:08.393Z"
   },
   {
    "duration": 3,
    "start_time": "2023-01-30T22:38:08.665Z"
   },
   {
    "duration": 9,
    "start_time": "2023-01-30T22:38:08.670Z"
   },
   {
    "duration": 14,
    "start_time": "2023-01-30T22:38:08.681Z"
   },
   {
    "duration": 18,
    "start_time": "2023-01-30T22:38:08.697Z"
   },
   {
    "duration": 18,
    "start_time": "2023-01-30T22:38:08.717Z"
   },
   {
    "duration": 55,
    "start_time": "2023-01-30T22:38:08.737Z"
   },
   {
    "duration": 3,
    "start_time": "2023-01-30T22:38:08.794Z"
   },
   {
    "duration": 26,
    "start_time": "2023-01-30T22:38:08.798Z"
   },
   {
    "duration": 324893,
    "start_time": "2023-01-30T22:38:08.826Z"
   },
   {
    "duration": 0,
    "start_time": "2023-01-30T22:43:33.721Z"
   },
   {
    "duration": 327661,
    "start_time": "2023-01-30T22:47:34.382Z"
   },
   {
    "duration": 11,
    "start_time": "2023-01-30T22:55:19.986Z"
   },
   {
    "duration": 14,
    "start_time": "2023-01-30T22:55:39.804Z"
   },
   {
    "duration": 66,
    "start_time": "2023-01-31T10:29:34.927Z"
   },
   {
    "duration": 1789,
    "start_time": "2023-01-31T10:29:44.302Z"
   },
   {
    "duration": 2,
    "start_time": "2023-01-31T10:29:46.094Z"
   },
   {
    "duration": 2979,
    "start_time": "2023-01-31T10:29:46.098Z"
   },
   {
    "duration": 17,
    "start_time": "2023-01-31T10:29:49.079Z"
   },
   {
    "duration": 36,
    "start_time": "2023-01-31T10:29:49.099Z"
   },
   {
    "duration": 139,
    "start_time": "2023-01-31T10:29:49.136Z"
   },
   {
    "duration": 84,
    "start_time": "2023-01-31T10:29:49.276Z"
   },
   {
    "duration": 832,
    "start_time": "2023-01-31T10:29:49.361Z"
   },
   {
    "duration": 12,
    "start_time": "2023-01-31T10:29:50.195Z"
   },
   {
    "duration": 1115,
    "start_time": "2023-01-31T10:29:50.210Z"
   },
   {
    "duration": 603,
    "start_time": "2023-01-31T10:29:51.327Z"
   },
   {
    "duration": 181,
    "start_time": "2023-01-31T10:29:51.932Z"
   },
   {
    "duration": 163,
    "start_time": "2023-01-31T10:29:52.116Z"
   },
   {
    "duration": 868,
    "start_time": "2023-01-31T10:29:52.281Z"
   },
   {
    "duration": 130,
    "start_time": "2023-01-31T10:29:53.150Z"
   },
   {
    "duration": 120,
    "start_time": "2023-01-31T10:29:53.282Z"
   },
   {
    "duration": 48,
    "start_time": "2023-01-31T10:29:53.404Z"
   },
   {
    "duration": 21,
    "start_time": "2023-01-31T10:29:53.453Z"
   },
   {
    "duration": 5,
    "start_time": "2023-01-31T10:29:53.476Z"
   },
   {
    "duration": 9,
    "start_time": "2023-01-31T10:29:53.483Z"
   },
   {
    "duration": 350,
    "start_time": "2023-01-31T10:29:53.494Z"
   },
   {
    "duration": 339,
    "start_time": "2023-01-31T10:29:53.848Z"
   },
   {
    "duration": 346,
    "start_time": "2023-01-31T10:29:54.189Z"
   },
   {
    "duration": 64,
    "start_time": "2023-01-31T10:29:54.537Z"
   },
   {
    "duration": 2,
    "start_time": "2023-01-31T10:29:54.603Z"
   },
   {
    "duration": 576,
    "start_time": "2023-01-31T10:29:54.607Z"
   },
   {
    "duration": 190,
    "start_time": "2023-01-31T10:29:55.184Z"
   },
   {
    "duration": 263,
    "start_time": "2023-01-31T10:29:55.379Z"
   },
   {
    "duration": 41,
    "start_time": "2023-01-31T10:29:55.644Z"
   },
   {
    "duration": 1226181,
    "start_time": "2023-01-31T10:29:55.686Z"
   },
   {
    "duration": 42,
    "start_time": "2023-01-31T10:50:21.948Z"
   },
   {
    "duration": 60,
    "start_time": "2023-01-31T19:11:00.751Z"
   },
   {
    "duration": 1948,
    "start_time": "2023-01-31T19:11:05.759Z"
   },
   {
    "duration": 3,
    "start_time": "2023-01-31T19:11:07.709Z"
   },
   {
    "duration": 3176,
    "start_time": "2023-01-31T19:11:07.713Z"
   },
   {
    "duration": 17,
    "start_time": "2023-01-31T19:11:10.890Z"
   },
   {
    "duration": 25,
    "start_time": "2023-01-31T19:11:10.909Z"
   },
   {
    "duration": 99,
    "start_time": "2023-01-31T19:11:10.935Z"
   },
   {
    "duration": 87,
    "start_time": "2023-01-31T19:11:11.036Z"
   },
   {
    "duration": 886,
    "start_time": "2023-01-31T19:11:11.125Z"
   },
   {
    "duration": 12,
    "start_time": "2023-01-31T19:11:12.012Z"
   },
   {
    "duration": 1083,
    "start_time": "2023-01-31T19:11:12.025Z"
   },
   {
    "duration": 525,
    "start_time": "2023-01-31T19:11:13.110Z"
   },
   {
    "duration": 160,
    "start_time": "2023-01-31T19:11:13.638Z"
   },
   {
    "duration": 124,
    "start_time": "2023-01-31T19:11:13.800Z"
   },
   {
    "duration": 956,
    "start_time": "2023-01-31T19:11:13.927Z"
   },
   {
    "duration": 153,
    "start_time": "2023-01-31T19:11:14.885Z"
   },
   {
    "duration": 109,
    "start_time": "2023-01-31T19:11:15.040Z"
   },
   {
    "duration": 80,
    "start_time": "2023-01-31T19:11:15.151Z"
   },
   {
    "duration": 50,
    "start_time": "2023-01-31T19:11:15.233Z"
   },
   {
    "duration": 6,
    "start_time": "2023-01-31T19:11:15.285Z"
   },
   {
    "duration": 15,
    "start_time": "2023-01-31T19:11:15.293Z"
   },
   {
    "duration": 398,
    "start_time": "2023-01-31T19:11:15.311Z"
   },
   {
    "duration": 368,
    "start_time": "2023-01-31T19:11:15.711Z"
   },
   {
    "duration": 352,
    "start_time": "2023-01-31T19:11:16.082Z"
   },
   {
    "duration": 77,
    "start_time": "2023-01-31T19:11:16.436Z"
   },
   {
    "duration": 3,
    "start_time": "2023-01-31T19:11:16.514Z"
   },
   {
    "duration": 644,
    "start_time": "2023-01-31T19:11:16.518Z"
   },
   {
    "duration": 195,
    "start_time": "2023-01-31T19:11:17.167Z"
   },
   {
    "duration": 295,
    "start_time": "2023-01-31T19:11:17.367Z"
   },
   {
    "duration": 48,
    "start_time": "2023-01-31T19:11:17.666Z"
   },
   {
    "duration": 1471272,
    "start_time": "2023-01-31T19:11:17.716Z"
   },
   {
    "duration": 89,
    "start_time": "2023-01-31T19:35:48.990Z"
   },
   {
    "duration": 3,
    "start_time": "2023-01-31T19:35:49.081Z"
   },
   {
    "duration": 2853123,
    "start_time": "2023-01-31T19:35:49.085Z"
   },
   {
    "duration": 0,
    "start_time": "2023-01-31T20:23:22.210Z"
   },
   {
    "duration": 0,
    "start_time": "2023-01-31T20:23:22.211Z"
   },
   {
    "duration": 0,
    "start_time": "2023-01-31T20:23:22.212Z"
   },
   {
    "duration": 1427,
    "start_time": "2023-01-31T21:56:11.555Z"
   },
   {
    "duration": 3,
    "start_time": "2023-01-31T21:56:12.983Z"
   },
   {
    "duration": 795,
    "start_time": "2023-01-31T21:56:12.987Z"
   },
   {
    "duration": 17,
    "start_time": "2023-01-31T21:56:13.784Z"
   },
   {
    "duration": 27,
    "start_time": "2023-01-31T21:56:13.802Z"
   },
   {
    "duration": 101,
    "start_time": "2023-01-31T21:56:13.831Z"
   },
   {
    "duration": 100,
    "start_time": "2023-01-31T21:56:13.933Z"
   },
   {
    "duration": 775,
    "start_time": "2023-01-31T21:56:14.035Z"
   },
   {
    "duration": 11,
    "start_time": "2023-01-31T21:56:14.811Z"
   },
   {
    "duration": 1170,
    "start_time": "2023-01-31T21:56:14.824Z"
   },
   {
    "duration": 427,
    "start_time": "2023-01-31T21:56:15.996Z"
   },
   {
    "duration": 125,
    "start_time": "2023-01-31T21:56:16.424Z"
   },
   {
    "duration": 104,
    "start_time": "2023-01-31T21:56:16.550Z"
   },
   {
    "duration": 830,
    "start_time": "2023-01-31T21:56:16.656Z"
   },
   {
    "duration": 120,
    "start_time": "2023-01-31T21:56:17.487Z"
   },
   {
    "duration": 84,
    "start_time": "2023-01-31T21:56:17.608Z"
   },
   {
    "duration": 74,
    "start_time": "2023-01-31T21:56:17.694Z"
   },
   {
    "duration": 29,
    "start_time": "2023-01-31T21:56:17.770Z"
   },
   {
    "duration": 6,
    "start_time": "2023-01-31T21:56:17.802Z"
   },
   {
    "duration": 12,
    "start_time": "2023-01-31T21:56:17.810Z"
   },
   {
    "duration": 379,
    "start_time": "2023-01-31T21:56:17.824Z"
   },
   {
    "duration": 329,
    "start_time": "2023-01-31T21:56:18.204Z"
   },
   {
    "duration": 280,
    "start_time": "2023-01-31T21:56:18.535Z"
   },
   {
    "duration": 73,
    "start_time": "2023-01-31T21:56:18.816Z"
   },
   {
    "duration": 3,
    "start_time": "2023-01-31T21:56:18.890Z"
   },
   {
    "duration": 562,
    "start_time": "2023-01-31T21:56:18.895Z"
   },
   {
    "duration": 183,
    "start_time": "2023-01-31T21:56:19.458Z"
   },
   {
    "duration": 255,
    "start_time": "2023-01-31T21:56:19.644Z"
   },
   {
    "duration": 41,
    "start_time": "2023-01-31T21:56:19.901Z"
   },
   {
    "duration": 2,
    "start_time": "2023-01-31T21:56:19.944Z"
   },
   {
    "duration": 116,
    "start_time": "2023-01-31T21:56:19.948Z"
   },
   {
    "duration": 0,
    "start_time": "2023-01-31T21:56:20.066Z"
   },
   {
    "duration": 0,
    "start_time": "2023-01-31T21:56:20.067Z"
   },
   {
    "duration": 0,
    "start_time": "2023-01-31T21:56:20.069Z"
   },
   {
    "duration": 0,
    "start_time": "2023-01-31T21:56:20.070Z"
   },
   {
    "duration": 0,
    "start_time": "2023-01-31T21:56:20.071Z"
   },
   {
    "duration": 0,
    "start_time": "2023-01-31T21:56:20.072Z"
   },
   {
    "duration": 0,
    "start_time": "2023-01-31T21:56:20.073Z"
   },
   {
    "duration": 0,
    "start_time": "2023-01-31T21:56:20.074Z"
   },
   {
    "duration": 1464,
    "start_time": "2023-01-31T21:57:31.932Z"
   },
   {
    "duration": 2,
    "start_time": "2023-01-31T21:57:33.398Z"
   },
   {
    "duration": 874,
    "start_time": "2023-01-31T21:57:33.401Z"
   },
   {
    "duration": 16,
    "start_time": "2023-01-31T21:57:34.277Z"
   },
   {
    "duration": 32,
    "start_time": "2023-01-31T21:57:34.294Z"
   },
   {
    "duration": 99,
    "start_time": "2023-01-31T21:57:34.327Z"
   },
   {
    "duration": 109,
    "start_time": "2023-01-31T21:57:34.428Z"
   },
   {
    "duration": 908,
    "start_time": "2023-01-31T21:57:34.539Z"
   },
   {
    "duration": 19,
    "start_time": "2023-01-31T21:57:35.449Z"
   },
   {
    "duration": 1175,
    "start_time": "2023-01-31T21:57:35.471Z"
   },
   {
    "duration": 427,
    "start_time": "2023-01-31T21:57:36.647Z"
   },
   {
    "duration": 129,
    "start_time": "2023-01-31T21:57:37.076Z"
   },
   {
    "duration": 106,
    "start_time": "2023-01-31T21:57:37.206Z"
   },
   {
    "duration": 804,
    "start_time": "2023-01-31T21:57:37.313Z"
   },
   {
    "duration": 126,
    "start_time": "2023-01-31T21:57:38.119Z"
   },
   {
    "duration": 88,
    "start_time": "2023-01-31T21:57:38.247Z"
   },
   {
    "duration": 72,
    "start_time": "2023-01-31T21:57:38.336Z"
   },
   {
    "duration": 27,
    "start_time": "2023-01-31T21:57:38.410Z"
   },
   {
    "duration": 5,
    "start_time": "2023-01-31T21:57:38.438Z"
   },
   {
    "duration": 7,
    "start_time": "2023-01-31T21:57:38.444Z"
   },
   {
    "duration": 317,
    "start_time": "2023-01-31T21:57:38.467Z"
   },
   {
    "duration": 334,
    "start_time": "2023-01-31T21:57:38.785Z"
   },
   {
    "duration": 292,
    "start_time": "2023-01-31T21:57:39.121Z"
   },
   {
    "duration": 75,
    "start_time": "2023-01-31T21:57:39.415Z"
   },
   {
    "duration": 3,
    "start_time": "2023-01-31T21:57:39.491Z"
   },
   {
    "duration": 553,
    "start_time": "2023-01-31T21:57:39.495Z"
   },
   {
    "duration": 185,
    "start_time": "2023-01-31T21:57:40.050Z"
   },
   {
    "duration": 258,
    "start_time": "2023-01-31T21:57:40.239Z"
   },
   {
    "duration": 39,
    "start_time": "2023-01-31T21:57:40.499Z"
   },
   {
    "duration": 2,
    "start_time": "2023-01-31T21:57:40.540Z"
   },
   {
    "duration": 265643,
    "start_time": "2023-01-31T21:57:40.544Z"
   },
   {
    "duration": 108,
    "start_time": "2023-01-31T22:02:06.189Z"
   },
   {
    "duration": 3,
    "start_time": "2023-01-31T22:02:06.299Z"
   },
   {
    "duration": 4188848,
    "start_time": "2023-01-31T22:02:06.303Z"
   },
   {
    "duration": 0,
    "start_time": "2023-01-31T23:11:55.153Z"
   },
   {
    "duration": 0,
    "start_time": "2023-01-31T23:11:55.154Z"
   },
   {
    "duration": 0,
    "start_time": "2023-01-31T23:11:55.166Z"
   },
   {
    "duration": 0,
    "start_time": "2023-01-31T23:11:55.168Z"
   },
   {
    "duration": 0,
    "start_time": "2023-01-31T23:11:55.169Z"
   },
   {
    "duration": 1607,
    "start_time": "2023-01-31T23:12:28.647Z"
   },
   {
    "duration": 3,
    "start_time": "2023-01-31T23:12:30.256Z"
   },
   {
    "duration": 863,
    "start_time": "2023-01-31T23:12:30.260Z"
   },
   {
    "duration": 17,
    "start_time": "2023-01-31T23:12:31.124Z"
   },
   {
    "duration": 30,
    "start_time": "2023-01-31T23:12:31.143Z"
   },
   {
    "duration": 98,
    "start_time": "2023-01-31T23:12:31.175Z"
   },
   {
    "duration": 64,
    "start_time": "2023-01-31T23:12:31.274Z"
   },
   {
    "duration": 775,
    "start_time": "2023-01-31T23:12:31.340Z"
   },
   {
    "duration": 11,
    "start_time": "2023-01-31T23:12:32.116Z"
   },
   {
    "duration": 969,
    "start_time": "2023-01-31T23:12:32.129Z"
   },
   {
    "duration": 455,
    "start_time": "2023-01-31T23:12:33.100Z"
   },
   {
    "duration": 127,
    "start_time": "2023-01-31T23:12:33.556Z"
   },
   {
    "duration": 112,
    "start_time": "2023-01-31T23:12:33.684Z"
   },
   {
    "duration": 770,
    "start_time": "2023-01-31T23:12:33.799Z"
   },
   {
    "duration": 126,
    "start_time": "2023-01-31T23:12:34.571Z"
   },
   {
    "duration": 85,
    "start_time": "2023-01-31T23:12:34.698Z"
   },
   {
    "duration": 68,
    "start_time": "2023-01-31T23:12:34.785Z"
   },
   {
    "duration": 33,
    "start_time": "2023-01-31T23:12:34.868Z"
   },
   {
    "duration": 5,
    "start_time": "2023-01-31T23:12:34.903Z"
   },
   {
    "duration": 10,
    "start_time": "2023-01-31T23:12:34.910Z"
   },
   {
    "duration": 365,
    "start_time": "2023-01-31T23:12:34.922Z"
   },
   {
    "duration": 355,
    "start_time": "2023-01-31T23:12:35.289Z"
   },
   {
    "duration": 345,
    "start_time": "2023-01-31T23:12:35.646Z"
   },
   {
    "duration": 75,
    "start_time": "2023-01-31T23:12:35.993Z"
   },
   {
    "duration": 3,
    "start_time": "2023-01-31T23:12:36.070Z"
   },
   {
    "duration": 573,
    "start_time": "2023-01-31T23:12:36.075Z"
   },
   {
    "duration": 187,
    "start_time": "2023-01-31T23:12:36.649Z"
   },
   {
    "duration": 271,
    "start_time": "2023-01-31T23:12:36.838Z"
   },
   {
    "duration": 40,
    "start_time": "2023-01-31T23:12:37.111Z"
   },
   {
    "duration": 13,
    "start_time": "2023-01-31T23:12:37.154Z"
   },
   {
    "duration": 1404,
    "start_time": "2023-01-31T23:13:02.224Z"
   },
   {
    "duration": 2,
    "start_time": "2023-01-31T23:13:03.630Z"
   },
   {
    "duration": 800,
    "start_time": "2023-01-31T23:13:03.634Z"
   },
   {
    "duration": 17,
    "start_time": "2023-01-31T23:13:04.436Z"
   },
   {
    "duration": 35,
    "start_time": "2023-01-31T23:13:04.454Z"
   },
   {
    "duration": 103,
    "start_time": "2023-01-31T23:13:04.491Z"
   },
   {
    "duration": 105,
    "start_time": "2023-01-31T23:13:04.595Z"
   },
   {
    "duration": 856,
    "start_time": "2023-01-31T23:13:04.702Z"
   },
   {
    "duration": 18,
    "start_time": "2023-01-31T23:13:05.561Z"
   },
   {
    "duration": 995,
    "start_time": "2023-01-31T23:13:05.582Z"
   },
   {
    "duration": 493,
    "start_time": "2023-01-31T23:13:06.580Z"
   },
   {
    "duration": 139,
    "start_time": "2023-01-31T23:13:07.075Z"
   },
   {
    "duration": 102,
    "start_time": "2023-01-31T23:13:07.216Z"
   },
   {
    "duration": 806,
    "start_time": "2023-01-31T23:13:07.320Z"
   },
   {
    "duration": 131,
    "start_time": "2023-01-31T23:13:08.128Z"
   },
   {
    "duration": 83,
    "start_time": "2023-01-31T23:13:08.261Z"
   },
   {
    "duration": 69,
    "start_time": "2023-01-31T23:13:08.346Z"
   },
   {
    "duration": 31,
    "start_time": "2023-01-31T23:13:08.416Z"
   },
   {
    "duration": 6,
    "start_time": "2023-01-31T23:13:08.448Z"
   },
   {
    "duration": 13,
    "start_time": "2023-01-31T23:13:08.455Z"
   },
   {
    "duration": 334,
    "start_time": "2023-01-31T23:13:08.469Z"
   },
   {
    "duration": 338,
    "start_time": "2023-01-31T23:13:08.805Z"
   },
   {
    "duration": 292,
    "start_time": "2023-01-31T23:13:09.144Z"
   },
   {
    "duration": 75,
    "start_time": "2023-01-31T23:13:09.437Z"
   },
   {
    "duration": 2,
    "start_time": "2023-01-31T23:13:09.514Z"
   },
   {
    "duration": 549,
    "start_time": "2023-01-31T23:13:09.517Z"
   },
   {
    "duration": 178,
    "start_time": "2023-01-31T23:13:10.067Z"
   },
   {
    "duration": 257,
    "start_time": "2023-01-31T23:13:10.248Z"
   },
   {
    "duration": 39,
    "start_time": "2023-01-31T23:13:10.507Z"
   },
   {
    "duration": 2,
    "start_time": "2023-01-31T23:13:10.548Z"
   },
   {
    "duration": 259532,
    "start_time": "2023-01-31T23:13:10.552Z"
   },
   {
    "duration": 113,
    "start_time": "2023-01-31T23:17:30.085Z"
   },
   {
    "duration": 3,
    "start_time": "2023-01-31T23:17:30.199Z"
   },
   {
    "duration": 1357,
    "start_time": "2023-01-31T23:28:21.406Z"
   },
   {
    "duration": 2,
    "start_time": "2023-01-31T23:28:22.765Z"
   },
   {
    "duration": 749,
    "start_time": "2023-01-31T23:28:22.768Z"
   },
   {
    "duration": 17,
    "start_time": "2023-01-31T23:28:23.520Z"
   },
   {
    "duration": 38,
    "start_time": "2023-01-31T23:28:23.539Z"
   },
   {
    "duration": 83,
    "start_time": "2023-01-31T23:28:23.579Z"
   },
   {
    "duration": 65,
    "start_time": "2023-01-31T23:28:23.667Z"
   },
   {
    "duration": 755,
    "start_time": "2023-01-31T23:28:23.734Z"
   },
   {
    "duration": 10,
    "start_time": "2023-01-31T23:28:24.491Z"
   },
   {
    "duration": 946,
    "start_time": "2023-01-31T23:28:24.503Z"
   },
   {
    "duration": 389,
    "start_time": "2023-01-31T23:28:25.450Z"
   },
   {
    "duration": 118,
    "start_time": "2023-01-31T23:28:25.841Z"
   },
   {
    "duration": 111,
    "start_time": "2023-01-31T23:28:25.961Z"
   },
   {
    "duration": 771,
    "start_time": "2023-01-31T23:28:26.073Z"
   },
   {
    "duration": 122,
    "start_time": "2023-01-31T23:28:26.846Z"
   },
   {
    "duration": 83,
    "start_time": "2023-01-31T23:28:26.969Z"
   },
   {
    "duration": 68,
    "start_time": "2023-01-31T23:28:27.053Z"
   },
   {
    "duration": 30,
    "start_time": "2023-01-31T23:28:27.123Z"
   },
   {
    "duration": 13,
    "start_time": "2023-01-31T23:28:27.155Z"
   },
   {
    "duration": 5,
    "start_time": "2023-01-31T23:28:27.169Z"
   },
   {
    "duration": 324,
    "start_time": "2023-01-31T23:28:27.175Z"
   },
   {
    "duration": 318,
    "start_time": "2023-01-31T23:28:27.501Z"
   },
   {
    "duration": 306,
    "start_time": "2023-01-31T23:28:27.820Z"
   },
   {
    "duration": 78,
    "start_time": "2023-01-31T23:28:28.128Z"
   },
   {
    "duration": 2,
    "start_time": "2023-01-31T23:28:28.208Z"
   },
   {
    "duration": 585,
    "start_time": "2023-01-31T23:28:28.212Z"
   },
   {
    "duration": 239,
    "start_time": "2023-01-31T23:28:28.798Z"
   },
   {
    "duration": 257,
    "start_time": "2023-01-31T23:28:29.041Z"
   },
   {
    "duration": 41,
    "start_time": "2023-01-31T23:28:29.299Z"
   },
   {
    "duration": 3,
    "start_time": "2023-01-31T23:28:29.341Z"
   },
   {
    "duration": 261642,
    "start_time": "2023-01-31T23:28:29.345Z"
   },
   {
    "duration": 112,
    "start_time": "2023-01-31T23:32:50.989Z"
   },
   {
    "duration": 3,
    "start_time": "2023-01-31T23:32:51.102Z"
   },
   {
    "duration": 1437,
    "start_time": "2023-01-31T23:36:05.099Z"
   },
   {
    "duration": 3,
    "start_time": "2023-01-31T23:36:06.537Z"
   },
   {
    "duration": 889,
    "start_time": "2023-01-31T23:36:06.541Z"
   },
   {
    "duration": 17,
    "start_time": "2023-01-31T23:36:07.432Z"
   },
   {
    "duration": 42,
    "start_time": "2023-01-31T23:36:07.451Z"
   },
   {
    "duration": 93,
    "start_time": "2023-01-31T23:36:07.495Z"
   },
   {
    "duration": 108,
    "start_time": "2023-01-31T23:36:07.589Z"
   },
   {
    "duration": 805,
    "start_time": "2023-01-31T23:36:07.698Z"
   },
   {
    "duration": 12,
    "start_time": "2023-01-31T23:36:08.505Z"
   },
   {
    "duration": 905,
    "start_time": "2023-01-31T23:36:08.519Z"
   },
   {
    "duration": 436,
    "start_time": "2023-01-31T23:36:09.426Z"
   },
   {
    "duration": 136,
    "start_time": "2023-01-31T23:36:09.867Z"
   },
   {
    "duration": 107,
    "start_time": "2023-01-31T23:36:10.005Z"
   },
   {
    "duration": 792,
    "start_time": "2023-01-31T23:36:10.113Z"
   },
   {
    "duration": 121,
    "start_time": "2023-01-31T23:36:10.907Z"
   },
   {
    "duration": 81,
    "start_time": "2023-01-31T23:36:11.030Z"
   },
   {
    "duration": 62,
    "start_time": "2023-01-31T23:36:11.112Z"
   },
   {
    "duration": 30,
    "start_time": "2023-01-31T23:36:11.176Z"
   },
   {
    "duration": 5,
    "start_time": "2023-01-31T23:36:11.208Z"
   },
   {
    "duration": 5,
    "start_time": "2023-01-31T23:36:11.214Z"
   },
   {
    "duration": 336,
    "start_time": "2023-01-31T23:36:11.220Z"
   },
   {
    "duration": 326,
    "start_time": "2023-01-31T23:36:11.557Z"
   },
   {
    "duration": 294,
    "start_time": "2023-01-31T23:36:11.884Z"
   },
   {
    "duration": 64,
    "start_time": "2023-01-31T23:36:12.180Z"
   },
   {
    "duration": 3,
    "start_time": "2023-01-31T23:36:12.246Z"
   },
   {
    "duration": 557,
    "start_time": "2023-01-31T23:36:12.268Z"
   },
   {
    "duration": 180,
    "start_time": "2023-01-31T23:36:12.827Z"
   },
   {
    "duration": 256,
    "start_time": "2023-01-31T23:36:13.012Z"
   },
   {
    "duration": 41,
    "start_time": "2023-01-31T23:36:13.269Z"
   },
   {
    "duration": 3,
    "start_time": "2023-01-31T23:36:13.311Z"
   },
   {
    "duration": 254254,
    "start_time": "2023-01-31T23:36:13.315Z"
   },
   {
    "duration": 42,
    "start_time": "2023-01-31T23:40:27.571Z"
   },
   {
    "duration": 2,
    "start_time": "2023-01-31T23:40:27.615Z"
   },
   {
    "duration": 1740,
    "start_time": "2023-01-31T23:52:10.354Z"
   },
   {
    "duration": 2,
    "start_time": "2023-01-31T23:52:12.096Z"
   },
   {
    "duration": 823,
    "start_time": "2023-01-31T23:52:12.100Z"
   },
   {
    "duration": 19,
    "start_time": "2023-01-31T23:52:12.925Z"
   },
   {
    "duration": 43,
    "start_time": "2023-01-31T23:52:12.945Z"
   },
   {
    "duration": 132,
    "start_time": "2023-01-31T23:52:12.990Z"
   },
   {
    "duration": 108,
    "start_time": "2023-01-31T23:52:13.124Z"
   },
   {
    "duration": 861,
    "start_time": "2023-01-31T23:52:13.234Z"
   },
   {
    "duration": 11,
    "start_time": "2023-01-31T23:52:14.097Z"
   },
   {
    "duration": 1019,
    "start_time": "2023-01-31T23:52:14.111Z"
   },
   {
    "duration": 436,
    "start_time": "2023-01-31T23:52:15.131Z"
   },
   {
    "duration": 132,
    "start_time": "2023-01-31T23:52:15.569Z"
   },
   {
    "duration": 113,
    "start_time": "2023-01-31T23:52:15.702Z"
   },
   {
    "duration": 787,
    "start_time": "2023-01-31T23:52:15.817Z"
   },
   {
    "duration": 128,
    "start_time": "2023-01-31T23:52:16.605Z"
   },
   {
    "duration": 103,
    "start_time": "2023-01-31T23:52:16.735Z"
   },
   {
    "duration": 73,
    "start_time": "2023-01-31T23:52:16.840Z"
   },
   {
    "duration": 31,
    "start_time": "2023-01-31T23:52:16.915Z"
   },
   {
    "duration": 5,
    "start_time": "2023-01-31T23:52:16.948Z"
   },
   {
    "duration": 15,
    "start_time": "2023-01-31T23:52:16.954Z"
   },
   {
    "duration": 336,
    "start_time": "2023-01-31T23:52:16.971Z"
   },
   {
    "duration": 317,
    "start_time": "2023-01-31T23:52:17.309Z"
   },
   {
    "duration": 320,
    "start_time": "2023-01-31T23:52:17.628Z"
   },
   {
    "duration": 76,
    "start_time": "2023-01-31T23:52:17.950Z"
   },
   {
    "duration": 3,
    "start_time": "2023-01-31T23:52:18.028Z"
   },
   {
    "duration": 621,
    "start_time": "2023-01-31T23:52:18.033Z"
   },
   {
    "duration": 185,
    "start_time": "2023-01-31T23:52:18.656Z"
   },
   {
    "duration": 262,
    "start_time": "2023-01-31T23:52:18.845Z"
   },
   {
    "duration": 41,
    "start_time": "2023-01-31T23:52:19.108Z"
   },
   {
    "duration": 3,
    "start_time": "2023-01-31T23:52:19.151Z"
   },
   {
    "duration": 253309,
    "start_time": "2023-01-31T23:52:19.167Z"
   },
   {
    "duration": 39,
    "start_time": "2023-01-31T23:56:32.477Z"
   },
   {
    "duration": 2,
    "start_time": "2023-01-31T23:56:32.518Z"
   },
   {
    "duration": 1378,
    "start_time": "2023-02-01T00:51:16.102Z"
   },
   {
    "duration": 2,
    "start_time": "2023-02-01T00:51:17.482Z"
   },
   {
    "duration": 771,
    "start_time": "2023-02-01T00:51:17.486Z"
   },
   {
    "duration": 18,
    "start_time": "2023-02-01T00:51:18.258Z"
   },
   {
    "duration": 24,
    "start_time": "2023-02-01T00:51:18.278Z"
   },
   {
    "duration": 112,
    "start_time": "2023-02-01T00:51:18.304Z"
   },
   {
    "duration": 77,
    "start_time": "2023-02-01T00:51:18.417Z"
   },
   {
    "duration": 771,
    "start_time": "2023-02-01T00:51:18.496Z"
   },
   {
    "duration": 11,
    "start_time": "2023-02-01T00:51:19.268Z"
   },
   {
    "duration": 905,
    "start_time": "2023-02-01T00:51:19.280Z"
   },
   {
    "duration": 406,
    "start_time": "2023-02-01T00:51:20.186Z"
   },
   {
    "duration": 124,
    "start_time": "2023-02-01T00:51:20.593Z"
   },
   {
    "duration": 100,
    "start_time": "2023-02-01T00:51:20.718Z"
   },
   {
    "duration": 761,
    "start_time": "2023-02-01T00:51:20.820Z"
   },
   {
    "duration": 122,
    "start_time": "2023-02-01T00:51:21.582Z"
   },
   {
    "duration": 79,
    "start_time": "2023-02-01T00:51:21.705Z"
   },
   {
    "duration": 69,
    "start_time": "2023-02-01T00:51:21.786Z"
   },
   {
    "duration": 1,
    "start_time": "2023-02-01T00:51:21.856Z"
   },
   {
    "duration": 0,
    "start_time": "2023-02-01T00:51:21.858Z"
   },
   {
    "duration": 0,
    "start_time": "2023-02-01T00:51:21.859Z"
   },
   {
    "duration": 0,
    "start_time": "2023-02-01T00:51:21.860Z"
   },
   {
    "duration": 0,
    "start_time": "2023-02-01T00:51:21.860Z"
   },
   {
    "duration": 0,
    "start_time": "2023-02-01T00:51:21.861Z"
   },
   {
    "duration": 0,
    "start_time": "2023-02-01T00:51:21.863Z"
   },
   {
    "duration": 0,
    "start_time": "2023-02-01T00:51:21.864Z"
   },
   {
    "duration": 0,
    "start_time": "2023-02-01T00:51:21.865Z"
   },
   {
    "duration": 0,
    "start_time": "2023-02-01T00:51:21.866Z"
   },
   {
    "duration": 0,
    "start_time": "2023-02-01T00:51:21.867Z"
   },
   {
    "duration": 0,
    "start_time": "2023-02-01T00:51:21.867Z"
   },
   {
    "duration": 0,
    "start_time": "2023-02-01T00:51:21.868Z"
   },
   {
    "duration": 0,
    "start_time": "2023-02-01T00:51:21.869Z"
   },
   {
    "duration": 0,
    "start_time": "2023-02-01T00:51:21.870Z"
   },
   {
    "duration": 0,
    "start_time": "2023-02-01T00:51:21.871Z"
   },
   {
    "duration": 0,
    "start_time": "2023-02-01T00:51:21.872Z"
   },
   {
    "duration": 0,
    "start_time": "2023-02-01T00:51:21.873Z"
   },
   {
    "duration": 0,
    "start_time": "2023-02-01T00:51:21.874Z"
   },
   {
    "duration": 0,
    "start_time": "2023-02-01T00:51:21.875Z"
   },
   {
    "duration": 0,
    "start_time": "2023-02-01T00:51:21.876Z"
   },
   {
    "duration": 0,
    "start_time": "2023-02-01T00:51:21.877Z"
   },
   {
    "duration": 0,
    "start_time": "2023-02-01T00:51:21.879Z"
   },
   {
    "duration": 0,
    "start_time": "2023-02-01T00:51:21.879Z"
   },
   {
    "duration": 1469,
    "start_time": "2023-02-01T00:52:16.610Z"
   },
   {
    "duration": 2,
    "start_time": "2023-02-01T00:52:18.081Z"
   },
   {
    "duration": 834,
    "start_time": "2023-02-01T00:52:18.085Z"
   },
   {
    "duration": 20,
    "start_time": "2023-02-01T00:52:18.920Z"
   },
   {
    "duration": 39,
    "start_time": "2023-02-01T00:52:18.942Z"
   },
   {
    "duration": 98,
    "start_time": "2023-02-01T00:52:18.982Z"
   },
   {
    "duration": 68,
    "start_time": "2023-02-01T00:52:19.081Z"
   },
   {
    "duration": 774,
    "start_time": "2023-02-01T00:52:19.151Z"
   },
   {
    "duration": 12,
    "start_time": "2023-02-01T00:52:19.927Z"
   },
   {
    "duration": 958,
    "start_time": "2023-02-01T00:52:19.940Z"
   },
   {
    "duration": 450,
    "start_time": "2023-02-01T00:52:20.900Z"
   },
   {
    "duration": 134,
    "start_time": "2023-02-01T00:52:21.351Z"
   },
   {
    "duration": 107,
    "start_time": "2023-02-01T00:52:21.487Z"
   },
   {
    "duration": 796,
    "start_time": "2023-02-01T00:52:21.597Z"
   },
   {
    "duration": 125,
    "start_time": "2023-02-01T00:52:22.394Z"
   },
   {
    "duration": 84,
    "start_time": "2023-02-01T00:52:22.520Z"
   },
   {
    "duration": 69,
    "start_time": "2023-02-01T00:52:22.606Z"
   },
   {
    "duration": 31,
    "start_time": "2023-02-01T00:52:22.677Z"
   },
   {
    "duration": 5,
    "start_time": "2023-02-01T00:52:22.710Z"
   },
   {
    "duration": 11,
    "start_time": "2023-02-01T00:52:22.716Z"
   },
   {
    "duration": 342,
    "start_time": "2023-02-01T00:52:22.729Z"
   },
   {
    "duration": 331,
    "start_time": "2023-02-01T00:52:23.072Z"
   },
   {
    "duration": 313,
    "start_time": "2023-02-01T00:52:23.405Z"
   },
   {
    "duration": 76,
    "start_time": "2023-02-01T00:52:23.720Z"
   },
   {
    "duration": 3,
    "start_time": "2023-02-01T00:52:23.798Z"
   },
   {
    "duration": 550,
    "start_time": "2023-02-01T00:52:23.803Z"
   },
   {
    "duration": 182,
    "start_time": "2023-02-01T00:52:24.355Z"
   },
   {
    "duration": 259,
    "start_time": "2023-02-01T00:52:24.539Z"
   },
   {
    "duration": 41,
    "start_time": "2023-02-01T00:52:24.799Z"
   },
   {
    "duration": 3,
    "start_time": "2023-02-01T00:52:24.841Z"
   },
   {
    "duration": 257632,
    "start_time": "2023-02-01T00:52:24.846Z"
   },
   {
    "duration": 40,
    "start_time": "2023-02-01T00:56:42.479Z"
   },
   {
    "duration": 2,
    "start_time": "2023-02-01T00:56:42.521Z"
   },
   {
    "duration": 10399091,
    "start_time": "2023-02-01T00:56:42.525Z"
   },
   {
    "duration": 84,
    "start_time": "2023-02-01T03:50:01.617Z"
   },
   {
    "duration": 3,
    "start_time": "2023-02-01T03:50:01.703Z"
   },
   {
    "duration": 10930579,
    "start_time": "2023-02-01T03:50:01.708Z"
   },
   {
    "duration": 0,
    "start_time": "2023-02-01T06:52:12.289Z"
   },
   {
    "duration": 0,
    "start_time": "2023-02-01T06:52:12.291Z"
   },
   {
    "duration": 0,
    "start_time": "2023-02-01T06:52:12.292Z"
   },
   {
    "duration": 91072,
    "start_time": "2023-02-01T09:46:22.202Z"
   },
   {
    "duration": 1571,
    "start_time": "2023-02-01T10:03:42.959Z"
   },
   {
    "duration": 3,
    "start_time": "2023-02-01T10:03:44.532Z"
   },
   {
    "duration": 824,
    "start_time": "2023-02-01T10:03:44.537Z"
   },
   {
    "duration": 22,
    "start_time": "2023-02-01T10:03:45.366Z"
   },
   {
    "duration": 52,
    "start_time": "2023-02-01T10:03:45.390Z"
   },
   {
    "duration": 150,
    "start_time": "2023-02-01T10:03:45.446Z"
   },
   {
    "duration": 117,
    "start_time": "2023-02-01T10:03:45.597Z"
   },
   {
    "duration": 905,
    "start_time": "2023-02-01T10:03:45.716Z"
   },
   {
    "duration": 11,
    "start_time": "2023-02-01T10:03:46.623Z"
   },
   {
    "duration": 1099,
    "start_time": "2023-02-01T10:03:46.636Z"
   },
   {
    "duration": 435,
    "start_time": "2023-02-01T10:03:47.738Z"
   },
   {
    "duration": 137,
    "start_time": "2023-02-01T10:03:48.175Z"
   },
   {
    "duration": 107,
    "start_time": "2023-02-01T10:03:48.314Z"
   },
   {
    "duration": 895,
    "start_time": "2023-02-01T10:03:48.423Z"
   },
   {
    "duration": 132,
    "start_time": "2023-02-01T10:03:49.320Z"
   },
   {
    "duration": 79,
    "start_time": "2023-02-01T10:03:49.454Z"
   },
   {
    "duration": 69,
    "start_time": "2023-02-01T10:03:49.535Z"
   },
   {
    "duration": 31,
    "start_time": "2023-02-01T10:03:49.605Z"
   },
   {
    "duration": 5,
    "start_time": "2023-02-01T10:03:49.637Z"
   },
   {
    "duration": 23,
    "start_time": "2023-02-01T10:03:49.644Z"
   },
   {
    "duration": 355,
    "start_time": "2023-02-01T10:03:49.669Z"
   },
   {
    "duration": 327,
    "start_time": "2023-02-01T10:03:50.026Z"
   },
   {
    "duration": 300,
    "start_time": "2023-02-01T10:03:50.355Z"
   },
   {
    "duration": 77,
    "start_time": "2023-02-01T10:03:50.657Z"
   },
   {
    "duration": 4,
    "start_time": "2023-02-01T10:03:50.736Z"
   },
   {
    "duration": 558,
    "start_time": "2023-02-01T10:03:50.741Z"
   },
   {
    "duration": 181,
    "start_time": "2023-02-01T10:03:51.300Z"
   },
   {
    "duration": 262,
    "start_time": "2023-02-01T10:03:51.484Z"
   },
   {
    "duration": 45,
    "start_time": "2023-02-01T10:03:51.748Z"
   },
   {
    "duration": 2,
    "start_time": "2023-02-01T10:03:51.796Z"
   },
   {
    "duration": 329677,
    "start_time": "2023-02-01T10:03:51.800Z"
   },
   {
    "duration": 41,
    "start_time": "2023-02-01T10:09:21.480Z"
   },
   {
    "duration": 3,
    "start_time": "2023-02-01T10:09:21.522Z"
   },
   {
    "duration": 1381,
    "start_time": "2023-02-01T10:35:22.820Z"
   },
   {
    "duration": 3,
    "start_time": "2023-02-01T10:35:24.203Z"
   },
   {
    "duration": 831,
    "start_time": "2023-02-01T10:35:24.208Z"
   },
   {
    "duration": 37,
    "start_time": "2023-02-01T10:35:25.042Z"
   },
   {
    "duration": 43,
    "start_time": "2023-02-01T10:35:25.082Z"
   },
   {
    "duration": 119,
    "start_time": "2023-02-01T10:35:25.128Z"
   },
   {
    "duration": 69,
    "start_time": "2023-02-01T10:35:25.249Z"
   },
   {
    "duration": 865,
    "start_time": "2023-02-01T10:35:25.319Z"
   },
   {
    "duration": 13,
    "start_time": "2023-02-01T10:35:26.186Z"
   },
   {
    "duration": 1112,
    "start_time": "2023-02-01T10:35:26.203Z"
   },
   {
    "duration": 460,
    "start_time": "2023-02-01T10:35:27.316Z"
   },
   {
    "duration": 140,
    "start_time": "2023-02-01T10:35:27.778Z"
   },
   {
    "duration": 125,
    "start_time": "2023-02-01T10:35:27.920Z"
   },
   {
    "duration": 855,
    "start_time": "2023-02-01T10:35:28.047Z"
   },
   {
    "duration": 129,
    "start_time": "2023-02-01T10:35:28.904Z"
   },
   {
    "duration": 81,
    "start_time": "2023-02-01T10:35:29.035Z"
   },
   {
    "duration": 70,
    "start_time": "2023-02-01T10:35:29.118Z"
   },
   {
    "duration": 31,
    "start_time": "2023-02-01T10:35:29.190Z"
   },
   {
    "duration": 7,
    "start_time": "2023-02-01T10:35:29.223Z"
   },
   {
    "duration": 32,
    "start_time": "2023-02-01T10:35:29.232Z"
   },
   {
    "duration": 343,
    "start_time": "2023-02-01T10:35:29.266Z"
   },
   {
    "duration": 329,
    "start_time": "2023-02-01T10:35:29.611Z"
   },
   {
    "duration": 297,
    "start_time": "2023-02-01T10:35:29.942Z"
   },
   {
    "duration": 78,
    "start_time": "2023-02-01T10:35:30.241Z"
   },
   {
    "duration": 2,
    "start_time": "2023-02-01T10:35:30.321Z"
   },
   {
    "duration": 688,
    "start_time": "2023-02-01T10:35:30.325Z"
   },
   {
    "duration": 179,
    "start_time": "2023-02-01T10:35:31.014Z"
   },
   {
    "duration": 260,
    "start_time": "2023-02-01T10:35:31.196Z"
   },
   {
    "duration": 40,
    "start_time": "2023-02-01T10:35:31.458Z"
   },
   {
    "duration": 3,
    "start_time": "2023-02-01T10:35:31.499Z"
   },
   {
    "duration": 1680,
    "start_time": "2023-02-01T10:52:23.033Z"
   },
   {
    "duration": 3,
    "start_time": "2023-02-01T10:52:24.715Z"
   },
   {
    "duration": 1069,
    "start_time": "2023-02-01T10:52:24.719Z"
   },
   {
    "duration": 18,
    "start_time": "2023-02-01T10:52:25.789Z"
   },
   {
    "duration": 24,
    "start_time": "2023-02-01T10:52:25.810Z"
   },
   {
    "duration": 119,
    "start_time": "2023-02-01T10:52:25.836Z"
   },
   {
    "duration": 82,
    "start_time": "2023-02-01T10:52:25.956Z"
   },
   {
    "duration": 930,
    "start_time": "2023-02-01T10:52:26.039Z"
   },
   {
    "duration": 17,
    "start_time": "2023-02-01T10:52:26.971Z"
   },
   {
    "duration": 1169,
    "start_time": "2023-02-01T10:52:26.989Z"
   },
   {
    "duration": 445,
    "start_time": "2023-02-01T10:52:28.159Z"
   },
   {
    "duration": 151,
    "start_time": "2023-02-01T10:52:28.606Z"
   },
   {
    "duration": 140,
    "start_time": "2023-02-01T10:52:28.758Z"
   },
   {
    "duration": 963,
    "start_time": "2023-02-01T10:52:28.901Z"
   },
   {
    "duration": 151,
    "start_time": "2023-02-01T10:52:29.866Z"
   },
   {
    "duration": 103,
    "start_time": "2023-02-01T10:52:30.019Z"
   },
   {
    "duration": 133,
    "start_time": "2023-02-01T10:52:30.123Z"
   },
   {
    "duration": 77,
    "start_time": "2023-02-01T10:52:30.258Z"
   },
   {
    "duration": 27,
    "start_time": "2023-02-01T10:52:30.337Z"
   },
   {
    "duration": 46,
    "start_time": "2023-02-01T10:52:30.365Z"
   },
   {
    "duration": 431,
    "start_time": "2023-02-01T10:52:30.413Z"
   },
   {
    "duration": 396,
    "start_time": "2023-02-01T10:52:30.846Z"
   },
   {
    "duration": 364,
    "start_time": "2023-02-01T10:52:31.244Z"
   },
   {
    "duration": 83,
    "start_time": "2023-02-01T10:52:31.610Z"
   },
   {
    "duration": 40,
    "start_time": "2023-02-01T10:52:31.695Z"
   },
   {
    "duration": 614,
    "start_time": "2023-02-01T10:52:31.737Z"
   },
   {
    "duration": 193,
    "start_time": "2023-02-01T10:52:32.353Z"
   },
   {
    "duration": 327,
    "start_time": "2023-02-01T10:52:32.547Z"
   },
   {
    "duration": 46,
    "start_time": "2023-02-01T10:52:32.876Z"
   },
   {
    "duration": 3,
    "start_time": "2023-02-01T10:52:32.924Z"
   },
   {
    "duration": 1501,
    "start_time": "2023-02-01T11:09:56.120Z"
   },
   {
    "duration": 3,
    "start_time": "2023-02-01T11:09:57.623Z"
   },
   {
    "duration": 857,
    "start_time": "2023-02-01T11:09:57.627Z"
   },
   {
    "duration": 17,
    "start_time": "2023-02-01T11:09:58.485Z"
   },
   {
    "duration": 44,
    "start_time": "2023-02-01T11:09:58.504Z"
   },
   {
    "duration": 131,
    "start_time": "2023-02-01T11:09:58.550Z"
   },
   {
    "duration": 109,
    "start_time": "2023-02-01T11:09:58.683Z"
   },
   {
    "duration": 835,
    "start_time": "2023-02-01T11:09:58.794Z"
   },
   {
    "duration": 12,
    "start_time": "2023-02-01T11:09:59.630Z"
   },
   {
    "duration": 1030,
    "start_time": "2023-02-01T11:09:59.644Z"
   },
   {
    "duration": 455,
    "start_time": "2023-02-01T11:10:00.677Z"
   },
   {
    "duration": 146,
    "start_time": "2023-02-01T11:10:01.134Z"
   },
   {
    "duration": 108,
    "start_time": "2023-02-01T11:10:01.282Z"
   },
   {
    "duration": 827,
    "start_time": "2023-02-01T11:10:01.392Z"
   },
   {
    "duration": 131,
    "start_time": "2023-02-01T11:10:02.221Z"
   },
   {
    "duration": 89,
    "start_time": "2023-02-01T11:10:02.353Z"
   },
   {
    "duration": 61,
    "start_time": "2023-02-01T11:10:02.443Z"
   },
   {
    "duration": 31,
    "start_time": "2023-02-01T11:10:02.506Z"
   },
   {
    "duration": 6,
    "start_time": "2023-02-01T11:10:02.538Z"
   },
   {
    "duration": 36,
    "start_time": "2023-02-01T11:10:02.545Z"
   },
   {
    "duration": 368,
    "start_time": "2023-02-01T11:10:02.582Z"
   },
   {
    "duration": 363,
    "start_time": "2023-02-01T11:10:02.952Z"
   },
   {
    "duration": 328,
    "start_time": "2023-02-01T11:10:03.317Z"
   },
   {
    "duration": 83,
    "start_time": "2023-02-01T11:10:03.646Z"
   },
   {
    "duration": 3,
    "start_time": "2023-02-01T11:10:03.731Z"
   },
   {
    "duration": 658,
    "start_time": "2023-02-01T11:10:03.736Z"
   },
   {
    "duration": 186,
    "start_time": "2023-02-01T11:10:04.396Z"
   },
   {
    "duration": 292,
    "start_time": "2023-02-01T11:10:04.584Z"
   },
   {
    "duration": 42,
    "start_time": "2023-02-01T11:10:04.886Z"
   },
   {
    "duration": 3,
    "start_time": "2023-02-01T11:10:04.931Z"
   },
   {
    "duration": 5359002,
    "start_time": "2023-02-01T11:10:04.937Z"
   },
   {
    "duration": 0,
    "start_time": "2023-02-01T12:39:23.941Z"
   },
   {
    "duration": 0,
    "start_time": "2023-02-01T12:39:23.942Z"
   },
   {
    "duration": 0,
    "start_time": "2023-02-01T12:39:23.943Z"
   },
   {
    "duration": 0,
    "start_time": "2023-02-01T12:39:23.944Z"
   },
   {
    "duration": 0,
    "start_time": "2023-02-01T12:39:23.945Z"
   },
   {
    "duration": 0,
    "start_time": "2023-02-01T12:39:23.946Z"
   },
   {
    "duration": 0,
    "start_time": "2023-02-01T12:39:23.946Z"
   },
   {
    "duration": 0,
    "start_time": "2023-02-01T12:39:23.947Z"
   },
   {
    "duration": 0,
    "start_time": "2023-02-01T12:39:23.948Z"
   },
   {
    "duration": 1777,
    "start_time": "2023-02-01T12:39:38.648Z"
   },
   {
    "duration": 3,
    "start_time": "2023-02-01T12:39:40.428Z"
   },
   {
    "duration": 1095,
    "start_time": "2023-02-01T12:39:40.433Z"
   },
   {
    "duration": 19,
    "start_time": "2023-02-01T12:39:41.531Z"
   },
   {
    "duration": 54,
    "start_time": "2023-02-01T12:39:41.552Z"
   },
   {
    "duration": 264,
    "start_time": "2023-02-01T12:39:41.614Z"
   },
   {
    "duration": 94,
    "start_time": "2023-02-01T12:39:41.880Z"
   },
   {
    "duration": 1108,
    "start_time": "2023-02-01T12:39:41.977Z"
   },
   {
    "duration": 19,
    "start_time": "2023-02-01T12:39:43.093Z"
   },
   {
    "duration": 1531,
    "start_time": "2023-02-01T12:39:43.121Z"
   },
   {
    "duration": 502,
    "start_time": "2023-02-01T12:39:44.653Z"
   },
   {
    "duration": 219,
    "start_time": "2023-02-01T12:39:45.157Z"
   },
   {
    "duration": 161,
    "start_time": "2023-02-01T12:39:45.380Z"
   },
   {
    "duration": 1049,
    "start_time": "2023-02-01T12:39:45.544Z"
   },
   {
    "duration": 176,
    "start_time": "2023-02-01T12:39:46.594Z"
   },
   {
    "duration": 165,
    "start_time": "2023-02-01T12:39:46.771Z"
   },
   {
    "duration": 71,
    "start_time": "2023-02-01T12:39:46.938Z"
   },
   {
    "duration": 40,
    "start_time": "2023-02-01T12:39:47.016Z"
   },
   {
    "duration": 5,
    "start_time": "2023-02-01T12:39:47.058Z"
   },
   {
    "duration": 49,
    "start_time": "2023-02-01T12:39:47.068Z"
   },
   {
    "duration": 433,
    "start_time": "2023-02-01T12:39:47.119Z"
   },
   {
    "duration": 409,
    "start_time": "2023-02-01T12:39:47.554Z"
   },
   {
    "duration": 426,
    "start_time": "2023-02-01T12:39:47.964Z"
   },
   {
    "duration": 86,
    "start_time": "2023-02-01T12:39:48.396Z"
   },
   {
    "duration": 6,
    "start_time": "2023-02-01T12:39:48.486Z"
   },
   {
    "duration": 661,
    "start_time": "2023-02-01T12:39:48.504Z"
   },
   {
    "duration": 197,
    "start_time": "2023-02-01T12:39:49.176Z"
   },
   {
    "duration": 312,
    "start_time": "2023-02-01T12:39:49.377Z"
   },
   {
    "duration": 49,
    "start_time": "2023-02-01T12:39:49.691Z"
   },
   {
    "duration": 3,
    "start_time": "2023-02-01T12:39:49.742Z"
   },
   {
    "duration": 1947,
    "start_time": "2023-02-01T13:52:42.664Z"
   },
   {
    "duration": 3,
    "start_time": "2023-02-01T13:52:44.613Z"
   },
   {
    "duration": 3822,
    "start_time": "2023-02-01T13:52:44.617Z"
   },
   {
    "duration": 23,
    "start_time": "2023-02-01T13:52:48.440Z"
   },
   {
    "duration": 42,
    "start_time": "2023-02-01T13:52:48.465Z"
   },
   {
    "duration": 137,
    "start_time": "2023-02-01T13:52:48.509Z"
   },
   {
    "duration": 122,
    "start_time": "2023-02-01T13:52:48.648Z"
   },
   {
    "duration": 981,
    "start_time": "2023-02-01T13:52:48.779Z"
   },
   {
    "duration": 21,
    "start_time": "2023-02-01T13:52:49.762Z"
   },
   {
    "duration": 1150,
    "start_time": "2023-02-01T13:52:49.794Z"
   },
   {
    "duration": 482,
    "start_time": "2023-02-01T13:52:50.945Z"
   },
   {
    "duration": 172,
    "start_time": "2023-02-01T13:52:51.431Z"
   },
   {
    "duration": 119,
    "start_time": "2023-02-01T13:52:51.607Z"
   },
   {
    "duration": 861,
    "start_time": "2023-02-01T13:52:51.728Z"
   },
   {
    "duration": 147,
    "start_time": "2023-02-01T13:52:52.591Z"
   },
   {
    "duration": 114,
    "start_time": "2023-02-01T13:52:52.740Z"
   },
   {
    "duration": 70,
    "start_time": "2023-02-01T13:52:52.856Z"
   },
   {
    "duration": 50,
    "start_time": "2023-02-01T13:52:52.927Z"
   },
   {
    "duration": 12,
    "start_time": "2023-02-01T13:52:52.983Z"
   },
   {
    "duration": 34,
    "start_time": "2023-02-01T13:52:52.996Z"
   },
   {
    "duration": 395,
    "start_time": "2023-02-01T13:52:53.032Z"
   },
   {
    "duration": 394,
    "start_time": "2023-02-01T13:52:53.429Z"
   },
   {
    "duration": 380,
    "start_time": "2023-02-01T13:52:53.825Z"
   },
   {
    "duration": 76,
    "start_time": "2023-02-01T13:52:54.207Z"
   },
   {
    "duration": 4,
    "start_time": "2023-02-01T13:52:54.285Z"
   },
   {
    "duration": 630,
    "start_time": "2023-02-01T13:52:54.291Z"
   },
   {
    "duration": 194,
    "start_time": "2023-02-01T13:52:54.922Z"
   },
   {
    "duration": 316,
    "start_time": "2023-02-01T13:52:55.121Z"
   },
   {
    "duration": 57,
    "start_time": "2023-02-01T13:52:55.439Z"
   },
   {
    "duration": 6,
    "start_time": "2023-02-01T13:52:55.498Z"
   },
   {
    "duration": 1641,
    "start_time": "2023-02-01T15:21:29.556Z"
   },
   {
    "duration": 3,
    "start_time": "2023-02-01T15:21:31.199Z"
   },
   {
    "duration": 821,
    "start_time": "2023-02-01T15:21:31.203Z"
   },
   {
    "duration": 18,
    "start_time": "2023-02-01T15:21:32.026Z"
   },
   {
    "duration": 42,
    "start_time": "2023-02-01T15:21:32.046Z"
   },
   {
    "duration": 100,
    "start_time": "2023-02-01T15:21:32.089Z"
   },
   {
    "duration": 68,
    "start_time": "2023-02-01T15:21:32.191Z"
   },
   {
    "duration": 918,
    "start_time": "2023-02-01T15:21:32.261Z"
   },
   {
    "duration": 14,
    "start_time": "2023-02-01T15:21:33.181Z"
   },
   {
    "duration": 1147,
    "start_time": "2023-02-01T15:21:33.199Z"
   },
   {
    "duration": 453,
    "start_time": "2023-02-01T15:21:34.348Z"
   },
   {
    "duration": 165,
    "start_time": "2023-02-01T15:21:34.802Z"
   },
   {
    "duration": 163,
    "start_time": "2023-02-01T15:21:34.969Z"
   },
   {
    "duration": 905,
    "start_time": "2023-02-01T15:21:35.134Z"
   },
   {
    "duration": 140,
    "start_time": "2023-02-01T15:21:36.041Z"
   },
   {
    "duration": 95,
    "start_time": "2023-02-01T15:21:36.183Z"
   },
   {
    "duration": 58,
    "start_time": "2023-02-01T15:21:36.282Z"
   },
   {
    "duration": 43,
    "start_time": "2023-02-01T15:21:36.342Z"
   },
   {
    "duration": 5,
    "start_time": "2023-02-01T15:21:36.387Z"
   },
   {
    "duration": 24,
    "start_time": "2023-02-01T15:21:36.393Z"
   },
   {
    "duration": 374,
    "start_time": "2023-02-01T15:21:36.419Z"
   },
   {
    "duration": 362,
    "start_time": "2023-02-01T15:21:36.795Z"
   },
   {
    "duration": 304,
    "start_time": "2023-02-01T15:21:37.159Z"
   },
   {
    "duration": 64,
    "start_time": "2023-02-01T15:21:37.476Z"
   },
   {
    "duration": 2,
    "start_time": "2023-02-01T15:21:37.542Z"
   },
   {
    "duration": 566,
    "start_time": "2023-02-01T15:21:37.546Z"
   },
   {
    "duration": 183,
    "start_time": "2023-02-01T15:21:38.113Z"
   },
   {
    "duration": 257,
    "start_time": "2023-02-01T15:21:38.299Z"
   },
   {
    "duration": 43,
    "start_time": "2023-02-01T15:21:38.558Z"
   },
   {
    "duration": 2,
    "start_time": "2023-02-01T15:21:38.603Z"
   },
   {
    "duration": 1746,
    "start_time": "2023-02-01T15:22:30.198Z"
   },
   {
    "duration": 4,
    "start_time": "2023-02-01T15:22:31.945Z"
   },
   {
    "duration": 938,
    "start_time": "2023-02-01T15:22:31.950Z"
   },
   {
    "duration": 18,
    "start_time": "2023-02-01T15:22:32.894Z"
   },
   {
    "duration": 28,
    "start_time": "2023-02-01T15:22:32.914Z"
   },
   {
    "duration": 131,
    "start_time": "2023-02-01T15:22:32.944Z"
   },
   {
    "duration": 76,
    "start_time": "2023-02-01T15:22:33.079Z"
   },
   {
    "duration": 900,
    "start_time": "2023-02-01T15:22:33.156Z"
   },
   {
    "duration": 34,
    "start_time": "2023-02-01T15:22:34.058Z"
   },
   {
    "duration": 1300,
    "start_time": "2023-02-01T15:22:34.094Z"
   },
   {
    "duration": 512,
    "start_time": "2023-02-01T15:22:35.398Z"
   },
   {
    "duration": 186,
    "start_time": "2023-02-01T15:22:35.912Z"
   },
   {
    "duration": 128,
    "start_time": "2023-02-01T15:22:36.100Z"
   },
   {
    "duration": 931,
    "start_time": "2023-02-01T15:22:36.231Z"
   },
   {
    "duration": 143,
    "start_time": "2023-02-01T15:22:37.168Z"
   },
   {
    "duration": 105,
    "start_time": "2023-02-01T15:22:37.312Z"
   },
   {
    "duration": 75,
    "start_time": "2023-02-01T15:22:37.419Z"
   },
   {
    "duration": 29,
    "start_time": "2023-02-01T15:22:37.496Z"
   },
   {
    "duration": 4,
    "start_time": "2023-02-01T15:22:37.527Z"
   },
   {
    "duration": 10,
    "start_time": "2023-02-01T15:22:37.534Z"
   },
   {
    "duration": 362,
    "start_time": "2023-02-01T15:22:37.546Z"
   },
   {
    "duration": 343,
    "start_time": "2023-02-01T15:22:37.910Z"
   },
   {
    "duration": 306,
    "start_time": "2023-02-01T15:22:38.255Z"
   },
   {
    "duration": 66,
    "start_time": "2023-02-01T15:22:38.566Z"
   },
   {
    "duration": 3,
    "start_time": "2023-02-01T15:22:38.634Z"
   },
   {
    "duration": 569,
    "start_time": "2023-02-01T15:22:38.638Z"
   },
   {
    "duration": 187,
    "start_time": "2023-02-01T15:22:39.209Z"
   },
   {
    "duration": 263,
    "start_time": "2023-02-01T15:22:39.398Z"
   },
   {
    "duration": 40,
    "start_time": "2023-02-01T15:22:39.663Z"
   },
   {
    "duration": 3,
    "start_time": "2023-02-01T15:22:39.705Z"
   },
   {
    "duration": 1569,
    "start_time": "2023-02-01T15:46:07.436Z"
   },
   {
    "duration": 3,
    "start_time": "2023-02-01T15:46:09.007Z"
   },
   {
    "duration": 903,
    "start_time": "2023-02-01T15:46:09.012Z"
   },
   {
    "duration": 18,
    "start_time": "2023-02-01T15:46:09.918Z"
   },
   {
    "duration": 53,
    "start_time": "2023-02-01T15:46:09.938Z"
   },
   {
    "duration": 111,
    "start_time": "2023-02-01T15:46:09.993Z"
   },
   {
    "duration": 85,
    "start_time": "2023-02-01T15:46:10.106Z"
   },
   {
    "duration": 915,
    "start_time": "2023-02-01T15:46:10.195Z"
   },
   {
    "duration": 10,
    "start_time": "2023-02-01T15:46:11.112Z"
   },
   {
    "duration": 1137,
    "start_time": "2023-02-01T15:46:11.125Z"
   },
   {
    "duration": 457,
    "start_time": "2023-02-01T15:46:12.270Z"
   },
   {
    "duration": 176,
    "start_time": "2023-02-01T15:46:12.728Z"
   },
   {
    "duration": 141,
    "start_time": "2023-02-01T15:46:12.906Z"
   },
   {
    "duration": 945,
    "start_time": "2023-02-01T15:46:13.049Z"
   },
   {
    "duration": 136,
    "start_time": "2023-02-01T15:46:13.996Z"
   },
   {
    "duration": 99,
    "start_time": "2023-02-01T15:46:14.133Z"
   },
   {
    "duration": 63,
    "start_time": "2023-02-01T15:46:14.233Z"
   },
   {
    "duration": 31,
    "start_time": "2023-02-01T15:46:14.297Z"
   },
   {
    "duration": 5,
    "start_time": "2023-02-01T15:46:14.329Z"
   },
   {
    "duration": 10,
    "start_time": "2023-02-01T15:46:14.335Z"
   },
   {
    "duration": 392,
    "start_time": "2023-02-01T15:46:14.347Z"
   },
   {
    "duration": 409,
    "start_time": "2023-02-01T15:46:14.741Z"
   },
   {
    "duration": 354,
    "start_time": "2023-02-01T15:46:15.151Z"
   },
   {
    "duration": 76,
    "start_time": "2023-02-01T15:46:15.506Z"
   },
   {
    "duration": 4,
    "start_time": "2023-02-01T15:46:15.584Z"
   },
   {
    "duration": 588,
    "start_time": "2023-02-01T15:46:15.589Z"
   },
   {
    "duration": 188,
    "start_time": "2023-02-01T15:46:16.186Z"
   },
   {
    "duration": 281,
    "start_time": "2023-02-01T15:46:16.378Z"
   },
   {
    "duration": 41,
    "start_time": "2023-02-01T15:46:16.661Z"
   },
   {
    "duration": 3,
    "start_time": "2023-02-01T15:46:16.704Z"
   },
   {
    "duration": 3146073,
    "start_time": "2023-02-01T15:46:16.709Z"
   },
   {
    "duration": 41,
    "start_time": "2023-02-01T16:38:42.784Z"
   },
   {
    "duration": 3,
    "start_time": "2023-02-01T16:38:42.826Z"
   },
   {
    "duration": 1572,
    "start_time": "2023-02-01T17:10:53.282Z"
   },
   {
    "duration": 3,
    "start_time": "2023-02-01T17:10:54.856Z"
   },
   {
    "duration": 922,
    "start_time": "2023-02-01T17:10:54.860Z"
   },
   {
    "duration": 18,
    "start_time": "2023-02-01T17:10:55.784Z"
   },
   {
    "duration": 43,
    "start_time": "2023-02-01T17:10:55.804Z"
   },
   {
    "duration": 109,
    "start_time": "2023-02-01T17:10:55.848Z"
   },
   {
    "duration": 77,
    "start_time": "2023-02-01T17:10:55.959Z"
   },
   {
    "duration": 876,
    "start_time": "2023-02-01T17:10:56.038Z"
   },
   {
    "duration": 11,
    "start_time": "2023-02-01T17:10:56.915Z"
   },
   {
    "duration": 1026,
    "start_time": "2023-02-01T17:10:56.927Z"
   },
   {
    "duration": 432,
    "start_time": "2023-02-01T17:10:57.955Z"
   },
   {
    "duration": 141,
    "start_time": "2023-02-01T17:10:58.389Z"
   },
   {
    "duration": 116,
    "start_time": "2023-02-01T17:10:58.532Z"
   },
   {
    "duration": 851,
    "start_time": "2023-02-01T17:10:58.651Z"
   },
   {
    "duration": 132,
    "start_time": "2023-02-01T17:10:59.503Z"
   },
   {
    "duration": 107,
    "start_time": "2023-02-01T17:10:59.636Z"
   },
   {
    "duration": 70,
    "start_time": "2023-02-01T17:10:59.745Z"
   },
   {
    "duration": 28,
    "start_time": "2023-02-01T17:10:59.817Z"
   },
   {
    "duration": 5,
    "start_time": "2023-02-01T17:10:59.847Z"
   },
   {
    "duration": 25,
    "start_time": "2023-02-01T17:10:59.867Z"
   },
   {
    "duration": 348,
    "start_time": "2023-02-01T17:10:59.894Z"
   },
   {
    "duration": 338,
    "start_time": "2023-02-01T17:11:00.243Z"
   },
   {
    "duration": 362,
    "start_time": "2023-02-01T17:11:00.583Z"
   },
   {
    "duration": 78,
    "start_time": "2023-02-01T17:11:00.948Z"
   },
   {
    "duration": 4,
    "start_time": "2023-02-01T17:11:01.028Z"
   },
   {
    "duration": 596,
    "start_time": "2023-02-01T17:11:01.033Z"
   },
   {
    "duration": 185,
    "start_time": "2023-02-01T17:11:01.631Z"
   },
   {
    "duration": 267,
    "start_time": "2023-02-01T17:11:01.818Z"
   },
   {
    "duration": 40,
    "start_time": "2023-02-01T17:11:02.086Z"
   },
   {
    "duration": 14,
    "start_time": "2023-02-01T17:11:02.128Z"
   },
   {
    "duration": 1422441,
    "start_time": "2023-02-01T17:11:02.143Z"
   },
   {
    "duration": 100,
    "start_time": "2023-02-01T17:34:44.585Z"
   },
   {
    "duration": 3,
    "start_time": "2023-02-01T17:34:44.687Z"
   },
   {
    "duration": 1575,
    "start_time": "2023-02-01T17:44:19.921Z"
   },
   {
    "duration": 2,
    "start_time": "2023-02-01T17:44:21.498Z"
   },
   {
    "duration": 903,
    "start_time": "2023-02-01T17:44:21.501Z"
   },
   {
    "duration": 18,
    "start_time": "2023-02-01T17:44:22.406Z"
   },
   {
    "duration": 48,
    "start_time": "2023-02-01T17:44:22.425Z"
   },
   {
    "duration": 102,
    "start_time": "2023-02-01T17:44:22.474Z"
   },
   {
    "duration": 108,
    "start_time": "2023-02-01T17:44:22.578Z"
   },
   {
    "duration": 900,
    "start_time": "2023-02-01T17:44:22.687Z"
   },
   {
    "duration": 14,
    "start_time": "2023-02-01T17:44:23.589Z"
   },
   {
    "duration": 1019,
    "start_time": "2023-02-01T17:44:23.606Z"
   },
   {
    "duration": 478,
    "start_time": "2023-02-01T17:44:24.627Z"
   },
   {
    "duration": 140,
    "start_time": "2023-02-01T17:44:25.107Z"
   },
   {
    "duration": 107,
    "start_time": "2023-02-01T17:44:25.249Z"
   },
   {
    "duration": 809,
    "start_time": "2023-02-01T17:44:25.358Z"
   },
   {
    "duration": 122,
    "start_time": "2023-02-01T17:44:26.168Z"
   },
   {
    "duration": 91,
    "start_time": "2023-02-01T17:44:26.291Z"
   },
   {
    "duration": 56,
    "start_time": "2023-02-01T17:44:26.384Z"
   },
   {
    "duration": 48,
    "start_time": "2023-02-01T17:44:26.442Z"
   },
   {
    "duration": 6,
    "start_time": "2023-02-01T17:44:26.491Z"
   },
   {
    "duration": 6,
    "start_time": "2023-02-01T17:44:26.498Z"
   },
   {
    "duration": 386,
    "start_time": "2023-02-01T17:44:26.506Z"
   },
   {
    "duration": 363,
    "start_time": "2023-02-01T17:44:26.895Z"
   },
   {
    "duration": 310,
    "start_time": "2023-02-01T17:44:27.260Z"
   },
   {
    "duration": 65,
    "start_time": "2023-02-01T17:44:27.572Z"
   },
   {
    "duration": 3,
    "start_time": "2023-02-01T17:44:27.639Z"
   },
   {
    "duration": 601,
    "start_time": "2023-02-01T17:44:27.643Z"
   },
   {
    "duration": 188,
    "start_time": "2023-02-01T17:44:28.245Z"
   },
   {
    "duration": 261,
    "start_time": "2023-02-01T17:44:28.436Z"
   },
   {
    "duration": 42,
    "start_time": "2023-02-01T17:44:28.699Z"
   },
   {
    "duration": 2,
    "start_time": "2023-02-01T17:44:28.743Z"
   },
   {
    "duration": 291129,
    "start_time": "2023-02-01T17:44:28.746Z"
   },
   {
    "duration": 91,
    "start_time": "2023-02-01T17:49:19.877Z"
   },
   {
    "duration": 3,
    "start_time": "2023-02-01T17:49:19.970Z"
   },
   {
    "duration": 1483,
    "start_time": "2023-02-01T21:20:18.759Z"
   },
   {
    "duration": 3,
    "start_time": "2023-02-01T21:20:20.244Z"
   },
   {
    "duration": 823,
    "start_time": "2023-02-01T21:20:20.249Z"
   },
   {
    "duration": 16,
    "start_time": "2023-02-01T21:20:21.074Z"
   },
   {
    "duration": 25,
    "start_time": "2023-02-01T21:20:21.092Z"
   },
   {
    "duration": 107,
    "start_time": "2023-02-01T21:20:21.119Z"
   },
   {
    "duration": 86,
    "start_time": "2023-02-01T21:20:21.227Z"
   },
   {
    "duration": 821,
    "start_time": "2023-02-01T21:20:21.315Z"
   },
   {
    "duration": 13,
    "start_time": "2023-02-01T21:20:22.138Z"
   },
   {
    "duration": 1020,
    "start_time": "2023-02-01T21:20:22.168Z"
   },
   {
    "duration": 450,
    "start_time": "2023-02-01T21:20:23.189Z"
   },
   {
    "duration": 136,
    "start_time": "2023-02-01T21:20:23.641Z"
   },
   {
    "duration": 116,
    "start_time": "2023-02-01T21:20:23.778Z"
   },
   {
    "duration": 824,
    "start_time": "2023-02-01T21:20:23.897Z"
   },
   {
    "duration": 147,
    "start_time": "2023-02-01T21:20:24.723Z"
   },
   {
    "duration": 130,
    "start_time": "2023-02-01T21:20:24.872Z"
   },
   {
    "duration": 72,
    "start_time": "2023-02-01T21:20:25.004Z"
   },
   {
    "duration": 28,
    "start_time": "2023-02-01T21:20:25.078Z"
   },
   {
    "duration": 6,
    "start_time": "2023-02-01T21:20:25.107Z"
   },
   {
    "duration": 9,
    "start_time": "2023-02-01T21:20:25.115Z"
   },
   {
    "duration": 348,
    "start_time": "2023-02-01T21:20:25.125Z"
   },
   {
    "duration": 336,
    "start_time": "2023-02-01T21:20:25.474Z"
   },
   {
    "duration": 313,
    "start_time": "2023-02-01T21:20:25.812Z"
   },
   {
    "duration": 74,
    "start_time": "2023-02-01T21:20:26.127Z"
   },
   {
    "duration": 3,
    "start_time": "2023-02-01T21:20:26.203Z"
   },
   {
    "duration": 663,
    "start_time": "2023-02-01T21:20:26.208Z"
   },
   {
    "duration": 191,
    "start_time": "2023-02-01T21:20:26.873Z"
   },
   {
    "duration": 260,
    "start_time": "2023-02-01T21:20:27.067Z"
   },
   {
    "duration": 48,
    "start_time": "2023-02-01T21:20:27.329Z"
   },
   {
    "duration": 3,
    "start_time": "2023-02-01T21:20:27.379Z"
   },
   {
    "duration": 5850097,
    "start_time": "2023-02-01T21:20:27.383Z"
   },
   {
    "duration": 99,
    "start_time": "2023-02-01T22:57:57.481Z"
   },
   {
    "duration": 3,
    "start_time": "2023-02-01T22:57:57.581Z"
   },
   {
    "duration": 13646525,
    "start_time": "2023-02-01T22:57:57.585Z"
   },
   {
    "duration": 80,
    "start_time": "2023-02-02T02:45:24.112Z"
   },
   {
    "duration": 3,
    "start_time": "2023-02-02T02:45:24.193Z"
   },
   {
    "duration": 97521,
    "start_time": "2023-02-02T02:45:24.197Z"
   },
   {
    "duration": 3,
    "start_time": "2023-02-02T02:47:01.720Z"
   },
   {
    "duration": 252044,
    "start_time": "2023-02-02T02:47:01.725Z"
   },
   {
    "duration": 104,
    "start_time": "2023-02-02T02:51:13.771Z"
   },
   {
    "duration": 52,
    "start_time": "2023-02-07T05:43:21.560Z"
   },
   {
    "duration": 1697,
    "start_time": "2023-02-07T05:47:40.344Z"
   },
   {
    "duration": 3,
    "start_time": "2023-02-07T05:47:42.043Z"
   },
   {
    "duration": 2931,
    "start_time": "2023-02-07T05:47:42.048Z"
   },
   {
    "duration": 21,
    "start_time": "2023-02-07T05:47:44.981Z"
   },
   {
    "duration": 48,
    "start_time": "2023-02-07T05:47:45.004Z"
   },
   {
    "duration": 128,
    "start_time": "2023-02-07T05:47:45.054Z"
   },
   {
    "duration": 368,
    "start_time": "2023-02-07T05:47:45.184Z"
   },
   {
    "duration": 927,
    "start_time": "2023-02-07T05:47:45.554Z"
   },
   {
    "duration": 17,
    "start_time": "2023-02-07T05:47:46.483Z"
   },
   {
    "duration": 1158,
    "start_time": "2023-02-07T05:47:46.503Z"
   },
   {
    "duration": 556,
    "start_time": "2023-02-07T05:47:47.663Z"
   },
   {
    "duration": 149,
    "start_time": "2023-02-07T05:47:48.221Z"
   },
   {
    "duration": 117,
    "start_time": "2023-02-07T05:47:48.372Z"
   },
   {
    "duration": 916,
    "start_time": "2023-02-07T05:47:48.491Z"
   },
   {
    "duration": 140,
    "start_time": "2023-02-07T05:47:49.409Z"
   },
   {
    "duration": 95,
    "start_time": "2023-02-07T05:47:49.551Z"
   },
   {
    "duration": 58,
    "start_time": "2023-02-07T05:47:49.648Z"
   },
   {
    "duration": 48,
    "start_time": "2023-02-07T05:47:49.707Z"
   },
   {
    "duration": 6,
    "start_time": "2023-02-07T05:47:49.757Z"
   },
   {
    "duration": 9,
    "start_time": "2023-02-07T05:47:49.764Z"
   },
   {
    "duration": 403,
    "start_time": "2023-02-07T05:47:49.775Z"
   },
   {
    "duration": 371,
    "start_time": "2023-02-07T05:47:50.179Z"
   },
   {
    "duration": 354,
    "start_time": "2023-02-07T05:47:50.552Z"
   },
   {
    "duration": 86,
    "start_time": "2023-02-07T05:47:50.908Z"
   },
   {
    "duration": 3,
    "start_time": "2023-02-07T05:47:50.996Z"
   },
   {
    "duration": 681,
    "start_time": "2023-02-07T05:47:51.001Z"
   },
   {
    "duration": 193,
    "start_time": "2023-02-07T05:47:51.684Z"
   },
   {
    "duration": 286,
    "start_time": "2023-02-07T05:47:51.882Z"
   },
   {
    "duration": 41,
    "start_time": "2023-02-07T05:47:52.170Z"
   },
   {
    "duration": 3,
    "start_time": "2023-02-07T05:47:52.214Z"
   },
   {
    "duration": 100708,
    "start_time": "2023-02-07T05:47:52.219Z"
   },
   {
    "duration": 0,
    "start_time": "2023-02-07T05:49:32.929Z"
   },
   {
    "duration": 0,
    "start_time": "2023-02-07T05:49:32.931Z"
   },
   {
    "duration": 0,
    "start_time": "2023-02-07T05:49:32.937Z"
   },
   {
    "duration": 0,
    "start_time": "2023-02-07T05:49:32.940Z"
   },
   {
    "duration": 0,
    "start_time": "2023-02-07T05:49:32.941Z"
   },
   {
    "duration": 0,
    "start_time": "2023-02-07T05:49:32.944Z"
   },
   {
    "duration": 0,
    "start_time": "2023-02-07T05:49:32.945Z"
   },
   {
    "duration": 0,
    "start_time": "2023-02-07T05:49:32.947Z"
   },
   {
    "duration": 0,
    "start_time": "2023-02-07T05:49:32.948Z"
   },
   {
    "duration": 197,
    "start_time": "2023-02-07T05:49:33.551Z"
   },
   {
    "duration": 5,
    "start_time": "2023-02-07T05:51:03.938Z"
   },
   {
    "duration": 4,
    "start_time": "2023-02-07T05:57:18.666Z"
   },
   {
    "duration": 1954,
    "start_time": "2023-02-07T05:57:19.800Z"
   },
   {
    "duration": 64,
    "start_time": "2023-02-07T05:57:26.633Z"
   },
   {
    "duration": 1507,
    "start_time": "2023-02-07T05:57:34.953Z"
   },
   {
    "duration": 3,
    "start_time": "2023-02-07T05:57:36.463Z"
   },
   {
    "duration": 955,
    "start_time": "2023-02-07T05:57:36.467Z"
   },
   {
    "duration": 28,
    "start_time": "2023-02-07T05:57:37.424Z"
   },
   {
    "duration": 28,
    "start_time": "2023-02-07T05:57:37.455Z"
   },
   {
    "duration": 120,
    "start_time": "2023-02-07T05:57:37.485Z"
   },
   {
    "duration": 412,
    "start_time": "2023-02-07T05:57:37.607Z"
   },
   {
    "duration": 294,
    "start_time": "2023-02-07T05:57:38.021Z"
   },
   {
    "duration": 4,
    "start_time": "2023-02-07T05:57:38.317Z"
   },
   {
    "duration": 2399,
    "start_time": "2023-02-07T05:57:38.323Z"
   },
   {
    "duration": 82,
    "start_time": "2023-02-07T05:57:40.724Z"
   },
   {
    "duration": 1000,
    "start_time": "2023-02-07T05:57:40.808Z"
   },
   {
    "duration": 13,
    "start_time": "2023-02-07T05:57:41.811Z"
   },
   {
    "duration": 1241,
    "start_time": "2023-02-07T05:57:41.837Z"
   },
   {
    "duration": 526,
    "start_time": "2023-02-07T05:57:43.080Z"
   },
   {
    "duration": 153,
    "start_time": "2023-02-07T05:57:43.608Z"
   },
   {
    "duration": 117,
    "start_time": "2023-02-07T05:57:43.763Z"
   },
   {
    "duration": 908,
    "start_time": "2023-02-07T05:57:43.881Z"
   },
   {
    "duration": 130,
    "start_time": "2023-02-07T05:57:44.790Z"
   },
   {
    "duration": 95,
    "start_time": "2023-02-07T05:57:44.922Z"
   },
   {
    "duration": 72,
    "start_time": "2023-02-07T05:57:45.020Z"
   },
   {
    "duration": 24,
    "start_time": "2023-02-07T05:57:45.094Z"
   },
   {
    "duration": 21,
    "start_time": "2023-02-07T05:57:45.120Z"
   },
   {
    "duration": 15,
    "start_time": "2023-02-07T05:57:45.143Z"
   },
   {
    "duration": 405,
    "start_time": "2023-02-07T05:57:45.160Z"
   },
   {
    "duration": 379,
    "start_time": "2023-02-07T05:57:45.567Z"
   },
   {
    "duration": 360,
    "start_time": "2023-02-07T05:57:45.948Z"
   },
   {
    "duration": 74,
    "start_time": "2023-02-07T05:57:46.310Z"
   },
   {
    "duration": 3,
    "start_time": "2023-02-07T05:57:46.386Z"
   },
   {
    "duration": 703,
    "start_time": "2023-02-07T05:57:46.391Z"
   },
   {
    "duration": 191,
    "start_time": "2023-02-07T05:57:47.095Z"
   },
   {
    "duration": 290,
    "start_time": "2023-02-07T05:57:47.289Z"
   },
   {
    "duration": 41,
    "start_time": "2023-02-07T05:57:47.581Z"
   },
   {
    "duration": 14,
    "start_time": "2023-02-07T05:57:47.624Z"
   },
   {
    "duration": 1488,
    "start_time": "2023-02-07T05:59:15.238Z"
   },
   {
    "duration": 3,
    "start_time": "2023-02-07T05:59:16.728Z"
   },
   {
    "duration": 897,
    "start_time": "2023-02-07T05:59:16.733Z"
   },
   {
    "duration": 22,
    "start_time": "2023-02-07T05:59:17.632Z"
   },
   {
    "duration": 23,
    "start_time": "2023-02-07T05:59:17.656Z"
   },
   {
    "duration": 119,
    "start_time": "2023-02-07T05:59:17.681Z"
   },
   {
    "duration": 391,
    "start_time": "2023-02-07T05:59:17.801Z"
   },
   {
    "duration": 256,
    "start_time": "2023-02-07T05:59:18.194Z"
   },
   {
    "duration": 4,
    "start_time": "2023-02-07T05:59:18.452Z"
   },
   {
    "duration": 2372,
    "start_time": "2023-02-07T05:59:18.459Z"
   },
   {
    "duration": 77,
    "start_time": "2023-02-07T05:59:20.833Z"
   },
   {
    "duration": 934,
    "start_time": "2023-02-07T05:59:20.912Z"
   },
   {
    "duration": 13,
    "start_time": "2023-02-07T05:59:21.848Z"
   },
   {
    "duration": 1239,
    "start_time": "2023-02-07T05:59:21.862Z"
   },
   {
    "duration": 456,
    "start_time": "2023-02-07T05:59:23.103Z"
   },
   {
    "duration": 145,
    "start_time": "2023-02-07T05:59:23.561Z"
   },
   {
    "duration": 116,
    "start_time": "2023-02-07T05:59:23.708Z"
   },
   {
    "duration": 895,
    "start_time": "2023-02-07T05:59:23.826Z"
   },
   {
    "duration": 141,
    "start_time": "2023-02-07T05:59:24.723Z"
   },
   {
    "duration": 103,
    "start_time": "2023-02-07T05:59:24.867Z"
   },
   {
    "duration": 79,
    "start_time": "2023-02-07T05:59:24.972Z"
   },
   {
    "duration": 24,
    "start_time": "2023-02-07T05:59:25.053Z"
   },
   {
    "duration": 8,
    "start_time": "2023-02-07T05:59:25.078Z"
   },
   {
    "duration": 15,
    "start_time": "2023-02-07T05:59:25.087Z"
   },
   {
    "duration": 446,
    "start_time": "2023-02-07T05:59:25.104Z"
   },
   {
    "duration": 386,
    "start_time": "2023-02-07T05:59:25.552Z"
   },
   {
    "duration": 373,
    "start_time": "2023-02-07T05:59:25.940Z"
   },
   {
    "duration": 70,
    "start_time": "2023-02-07T05:59:26.317Z"
   },
   {
    "duration": 3,
    "start_time": "2023-02-07T05:59:26.389Z"
   },
   {
    "duration": 686,
    "start_time": "2023-02-07T05:59:26.394Z"
   },
   {
    "duration": 189,
    "start_time": "2023-02-07T05:59:27.083Z"
   },
   {
    "duration": 285,
    "start_time": "2023-02-07T05:59:27.273Z"
   },
   {
    "duration": 42,
    "start_time": "2023-02-07T05:59:27.560Z"
   },
   {
    "duration": 4,
    "start_time": "2023-02-07T05:59:27.604Z"
   },
   {
    "duration": 1477,
    "start_time": "2023-02-07T05:59:47.057Z"
   },
   {
    "duration": 3,
    "start_time": "2023-02-07T05:59:48.537Z"
   },
   {
    "duration": 898,
    "start_time": "2023-02-07T05:59:48.541Z"
   },
   {
    "duration": 22,
    "start_time": "2023-02-07T05:59:49.442Z"
   },
   {
    "duration": 29,
    "start_time": "2023-02-07T05:59:49.466Z"
   },
   {
    "duration": 136,
    "start_time": "2023-02-07T05:59:49.497Z"
   },
   {
    "duration": 380,
    "start_time": "2023-02-07T05:59:49.638Z"
   },
   {
    "duration": 271,
    "start_time": "2023-02-07T05:59:50.020Z"
   },
   {
    "duration": 4,
    "start_time": "2023-02-07T05:59:50.293Z"
   },
   {
    "duration": 2418,
    "start_time": "2023-02-07T05:59:50.301Z"
   },
   {
    "duration": 368,
    "start_time": "2023-02-07T05:59:52.721Z"
   },
   {
    "duration": 1034,
    "start_time": "2023-02-07T05:59:53.091Z"
   },
   {
    "duration": 21,
    "start_time": "2023-02-07T05:59:54.127Z"
   },
   {
    "duration": 1129,
    "start_time": "2023-02-07T05:59:54.152Z"
   },
   {
    "duration": 490,
    "start_time": "2023-02-07T05:59:55.283Z"
   },
   {
    "duration": 144,
    "start_time": "2023-02-07T05:59:55.775Z"
   },
   {
    "duration": 122,
    "start_time": "2023-02-07T05:59:55.921Z"
   },
   {
    "duration": 949,
    "start_time": "2023-02-07T05:59:56.045Z"
   },
   {
    "duration": 139,
    "start_time": "2023-02-07T05:59:56.995Z"
   },
   {
    "duration": 105,
    "start_time": "2023-02-07T05:59:57.138Z"
   },
   {
    "duration": 63,
    "start_time": "2023-02-07T05:59:57.244Z"
   },
   {
    "duration": 49,
    "start_time": "2023-02-07T05:59:57.309Z"
   },
   {
    "duration": 6,
    "start_time": "2023-02-07T05:59:57.360Z"
   },
   {
    "duration": 21,
    "start_time": "2023-02-07T05:59:57.368Z"
   },
   {
    "duration": 399,
    "start_time": "2023-02-07T05:59:57.391Z"
   },
   {
    "duration": 431,
    "start_time": "2023-02-07T05:59:57.793Z"
   },
   {
    "duration": 356,
    "start_time": "2023-02-07T05:59:58.227Z"
   },
   {
    "duration": 81,
    "start_time": "2023-02-07T05:59:58.587Z"
   },
   {
    "duration": 4,
    "start_time": "2023-02-07T05:59:58.670Z"
   },
   {
    "duration": 695,
    "start_time": "2023-02-07T05:59:58.676Z"
   },
   {
    "duration": 197,
    "start_time": "2023-02-07T05:59:59.373Z"
   },
   {
    "duration": 285,
    "start_time": "2023-02-07T05:59:59.572Z"
   },
   {
    "duration": 43,
    "start_time": "2023-02-07T05:59:59.858Z"
   },
   {
    "duration": 4,
    "start_time": "2023-02-07T05:59:59.902Z"
   },
   {
    "duration": 3319349,
    "start_time": "2023-02-07T05:59:59.908Z"
   },
   {
    "duration": 90,
    "start_time": "2023-02-07T06:55:19.258Z"
   },
   {
    "duration": 3,
    "start_time": "2023-02-07T06:55:19.350Z"
   },
   {
    "duration": 1400,
    "start_time": "2023-02-07T07:04:30.155Z"
   },
   {
    "duration": 3,
    "start_time": "2023-02-07T07:04:31.557Z"
   },
   {
    "duration": 913,
    "start_time": "2023-02-07T07:04:31.561Z"
   },
   {
    "duration": 18,
    "start_time": "2023-02-07T07:04:32.476Z"
   },
   {
    "duration": 31,
    "start_time": "2023-02-07T07:04:32.496Z"
   },
   {
    "duration": 95,
    "start_time": "2023-02-07T07:04:32.538Z"
   },
   {
    "duration": 438,
    "start_time": "2023-02-07T07:04:32.635Z"
   },
   {
    "duration": 266,
    "start_time": "2023-02-07T07:04:33.075Z"
   },
   {
    "duration": 4,
    "start_time": "2023-02-07T07:04:33.343Z"
   },
   {
    "duration": 2406,
    "start_time": "2023-02-07T07:04:33.350Z"
   },
   {
    "duration": 380,
    "start_time": "2023-02-07T07:04:35.758Z"
   },
   {
    "duration": 930,
    "start_time": "2023-02-07T07:04:36.139Z"
   },
   {
    "duration": 12,
    "start_time": "2023-02-07T07:04:37.071Z"
   },
   {
    "duration": 1128,
    "start_time": "2023-02-07T07:04:37.085Z"
   },
   {
    "duration": 458,
    "start_time": "2023-02-07T07:04:38.215Z"
   },
   {
    "duration": 131,
    "start_time": "2023-02-07T07:04:38.675Z"
   },
   {
    "duration": 110,
    "start_time": "2023-02-07T07:04:38.807Z"
   },
   {
    "duration": 865,
    "start_time": "2023-02-07T07:04:38.918Z"
   },
   {
    "duration": 123,
    "start_time": "2023-02-07T07:04:39.785Z"
   },
   {
    "duration": 89,
    "start_time": "2023-02-07T07:04:39.910Z"
   },
   {
    "duration": 73,
    "start_time": "2023-02-07T07:04:40.001Z"
   },
   {
    "duration": 22,
    "start_time": "2023-02-07T07:04:40.075Z"
   },
   {
    "duration": 6,
    "start_time": "2023-02-07T07:04:40.099Z"
   },
   {
    "duration": 21,
    "start_time": "2023-02-07T07:04:40.106Z"
   },
   {
    "duration": 379,
    "start_time": "2023-02-07T07:04:40.129Z"
   },
   {
    "duration": 362,
    "start_time": "2023-02-07T07:04:40.511Z"
   },
   {
    "duration": 341,
    "start_time": "2023-02-07T07:04:40.875Z"
   },
   {
    "duration": 75,
    "start_time": "2023-02-07T07:04:41.219Z"
   },
   {
    "duration": 3,
    "start_time": "2023-02-07T07:04:41.295Z"
   },
   {
    "duration": 20,
    "start_time": "2023-02-07T07:04:41.300Z"
   },
   {
    "duration": 74,
    "start_time": "2023-02-07T07:04:41.321Z"
   },
   {
    "duration": 42,
    "start_time": "2023-02-07T07:04:41.397Z"
   },
   {
    "duration": 29,
    "start_time": "2023-02-07T07:04:41.440Z"
   },
   {
    "duration": 177,
    "start_time": "2023-02-07T07:04:41.471Z"
   },
   {
    "duration": 0,
    "start_time": "2023-02-07T07:04:41.649Z"
   },
   {
    "duration": 0,
    "start_time": "2023-02-07T07:04:41.650Z"
   },
   {
    "duration": 0,
    "start_time": "2023-02-07T07:04:41.652Z"
   },
   {
    "duration": 0,
    "start_time": "2023-02-07T07:04:41.653Z"
   },
   {
    "duration": 0,
    "start_time": "2023-02-07T07:04:41.653Z"
   },
   {
    "duration": 0,
    "start_time": "2023-02-07T07:04:41.655Z"
   },
   {
    "duration": 0,
    "start_time": "2023-02-07T07:04:41.656Z"
   },
   {
    "duration": 0,
    "start_time": "2023-02-07T07:04:41.657Z"
   },
   {
    "duration": 0,
    "start_time": "2023-02-07T07:04:41.658Z"
   },
   {
    "duration": 0,
    "start_time": "2023-02-07T07:04:41.659Z"
   },
   {
    "duration": 0,
    "start_time": "2023-02-07T07:04:41.660Z"
   },
   {
    "duration": 0,
    "start_time": "2023-02-07T07:04:41.661Z"
   },
   {
    "duration": 0,
    "start_time": "2023-02-07T07:04:41.662Z"
   },
   {
    "duration": 1389,
    "start_time": "2023-02-07T07:06:50.560Z"
   },
   {
    "duration": 3,
    "start_time": "2023-02-07T07:06:51.951Z"
   },
   {
    "duration": 979,
    "start_time": "2023-02-07T07:06:51.956Z"
   },
   {
    "duration": 19,
    "start_time": "2023-02-07T07:06:52.938Z"
   },
   {
    "duration": 29,
    "start_time": "2023-02-07T07:06:52.959Z"
   },
   {
    "duration": 107,
    "start_time": "2023-02-07T07:06:52.990Z"
   },
   {
    "duration": 348,
    "start_time": "2023-02-07T07:06:53.099Z"
   },
   {
    "duration": 251,
    "start_time": "2023-02-07T07:06:53.448Z"
   },
   {
    "duration": 4,
    "start_time": "2023-02-07T07:06:53.700Z"
   },
   {
    "duration": 2331,
    "start_time": "2023-02-07T07:06:53.706Z"
   },
   {
    "duration": 370,
    "start_time": "2023-02-07T07:06:56.039Z"
   },
   {
    "duration": 952,
    "start_time": "2023-02-07T07:06:56.411Z"
   },
   {
    "duration": 13,
    "start_time": "2023-02-07T07:06:57.365Z"
   },
   {
    "duration": 1148,
    "start_time": "2023-02-07T07:06:57.380Z"
   },
   {
    "duration": 461,
    "start_time": "2023-02-07T07:06:58.530Z"
   },
   {
    "duration": 151,
    "start_time": "2023-02-07T07:06:58.993Z"
   },
   {
    "duration": 110,
    "start_time": "2023-02-07T07:06:59.146Z"
   },
   {
    "duration": 1024,
    "start_time": "2023-02-07T07:06:59.257Z"
   },
   {
    "duration": 128,
    "start_time": "2023-02-07T07:07:00.283Z"
   },
   {
    "duration": 94,
    "start_time": "2023-02-07T07:07:00.413Z"
   },
   {
    "duration": 71,
    "start_time": "2023-02-07T07:07:00.509Z"
   },
   {
    "duration": 25,
    "start_time": "2023-02-07T07:07:00.582Z"
   },
   {
    "duration": 26,
    "start_time": "2023-02-07T07:07:00.609Z"
   },
   {
    "duration": 50,
    "start_time": "2023-02-07T07:07:00.637Z"
   },
   {
    "duration": 429,
    "start_time": "2023-02-07T07:07:00.689Z"
   },
   {
    "duration": 383,
    "start_time": "2023-02-07T07:07:01.119Z"
   },
   {
    "duration": 338,
    "start_time": "2023-02-07T07:07:01.504Z"
   },
   {
    "duration": 69,
    "start_time": "2023-02-07T07:07:01.846Z"
   },
   {
    "duration": 3,
    "start_time": "2023-02-07T07:07:01.917Z"
   },
   {
    "duration": 74,
    "start_time": "2023-02-07T07:07:01.922Z"
   },
   {
    "duration": 86,
    "start_time": "2023-02-07T07:07:01.998Z"
   },
   {
    "duration": 30,
    "start_time": "2023-02-07T07:07:02.086Z"
   },
   {
    "duration": 66,
    "start_time": "2023-02-07T07:07:02.118Z"
   },
   {
    "duration": 66,
    "start_time": "2023-02-07T07:07:02.186Z"
   },
   {
    "duration": 10,
    "start_time": "2023-02-07T07:07:02.254Z"
   },
   {
    "duration": 35,
    "start_time": "2023-02-07T07:07:02.266Z"
   },
   {
    "duration": 699,
    "start_time": "2023-02-07T07:07:02.303Z"
   },
   {
    "duration": 3,
    "start_time": "2023-02-07T07:07:03.004Z"
   },
   {
    "duration": 48,
    "start_time": "2023-02-08T08:21:53.154Z"
   },
   {
    "duration": 46,
    "start_time": "2023-02-08T08:28:26.267Z"
   },
   {
    "duration": 2962,
    "start_time": "2023-02-08T08:28:26.315Z"
   },
   {
    "duration": 3,
    "start_time": "2023-02-08T08:28:29.279Z"
   },
   {
    "duration": 191,
    "start_time": "2023-02-08T08:28:29.284Z"
   },
   {
    "duration": 0,
    "start_time": "2023-02-08T08:28:29.478Z"
   },
   {
    "duration": 0,
    "start_time": "2023-02-08T08:28:29.482Z"
   },
   {
    "duration": 0,
    "start_time": "2023-02-08T08:28:29.483Z"
   },
   {
    "duration": 0,
    "start_time": "2023-02-08T08:28:29.484Z"
   },
   {
    "duration": 0,
    "start_time": "2023-02-08T08:28:29.485Z"
   },
   {
    "duration": 0,
    "start_time": "2023-02-08T08:28:29.487Z"
   },
   {
    "duration": 0,
    "start_time": "2023-02-08T08:28:29.488Z"
   },
   {
    "duration": 0,
    "start_time": "2023-02-08T08:28:29.489Z"
   },
   {
    "duration": 0,
    "start_time": "2023-02-08T08:28:29.490Z"
   },
   {
    "duration": 0,
    "start_time": "2023-02-08T08:28:29.491Z"
   },
   {
    "duration": 0,
    "start_time": "2023-02-08T08:28:29.492Z"
   },
   {
    "duration": 0,
    "start_time": "2023-02-08T08:28:29.493Z"
   },
   {
    "duration": 0,
    "start_time": "2023-02-08T08:28:29.494Z"
   },
   {
    "duration": 0,
    "start_time": "2023-02-08T08:28:29.495Z"
   },
   {
    "duration": 0,
    "start_time": "2023-02-08T08:28:29.496Z"
   },
   {
    "duration": 0,
    "start_time": "2023-02-08T08:28:29.497Z"
   },
   {
    "duration": 0,
    "start_time": "2023-02-08T08:28:29.498Z"
   },
   {
    "duration": 0,
    "start_time": "2023-02-08T08:28:29.499Z"
   },
   {
    "duration": 0,
    "start_time": "2023-02-08T08:28:29.500Z"
   },
   {
    "duration": 0,
    "start_time": "2023-02-08T08:28:29.501Z"
   },
   {
    "duration": 0,
    "start_time": "2023-02-08T08:28:29.503Z"
   },
   {
    "duration": 0,
    "start_time": "2023-02-08T08:28:29.503Z"
   },
   {
    "duration": 0,
    "start_time": "2023-02-08T08:28:29.505Z"
   },
   {
    "duration": 0,
    "start_time": "2023-02-08T08:28:29.505Z"
   },
   {
    "duration": 0,
    "start_time": "2023-02-08T08:28:29.506Z"
   },
   {
    "duration": 0,
    "start_time": "2023-02-08T08:28:29.507Z"
   },
   {
    "duration": 0,
    "start_time": "2023-02-08T08:28:29.538Z"
   },
   {
    "duration": 0,
    "start_time": "2023-02-08T08:28:29.539Z"
   },
   {
    "duration": 0,
    "start_time": "2023-02-08T08:28:29.541Z"
   },
   {
    "duration": 0,
    "start_time": "2023-02-08T08:28:29.542Z"
   },
   {
    "duration": 0,
    "start_time": "2023-02-08T08:28:29.543Z"
   },
   {
    "duration": 0,
    "start_time": "2023-02-08T08:28:29.544Z"
   },
   {
    "duration": 0,
    "start_time": "2023-02-08T08:28:29.545Z"
   },
   {
    "duration": 0,
    "start_time": "2023-02-08T08:28:29.546Z"
   },
   {
    "duration": 56,
    "start_time": "2023-02-08T08:29:35.125Z"
   },
   {
    "duration": 2659,
    "start_time": "2023-02-08T08:29:35.184Z"
   },
   {
    "duration": 4,
    "start_time": "2023-02-08T08:29:37.845Z"
   },
   {
    "duration": 1857,
    "start_time": "2023-02-08T08:29:37.851Z"
   },
   {
    "duration": 29,
    "start_time": "2023-02-08T08:29:39.710Z"
   },
   {
    "duration": 31,
    "start_time": "2023-02-08T08:29:39.741Z"
   },
   {
    "duration": 108,
    "start_time": "2023-02-08T08:29:39.774Z"
   },
   {
    "duration": 390,
    "start_time": "2023-02-08T08:29:39.884Z"
   },
   {
    "duration": 257,
    "start_time": "2023-02-08T08:29:40.276Z"
   },
   {
    "duration": 4,
    "start_time": "2023-02-08T08:29:40.536Z"
   },
   {
    "duration": 2622,
    "start_time": "2023-02-08T08:29:40.542Z"
   },
   {
    "duration": 394,
    "start_time": "2023-02-08T08:29:43.166Z"
   },
   {
    "duration": 924,
    "start_time": "2023-02-08T08:29:43.562Z"
   },
   {
    "duration": 13,
    "start_time": "2023-02-08T08:29:44.488Z"
   },
   {
    "duration": 1100,
    "start_time": "2023-02-08T08:29:44.503Z"
   },
   {
    "duration": 545,
    "start_time": "2023-02-08T08:29:45.605Z"
   },
   {
    "duration": 159,
    "start_time": "2023-02-08T08:29:46.152Z"
   },
   {
    "duration": 121,
    "start_time": "2023-02-08T08:29:46.312Z"
   },
   {
    "duration": 990,
    "start_time": "2023-02-08T08:29:46.437Z"
   },
   {
    "duration": 138,
    "start_time": "2023-02-08T08:29:47.429Z"
   },
   {
    "duration": 110,
    "start_time": "2023-02-08T08:29:47.569Z"
   },
   {
    "duration": 87,
    "start_time": "2023-02-08T08:29:47.681Z"
   },
   {
    "duration": 25,
    "start_time": "2023-02-08T08:29:47.770Z"
   },
   {
    "duration": 8,
    "start_time": "2023-02-08T08:29:47.797Z"
   },
   {
    "duration": 18,
    "start_time": "2023-02-08T08:29:47.806Z"
   },
   {
    "duration": 430,
    "start_time": "2023-02-08T08:29:47.839Z"
   },
   {
    "duration": 375,
    "start_time": "2023-02-08T08:29:48.271Z"
   },
   {
    "duration": 344,
    "start_time": "2023-02-08T08:29:48.650Z"
   },
   {
    "duration": 90,
    "start_time": "2023-02-08T08:29:48.996Z"
   },
   {
    "duration": 9,
    "start_time": "2023-02-08T08:29:49.088Z"
   },
   {
    "duration": 45,
    "start_time": "2023-02-08T08:29:49.099Z"
   },
   {
    "duration": 62,
    "start_time": "2023-02-08T08:29:49.146Z"
   },
   {
    "duration": 60,
    "start_time": "2023-02-08T08:29:49.210Z"
   },
   {
    "duration": 49,
    "start_time": "2023-02-08T08:29:49.272Z"
   },
   {
    "duration": 79,
    "start_time": "2023-02-08T08:29:49.323Z"
   },
   {
    "duration": 8,
    "start_time": "2023-02-08T08:29:49.405Z"
   },
   {
    "duration": 5,
    "start_time": "2023-02-08T08:29:49.438Z"
   },
   {
    "duration": 840,
    "start_time": "2023-02-08T08:29:49.445Z"
   },
   {
    "duration": 20,
    "start_time": "2023-02-08T08:38:31.947Z"
   },
   {
    "duration": 5,
    "start_time": "2023-02-08T08:42:08.723Z"
   },
   {
    "duration": 4,
    "start_time": "2023-02-08T08:44:10.405Z"
   },
   {
    "duration": 3,
    "start_time": "2023-02-08T08:50:37.118Z"
   },
   {
    "duration": 7,
    "start_time": "2023-02-08T09:00:49.946Z"
   },
   {
    "duration": 6,
    "start_time": "2023-02-08T23:34:28.585Z"
   },
   {
    "duration": 857,
    "start_time": "2023-02-08T23:34:45.020Z"
   },
   {
    "duration": 61,
    "start_time": "2023-02-09T20:15:38.619Z"
   },
   {
    "duration": 3330,
    "start_time": "2023-02-09T20:15:38.682Z"
   },
   {
    "duration": 4,
    "start_time": "2023-02-09T20:15:42.014Z"
   },
   {
    "duration": 1188,
    "start_time": "2023-02-09T20:15:42.021Z"
   },
   {
    "duration": 18,
    "start_time": "2023-02-09T20:15:43.211Z"
   },
   {
    "duration": 35,
    "start_time": "2023-02-09T20:15:43.231Z"
   },
   {
    "duration": 104,
    "start_time": "2023-02-09T20:15:43.268Z"
   },
   {
    "duration": 393,
    "start_time": "2023-02-09T20:15:43.374Z"
   },
   {
    "duration": 245,
    "start_time": "2023-02-09T20:15:43.770Z"
   },
   {
    "duration": 4,
    "start_time": "2023-02-09T20:15:44.019Z"
   },
   {
    "duration": 2298,
    "start_time": "2023-02-09T20:15:44.025Z"
   },
   {
    "duration": 361,
    "start_time": "2023-02-09T20:15:46.325Z"
   },
   {
    "duration": 942,
    "start_time": "2023-02-09T20:15:46.688Z"
   },
   {
    "duration": 17,
    "start_time": "2023-02-09T20:15:47.632Z"
   },
   {
    "duration": 1167,
    "start_time": "2023-02-09T20:15:47.651Z"
   },
   {
    "duration": 472,
    "start_time": "2023-02-09T20:15:48.820Z"
   },
   {
    "duration": 171,
    "start_time": "2023-02-09T20:15:49.295Z"
   },
   {
    "duration": 110,
    "start_time": "2023-02-09T20:15:49.468Z"
   },
   {
    "duration": 947,
    "start_time": "2023-02-09T20:15:49.580Z"
   },
   {
    "duration": 126,
    "start_time": "2023-02-09T20:15:50.529Z"
   },
   {
    "duration": 95,
    "start_time": "2023-02-09T20:15:50.656Z"
   },
   {
    "duration": 69,
    "start_time": "2023-02-09T20:15:50.753Z"
   },
   {
    "duration": 39,
    "start_time": "2023-02-09T20:15:50.824Z"
   },
   {
    "duration": 5,
    "start_time": "2023-02-09T20:15:50.865Z"
   },
   {
    "duration": 11,
    "start_time": "2023-02-09T20:15:50.872Z"
   },
   {
    "duration": 400,
    "start_time": "2023-02-09T20:15:50.885Z"
   },
   {
    "duration": 378,
    "start_time": "2023-02-09T20:15:51.287Z"
   },
   {
    "duration": 358,
    "start_time": "2023-02-09T20:15:51.668Z"
   },
   {
    "duration": 81,
    "start_time": "2023-02-09T20:15:52.028Z"
   },
   {
    "duration": 100,
    "start_time": "2023-02-09T20:15:52.110Z"
   },
   {
    "duration": 55,
    "start_time": "2023-02-09T20:15:52.212Z"
   },
   {
    "duration": 111,
    "start_time": "2023-02-09T20:15:52.269Z"
   },
   {
    "duration": 31,
    "start_time": "2023-02-09T20:15:52.382Z"
   },
   {
    "duration": 44,
    "start_time": "2023-02-09T20:15:52.415Z"
   },
   {
    "duration": 44,
    "start_time": "2023-02-09T20:15:52.461Z"
   },
   {
    "duration": 8,
    "start_time": "2023-02-09T20:15:52.507Z"
   },
   {
    "duration": 23,
    "start_time": "2023-02-09T20:15:52.517Z"
   },
   {
    "duration": 4,
    "start_time": "2023-02-09T20:15:52.542Z"
   },
   {
    "duration": 4,
    "start_time": "2023-02-09T20:16:36.608Z"
   },
   {
    "duration": 3,
    "start_time": "2023-02-09T20:16:38.510Z"
   },
   {
    "duration": 44583,
    "start_time": "2023-02-09T20:21:11.346Z"
   }
  ],
  "kernelspec": {
   "display_name": "Python 3 (ipykernel)",
   "language": "python",
   "name": "python3"
  },
  "language_info": {
   "codemirror_mode": {
    "name": "ipython",
    "version": 3
   },
   "file_extension": ".py",
   "mimetype": "text/x-python",
   "name": "python",
   "nbconvert_exporter": "python",
   "pygments_lexer": "ipython3",
   "version": "3.11.4"
  },
  "toc": {
   "base_numbering": 1,
   "nav_menu": {},
   "number_sections": true,
   "sideBar": true,
   "skip_h1_title": true,
   "title_cell": "Table of Contents",
   "title_sidebar": "Contents",
   "toc_cell": false,
   "toc_position": {},
   "toc_section_display": true,
   "toc_window_display": false
  }
 },
 "nbformat": 4,
 "nbformat_minor": 2
}

{
 "cells": [
  {
   "cell_type": "markdown",
   "metadata": {},
   "source": [
    "<div style=\"border:solid darksalmon 2px; padding: 20px\">\n",
    "<h2 style=\"color: darkslategray\">Recommendation of the suitable active tariff for customers</h2>\n",
    "   \n",
    "Mobile operator \"Megaline\" has found out that many customers are still using the archive tariffs. They want to build a system that can analyze customer behavior and offer users a new plan: \"Smart\" or \"Ultra\".\n",
    "\n",
    "As a source for the forthcoming analysis we have data on the behavior of customers who have already switched to these tariffs.\n",
    "    \n",
    "**Project Objective:** Build a classification model that selects the appropriate tariff for the customer with the highest accuracy value (aiming for an accuracy rate of at least 0.75).\n",
    "\n",
    "**Research Process**\n",
    "    \n",
    "The research will be conducted in 6 stages:\n",
    " 1. Data overview.\n",
    " 2. Data splitting.\n",
    " 3. Model exploration.\n",
    " 4. Model evaluation on the test set.\n",
    " 5. Model adequacy check.\n",
    " 6. Overall conclusion regarding the results of the analysis.\n",
    "    \n",
    "<img src=\"https://img.freepik.com/free-vector/curiosity-people-concept-illustration_114360-11034.jpg\" width=\"300\" height=\"300\" alt=\"illustration\" />"
   ]
  },
  {
   "cell_type": "markdown",
   "metadata": {},
   "source": [
    "## Data overview"
   ]
  },
  {
   "cell_type": "markdown",
   "metadata": {},
   "source": [
    "* Calls - the number of calls,\n",
    "* minutes - total duration of calls in minutes,\n",
    "* messages - number of SMS messages,\n",
    "* mb_used - used internet traffic in Mb,\n",
    "* is_ultra - which tariff plan was used during the month (\"Ultra\" - 1, \"Smart\" - 0).\n",
    "\n",
    "Each object in the dataset is information about the behavior of one user per month. "
   ]
  },
  {
   "cell_type": "markdown",
   "metadata": {},
   "source": [
    "## Getting ready for work"
   ]
  },
  {
   "cell_type": "code",
   "execution_count": 1,
   "metadata": {},
   "outputs": [],
   "source": [
    "# load libraries\n",
    "\n",
    "import seaborn as sns\n",
    "import pandas as pd\n",
    "import matplotlib.pyplot as plt\n",
    "import numpy as np\n",
    "\n",
    "from sklearn.tree import DecisionTreeClassifier\n",
    "from sklearn.ensemble import RandomForestClassifier\n",
    "from sklearn.linear_model import LogisticRegression\n",
    "from sklearn.dummy import DummyClassifier\n",
    "from sklearn.metrics import accuracy_score, classification_report, precision_score, recall_score, f1_score\n",
    "from sklearn.model_selection import train_test_split, GridSearchCV"
   ]
  },
  {
   "cell_type": "markdown",
   "metadata": {},
   "source": [
    "## General Information Study"
   ]
  },
  {
   "cell_type": "code",
   "execution_count": 2,
   "metadata": {},
   "outputs": [],
   "source": [
    "# read the data file and store it in the df variable\n",
    "\n",
    "df = pd.read_csv('./users_behavior.csv')"
   ]
  },
  {
   "cell_type": "code",
   "execution_count": 3,
   "metadata": {},
   "outputs": [
    {
     "data": {
      "text/html": [
       "<div>\n",
       "<style scoped>\n",
       "    .dataframe tbody tr th:only-of-type {\n",
       "        vertical-align: middle;\n",
       "    }\n",
       "\n",
       "    .dataframe tbody tr th {\n",
       "        vertical-align: top;\n",
       "    }\n",
       "\n",
       "    .dataframe thead th {\n",
       "        text-align: right;\n",
       "    }\n",
       "</style>\n",
       "<table border=\"1\" class=\"dataframe\">\n",
       "  <thead>\n",
       "    <tr style=\"text-align: right;\">\n",
       "      <th></th>\n",
       "      <th>calls</th>\n",
       "      <th>minutes</th>\n",
       "      <th>messages</th>\n",
       "      <th>mb_used</th>\n",
       "      <th>is_ultra</th>\n",
       "    </tr>\n",
       "  </thead>\n",
       "  <tbody>\n",
       "    <tr>\n",
       "      <th>0</th>\n",
       "      <td>40.0</td>\n",
       "      <td>311.90</td>\n",
       "      <td>83.0</td>\n",
       "      <td>19915.42</td>\n",
       "      <td>0</td>\n",
       "    </tr>\n",
       "    <tr>\n",
       "      <th>1</th>\n",
       "      <td>85.0</td>\n",
       "      <td>516.75</td>\n",
       "      <td>56.0</td>\n",
       "      <td>22696.96</td>\n",
       "      <td>0</td>\n",
       "    </tr>\n",
       "    <tr>\n",
       "      <th>2</th>\n",
       "      <td>77.0</td>\n",
       "      <td>467.66</td>\n",
       "      <td>86.0</td>\n",
       "      <td>21060.45</td>\n",
       "      <td>0</td>\n",
       "    </tr>\n",
       "    <tr>\n",
       "      <th>3</th>\n",
       "      <td>106.0</td>\n",
       "      <td>745.53</td>\n",
       "      <td>81.0</td>\n",
       "      <td>8437.39</td>\n",
       "      <td>1</td>\n",
       "    </tr>\n",
       "    <tr>\n",
       "      <th>4</th>\n",
       "      <td>66.0</td>\n",
       "      <td>418.74</td>\n",
       "      <td>1.0</td>\n",
       "      <td>14502.75</td>\n",
       "      <td>0</td>\n",
       "    </tr>\n",
       "  </tbody>\n",
       "</table>\n",
       "</div>"
      ],
      "text/plain": [
       "   calls  minutes  messages   mb_used  is_ultra\n",
       "0   40.0   311.90      83.0  19915.42         0\n",
       "1   85.0   516.75      56.0  22696.96         0\n",
       "2   77.0   467.66      86.0  21060.45         0\n",
       "3  106.0   745.53      81.0   8437.39         1\n",
       "4   66.0   418.74       1.0  14502.75         0"
      ]
     },
     "execution_count": 3,
     "metadata": {},
     "output_type": "execute_result"
    }
   ],
   "source": [
    "# prints the first 5 lines of the dataframe\n",
    "\n",
    "df.head()"
   ]
  },
  {
   "cell_type": "markdown",
   "metadata": {},
   "source": [
    "We can see that we have a total of 5 features available, the columns have correct names, and all the data is numerical."
   ]
  },
  {
   "cell_type": "code",
   "execution_count": 4,
   "metadata": {},
   "outputs": [
    {
     "name": "stdout",
     "output_type": "stream",
     "text": [
      "<class 'pandas.core.frame.DataFrame'>\n",
      "RangeIndex: 3214 entries, 0 to 3213\n",
      "Data columns (total 5 columns):\n",
      " #   Column    Non-Null Count  Dtype  \n",
      "---  ------    --------------  -----  \n",
      " 0   calls     3214 non-null   float64\n",
      " 1   minutes   3214 non-null   float64\n",
      " 2   messages  3214 non-null   float64\n",
      " 3   mb_used   3214 non-null   float64\n",
      " 4   is_ultra  3214 non-null   int64  \n",
      "dtypes: float64(4), int64(1)\n",
      "memory usage: 125.7 KB\n"
     ]
    }
   ],
   "source": [
    "# prints general information about the dataframe\n",
    "\n",
    "df.info()"
   ]
  },
  {
   "cell_type": "markdown",
   "metadata": {},
   "source": [
    "There are no missing values in the data."
   ]
  },
  {
   "cell_type": "code",
   "execution_count": 5,
   "metadata": {},
   "outputs": [
    {
     "data": {
      "text/html": [
       "<div>\n",
       "<style scoped>\n",
       "    .dataframe tbody tr th:only-of-type {\n",
       "        vertical-align: middle;\n",
       "    }\n",
       "\n",
       "    .dataframe tbody tr th {\n",
       "        vertical-align: top;\n",
       "    }\n",
       "\n",
       "    .dataframe thead th {\n",
       "        text-align: right;\n",
       "    }\n",
       "</style>\n",
       "<table border=\"1\" class=\"dataframe\">\n",
       "  <thead>\n",
       "    <tr style=\"text-align: right;\">\n",
       "      <th></th>\n",
       "      <th>calls</th>\n",
       "      <th>minutes</th>\n",
       "      <th>messages</th>\n",
       "      <th>mb_used</th>\n",
       "      <th>is_ultra</th>\n",
       "    </tr>\n",
       "  </thead>\n",
       "  <tbody>\n",
       "    <tr>\n",
       "      <th>count</th>\n",
       "      <td>3214.000000</td>\n",
       "      <td>3214.000000</td>\n",
       "      <td>3214.000000</td>\n",
       "      <td>3214.000000</td>\n",
       "      <td>3214.000000</td>\n",
       "    </tr>\n",
       "    <tr>\n",
       "      <th>mean</th>\n",
       "      <td>63.038892</td>\n",
       "      <td>438.208787</td>\n",
       "      <td>38.281269</td>\n",
       "      <td>17207.673836</td>\n",
       "      <td>0.306472</td>\n",
       "    </tr>\n",
       "    <tr>\n",
       "      <th>std</th>\n",
       "      <td>33.236368</td>\n",
       "      <td>234.569872</td>\n",
       "      <td>36.148326</td>\n",
       "      <td>7570.968246</td>\n",
       "      <td>0.461100</td>\n",
       "    </tr>\n",
       "    <tr>\n",
       "      <th>min</th>\n",
       "      <td>0.000000</td>\n",
       "      <td>0.000000</td>\n",
       "      <td>0.000000</td>\n",
       "      <td>0.000000</td>\n",
       "      <td>0.000000</td>\n",
       "    </tr>\n",
       "    <tr>\n",
       "      <th>25%</th>\n",
       "      <td>40.000000</td>\n",
       "      <td>274.575000</td>\n",
       "      <td>9.000000</td>\n",
       "      <td>12491.902500</td>\n",
       "      <td>0.000000</td>\n",
       "    </tr>\n",
       "    <tr>\n",
       "      <th>50%</th>\n",
       "      <td>62.000000</td>\n",
       "      <td>430.600000</td>\n",
       "      <td>30.000000</td>\n",
       "      <td>16943.235000</td>\n",
       "      <td>0.000000</td>\n",
       "    </tr>\n",
       "    <tr>\n",
       "      <th>75%</th>\n",
       "      <td>82.000000</td>\n",
       "      <td>571.927500</td>\n",
       "      <td>57.000000</td>\n",
       "      <td>21424.700000</td>\n",
       "      <td>1.000000</td>\n",
       "    </tr>\n",
       "    <tr>\n",
       "      <th>max</th>\n",
       "      <td>244.000000</td>\n",
       "      <td>1632.060000</td>\n",
       "      <td>224.000000</td>\n",
       "      <td>49745.730000</td>\n",
       "      <td>1.000000</td>\n",
       "    </tr>\n",
       "  </tbody>\n",
       "</table>\n",
       "</div>"
      ],
      "text/plain": [
       "             calls      minutes     messages       mb_used     is_ultra\n",
       "count  3214.000000  3214.000000  3214.000000   3214.000000  3214.000000\n",
       "mean     63.038892   438.208787    38.281269  17207.673836     0.306472\n",
       "std      33.236368   234.569872    36.148326   7570.968246     0.461100\n",
       "min       0.000000     0.000000     0.000000      0.000000     0.000000\n",
       "25%      40.000000   274.575000     9.000000  12491.902500     0.000000\n",
       "50%      62.000000   430.600000    30.000000  16943.235000     0.000000\n",
       "75%      82.000000   571.927500    57.000000  21424.700000     1.000000\n",
       "max     244.000000  1632.060000   224.000000  49745.730000     1.000000"
      ]
     },
     "execution_count": 5,
     "metadata": {},
     "output_type": "execute_result"
    }
   ],
   "source": [
    "# let's display the information with the characteristics of the features\n",
    "\n",
    "df.describe()"
   ]
  },
  {
   "cell_type": "markdown",
   "metadata": {},
   "source": [
    "Based on the obtained list of characteristic values and judging by std (standard deviation) values, we can note that our variables have a significant spread, indicating the presence of anomalies and outliers in the dataset."
   ]
  },
  {
   "cell_type": "markdown",
   "metadata": {},
   "source": [
    "Let's visualize the distribution of values in our dataframe and examine the relationships between all pairs of variables."
   ]
  },
  {
   "cell_type": "code",
   "execution_count": 6,
   "metadata": {},
   "outputs": [
    {
     "data": {
      "image/png": "[encoded data removed]",
      "text/plain": [
       "<Figure size 861.611x800 with 20 Axes>"
      ]
     },
     "metadata": {},
     "output_type": "display_data"
    }
   ],
   "source": [
    "# use the pairplot() function to visualize the graph\n",
    "\n",
    "_ = sns.pairplot(df, hue='is_ultra', palette='Set1', height=2)"
   ]
  },
  {
   "cell_type": "markdown",
   "metadata": {},
   "source": [
    "Data visualization reveals that there are more customers with the \"Smart\" tariff in our dataframe than customers with the \"Ultra\" tariff. Additionally, we can observe a strong linear relationship between the **calls** and **minutes** features. Thus, we have identified the presence of imbalanced observations and multicollinearity in the dataset."
   ]
  },
  {
   "cell_type": "markdown",
   "metadata": {},
   "source": [
    "Let's examine the class imbalance in relative terms:"
   ]
  },
  {
   "cell_type": "code",
   "execution_count": null,
   "metadata": {},
   "outputs": [],
   "source": [
    "# Let's calculate the percentage of Smart and Ultra subscribers\n",
    "\n",
    "round(df['is_ultra'].value_counts()/len(df) * 100)"
   ]
  },
  {
   "cell_type": "markdown",
   "metadata": {},
   "source": [
    "In our dataframe 69% of customers have the \"Smart\" tariff, while 31% have the \"Ultra\" tariff."
   ]
  },
  {
   "cell_type": "markdown",
   "metadata": {},
   "source": [
    "Class imbalance can occur due to the presence of duplicates in the dataset. We will check for explicit duplicates using the \"duplicated()\" method."
   ]
  },
  {
   "cell_type": "code",
   "execution_count": null,
   "metadata": {},
   "outputs": [],
   "source": [
    "# Returns the number of duplicates\n",
    "\n",
    "df.duplicated().sum()"
   ]
  },
  {
   "cell_type": "markdown",
   "metadata": {},
   "source": [
    "No explicit duplicates have been found.\n",
    "\n",
    "Despite the class imbalance, considering that we are dealing with a binary classification task, the explored models are likely to be weakly dependent on class balance. Therefore, we will not address the class imbalance issue and will use the \"stratify\" argument when splitting the data, which will maintain the original distribution of the target feature in all new datasets."
   ]
  },
  {
   "cell_type": "markdown",
   "metadata": {},
   "source": [
    "Let's revisit the earlier identified multicollinearity in our dataframe and visualize the correlation matrix using a heatmap."
   ]
  },
  {
   "cell_type": "code",
   "execution_count": 9,
   "metadata": {},
   "outputs": [
    {
     "data": {
      "image/png": "[encoded data removed]",
      "text/plain": [
       "<Figure size 1000x700 with 2 Axes>"
      ]
     },
     "metadata": {},
     "output_type": "display_data"
    }
   ],
   "source": [
    "# Graph showing the direct relationship between variables\n",
    "\n",
    "fif, ax = plt.subplots(figsize=(10, 7))\n",
    "_ = sns.heatmap(df.corr(), vmin=-1, vmax=1, annot=True, ax=ax)"
   ]
  },
  {
   "cell_type": "markdown",
   "metadata": {},
   "source": [
    "According to the obtained graph, we can observe a strong positive correlation between the **calls** and **minutes** features, indicating the presence of multicollinearity. Multicollinearity can lead to overfitting of linear models and produce incorrect results."
   ]
  },
  {
   "cell_type": "markdown",
   "metadata": {},
   "source": [
    "To address multicollinearity, it is necessary to exclude one of the correlated factors from the model."
   ]
  },
  {
   "cell_type": "code",
   "execution_count": 10,
   "metadata": {},
   "outputs": [],
   "source": [
    "# remove the calls feature from the dataframe\n",
    "\n",
    "df = df.drop('calls', axis=1)"
   ]
  },
  {
   "cell_type": "code",
   "execution_count": 11,
   "metadata": {},
   "outputs": [
    {
     "data": {
      "text/html": [
       "<div>\n",
       "<style scoped>\n",
       "    .dataframe tbody tr th:only-of-type {\n",
       "        vertical-align: middle;\n",
       "    }\n",
       "\n",
       "    .dataframe tbody tr th {\n",
       "        vertical-align: top;\n",
       "    }\n",
       "\n",
       "    .dataframe thead th {\n",
       "        text-align: right;\n",
       "    }\n",
       "</style>\n",
       "<table border=\"1\" class=\"dataframe\">\n",
       "  <thead>\n",
       "    <tr style=\"text-align: right;\">\n",
       "      <th></th>\n",
       "      <th>minutes</th>\n",
       "      <th>messages</th>\n",
       "      <th>mb_used</th>\n",
       "      <th>is_ultra</th>\n",
       "    </tr>\n",
       "  </thead>\n",
       "  <tbody>\n",
       "    <tr>\n",
       "      <th>0</th>\n",
       "      <td>311.90</td>\n",
       "      <td>83.0</td>\n",
       "      <td>19915.42</td>\n",
       "      <td>0</td>\n",
       "    </tr>\n",
       "    <tr>\n",
       "      <th>1</th>\n",
       "      <td>516.75</td>\n",
       "      <td>56.0</td>\n",
       "      <td>22696.96</td>\n",
       "      <td>0</td>\n",
       "    </tr>\n",
       "    <tr>\n",
       "      <th>2</th>\n",
       "      <td>467.66</td>\n",
       "      <td>86.0</td>\n",
       "      <td>21060.45</td>\n",
       "      <td>0</td>\n",
       "    </tr>\n",
       "    <tr>\n",
       "      <th>3</th>\n",
       "      <td>745.53</td>\n",
       "      <td>81.0</td>\n",
       "      <td>8437.39</td>\n",
       "      <td>1</td>\n",
       "    </tr>\n",
       "    <tr>\n",
       "      <th>4</th>\n",
       "      <td>418.74</td>\n",
       "      <td>1.0</td>\n",
       "      <td>14502.75</td>\n",
       "      <td>0</td>\n",
       "    </tr>\n",
       "  </tbody>\n",
       "</table>\n",
       "</div>"
      ],
      "text/plain": [
       "   minutes  messages   mb_used  is_ultra\n",
       "0   311.90      83.0  19915.42         0\n",
       "1   516.75      56.0  22696.96         0\n",
       "2   467.66      86.0  21060.45         0\n",
       "3   745.53      81.0   8437.39         1\n",
       "4   418.74       1.0  14502.75         0"
      ]
     },
     "execution_count": 11,
     "metadata": {},
     "output_type": "execute_result"
    }
   ],
   "source": [
    "# print the first five rows of the table to check\n",
    "\n",
    "df.head()"
   ]
  },
  {
   "cell_type": "markdown",
   "metadata": {},
   "source": [
    "**Conclusion.**\n",
    "Based on the preliminary data analysis, we determined that data preprocessing was not required. However, we identified class imbalance in the dataset and resolved the issue of multicollinearity by removing the strongly correlated feature. This prepares the dataset for further exploration."
   ]
  },
  {
   "cell_type": "markdown",
   "metadata": {},
   "source": [
    "## Data Splitting"
   ]
  },
  {
   "cell_type": "markdown",
   "metadata": {},
   "source": [
    "When building predictive models, the original data is typically divided into training and evaluation (testing/validation) sets. Usually the training set constitutes 75-80% of the original data, while the sizes of the testing and validation sets are usually equal. Therefore, we will split the data into three parts with a 3:1:1 ratio (60%, 20%, 20%).\n",
    "\n",
    "To split our dataset into subsets we will use the **train_test_split()** function and utilize the **stratify** argument to maintain the original distribution of the target feature in all new datasets.\n",
    "\n",
    "Since the goal of the study is to build a model that selects the appropriate tariff for the customer, we will use the **is_ultra** column (indicating which tariff the customer used during the month) as the target feature."
   ]
  },
  {
   "cell_type": "code",
   "execution_count": 12,
   "metadata": {},
   "outputs": [],
   "source": [
    "# create variables to store features and target feature\n",
    "\n",
    "features = df.drop(['is_ultra'], axis=1)\n",
    "target = df['is_ultra']"
   ]
  },
  {
   "cell_type": "markdown",
   "metadata": {},
   "source": [
    "The train_test_split() function returns two new data sets, so we first split the data set into training and test samples."
   ]
  },
  {
   "cell_type": "code",
   "execution_count": 13,
   "metadata": {},
   "outputs": [
    {
     "name": "stdout",
     "output_type": "stream",
     "text": [
      "Number of rows in the target feature in the training sample by class: [1783  788]\n",
      "Number of rows in the target feature in the sample by class: [446 197]\n"
     ]
    }
   ],
   "source": [
    "# Split the dataset into training and test samples\n",
    "\n",
    "features_train_80, features_test, target_train_80, target_test = train_test_split(features, target, test_size=0.2, \\\n",
    "                                                                                  random_state = 123456, \\\n",
    "                                                                                  stratify=target)\n",
    "print(f\"Number of rows in the target feature in the training sample by class: {np.bincount(target_train_80)}\")\n",
    "print(f\"Number of rows in the target feature in the sample by class: {np.bincount(target_test)}\")"
   ]
  },
  {
   "cell_type": "markdown",
   "metadata": {},
   "source": [
    "As a result we obtained two subsets, consisting of 80% and 20% of the original dataset respectively, while preserving the initial class distribution: 69% of examples belong to class 0 (\"Smart\"), and 31% belong to class 1 (\"Ultra\")."
   ]
  },
  {
   "cell_type": "markdown",
   "metadata": {},
   "source": [
    "Next, we will split the training set into training and validation subsets."
   ]
  },
  {
   "cell_type": "code",
   "execution_count": 14,
   "metadata": {},
   "outputs": [
    {
     "name": "stdout",
     "output_type": "stream",
     "text": [
      "Number of rows in the target feature in the training sample by class: [1337  591]\n",
      "Number of rows in target feature in validation sample by class: [446 197]\n"
     ]
    }
   ],
   "source": [
    "# Divide the training sample into training and validation samples in the ratio of 60% and 20%\n",
    "\n",
    "features_train_60, features_valid, target_train_60, target_valid = train_test_split(features_train_80, \\\n",
    "                                                                                    target_train_80, \\\n",
    "                                                                                    test_size=0.25, \\\n",
    "                                                                                    random_state = 123456, \\\n",
    "                                                                                    stratify=target_train_80)\n",
    "print(f\"Number of rows in the target feature in the training sample by class: {np.bincount(target_train_60)}\")\n",
    "print(f\"Number of rows in target feature in validation sample by class: {np.bincount(target_valid)}\")"
   ]
  },
  {
   "cell_type": "markdown",
   "metadata": {},
   "source": [
    "As a result we obtained two subsets, consisting of 60% and 20% of the original dataset, respectively, while preserving the initial class distribution."
   ]
  },
  {
   "cell_type": "markdown",
   "metadata": {},
   "source": [
    "Data splitting is complete.\n",
    "\n",
    "**Conclusion:** We have divided the data into three parts - the training, validation and test sets. The training set (df_train) will be used for direct model training. The validation set (df_valid) will be used to evaluate the model's quality and optimize algorithm parameters, ultimately selecting the best model. Finally, the test set (df_test) will be used for the final verification of the chosen model with specific hyperparameters. Now we can proceed to evaluate the quality of different models."
   ]
  },
  {
   "cell_type": "markdown",
   "metadata": {},
   "source": [
    "## Model Research"
   ]
  },
  {
   "cell_type": "markdown",
   "metadata": {},
   "source": [
    "The target feature is categorical and has two values: \"Ultra\" (1) and \"Smart\" (0). This indicates a classification task. For this task, we will consider three classification algorithms: **decision tree, random forest, and logistic regression.** We will select the best model based on accuracy."
   ]
  },
  {
   "cell_type": "markdown",
   "metadata": {},
   "source": [
    "### Decision Tree"
   ]
  },
  {
   "cell_type": "markdown",
   "metadata": {},
   "source": [
    "To initialize a model using the decision tree algorithm, we will use the **DecisionTreeClassifier** class. Its main settings (hyperparameters) include:\n",
    "\n",
    "* **criterion** = 'gini' - the function to measure the quality of a split. Supported criteria are 'gini' for Gini impurity and 'entropy' for information gain.\n",
    "* **splitter** = 'best' - the strategy used to choose the split at each node. Supported strategies are 'best' to choose the best split and 'random' to choose the best random split.\n",
    "* **max_depth** = None - the maximum depth of the tree. If set to None, the tree will be grown until each leaf contains only one class or until each leaf has the minimum number of samples specified by min_samples_split.\n",
    "* **min_samples_split** = 2 - the minimum number of samples required to split an internal node.\n",
    "* **min_samples_leaf** = 1 - the minimum number of samples required to be at a leaf node. Splitting is allowed if each leaf of a node would have at least min_samples_leaf samples. This can lead to model smoothing."
   ]
  },
  {
   "cell_type": "markdown",
   "metadata": {},
   "source": [
    "The search for optimal parameter values can be performed using the **GridSearchCV** class."
   ]
  },
  {
   "cell_type": "markdown",
   "metadata": {},
   "source": [
    "To use this class let's specify the required parameters in the \"params_tree\" grid using a dictionary. The numeric parameters will be changed as follows: max_depth (tree depth) - from 1 to 12 in steps of 2. Since min_samples_leaf (minimum number of samples in leaves) and min_samples_split (minimum number of samples for splitting) are duplicate hyperparameters, we will include only min_samples_split, which will go through the values from 2 to 9 in steps of 2."
   ]
  },
  {
   "cell_type": "code",
   "execution_count": 15,
   "metadata": {},
   "outputs": [],
   "source": [
    "# Create a dictionary with model parameters\n",
    "\n",
    "params_tree = { 'criterion': ['gini', 'entropy'],\n",
    "                'splitter': ['best', 'random'],\n",
    "                'max_depth': range (1,13, 2),\n",
    "                'min_samples_split': range (2,10,2) }"
   ]
  },
  {
   "cell_type": "code",
   "execution_count": 16,
   "metadata": {},
   "outputs": [
    {
     "data": {
      "text/html": [
       "<style>#sk-container-id-1 {color: black;background-color: white;}#sk-container-id-1 pre{padding: 0;}#sk-container-id-1 div.sk-toggleable {background-color: white;}#sk-container-id-1 label.sk-toggleable__label {cursor: pointer;display: block;width: 100%;margin-bottom: 0;padding: 0.3em;box-sizing: border-box;text-align: center;}#sk-container-id-1 label.sk-toggleable__label-arrow:before {content: \"▸\";float: left;margin-right: 0.25em;color: #696969;}#sk-container-id-1 label.sk-toggleable__label-arrow:hover:before {color: black;}#sk-container-id-1 div.sk-estimator:hover label.sk-toggleable__label-arrow:before {color: black;}#sk-container-id-1 div.sk-toggleable__content {max-height: 0;max-width: 0;overflow: hidden;text-align: left;background-color: #f0f8ff;}#sk-container-id-1 div.sk-toggleable__content pre {margin: 0.2em;color: black;border-radius: 0.25em;background-color: #f0f8ff;}#sk-container-id-1 input.sk-toggleable__control:checked~div.sk-toggleable__content {max-height: 200px;max-width: 100%;overflow: auto;}#sk-container-id-1 input.sk-toggleable__control:checked~label.sk-toggleable__label-arrow:before {content: \"▾\";}#sk-container-id-1 div.sk-estimator input.sk-toggleable__control:checked~label.sk-toggleable__label {background-color: #d4ebff;}#sk-container-id-1 div.sk-label input.sk-toggleable__control:checked~label.sk-toggleable__label {background-color: #d4ebff;}#sk-container-id-1 input.sk-hidden--visually {border: 0;clip: rect(1px 1px 1px 1px);clip: rect(1px, 1px, 1px, 1px);height: 1px;margin: -1px;overflow: hidden;padding: 0;position: absolute;width: 1px;}#sk-container-id-1 div.sk-estimator {font-family: monospace;background-color: #f0f8ff;border: 1px dotted black;border-radius: 0.25em;box-sizing: border-box;margin-bottom: 0.5em;}#sk-container-id-1 div.sk-estimator:hover {background-color: #d4ebff;}#sk-container-id-1 div.sk-parallel-item::after {content: \"\";width: 100%;border-bottom: 1px solid gray;flex-grow: 1;}#sk-container-id-1 div.sk-label:hover label.sk-toggleable__label {background-color: #d4ebff;}#sk-container-id-1 div.sk-serial::before {content: \"\";position: absolute;border-left: 1px solid gray;box-sizing: border-box;top: 0;bottom: 0;left: 50%;z-index: 0;}#sk-container-id-1 div.sk-serial {display: flex;flex-direction: column;align-items: center;background-color: white;padding-right: 0.2em;padding-left: 0.2em;position: relative;}#sk-container-id-1 div.sk-item {position: relative;z-index: 1;}#sk-container-id-1 div.sk-parallel {display: flex;align-items: stretch;justify-content: center;background-color: white;position: relative;}#sk-container-id-1 div.sk-item::before, #sk-container-id-1 div.sk-parallel-item::before {content: \"\";position: absolute;border-left: 1px solid gray;box-sizing: border-box;top: 0;bottom: 0;left: 50%;z-index: -1;}#sk-container-id-1 div.sk-parallel-item {display: flex;flex-direction: column;z-index: 1;position: relative;background-color: white;}#sk-container-id-1 div.sk-parallel-item:first-child::after {align-self: flex-end;width: 50%;}#sk-container-id-1 div.sk-parallel-item:last-child::after {align-self: flex-start;width: 50%;}#sk-container-id-1 div.sk-parallel-item:only-child::after {width: 0;}#sk-container-id-1 div.sk-dashed-wrapped {border: 1px dashed gray;margin: 0 0.4em 0.5em 0.4em;box-sizing: border-box;padding-bottom: 0.4em;background-color: white;}#sk-container-id-1 div.sk-label label {font-family: monospace;font-weight: bold;display: inline-block;line-height: 1.2em;}#sk-container-id-1 div.sk-label-container {text-align: center;}#sk-container-id-1 div.sk-container {/* jupyter's `normalize.less` sets `[hidden] { display: none; }` but bootstrap.min.css set `[hidden] { display: none !important; }` so we also need the `!important` here to be able to override the default hidden behavior on the sphinx rendered scikit-learn.org. See: https://github.com/scikit-learn/scikit-learn/issues/21755 */display: inline-block !important;position: relative;}#sk-container-id-1 div.sk-text-repr-fallback {display: none;}</style><div id=\"sk-container-id-1\" class=\"sk-top-container\"><div class=\"sk-text-repr-fallback\"><pre>GridSearchCV(estimator=DecisionTreeClassifier(random_state=12345),\n",
       "             param_grid={&#x27;criterion&#x27;: [&#x27;gini&#x27;, &#x27;entropy&#x27;],\n",
       "                         &#x27;max_depth&#x27;: range(1, 13, 2),\n",
       "                         &#x27;min_samples_split&#x27;: range(2, 10, 2),\n",
       "                         &#x27;splitter&#x27;: [&#x27;best&#x27;, &#x27;random&#x27;]})</pre><b>In a Jupyter environment, please rerun this cell to show the HTML representation or trust the notebook. <br />On GitHub, the HTML representation is unable to render, please try loading this page with nbviewer.org.</b></div><div class=\"sk-container\" hidden><div class=\"sk-item sk-dashed-wrapped\"><div class=\"sk-label-container\"><div class=\"sk-label sk-toggleable\"><input class=\"sk-toggleable__control sk-hidden--visually\" id=\"sk-estimator-id-1\" type=\"checkbox\" ><label for=\"sk-estimator-id-1\" class=\"sk-toggleable__label sk-toggleable__label-arrow\">GridSearchCV</label><div class=\"sk-toggleable__content\"><pre>GridSearchCV(estimator=DecisionTreeClassifier(random_state=12345),\n",
       "             param_grid={&#x27;criterion&#x27;: [&#x27;gini&#x27;, &#x27;entropy&#x27;],\n",
       "                         &#x27;max_depth&#x27;: range(1, 13, 2),\n",
       "                         &#x27;min_samples_split&#x27;: range(2, 10, 2),\n",
       "                         &#x27;splitter&#x27;: [&#x27;best&#x27;, &#x27;random&#x27;]})</pre></div></div></div><div class=\"sk-parallel\"><div class=\"sk-parallel-item\"><div class=\"sk-item\"><div class=\"sk-label-container\"><div class=\"sk-label sk-toggleable\"><input class=\"sk-toggleable__control sk-hidden--visually\" id=\"sk-estimator-id-2\" type=\"checkbox\" ><label for=\"sk-estimator-id-2\" class=\"sk-toggleable__label sk-toggleable__label-arrow\">estimator: DecisionTreeClassifier</label><div class=\"sk-toggleable__content\"><pre>DecisionTreeClassifier(random_state=12345)</pre></div></div></div><div class=\"sk-serial\"><div class=\"sk-item\"><div class=\"sk-estimator sk-toggleable\"><input class=\"sk-toggleable__control sk-hidden--visually\" id=\"sk-estimator-id-3\" type=\"checkbox\" ><label for=\"sk-estimator-id-3\" class=\"sk-toggleable__label sk-toggleable__label-arrow\">DecisionTreeClassifier</label><div class=\"sk-toggleable__content\"><pre>DecisionTreeClassifier(random_state=12345)</pre></div></div></div></div></div></div></div></div></div></div>"
      ],
      "text/plain": [
       "GridSearchCV(estimator=DecisionTreeClassifier(random_state=12345),\n",
       "             param_grid={'criterion': ['gini', 'entropy'],\n",
       "                         'max_depth': range(1, 13, 2),\n",
       "                         'min_samples_split': range(2, 10, 2),\n",
       "                         'splitter': ['best', 'random']})"
      ]
     },
     "execution_count": 16,
     "metadata": {},
     "output_type": "execute_result"
    }
   ],
   "source": [
    "# Create a grid_tree object for GridSearchCV\n",
    "\n",
    "grid_tree = GridSearchCV(DecisionTreeClassifier(random_state=12345), params_tree)\n",
    "\n",
    "# Start model training\n",
    "\n",
    "grid_tree.fit(features_train_80, target_train_80)"
   ]
  },
  {
   "cell_type": "code",
   "execution_count": 17,
   "metadata": {},
   "outputs": [
    {
     "data": {
      "text/plain": [
       "{'criterion': 'entropy',\n",
       " 'max_depth': 11,\n",
       " 'min_samples_split': 8,\n",
       " 'splitter': 'random'}"
      ]
     },
     "execution_count": 17,
     "metadata": {},
     "output_type": "execute_result"
    }
   ],
   "source": [
    "# List the best parameters\n",
    "\n",
    "grid_tree.best_params_"
   ]
  },
  {
   "cell_type": "code",
   "execution_count": 18,
   "metadata": {},
   "outputs": [
    {
     "data": {
      "text/html": [
       "<style>#sk-container-id-2 {color: black;background-color: white;}#sk-container-id-2 pre{padding: 0;}#sk-container-id-2 div.sk-toggleable {background-color: white;}#sk-container-id-2 label.sk-toggleable__label {cursor: pointer;display: block;width: 100%;margin-bottom: 0;padding: 0.3em;box-sizing: border-box;text-align: center;}#sk-container-id-2 label.sk-toggleable__label-arrow:before {content: \"▸\";float: left;margin-right: 0.25em;color: #696969;}#sk-container-id-2 label.sk-toggleable__label-arrow:hover:before {color: black;}#sk-container-id-2 div.sk-estimator:hover label.sk-toggleable__label-arrow:before {color: black;}#sk-container-id-2 div.sk-toggleable__content {max-height: 0;max-width: 0;overflow: hidden;text-align: left;background-color: #f0f8ff;}#sk-container-id-2 div.sk-toggleable__content pre {margin: 0.2em;color: black;border-radius: 0.25em;background-color: #f0f8ff;}#sk-container-id-2 input.sk-toggleable__control:checked~div.sk-toggleable__content {max-height: 200px;max-width: 100%;overflow: auto;}#sk-container-id-2 input.sk-toggleable__control:checked~label.sk-toggleable__label-arrow:before {content: \"▾\";}#sk-container-id-2 div.sk-estimator input.sk-toggleable__control:checked~label.sk-toggleable__label {background-color: #d4ebff;}#sk-container-id-2 div.sk-label input.sk-toggleable__control:checked~label.sk-toggleable__label {background-color: #d4ebff;}#sk-container-id-2 input.sk-hidden--visually {border: 0;clip: rect(1px 1px 1px 1px);clip: rect(1px, 1px, 1px, 1px);height: 1px;margin: -1px;overflow: hidden;padding: 0;position: absolute;width: 1px;}#sk-container-id-2 div.sk-estimator {font-family: monospace;background-color: #f0f8ff;border: 1px dotted black;border-radius: 0.25em;box-sizing: border-box;margin-bottom: 0.5em;}#sk-container-id-2 div.sk-estimator:hover {background-color: #d4ebff;}#sk-container-id-2 div.sk-parallel-item::after {content: \"\";width: 100%;border-bottom: 1px solid gray;flex-grow: 1;}#sk-container-id-2 div.sk-label:hover label.sk-toggleable__label {background-color: #d4ebff;}#sk-container-id-2 div.sk-serial::before {content: \"\";position: absolute;border-left: 1px solid gray;box-sizing: border-box;top: 0;bottom: 0;left: 50%;z-index: 0;}#sk-container-id-2 div.sk-serial {display: flex;flex-direction: column;align-items: center;background-color: white;padding-right: 0.2em;padding-left: 0.2em;position: relative;}#sk-container-id-2 div.sk-item {position: relative;z-index: 1;}#sk-container-id-2 div.sk-parallel {display: flex;align-items: stretch;justify-content: center;background-color: white;position: relative;}#sk-container-id-2 div.sk-item::before, #sk-container-id-2 div.sk-parallel-item::before {content: \"\";position: absolute;border-left: 1px solid gray;box-sizing: border-box;top: 0;bottom: 0;left: 50%;z-index: -1;}#sk-container-id-2 div.sk-parallel-item {display: flex;flex-direction: column;z-index: 1;position: relative;background-color: white;}#sk-container-id-2 div.sk-parallel-item:first-child::after {align-self: flex-end;width: 50%;}#sk-container-id-2 div.sk-parallel-item:last-child::after {align-self: flex-start;width: 50%;}#sk-container-id-2 div.sk-parallel-item:only-child::after {width: 0;}#sk-container-id-2 div.sk-dashed-wrapped {border: 1px dashed gray;margin: 0 0.4em 0.5em 0.4em;box-sizing: border-box;padding-bottom: 0.4em;background-color: white;}#sk-container-id-2 div.sk-label label {font-family: monospace;font-weight: bold;display: inline-block;line-height: 1.2em;}#sk-container-id-2 div.sk-label-container {text-align: center;}#sk-container-id-2 div.sk-container {/* jupyter's `normalize.less` sets `[hidden] { display: none; }` but bootstrap.min.css set `[hidden] { display: none !important; }` so we also need the `!important` here to be able to override the default hidden behavior on the sphinx rendered scikit-learn.org. See: https://github.com/scikit-learn/scikit-learn/issues/21755 */display: inline-block !important;position: relative;}#sk-container-id-2 div.sk-text-repr-fallback {display: none;}</style><div id=\"sk-container-id-2\" class=\"sk-top-container\"><div class=\"sk-text-repr-fallback\"><pre>DecisionTreeClassifier(criterion=&#x27;entropy&#x27;, max_depth=11, min_samples_split=8,\n",
       "                       random_state=12345, splitter=&#x27;random&#x27;)</pre><b>In a Jupyter environment, please rerun this cell to show the HTML representation or trust the notebook. <br />On GitHub, the HTML representation is unable to render, please try loading this page with nbviewer.org.</b></div><div class=\"sk-container\" hidden><div class=\"sk-item\"><div class=\"sk-estimator sk-toggleable\"><input class=\"sk-toggleable__control sk-hidden--visually\" id=\"sk-estimator-id-4\" type=\"checkbox\" checked><label for=\"sk-estimator-id-4\" class=\"sk-toggleable__label sk-toggleable__label-arrow\">DecisionTreeClassifier</label><div class=\"sk-toggleable__content\"><pre>DecisionTreeClassifier(criterion=&#x27;entropy&#x27;, max_depth=11, min_samples_split=8,\n",
       "                       random_state=12345, splitter=&#x27;random&#x27;)</pre></div></div></div></div></div>"
      ],
      "text/plain": [
       "DecisionTreeClassifier(criterion='entropy', max_depth=11, min_samples_split=8,\n",
       "                       random_state=12345, splitter='random')"
      ]
     },
     "execution_count": 18,
     "metadata": {},
     "output_type": "execute_result"
    }
   ],
   "source": [
    "# Keep the best model\n",
    "\n",
    "best_model_tree = grid_tree.best_estimator_\n",
    "best_model_tree"
   ]
  },
  {
   "cell_type": "code",
   "execution_count": 19,
   "metadata": {},
   "outputs": [
    {
     "name": "stdout",
     "output_type": "stream",
     "text": [
      "The best cross-validation accuracy: 0.7915243096218504\n"
     ]
    }
   ],
   "source": [
    "# print the best cross-check correctness score using the best_score attribute\n",
    "\n",
    "print('The best cross-validation accuracy:', grid_tree.best_score_)"
   ]
  },
  {
   "cell_type": "markdown",
   "metadata": {},
   "source": [
    "As a result we obtained the best decision tree model, which achieves an accuracy of 0.79. This means that we made the correct prediction for 79% of the tariffs in the validation dataset. For our initial task this level of accuracy is sufficient, indicating that our model can be reasonably reliable for use."
   ]
  },
  {
   "cell_type": "markdown",
   "metadata": {},
   "source": [
    "### Random Forest"
   ]
  },
  {
   "cell_type": "markdown",
   "metadata": {},
   "source": [
    "To explore the random forest classification algorithm, we will use the **RandomForestClassifier** class. This class has its own set of main parameters, including:\n",
    "\n",
    "* **n_estimators** - the number of trees to be used.\n",
    "* **criterion** - the criterion used for splitting samples at intermediate nodes.\n",
    "* **max_features** - the number of features to consider when looking for the best split.\n",
    "* **min_samples_leaf** - the minimum number of samples required to be at a leaf node.\n",
    "* **max_depth** - the maximum depth of the tree."
   ]
  },
  {
   "cell_type": "markdown",
   "metadata": {},
   "source": [
    "Numeric parameters for the GridSearchCV class will vary as follows:\n",
    "\n",
    "* n_estimators (number of trees in the forest) - from 10 to 50 with a step of 10,\n",
    "* max_depth (tree depth) - from 1 to 12 with a step of 2,\n",
    "* min_samples_leaf (minimum number of samples in leaf nodes) - from 1 to 7."
   ]
  },
  {
   "cell_type": "code",
   "execution_count": 20,
   "metadata": {},
   "outputs": [],
   "source": [
    "# Create a dictionary for model parameters\n",
    "\n",
    "params_forest = { 'n_estimators': range (10, 51, 10), \n",
    "                  'criterion': ['gini', 'entropy'],\n",
    "                  'max_depth': range (1,13, 2),\n",
    "                  'min_samples_leaf': range (1,8) }"
   ]
  },
  {
   "cell_type": "code",
   "execution_count": 21,
   "metadata": {},
   "outputs": [
    {
     "data": {
      "text/html": [
       "<style>#sk-container-id-3 {color: black;background-color: white;}#sk-container-id-3 pre{padding: 0;}#sk-container-id-3 div.sk-toggleable {background-color: white;}#sk-container-id-3 label.sk-toggleable__label {cursor: pointer;display: block;width: 100%;margin-bottom: 0;padding: 0.3em;box-sizing: border-box;text-align: center;}#sk-container-id-3 label.sk-toggleable__label-arrow:before {content: \"▸\";float: left;margin-right: 0.25em;color: #696969;}#sk-container-id-3 label.sk-toggleable__label-arrow:hover:before {color: black;}#sk-container-id-3 div.sk-estimator:hover label.sk-toggleable__label-arrow:before {color: black;}#sk-container-id-3 div.sk-toggleable__content {max-height: 0;max-width: 0;overflow: hidden;text-align: left;background-color: #f0f8ff;}#sk-container-id-3 div.sk-toggleable__content pre {margin: 0.2em;color: black;border-radius: 0.25em;background-color: #f0f8ff;}#sk-container-id-3 input.sk-toggleable__control:checked~div.sk-toggleable__content {max-height: 200px;max-width: 100%;overflow: auto;}#sk-container-id-3 input.sk-toggleable__control:checked~label.sk-toggleable__label-arrow:before {content: \"▾\";}#sk-container-id-3 div.sk-estimator input.sk-toggleable__control:checked~label.sk-toggleable__label {background-color: #d4ebff;}#sk-container-id-3 div.sk-label input.sk-toggleable__control:checked~label.sk-toggleable__label {background-color: #d4ebff;}#sk-container-id-3 input.sk-hidden--visually {border: 0;clip: rect(1px 1px 1px 1px);clip: rect(1px, 1px, 1px, 1px);height: 1px;margin: -1px;overflow: hidden;padding: 0;position: absolute;width: 1px;}#sk-container-id-3 div.sk-estimator {font-family: monospace;background-color: #f0f8ff;border: 1px dotted black;border-radius: 0.25em;box-sizing: border-box;margin-bottom: 0.5em;}#sk-container-id-3 div.sk-estimator:hover {background-color: #d4ebff;}#sk-container-id-3 div.sk-parallel-item::after {content: \"\";width: 100%;border-bottom: 1px solid gray;flex-grow: 1;}#sk-container-id-3 div.sk-label:hover label.sk-toggleable__label {background-color: #d4ebff;}#sk-container-id-3 div.sk-serial::before {content: \"\";position: absolute;border-left: 1px solid gray;box-sizing: border-box;top: 0;bottom: 0;left: 50%;z-index: 0;}#sk-container-id-3 div.sk-serial {display: flex;flex-direction: column;align-items: center;background-color: white;padding-right: 0.2em;padding-left: 0.2em;position: relative;}#sk-container-id-3 div.sk-item {position: relative;z-index: 1;}#sk-container-id-3 div.sk-parallel {display: flex;align-items: stretch;justify-content: center;background-color: white;position: relative;}#sk-container-id-3 div.sk-item::before, #sk-container-id-3 div.sk-parallel-item::before {content: \"\";position: absolute;border-left: 1px solid gray;box-sizing: border-box;top: 0;bottom: 0;left: 50%;z-index: -1;}#sk-container-id-3 div.sk-parallel-item {display: flex;flex-direction: column;z-index: 1;position: relative;background-color: white;}#sk-container-id-3 div.sk-parallel-item:first-child::after {align-self: flex-end;width: 50%;}#sk-container-id-3 div.sk-parallel-item:last-child::after {align-self: flex-start;width: 50%;}#sk-container-id-3 div.sk-parallel-item:only-child::after {width: 0;}#sk-container-id-3 div.sk-dashed-wrapped {border: 1px dashed gray;margin: 0 0.4em 0.5em 0.4em;box-sizing: border-box;padding-bottom: 0.4em;background-color: white;}#sk-container-id-3 div.sk-label label {font-family: monospace;font-weight: bold;display: inline-block;line-height: 1.2em;}#sk-container-id-3 div.sk-label-container {text-align: center;}#sk-container-id-3 div.sk-container {/* jupyter's `normalize.less` sets `[hidden] { display: none; }` but bootstrap.min.css set `[hidden] { display: none !important; }` so we also need the `!important` here to be able to override the default hidden behavior on the sphinx rendered scikit-learn.org. See: https://github.com/scikit-learn/scikit-learn/issues/21755 */display: inline-block !important;position: relative;}#sk-container-id-3 div.sk-text-repr-fallback {display: none;}</style><div id=\"sk-container-id-3\" class=\"sk-top-container\"><div class=\"sk-text-repr-fallback\"><pre>GridSearchCV(estimator=RandomForestClassifier(),\n",
       "             param_grid={&#x27;criterion&#x27;: [&#x27;gini&#x27;, &#x27;entropy&#x27;],\n",
       "                         &#x27;max_depth&#x27;: range(1, 13, 2),\n",
       "                         &#x27;min_samples_leaf&#x27;: range(1, 8),\n",
       "                         &#x27;n_estimators&#x27;: range(10, 51, 10)})</pre><b>In a Jupyter environment, please rerun this cell to show the HTML representation or trust the notebook. <br />On GitHub, the HTML representation is unable to render, please try loading this page with nbviewer.org.</b></div><div class=\"sk-container\" hidden><div class=\"sk-item sk-dashed-wrapped\"><div class=\"sk-label-container\"><div class=\"sk-label sk-toggleable\"><input class=\"sk-toggleable__control sk-hidden--visually\" id=\"sk-estimator-id-5\" type=\"checkbox\" ><label for=\"sk-estimator-id-5\" class=\"sk-toggleable__label sk-toggleable__label-arrow\">GridSearchCV</label><div class=\"sk-toggleable__content\"><pre>GridSearchCV(estimator=RandomForestClassifier(),\n",
       "             param_grid={&#x27;criterion&#x27;: [&#x27;gini&#x27;, &#x27;entropy&#x27;],\n",
       "                         &#x27;max_depth&#x27;: range(1, 13, 2),\n",
       "                         &#x27;min_samples_leaf&#x27;: range(1, 8),\n",
       "                         &#x27;n_estimators&#x27;: range(10, 51, 10)})</pre></div></div></div><div class=\"sk-parallel\"><div class=\"sk-parallel-item\"><div class=\"sk-item\"><div class=\"sk-label-container\"><div class=\"sk-label sk-toggleable\"><input class=\"sk-toggleable__control sk-hidden--visually\" id=\"sk-estimator-id-6\" type=\"checkbox\" ><label for=\"sk-estimator-id-6\" class=\"sk-toggleable__label sk-toggleable__label-arrow\">estimator: RandomForestClassifier</label><div class=\"sk-toggleable__content\"><pre>RandomForestClassifier()</pre></div></div></div><div class=\"sk-serial\"><div class=\"sk-item\"><div class=\"sk-estimator sk-toggleable\"><input class=\"sk-toggleable__control sk-hidden--visually\" id=\"sk-estimator-id-7\" type=\"checkbox\" ><label for=\"sk-estimator-id-7\" class=\"sk-toggleable__label sk-toggleable__label-arrow\">RandomForestClassifier</label><div class=\"sk-toggleable__content\"><pre>RandomForestClassifier()</pre></div></div></div></div></div></div></div></div></div></div>"
      ],
      "text/plain": [
       "GridSearchCV(estimator=RandomForestClassifier(),\n",
       "             param_grid={'criterion': ['gini', 'entropy'],\n",
       "                         'max_depth': range(1, 13, 2),\n",
       "                         'min_samples_leaf': range(1, 8),\n",
       "                         'n_estimators': range(10, 51, 10)})"
      ]
     },
     "execution_count": 21,
     "metadata": {},
     "output_type": "execute_result"
    }
   ],
   "source": [
    "# Create a grid_tree object for GridSearchCV\n",
    "\n",
    "grid_forest = GridSearchCV(RandomForestClassifier(), params_forest)\n",
    "\n",
    "# Start model training\n",
    "\n",
    "grid_forest.fit(features_train_80, target_train_80)"
   ]
  },
  {
   "cell_type": "code",
   "execution_count": 22,
   "metadata": {},
   "outputs": [
    {
     "data": {
      "text/plain": [
       "{'criterion': 'gini',\n",
       " 'max_depth': 11,\n",
       " 'min_samples_leaf': 5,\n",
       " 'n_estimators': 30}"
      ]
     },
     "execution_count": 22,
     "metadata": {},
     "output_type": "execute_result"
    }
   ],
   "source": [
    "# Print the list of best parameters\n",
    "\n",
    "grid_forest.best_params_"
   ]
  },
  {
   "cell_type": "code",
   "execution_count": 23,
   "metadata": {},
   "outputs": [
    {
     "data": {
      "text/html": [
       "<style>#sk-container-id-4 {color: black;background-color: white;}#sk-container-id-4 pre{padding: 0;}#sk-container-id-4 div.sk-toggleable {background-color: white;}#sk-container-id-4 label.sk-toggleable__label {cursor: pointer;display: block;width: 100%;margin-bottom: 0;padding: 0.3em;box-sizing: border-box;text-align: center;}#sk-container-id-4 label.sk-toggleable__label-arrow:before {content: \"▸\";float: left;margin-right: 0.25em;color: #696969;}#sk-container-id-4 label.sk-toggleable__label-arrow:hover:before {color: black;}#sk-container-id-4 div.sk-estimator:hover label.sk-toggleable__label-arrow:before {color: black;}#sk-container-id-4 div.sk-toggleable__content {max-height: 0;max-width: 0;overflow: hidden;text-align: left;background-color: #f0f8ff;}#sk-container-id-4 div.sk-toggleable__content pre {margin: 0.2em;color: black;border-radius: 0.25em;background-color: #f0f8ff;}#sk-container-id-4 input.sk-toggleable__control:checked~div.sk-toggleable__content {max-height: 200px;max-width: 100%;overflow: auto;}#sk-container-id-4 input.sk-toggleable__control:checked~label.sk-toggleable__label-arrow:before {content: \"▾\";}#sk-container-id-4 div.sk-estimator input.sk-toggleable__control:checked~label.sk-toggleable__label {background-color: #d4ebff;}#sk-container-id-4 div.sk-label input.sk-toggleable__control:checked~label.sk-toggleable__label {background-color: #d4ebff;}#sk-container-id-4 input.sk-hidden--visually {border: 0;clip: rect(1px 1px 1px 1px);clip: rect(1px, 1px, 1px, 1px);height: 1px;margin: -1px;overflow: hidden;padding: 0;position: absolute;width: 1px;}#sk-container-id-4 div.sk-estimator {font-family: monospace;background-color: #f0f8ff;border: 1px dotted black;border-radius: 0.25em;box-sizing: border-box;margin-bottom: 0.5em;}#sk-container-id-4 div.sk-estimator:hover {background-color: #d4ebff;}#sk-container-id-4 div.sk-parallel-item::after {content: \"\";width: 100%;border-bottom: 1px solid gray;flex-grow: 1;}#sk-container-id-4 div.sk-label:hover label.sk-toggleable__label {background-color: #d4ebff;}#sk-container-id-4 div.sk-serial::before {content: \"\";position: absolute;border-left: 1px solid gray;box-sizing: border-box;top: 0;bottom: 0;left: 50%;z-index: 0;}#sk-container-id-4 div.sk-serial {display: flex;flex-direction: column;align-items: center;background-color: white;padding-right: 0.2em;padding-left: 0.2em;position: relative;}#sk-container-id-4 div.sk-item {position: relative;z-index: 1;}#sk-container-id-4 div.sk-parallel {display: flex;align-items: stretch;justify-content: center;background-color: white;position: relative;}#sk-container-id-4 div.sk-item::before, #sk-container-id-4 div.sk-parallel-item::before {content: \"\";position: absolute;border-left: 1px solid gray;box-sizing: border-box;top: 0;bottom: 0;left: 50%;z-index: -1;}#sk-container-id-4 div.sk-parallel-item {display: flex;flex-direction: column;z-index: 1;position: relative;background-color: white;}#sk-container-id-4 div.sk-parallel-item:first-child::after {align-self: flex-end;width: 50%;}#sk-container-id-4 div.sk-parallel-item:last-child::after {align-self: flex-start;width: 50%;}#sk-container-id-4 div.sk-parallel-item:only-child::after {width: 0;}#sk-container-id-4 div.sk-dashed-wrapped {border: 1px dashed gray;margin: 0 0.4em 0.5em 0.4em;box-sizing: border-box;padding-bottom: 0.4em;background-color: white;}#sk-container-id-4 div.sk-label label {font-family: monospace;font-weight: bold;display: inline-block;line-height: 1.2em;}#sk-container-id-4 div.sk-label-container {text-align: center;}#sk-container-id-4 div.sk-container {/* jupyter's `normalize.less` sets `[hidden] { display: none; }` but bootstrap.min.css set `[hidden] { display: none !important; }` so we also need the `!important` here to be able to override the default hidden behavior on the sphinx rendered scikit-learn.org. See: https://github.com/scikit-learn/scikit-learn/issues/21755 */display: inline-block !important;position: relative;}#sk-container-id-4 div.sk-text-repr-fallback {display: none;}</style><div id=\"sk-container-id-4\" class=\"sk-top-container\"><div class=\"sk-text-repr-fallback\"><pre>RandomForestClassifier(max_depth=11, min_samples_leaf=5, n_estimators=30)</pre><b>In a Jupyter environment, please rerun this cell to show the HTML representation or trust the notebook. <br />On GitHub, the HTML representation is unable to render, please try loading this page with nbviewer.org.</b></div><div class=\"sk-container\" hidden><div class=\"sk-item\"><div class=\"sk-estimator sk-toggleable\"><input class=\"sk-toggleable__control sk-hidden--visually\" id=\"sk-estimator-id-8\" type=\"checkbox\" checked><label for=\"sk-estimator-id-8\" class=\"sk-toggleable__label sk-toggleable__label-arrow\">RandomForestClassifier</label><div class=\"sk-toggleable__content\"><pre>RandomForestClassifier(max_depth=11, min_samples_leaf=5, n_estimators=30)</pre></div></div></div></div></div>"
      ],
      "text/plain": [
       "RandomForestClassifier(max_depth=11, min_samples_leaf=5, n_estimators=30)"
      ]
     },
     "execution_count": 23,
     "metadata": {},
     "output_type": "execute_result"
    }
   ],
   "source": [
    "# Save the best model\n",
    "\n",
    "best_model_forest = grid_forest.best_estimator_\n",
    "best_model_forest"
   ]
  },
  {
   "cell_type": "code",
   "execution_count": 24,
   "metadata": {},
   "outputs": [
    {
     "name": "stdout",
     "output_type": "stream",
     "text": [
      "The best cross-validation accuracy: 0.8078569000037776\n"
     ]
    }
   ],
   "source": [
    "# Print the best cross-validation score using the best_score attribute\n",
    "\n",
    "print('The best cross-validation accuracy:', grid_forest.best_score_)"
   ]
  },
  {
   "cell_type": "markdown",
   "metadata": {},
   "source": [
    "The best random forest model achieved an accuracy of 81%, slightly better than the single decision tree model."
   ]
  },
  {
   "cell_type": "markdown",
   "metadata": {},
   "source": [
    "### Logistic Regression"
   ]
  },
  {
   "cell_type": "markdown",
   "metadata": {},
   "source": [
    "Another common classification algorithm is logistic regression, implemented in the LogisticRegression class. To initialize the model, we set the following **hyperparameters:** **solver**='lbfgs' and **max_iter**=1000. The solver hyperparameter allows us to choose the algorithm for model building (lbfgs is one of the most common algorithms suitable for most tasks), and the max_iter hyperparameter sets the maximum number of training iterations (the default value is 100, but in some cases, more iterations may be needed). To ensure reproducibility, we set the **random_state** to 12345."
   ]
  },
  {
   "cell_type": "code",
   "execution_count": 25,
   "metadata": {},
   "outputs": [
    {
     "name": "stdout",
     "output_type": "stream",
     "text": [
      "Accuracy of the logistic regression model on the validation dataset: 0.7153965785381027\n"
     ]
    }
   ],
   "source": [
    "# Create a data structure object\n",
    "\n",
    "model_logistic = LogisticRegression(random_state=12345, solver='lbfgs', max_iter=1000)\n",
    "\n",
    "# Train the logistic regression model\n",
    "\n",
    "model_logistic.fit(features_train_60, target_train_60)\n",
    "\n",
    "# Save the predictions on the validation dataset\n",
    "\n",
    "predictions_valid_logistic = model_logistic.predict(features_valid)\n",
    "\n",
    "# Calculate the model's accuracy on the validation dataset\n",
    "\n",
    "result = model_logistic.score(features_valid, target_valid)\n",
    "\n",
    "# Print the result on the screen\n",
    "\n",
    "print('Accuracy of the logistic regression model on the validation dataset:', result)"
   ]
  },
  {
   "cell_type": "markdown",
   "metadata": {},
   "source": [
    "Compared to the other models logistic regression has the lowest prediction quality, correctly predicting the class for 71% of the examples in the validation set."
   ]
  },
  {
   "cell_type": "markdown",
   "metadata": {},
   "source": [
    "**Conclusion.** During the exploration of different models, we obtained the following results:\n",
    "\n",
    "* Decision tree model accuracy: 0.791.\n",
    "* Random forest model accuracy: 0.812.\n",
    "* Logistic regression model accuracy: 0.715.\n",
    "\n",
    "**The random forest model performed the best**, as expected. It has strong predictive power and often achieves good model quality without parameter tuning or data scaling. The logistic regression model had the worst performance."
   ]
  },
  {
   "cell_type": "markdown",
   "metadata": {},
   "source": [
    "## Testing the Models on the Test Set"
   ]
  },
  {
   "cell_type": "markdown",
   "metadata": {},
   "source": [
    "We will evaluate the quality of the random forest model on the test set."
   ]
  },
  {
   "cell_type": "code",
   "execution_count": 26,
   "metadata": {},
   "outputs": [
    {
     "name": "stdout",
     "output_type": "stream",
     "text": [
      "Accuracy on the test set: 0.8118195956454122\n"
     ]
    }
   ],
   "source": [
    "print('Accuracy on the test set:', best_model_forest.score(features_test, target_test))"
   ]
  },
  {
   "cell_type": "markdown",
   "metadata": {},
   "source": [
    "Considering the small difference between the accuracy on the test set and the validation set, we can conclude that the model is not significantly overfitting."
   ]
  },
  {
   "cell_type": "markdown",
   "metadata": {},
   "source": [
    "## Checking Model Adequacy"
   ]
  },
  {
   "cell_type": "markdown",
   "metadata": {},
   "source": [
    "We will compare the model to a **DummyClassifier** that makes random predictions based on the class distribution in the training set. Considering the class imbalance, we will use the \"most_frequent\" strategy, which always predicts the most common label in the training set."
   ]
  },
  {
   "cell_type": "code",
   "execution_count": 27,
   "metadata": {},
   "outputs": [
    {
     "name": "stdout",
     "output_type": "stream",
     "text": [
      "Accuracy on the test set: 0.69\n"
     ]
    }
   ],
   "source": [
    "# Initialize and train the model on the training dataset\n",
    "\n",
    "dummy_model = DummyClassifier(strategy='most_frequent').fit(features_train_80, target_train_80)\n",
    "\n",
    "# Save the predictions on the test dataset\n",
    "\n",
    "dummy_model_pred = dummy_model.predict(features_test)\n",
    "\n",
    "# Calculate the model's accuracy on the test dataset\n",
    "\n",
    "print(\"Accuracy on the test set: {:.2f}\".format(dummy_model.score(features_test, target_test)))"
   ]
  },
  {
   "cell_type": "markdown",
   "metadata": {},
   "source": [
    "Considering the chosen strategy, if we predict the most frequent tariff \"Smart\" for all cases in the test set, the accuracy would be 69%. The DummyClassifier, which generates random predictions, has much lower accuracy. In contrast, the random forest model performs very well."
   ]
  },
  {
   "cell_type": "markdown",
   "metadata": {},
   "source": [
    "## Overall Conclusion"
   ]
  },
  {
   "cell_type": "markdown",
   "metadata": {},
   "source": [
    "During the investigation, the following tasks were completed:\n",
    "\n",
    "✔️ preliminary data analysis revealed class imbalance in the dataset;\n",
    "\n",
    "✔️ multicollinearity was identified and resolved;\n",
    "\n",
    "✔️ the data was divided into three parts: training, validation, and test sets. The training set was used for model training and parameter optimization, the validation set was used for model evaluation, and the test set was used \n",
    "for selecting the best machine learning model;\n",
    "\n",
    "✔️ three models (decision tree, random forest, logistic regression) were explored for classification tasks, and the accuracy was calculated for each model: decision tree model accuracy - 0.791 (79%), random forest model accuracy - 0.812 (81.2%), logistic regression model accuracy - 0.715 (71%);\n",
    "\n",
    "✔️ the accuracy of two models reached a level of at least 0.75;\n",
    "\n",
    "✔️ the quality of the random forest model was evaluated on the test set;\n",
    "\n",
    "✔️ the model was checked for adequacy.\n",
    "\n",
    "Based on the results, **the best model** for our classification task, with the highest accuracy in selecting the appropriate tariff, is the **random forest** model."
   ]
  }
 ],
 "metadata": {
  "ExecuteTimeLog": [
   {
    "duration": 1056,
    "start_time": "2022-12-01T15:50:33.157Z"
   },
   {
    "duration": 73,
    "start_time": "2022-12-01T15:52:42.955Z"
   },
   {
    "duration": 16,
    "start_time": "2022-12-01T15:53:19.365Z"
   },
   {
    "duration": 11,
    "start_time": "2022-12-01T15:53:33.115Z"
   },
   {
    "duration": 22,
    "start_time": "2022-12-01T15:53:55.815Z"
   },
   {
    "duration": 14,
    "start_time": "2022-12-01T15:55:07.135Z"
   },
   {
    "duration": 99,
    "start_time": "2022-12-01T15:55:26.216Z"
   },
   {
    "duration": 10,
    "start_time": "2022-12-01T15:56:53.785Z"
   },
   {
    "duration": 1561,
    "start_time": "2022-12-01T21:37:44.717Z"
   },
   {
    "duration": 1582,
    "start_time": "2022-12-02T12:58:29.500Z"
   },
   {
    "duration": 143,
    "start_time": "2022-12-02T12:58:31.085Z"
   },
   {
    "duration": 15,
    "start_time": "2022-12-02T12:58:31.231Z"
   },
   {
    "duration": 30,
    "start_time": "2022-12-02T12:58:31.247Z"
   },
   {
    "duration": 26,
    "start_time": "2022-12-02T12:58:31.280Z"
   },
   {
    "duration": 4,
    "start_time": "2022-12-02T13:10:24.935Z"
   },
   {
    "duration": 5,
    "start_time": "2022-12-02T13:13:06.842Z"
   },
   {
    "duration": 5,
    "start_time": "2022-12-02T13:13:49.054Z"
   },
   {
    "duration": 4,
    "start_time": "2022-12-02T13:15:02.458Z"
   },
   {
    "duration": 3,
    "start_time": "2022-12-02T13:15:11.274Z"
   },
   {
    "duration": 7,
    "start_time": "2022-12-02T13:17:09.136Z"
   },
   {
    "duration": 3,
    "start_time": "2022-12-02T13:17:25.675Z"
   },
   {
    "duration": 6,
    "start_time": "2022-12-02T13:20:28.684Z"
   },
   {
    "duration": 5,
    "start_time": "2022-12-02T13:22:26.252Z"
   },
   {
    "duration": 4,
    "start_time": "2022-12-02T13:25:12.276Z"
   },
   {
    "duration": 5,
    "start_time": "2022-12-02T13:25:27.031Z"
   },
   {
    "duration": 4,
    "start_time": "2022-12-02T13:25:48.876Z"
   },
   {
    "duration": 4,
    "start_time": "2022-12-02T13:26:12.135Z"
   },
   {
    "duration": 4,
    "start_time": "2022-12-02T13:29:08.980Z"
   },
   {
    "duration": 128,
    "start_time": "2022-12-02T13:29:13.737Z"
   },
   {
    "duration": 4,
    "start_time": "2022-12-02T13:29:24.406Z"
   },
   {
    "duration": 104,
    "start_time": "2022-12-02T13:29:35.528Z"
   },
   {
    "duration": 3,
    "start_time": "2022-12-02T13:29:46.028Z"
   },
   {
    "duration": 3,
    "start_time": "2022-12-02T13:33:31.309Z"
   },
   {
    "duration": 5,
    "start_time": "2022-12-02T13:33:42.174Z"
   },
   {
    "duration": 6,
    "start_time": "2022-12-02T13:34:16.189Z"
   },
   {
    "duration": 5,
    "start_time": "2022-12-02T13:34:37.737Z"
   },
   {
    "duration": 45,
    "start_time": "2022-12-02T17:35:04.364Z"
   },
   {
    "duration": 1672,
    "start_time": "2022-12-02T17:35:16.011Z"
   },
   {
    "duration": 74,
    "start_time": "2022-12-02T17:35:17.685Z"
   },
   {
    "duration": 12,
    "start_time": "2022-12-02T17:35:17.761Z"
   },
   {
    "duration": 13,
    "start_time": "2022-12-02T17:35:17.775Z"
   },
   {
    "duration": 25,
    "start_time": "2022-12-02T17:35:17.790Z"
   },
   {
    "duration": 4,
    "start_time": "2022-12-02T17:35:17.817Z"
   },
   {
    "duration": 7,
    "start_time": "2022-12-02T17:35:17.823Z"
   },
   {
    "duration": 6,
    "start_time": "2022-12-02T17:35:17.831Z"
   },
   {
    "duration": 6,
    "start_time": "2022-12-02T17:35:17.838Z"
   },
   {
    "duration": 5,
    "start_time": "2022-12-02T17:35:17.846Z"
   },
   {
    "duration": 7,
    "start_time": "2022-12-02T17:35:17.852Z"
   },
   {
    "duration": 122,
    "start_time": "2022-12-02T17:35:17.861Z"
   },
   {
    "duration": 0,
    "start_time": "2022-12-02T17:35:17.984Z"
   },
   {
    "duration": 0,
    "start_time": "2022-12-02T17:35:17.986Z"
   },
   {
    "duration": 0,
    "start_time": "2022-12-02T17:35:17.987Z"
   },
   {
    "duration": 3,
    "start_time": "2022-12-02T17:37:06.060Z"
   },
   {
    "duration": 13,
    "start_time": "2022-12-02T17:37:11.868Z"
   },
   {
    "duration": 4,
    "start_time": "2022-12-02T17:38:45.413Z"
   },
   {
    "duration": 34,
    "start_time": "2022-12-02T17:41:44.436Z"
   },
   {
    "duration": 61,
    "start_time": "2022-12-02T17:41:56.818Z"
   },
   {
    "duration": 34,
    "start_time": "2022-12-02T17:42:38.935Z"
   },
   {
    "duration": 60,
    "start_time": "2022-12-02T17:44:08.281Z"
   },
   {
    "duration": 55,
    "start_time": "2022-12-02T17:44:57.449Z"
   },
   {
    "duration": 64,
    "start_time": "2022-12-02T17:45:07.330Z"
   },
   {
    "duration": 1521,
    "start_time": "2022-12-02T22:17:39.087Z"
   },
   {
    "duration": 131,
    "start_time": "2022-12-02T22:17:40.610Z"
   },
   {
    "duration": 13,
    "start_time": "2022-12-02T22:17:40.742Z"
   },
   {
    "duration": 10,
    "start_time": "2022-12-02T22:17:40.756Z"
   },
   {
    "duration": 20,
    "start_time": "2022-12-02T22:17:40.768Z"
   },
   {
    "duration": 4,
    "start_time": "2022-12-02T22:17:40.789Z"
   },
   {
    "duration": 6,
    "start_time": "2022-12-02T22:17:40.795Z"
   },
   {
    "duration": 6,
    "start_time": "2022-12-02T22:17:40.803Z"
   },
   {
    "duration": 3,
    "start_time": "2022-12-02T22:17:40.815Z"
   },
   {
    "duration": 5,
    "start_time": "2022-12-02T22:17:40.820Z"
   },
   {
    "duration": 8,
    "start_time": "2022-12-02T22:17:40.826Z"
   },
   {
    "duration": 58,
    "start_time": "2022-12-02T22:17:40.835Z"
   },
   {
    "duration": 77,
    "start_time": "2022-12-02T22:17:40.895Z"
   },
   {
    "duration": 124,
    "start_time": "2022-12-02T22:17:40.974Z"
   },
   {
    "duration": 0,
    "start_time": "2022-12-02T22:17:41.100Z"
   },
   {
    "duration": 0,
    "start_time": "2022-12-02T22:17:41.101Z"
   },
   {
    "duration": 13,
    "start_time": "2022-12-02T22:19:21.865Z"
   },
   {
    "duration": 49,
    "start_time": "2022-12-02T22:20:38.973Z"
   },
   {
    "duration": 52,
    "start_time": "2022-12-02T22:20:52.096Z"
   },
   {
    "duration": 55,
    "start_time": "2022-12-02T22:21:12.246Z"
   },
   {
    "duration": 2,
    "start_time": "2022-12-02T22:22:37.076Z"
   },
   {
    "duration": 2,
    "start_time": "2022-12-02T22:22:45.439Z"
   },
   {
    "duration": 239,
    "start_time": "2022-12-02T22:26:26.666Z"
   },
   {
    "duration": 256,
    "start_time": "2022-12-02T22:27:03.391Z"
   },
   {
    "duration": 53,
    "start_time": "2022-12-02T22:27:14.905Z"
   },
   {
    "duration": 250,
    "start_time": "2022-12-02T22:27:20.890Z"
   },
   {
    "duration": 240,
    "start_time": "2022-12-02T22:28:57.606Z"
   },
   {
    "duration": 11,
    "start_time": "2022-12-02T22:41:06.404Z"
   },
   {
    "duration": 3,
    "start_time": "2022-12-02T22:41:36.766Z"
   },
   {
    "duration": 14,
    "start_time": "2022-12-02T22:41:42.226Z"
   },
   {
    "duration": 30,
    "start_time": "2022-12-02T22:44:07.116Z"
   },
   {
    "duration": 3,
    "start_time": "2022-12-02T22:44:33.196Z"
   },
   {
    "duration": 126,
    "start_time": "2022-12-02T22:44:40.627Z"
   },
   {
    "duration": 24,
    "start_time": "2022-12-02T22:47:49.777Z"
   },
   {
    "duration": 44,
    "start_time": "2022-12-02T22:47:59.494Z"
   },
   {
    "duration": 33,
    "start_time": "2022-12-02T22:48:06.256Z"
   },
   {
    "duration": 1332,
    "start_time": "2022-12-02T22:48:47.007Z"
   },
   {
    "duration": 30,
    "start_time": "2022-12-02T22:48:48.341Z"
   },
   {
    "duration": 11,
    "start_time": "2022-12-02T22:48:48.373Z"
   },
   {
    "duration": 10,
    "start_time": "2022-12-02T22:48:48.386Z"
   },
   {
    "duration": 21,
    "start_time": "2022-12-02T22:48:48.398Z"
   },
   {
    "duration": 4,
    "start_time": "2022-12-02T22:48:48.421Z"
   },
   {
    "duration": 9,
    "start_time": "2022-12-02T22:48:48.426Z"
   },
   {
    "duration": 6,
    "start_time": "2022-12-02T22:48:48.436Z"
   },
   {
    "duration": 6,
    "start_time": "2022-12-02T22:48:48.443Z"
   },
   {
    "duration": 6,
    "start_time": "2022-12-02T22:48:48.451Z"
   },
   {
    "duration": 6,
    "start_time": "2022-12-02T22:48:48.458Z"
   },
   {
    "duration": 180,
    "start_time": "2022-12-02T22:48:48.466Z"
   },
   {
    "duration": 0,
    "start_time": "2022-12-02T22:48:48.647Z"
   },
   {
    "duration": 0,
    "start_time": "2022-12-02T22:48:48.648Z"
   },
   {
    "duration": 0,
    "start_time": "2022-12-02T22:48:48.649Z"
   },
   {
    "duration": 0,
    "start_time": "2022-12-02T22:48:48.650Z"
   },
   {
    "duration": 55,
    "start_time": "2022-12-02T22:51:40.998Z"
   },
   {
    "duration": 3,
    "start_time": "2022-12-02T22:51:41.938Z"
   },
   {
    "duration": 2,
    "start_time": "2022-12-02T22:51:43.055Z"
   },
   {
    "duration": 254,
    "start_time": "2022-12-02T22:51:43.958Z"
   },
   {
    "duration": 24,
    "start_time": "2022-12-02T22:51:45.828Z"
   },
   {
    "duration": 22,
    "start_time": "2022-12-02T22:56:39.719Z"
   },
   {
    "duration": 21,
    "start_time": "2022-12-02T22:56:51.078Z"
   },
   {
    "duration": 22,
    "start_time": "2022-12-02T22:56:55.799Z"
   },
   {
    "duration": 1319,
    "start_time": "2022-12-02T22:57:07.059Z"
   },
   {
    "duration": 30,
    "start_time": "2022-12-02T22:57:08.379Z"
   },
   {
    "duration": 12,
    "start_time": "2022-12-02T22:57:08.411Z"
   },
   {
    "duration": 10,
    "start_time": "2022-12-02T22:57:08.424Z"
   },
   {
    "duration": 24,
    "start_time": "2022-12-02T22:57:08.436Z"
   },
   {
    "duration": 4,
    "start_time": "2022-12-02T22:57:08.462Z"
   },
   {
    "duration": 6,
    "start_time": "2022-12-02T22:57:08.467Z"
   },
   {
    "duration": 5,
    "start_time": "2022-12-02T22:57:08.474Z"
   },
   {
    "duration": 10,
    "start_time": "2022-12-02T22:57:08.481Z"
   },
   {
    "duration": 22,
    "start_time": "2022-12-02T22:57:08.493Z"
   },
   {
    "duration": 7,
    "start_time": "2022-12-02T22:57:08.517Z"
   },
   {
    "duration": 59,
    "start_time": "2022-12-02T22:57:08.526Z"
   },
   {
    "duration": 3,
    "start_time": "2022-12-02T22:57:08.586Z"
   },
   {
    "duration": 8,
    "start_time": "2022-12-02T22:57:08.591Z"
   },
   {
    "duration": 262,
    "start_time": "2022-12-02T22:57:08.600Z"
   },
   {
    "duration": 25,
    "start_time": "2022-12-02T22:57:08.863Z"
   },
   {
    "duration": 22,
    "start_time": "2022-12-02T23:02:39.589Z"
   },
   {
    "duration": 24,
    "start_time": "2022-12-02T23:02:49.239Z"
   },
   {
    "duration": 1344,
    "start_time": "2022-12-02T23:02:59.308Z"
   },
   {
    "duration": 31,
    "start_time": "2022-12-02T23:03:00.654Z"
   },
   {
    "duration": 12,
    "start_time": "2022-12-02T23:03:00.687Z"
   },
   {
    "duration": 26,
    "start_time": "2022-12-02T23:03:00.700Z"
   },
   {
    "duration": 52,
    "start_time": "2022-12-02T23:03:00.729Z"
   },
   {
    "duration": 10,
    "start_time": "2022-12-02T23:03:00.783Z"
   },
   {
    "duration": 50,
    "start_time": "2022-12-02T23:03:00.795Z"
   },
   {
    "duration": 39,
    "start_time": "2022-12-02T23:03:00.846Z"
   },
   {
    "duration": 23,
    "start_time": "2022-12-02T23:03:00.886Z"
   },
   {
    "duration": 32,
    "start_time": "2022-12-02T23:03:00.911Z"
   },
   {
    "duration": 33,
    "start_time": "2022-12-02T23:03:00.945Z"
   },
   {
    "duration": 91,
    "start_time": "2022-12-02T23:03:00.980Z"
   },
   {
    "duration": 3,
    "start_time": "2022-12-02T23:03:01.073Z"
   },
   {
    "duration": 42,
    "start_time": "2022-12-02T23:03:01.079Z"
   },
   {
    "duration": 276,
    "start_time": "2022-12-02T23:03:01.123Z"
   },
   {
    "duration": 29,
    "start_time": "2022-12-02T23:03:01.401Z"
   },
   {
    "duration": 71,
    "start_time": "2022-12-02T23:04:22.509Z"
   },
   {
    "duration": 245,
    "start_time": "2022-12-02T23:04:45.039Z"
   },
   {
    "duration": 23,
    "start_time": "2022-12-02T23:05:23.859Z"
   },
   {
    "duration": 25,
    "start_time": "2022-12-02T23:07:40.920Z"
   },
   {
    "duration": 1329,
    "start_time": "2022-12-02T23:10:36.602Z"
   },
   {
    "duration": 30,
    "start_time": "2022-12-02T23:10:37.933Z"
   },
   {
    "duration": 12,
    "start_time": "2022-12-02T23:10:37.964Z"
   },
   {
    "duration": 12,
    "start_time": "2022-12-02T23:10:37.977Z"
   },
   {
    "duration": 20,
    "start_time": "2022-12-02T23:10:37.991Z"
   },
   {
    "duration": 4,
    "start_time": "2022-12-02T23:10:38.013Z"
   },
   {
    "duration": 6,
    "start_time": "2022-12-02T23:10:38.018Z"
   },
   {
    "duration": 5,
    "start_time": "2022-12-02T23:10:38.025Z"
   },
   {
    "duration": 6,
    "start_time": "2022-12-02T23:10:38.031Z"
   },
   {
    "duration": 8,
    "start_time": "2022-12-02T23:10:38.038Z"
   },
   {
    "duration": 9,
    "start_time": "2022-12-02T23:10:38.048Z"
   },
   {
    "duration": 71,
    "start_time": "2022-12-02T23:10:38.059Z"
   },
   {
    "duration": 3,
    "start_time": "2022-12-02T23:10:38.132Z"
   },
   {
    "duration": 3,
    "start_time": "2022-12-02T23:10:38.138Z"
   },
   {
    "duration": 131,
    "start_time": "2022-12-02T23:10:38.143Z"
   },
   {
    "duration": 0,
    "start_time": "2022-12-02T23:10:38.276Z"
   },
   {
    "duration": 0,
    "start_time": "2022-12-02T23:10:38.277Z"
   },
   {
    "duration": 241,
    "start_time": "2022-12-02T23:10:58.783Z"
   },
   {
    "duration": 29,
    "start_time": "2022-12-02T23:11:03.580Z"
   },
   {
    "duration": 27,
    "start_time": "2022-12-02T23:11:17.658Z"
   },
   {
    "duration": 13,
    "start_time": "2022-12-02T23:13:21.779Z"
   },
   {
    "duration": 1368,
    "start_time": "2022-12-02T23:13:37.997Z"
   },
   {
    "duration": 30,
    "start_time": "2022-12-02T23:13:39.367Z"
   },
   {
    "duration": 12,
    "start_time": "2022-12-02T23:13:39.399Z"
   },
   {
    "duration": 10,
    "start_time": "2022-12-02T23:13:39.412Z"
   },
   {
    "duration": 30,
    "start_time": "2022-12-02T23:13:39.425Z"
   },
   {
    "duration": 4,
    "start_time": "2022-12-02T23:13:39.456Z"
   },
   {
    "duration": 5,
    "start_time": "2022-12-02T23:13:39.462Z"
   },
   {
    "duration": 6,
    "start_time": "2022-12-02T23:13:39.469Z"
   },
   {
    "duration": 17,
    "start_time": "2022-12-02T23:13:39.476Z"
   },
   {
    "duration": 13,
    "start_time": "2022-12-02T23:13:39.495Z"
   },
   {
    "duration": 10,
    "start_time": "2022-12-02T23:13:39.509Z"
   },
   {
    "duration": 70,
    "start_time": "2022-12-02T23:13:39.521Z"
   },
   {
    "duration": 2,
    "start_time": "2022-12-02T23:13:39.593Z"
   },
   {
    "duration": 12,
    "start_time": "2022-12-02T23:13:39.597Z"
   },
   {
    "duration": 251,
    "start_time": "2022-12-02T23:13:39.611Z"
   },
   {
    "duration": 23,
    "start_time": "2022-12-02T23:13:39.863Z"
   },
   {
    "duration": 12,
    "start_time": "2022-12-02T23:13:39.887Z"
   },
   {
    "duration": 6,
    "start_time": "2022-12-02T23:15:44.717Z"
   },
   {
    "duration": 10,
    "start_time": "2022-12-02T23:15:45.577Z"
   },
   {
    "duration": 6,
    "start_time": "2022-12-02T23:15:46.177Z"
   },
   {
    "duration": 3,
    "start_time": "2022-12-03T00:05:38.006Z"
   },
   {
    "duration": 104,
    "start_time": "2022-12-03T00:11:58.858Z"
   },
   {
    "duration": 1365,
    "start_time": "2022-12-03T00:12:27.685Z"
   },
   {
    "duration": 30,
    "start_time": "2022-12-03T00:12:29.052Z"
   },
   {
    "duration": 12,
    "start_time": "2022-12-03T00:12:29.084Z"
   },
   {
    "duration": 10,
    "start_time": "2022-12-03T00:12:29.097Z"
   },
   {
    "duration": 21,
    "start_time": "2022-12-03T00:12:29.109Z"
   },
   {
    "duration": 4,
    "start_time": "2022-12-03T00:12:29.131Z"
   },
   {
    "duration": 6,
    "start_time": "2022-12-03T00:12:29.136Z"
   },
   {
    "duration": 5,
    "start_time": "2022-12-03T00:12:29.144Z"
   },
   {
    "duration": 6,
    "start_time": "2022-12-03T00:12:29.150Z"
   },
   {
    "duration": 10,
    "start_time": "2022-12-03T00:12:29.157Z"
   },
   {
    "duration": 11,
    "start_time": "2022-12-03T00:12:29.169Z"
   },
   {
    "duration": 87,
    "start_time": "2022-12-03T00:12:29.182Z"
   },
   {
    "duration": 2,
    "start_time": "2022-12-03T00:12:29.271Z"
   },
   {
    "duration": 6,
    "start_time": "2022-12-03T00:12:29.275Z"
   },
   {
    "duration": 257,
    "start_time": "2022-12-03T00:12:29.282Z"
   },
   {
    "duration": 21,
    "start_time": "2022-12-03T00:12:29.540Z"
   },
   {
    "duration": 5,
    "start_time": "2022-12-03T00:12:29.563Z"
   },
   {
    "duration": 18,
    "start_time": "2022-12-03T00:12:29.569Z"
   },
   {
    "duration": 5,
    "start_time": "2022-12-03T00:12:29.588Z"
   },
   {
    "duration": 107,
    "start_time": "2022-12-03T00:12:29.615Z"
   },
   {
    "duration": 3,
    "start_time": "2022-12-03T00:16:59.758Z"
   },
   {
    "duration": 59,
    "start_time": "2022-12-03T00:18:52.329Z"
   },
   {
    "duration": 17,
    "start_time": "2022-12-03T00:22:59.958Z"
   },
   {
    "duration": 266,
    "start_time": "2022-12-03T00:23:23.129Z"
   },
   {
    "duration": 14,
    "start_time": "2022-12-03T00:25:01.419Z"
   },
   {
    "duration": 1314,
    "start_time": "2022-12-03T00:25:32.229Z"
   },
   {
    "duration": 31,
    "start_time": "2022-12-03T00:25:33.545Z"
   },
   {
    "duration": 13,
    "start_time": "2022-12-03T00:25:33.577Z"
   },
   {
    "duration": 11,
    "start_time": "2022-12-03T00:25:33.591Z"
   },
   {
    "duration": 23,
    "start_time": "2022-12-03T00:25:33.604Z"
   },
   {
    "duration": 4,
    "start_time": "2022-12-03T00:25:33.628Z"
   },
   {
    "duration": 5,
    "start_time": "2022-12-03T00:25:33.634Z"
   },
   {
    "duration": 5,
    "start_time": "2022-12-03T00:25:33.641Z"
   },
   {
    "duration": 6,
    "start_time": "2022-12-03T00:25:33.648Z"
   },
   {
    "duration": 5,
    "start_time": "2022-12-03T00:25:33.656Z"
   },
   {
    "duration": 8,
    "start_time": "2022-12-03T00:25:33.663Z"
   },
   {
    "duration": 94,
    "start_time": "2022-12-03T00:25:33.672Z"
   },
   {
    "duration": 2,
    "start_time": "2022-12-03T00:25:33.768Z"
   },
   {
    "duration": 9,
    "start_time": "2022-12-03T00:25:33.773Z"
   },
   {
    "duration": 282,
    "start_time": "2022-12-03T00:25:33.784Z"
   },
   {
    "duration": 122,
    "start_time": "2022-12-03T00:25:34.068Z"
   },
   {
    "duration": 0,
    "start_time": "2022-12-03T00:25:34.191Z"
   },
   {
    "duration": 0,
    "start_time": "2022-12-03T00:25:34.192Z"
   },
   {
    "duration": 0,
    "start_time": "2022-12-03T00:25:34.193Z"
   },
   {
    "duration": 0,
    "start_time": "2022-12-03T00:25:34.194Z"
   },
   {
    "duration": 31,
    "start_time": "2022-12-03T00:25:56.327Z"
   },
   {
    "duration": 49,
    "start_time": "2022-12-03T00:26:11.869Z"
   },
   {
    "duration": 52,
    "start_time": "2022-12-03T00:26:19.419Z"
   },
   {
    "duration": 53,
    "start_time": "2022-12-03T00:26:38.069Z"
   },
   {
    "duration": 24,
    "start_time": "2022-12-03T00:26:58.359Z"
   },
   {
    "duration": 6,
    "start_time": "2022-12-03T00:27:04.289Z"
   },
   {
    "duration": 8,
    "start_time": "2022-12-03T00:27:04.919Z"
   },
   {
    "duration": 7,
    "start_time": "2022-12-03T00:27:05.508Z"
   },
   {
    "duration": 7,
    "start_time": "2022-12-03T00:27:08.309Z"
   },
   {
    "duration": 6,
    "start_time": "2022-12-03T00:28:52.769Z"
   },
   {
    "duration": 8,
    "start_time": "2022-12-03T00:28:53.219Z"
   },
   {
    "duration": 6,
    "start_time": "2022-12-03T00:28:53.728Z"
   },
   {
    "duration": 11,
    "start_time": "2022-12-03T00:29:16.280Z"
   },
   {
    "duration": 7,
    "start_time": "2022-12-03T00:36:29.019Z"
   },
   {
    "duration": 9,
    "start_time": "2022-12-03T00:36:31.029Z"
   },
   {
    "duration": 6,
    "start_time": "2022-12-03T00:36:33.039Z"
   },
   {
    "duration": 87,
    "start_time": "2022-12-03T00:39:52.289Z"
   },
   {
    "duration": 50,
    "start_time": "2022-12-03T00:40:06.608Z"
   },
   {
    "duration": 10,
    "start_time": "2022-12-03T00:40:25.299Z"
   },
   {
    "duration": 3,
    "start_time": "2022-12-03T00:41:07.019Z"
   },
   {
    "duration": 4,
    "start_time": "2022-12-03T00:41:18.719Z"
   },
   {
    "duration": 1004,
    "start_time": "2022-12-03T00:41:24.470Z"
   },
   {
    "duration": 30,
    "start_time": "2022-12-03T00:41:25.476Z"
   },
   {
    "duration": 16,
    "start_time": "2022-12-03T00:41:25.508Z"
   },
   {
    "duration": 11,
    "start_time": "2022-12-03T00:41:25.526Z"
   },
   {
    "duration": 21,
    "start_time": "2022-12-03T00:41:25.540Z"
   },
   {
    "duration": 5,
    "start_time": "2022-12-03T00:41:25.562Z"
   },
   {
    "duration": 6,
    "start_time": "2022-12-03T00:41:25.569Z"
   },
   {
    "duration": 41,
    "start_time": "2022-12-03T00:41:25.577Z"
   },
   {
    "duration": 11,
    "start_time": "2022-12-03T00:41:25.620Z"
   },
   {
    "duration": 7,
    "start_time": "2022-12-03T00:41:25.632Z"
   },
   {
    "duration": 7,
    "start_time": "2022-12-03T00:41:25.641Z"
   },
   {
    "duration": 81,
    "start_time": "2022-12-03T00:41:25.650Z"
   },
   {
    "duration": 2,
    "start_time": "2022-12-03T00:41:25.734Z"
   },
   {
    "duration": 7,
    "start_time": "2022-12-03T00:41:25.739Z"
   },
   {
    "duration": 293,
    "start_time": "2022-12-03T00:41:25.747Z"
   },
   {
    "duration": 27,
    "start_time": "2022-12-03T00:41:26.042Z"
   },
   {
    "duration": 118,
    "start_time": "2022-12-03T00:41:26.071Z"
   },
   {
    "duration": 0,
    "start_time": "2022-12-03T00:41:26.191Z"
   },
   {
    "duration": 0,
    "start_time": "2022-12-03T00:41:26.192Z"
   },
   {
    "duration": 0,
    "start_time": "2022-12-03T00:41:26.193Z"
   },
   {
    "duration": 0,
    "start_time": "2022-12-03T00:41:26.194Z"
   },
   {
    "duration": 6,
    "start_time": "2022-12-03T00:41:50.839Z"
   },
   {
    "duration": 9,
    "start_time": "2022-12-03T00:42:02.039Z"
   },
   {
    "duration": 6,
    "start_time": "2022-12-03T00:42:13.184Z"
   },
   {
    "duration": 8,
    "start_time": "2022-12-03T00:42:16.929Z"
   },
   {
    "duration": 9,
    "start_time": "2022-12-03T00:42:22.959Z"
   },
   {
    "duration": 9,
    "start_time": "2022-12-03T00:42:23.849Z"
   },
   {
    "duration": 8,
    "start_time": "2022-12-03T00:45:25.078Z"
   },
   {
    "duration": 7,
    "start_time": "2022-12-03T00:45:26.069Z"
   },
   {
    "duration": 9,
    "start_time": "2022-12-03T00:53:13.436Z"
   },
   {
    "duration": 11,
    "start_time": "2022-12-03T00:53:16.239Z"
   },
   {
    "duration": 7,
    "start_time": "2022-12-03T00:53:16.989Z"
   },
   {
    "duration": 2,
    "start_time": "2022-12-03T12:50:21.706Z"
   },
   {
    "duration": 316,
    "start_time": "2022-12-03T12:59:36.460Z"
   },
   {
    "duration": 1110,
    "start_time": "2022-12-03T12:59:43.837Z"
   },
   {
    "duration": 33,
    "start_time": "2022-12-03T12:59:44.949Z"
   },
   {
    "duration": 16,
    "start_time": "2022-12-03T12:59:44.983Z"
   },
   {
    "duration": 22,
    "start_time": "2022-12-03T12:59:45.002Z"
   },
   {
    "duration": 36,
    "start_time": "2022-12-03T12:59:45.028Z"
   },
   {
    "duration": 5,
    "start_time": "2022-12-03T12:59:45.066Z"
   },
   {
    "duration": 14,
    "start_time": "2022-12-03T12:59:45.073Z"
   },
   {
    "duration": 14,
    "start_time": "2022-12-03T12:59:45.089Z"
   },
   {
    "duration": 7,
    "start_time": "2022-12-03T12:59:45.104Z"
   },
   {
    "duration": 26,
    "start_time": "2022-12-03T12:59:45.115Z"
   },
   {
    "duration": 10,
    "start_time": "2022-12-03T12:59:45.143Z"
   },
   {
    "duration": 64,
    "start_time": "2022-12-03T12:59:45.154Z"
   },
   {
    "duration": 4,
    "start_time": "2022-12-03T12:59:45.229Z"
   },
   {
    "duration": 3,
    "start_time": "2022-12-03T12:59:45.237Z"
   },
   {
    "duration": 327,
    "start_time": "2022-12-03T12:59:45.242Z"
   },
   {
    "duration": 23,
    "start_time": "2022-12-03T12:59:45.571Z"
   },
   {
    "duration": 21,
    "start_time": "2022-12-03T12:59:45.595Z"
   },
   {
    "duration": 11,
    "start_time": "2022-12-03T12:59:45.618Z"
   },
   {
    "duration": 17,
    "start_time": "2022-12-03T12:59:45.631Z"
   },
   {
    "duration": 12,
    "start_time": "2022-12-03T12:59:45.650Z"
   },
   {
    "duration": 7,
    "start_time": "2022-12-03T12:59:45.664Z"
   },
   {
    "duration": 48,
    "start_time": "2022-12-03T12:59:45.673Z"
   },
   {
    "duration": 17,
    "start_time": "2022-12-03T13:24:08.838Z"
   },
   {
    "duration": 25,
    "start_time": "2022-12-03T13:24:29.832Z"
   },
   {
    "duration": 14,
    "start_time": "2022-12-03T13:24:41.037Z"
   },
   {
    "duration": 238,
    "start_time": "2022-12-03T13:25:13.341Z"
   },
   {
    "duration": 393,
    "start_time": "2022-12-03T13:52:26.167Z"
   },
   {
    "duration": 123,
    "start_time": "2022-12-03T13:53:38.837Z"
   },
   {
    "duration": 337,
    "start_time": "2022-12-03T13:53:54.992Z"
   },
   {
    "duration": 21902,
    "start_time": "2022-12-03T13:54:19.867Z"
   },
   {
    "duration": 33,
    "start_time": "2022-12-03T14:01:27.169Z"
   },
   {
    "duration": 33,
    "start_time": "2022-12-03T14:01:46.343Z"
   },
   {
    "duration": 24522,
    "start_time": "2022-12-03T14:06:04.443Z"
   },
   {
    "duration": 19,
    "start_time": "2022-12-03T14:07:22.630Z"
   },
   {
    "duration": 23478,
    "start_time": "2022-12-03T14:07:34.569Z"
   },
   {
    "duration": 5708,
    "start_time": "2022-12-03T14:09:40.737Z"
   },
   {
    "duration": 1026,
    "start_time": "2022-12-03T14:14:13.899Z"
   },
   {
    "duration": 1039,
    "start_time": "2022-12-03T14:21:39.668Z"
   },
   {
    "duration": 5816,
    "start_time": "2022-12-03T14:56:41.142Z"
   },
   {
    "duration": 1178,
    "start_time": "2022-12-03T19:45:05.920Z"
   },
   {
    "duration": 89,
    "start_time": "2022-12-03T19:45:07.100Z"
   },
   {
    "duration": 21,
    "start_time": "2022-12-03T19:45:07.191Z"
   },
   {
    "duration": 40,
    "start_time": "2022-12-03T19:45:07.214Z"
   },
   {
    "duration": 34,
    "start_time": "2022-12-03T19:45:07.257Z"
   },
   {
    "duration": 5,
    "start_time": "2022-12-03T19:45:07.293Z"
   },
   {
    "duration": 5,
    "start_time": "2022-12-03T19:45:07.300Z"
   },
   {
    "duration": 6,
    "start_time": "2022-12-03T19:45:07.306Z"
   },
   {
    "duration": 6,
    "start_time": "2022-12-03T19:45:07.314Z"
   },
   {
    "duration": 29,
    "start_time": "2022-12-03T19:45:07.322Z"
   },
   {
    "duration": 7,
    "start_time": "2022-12-03T19:45:07.353Z"
   },
   {
    "duration": 1059,
    "start_time": "2022-12-03T19:45:07.362Z"
   },
   {
    "duration": 5652,
    "start_time": "2022-12-03T19:45:08.422Z"
   },
   {
    "duration": 3,
    "start_time": "2022-12-03T19:45:14.076Z"
   },
   {
    "duration": 18,
    "start_time": "2022-12-03T19:45:14.081Z"
   },
   {
    "duration": 7,
    "start_time": "2022-12-03T19:45:14.101Z"
   },
   {
    "duration": 44,
    "start_time": "2022-12-03T19:45:14.110Z"
   },
   {
    "duration": 8,
    "start_time": "2022-12-03T19:45:14.156Z"
   },
   {
    "duration": 11,
    "start_time": "2022-12-03T19:45:14.166Z"
   },
   {
    "duration": 9,
    "start_time": "2022-12-03T19:45:14.179Z"
   },
   {
    "duration": 9,
    "start_time": "2022-12-03T19:45:14.190Z"
   },
   {
    "duration": 265,
    "start_time": "2022-12-03T20:26:39.492Z"
   },
   {
    "duration": 237,
    "start_time": "2022-12-03T20:26:55.361Z"
   },
   {
    "duration": 234,
    "start_time": "2022-12-03T21:04:26.446Z"
   },
   {
    "duration": 52,
    "start_time": "2022-12-03T21:10:04.483Z"
   },
   {
    "duration": 1130,
    "start_time": "2022-12-03T21:10:12.096Z"
   },
   {
    "duration": 78,
    "start_time": "2022-12-03T21:10:13.228Z"
   },
   {
    "duration": 17,
    "start_time": "2022-12-03T21:10:13.308Z"
   },
   {
    "duration": 13,
    "start_time": "2022-12-03T21:10:13.328Z"
   },
   {
    "duration": 44,
    "start_time": "2022-12-03T21:10:13.343Z"
   },
   {
    "duration": 5,
    "start_time": "2022-12-03T21:10:13.389Z"
   },
   {
    "duration": 6,
    "start_time": "2022-12-03T21:10:13.396Z"
   },
   {
    "duration": 7,
    "start_time": "2022-12-03T21:10:13.404Z"
   },
   {
    "duration": 7,
    "start_time": "2022-12-03T21:10:13.413Z"
   },
   {
    "duration": 27,
    "start_time": "2022-12-03T21:10:13.424Z"
   },
   {
    "duration": 9,
    "start_time": "2022-12-03T21:10:13.454Z"
   },
   {
    "duration": 1101,
    "start_time": "2022-12-03T21:10:13.465Z"
   },
   {
    "duration": 6114,
    "start_time": "2022-12-03T21:10:14.568Z"
   },
   {
    "duration": 241,
    "start_time": "2022-12-03T21:10:20.684Z"
   },
   {
    "duration": 23,
    "start_time": "2022-12-03T21:10:20.928Z"
   },
   {
    "duration": 7,
    "start_time": "2022-12-03T21:10:20.953Z"
   },
   {
    "duration": 24,
    "start_time": "2022-12-03T21:10:20.962Z"
   },
   {
    "duration": 6,
    "start_time": "2022-12-03T21:10:20.988Z"
   },
   {
    "duration": 15,
    "start_time": "2022-12-03T21:10:20.996Z"
   },
   {
    "duration": 39,
    "start_time": "2022-12-03T21:10:21.013Z"
   },
   {
    "duration": 11,
    "start_time": "2022-12-03T21:10:21.054Z"
   },
   {
    "duration": 295,
    "start_time": "2022-12-03T21:10:33.645Z"
   },
   {
    "duration": 251,
    "start_time": "2022-12-03T21:24:23.128Z"
   },
   {
    "duration": 260,
    "start_time": "2022-12-03T21:24:30.557Z"
   },
   {
    "duration": 223,
    "start_time": "2022-12-03T21:25:26.393Z"
   },
   {
    "duration": 290,
    "start_time": "2022-12-03T21:27:46.140Z"
   },
   {
    "duration": 288,
    "start_time": "2022-12-03T21:29:51.682Z"
   },
   {
    "duration": 258,
    "start_time": "2022-12-03T21:33:43.793Z"
   },
   {
    "duration": 222,
    "start_time": "2022-12-03T21:33:53.351Z"
   },
   {
    "duration": 28,
    "start_time": "2022-12-03T22:01:10.997Z"
   },
   {
    "duration": 14,
    "start_time": "2022-12-03T22:01:16.374Z"
   },
   {
    "duration": 13,
    "start_time": "2022-12-03T22:01:50.899Z"
   },
   {
    "duration": 23,
    "start_time": "2022-12-03T22:01:56.770Z"
   },
   {
    "duration": 6069,
    "start_time": "2022-12-03T22:16:38.512Z"
   },
   {
    "duration": 5802,
    "start_time": "2022-12-03T22:17:50.622Z"
   },
   {
    "duration": 5423,
    "start_time": "2022-12-03T22:18:54.466Z"
   },
   {
    "duration": 520,
    "start_time": "2022-12-03T22:18:59.891Z"
   },
   {
    "duration": 120,
    "start_time": "2022-12-03T22:34:48.248Z"
   },
   {
    "duration": 226,
    "start_time": "2022-12-03T22:35:19.270Z"
   },
   {
    "duration": 9,
    "start_time": "2022-12-03T23:54:05.991Z"
   },
   {
    "duration": 4,
    "start_time": "2022-12-03T23:54:36.191Z"
   },
   {
    "duration": 9,
    "start_time": "2022-12-03T23:54:44.541Z"
   },
   {
    "duration": 13,
    "start_time": "2022-12-03T23:58:34.373Z"
   },
   {
    "duration": 9,
    "start_time": "2022-12-03T23:59:00.091Z"
   },
   {
    "duration": 355,
    "start_time": "2022-12-03T23:59:27.581Z"
   },
   {
    "duration": 3640,
    "start_time": "2022-12-03T23:59:34.210Z"
   },
   {
    "duration": 3911,
    "start_time": "2022-12-03T23:59:45.611Z"
   },
   {
    "duration": 4139,
    "start_time": "2022-12-04T00:00:05.309Z"
   },
   {
    "duration": 3730,
    "start_time": "2022-12-04T00:00:22.701Z"
   },
   {
    "duration": 3903,
    "start_time": "2022-12-04T00:01:05.937Z"
   },
   {
    "duration": 3645,
    "start_time": "2022-12-04T00:01:52.311Z"
   },
   {
    "duration": 3847,
    "start_time": "2022-12-04T00:02:04.441Z"
   },
   {
    "duration": 517,
    "start_time": "2022-12-04T00:08:50.091Z"
   },
   {
    "duration": 16,
    "start_time": "2022-12-04T00:09:19.662Z"
   },
   {
    "duration": 478,
    "start_time": "2022-12-04T00:09:31.860Z"
   },
   {
    "duration": 471,
    "start_time": "2022-12-04T00:09:35.321Z"
   },
   {
    "duration": 470,
    "start_time": "2022-12-04T00:09:56.419Z"
   },
   {
    "duration": 479,
    "start_time": "2022-12-04T00:10:10.981Z"
   },
   {
    "duration": 474,
    "start_time": "2022-12-04T00:10:27.177Z"
   },
   {
    "duration": 14,
    "start_time": "2022-12-04T00:10:40.795Z"
   },
   {
    "duration": 6,
    "start_time": "2022-12-04T00:26:54.131Z"
   },
   {
    "duration": 49,
    "start_time": "2022-12-04T12:10:02.201Z"
   },
   {
    "duration": 1466,
    "start_time": "2022-12-04T12:10:11.473Z"
   },
   {
    "duration": 77,
    "start_time": "2022-12-04T12:10:12.941Z"
   },
   {
    "duration": 16,
    "start_time": "2022-12-04T12:10:13.020Z"
   },
   {
    "duration": 12,
    "start_time": "2022-12-04T12:10:13.038Z"
   },
   {
    "duration": 24,
    "start_time": "2022-12-04T12:10:13.053Z"
   },
   {
    "duration": 6,
    "start_time": "2022-12-04T12:10:13.079Z"
   },
   {
    "duration": 40,
    "start_time": "2022-12-04T12:10:13.086Z"
   },
   {
    "duration": 5,
    "start_time": "2022-12-04T12:10:13.127Z"
   },
   {
    "duration": 5,
    "start_time": "2022-12-04T12:10:13.134Z"
   },
   {
    "duration": 11,
    "start_time": "2022-12-04T12:10:13.141Z"
   },
   {
    "duration": 12,
    "start_time": "2022-12-04T12:10:13.154Z"
   },
   {
    "duration": 459,
    "start_time": "2022-12-04T12:10:13.168Z"
   },
   {
    "duration": 12,
    "start_time": "2022-12-04T12:10:13.628Z"
   },
   {
    "duration": 5088,
    "start_time": "2022-12-04T12:10:13.643Z"
   },
   {
    "duration": 84,
    "start_time": "2022-12-04T12:10:18.733Z"
   },
   {
    "duration": 0,
    "start_time": "2022-12-04T12:10:18.819Z"
   },
   {
    "duration": 0,
    "start_time": "2022-12-04T12:10:18.820Z"
   },
   {
    "duration": 0,
    "start_time": "2022-12-04T12:10:18.821Z"
   },
   {
    "duration": 0,
    "start_time": "2022-12-04T12:10:18.822Z"
   },
   {
    "duration": 0,
    "start_time": "2022-12-04T12:10:18.823Z"
   },
   {
    "duration": 0,
    "start_time": "2022-12-04T12:10:18.825Z"
   },
   {
    "duration": 118,
    "start_time": "2022-12-04T12:12:25.851Z"
   },
   {
    "duration": 229,
    "start_time": "2022-12-04T12:12:48.501Z"
   },
   {
    "duration": 70,
    "start_time": "2022-12-04T13:01:12.588Z"
   },
   {
    "duration": 6,
    "start_time": "2022-12-04T13:35:05.642Z"
   },
   {
    "duration": 10,
    "start_time": "2022-12-04T13:47:53.756Z"
   },
   {
    "duration": 3,
    "start_time": "2022-12-04T13:47:57.240Z"
   },
   {
    "duration": 314562,
    "start_time": "2022-12-04T13:47:57.946Z"
   },
   {
    "duration": 5,
    "start_time": "2022-12-04T13:53:28.068Z"
   },
   {
    "duration": 1460,
    "start_time": "2022-12-04T13:55:50.476Z"
   },
   {
    "duration": 30,
    "start_time": "2022-12-04T13:55:51.938Z"
   },
   {
    "duration": 15,
    "start_time": "2022-12-04T13:55:51.970Z"
   },
   {
    "duration": 13,
    "start_time": "2022-12-04T13:55:51.987Z"
   },
   {
    "duration": 32,
    "start_time": "2022-12-04T13:55:52.003Z"
   },
   {
    "duration": 6,
    "start_time": "2022-12-04T13:55:52.037Z"
   },
   {
    "duration": 14,
    "start_time": "2022-12-04T13:55:52.045Z"
   },
   {
    "duration": 8,
    "start_time": "2022-12-04T13:55:52.061Z"
   },
   {
    "duration": 6,
    "start_time": "2022-12-04T13:55:52.071Z"
   },
   {
    "duration": 9,
    "start_time": "2022-12-04T13:55:52.079Z"
   },
   {
    "duration": 14,
    "start_time": "2022-12-04T13:55:52.090Z"
   },
   {
    "duration": 510,
    "start_time": "2022-12-04T13:55:52.106Z"
   },
   {
    "duration": 15,
    "start_time": "2022-12-04T13:55:52.622Z"
   },
   {
    "duration": 5,
    "start_time": "2022-12-04T13:55:52.642Z"
   },
   {
    "duration": 317161,
    "start_time": "2022-12-04T13:55:52.649Z"
   },
   {
    "duration": 17,
    "start_time": "2022-12-04T14:01:09.812Z"
   },
   {
    "duration": 70,
    "start_time": "2022-12-04T14:01:09.831Z"
   },
   {
    "duration": 0,
    "start_time": "2022-12-04T14:01:09.902Z"
   },
   {
    "duration": 0,
    "start_time": "2022-12-04T14:01:09.904Z"
   },
   {
    "duration": 0,
    "start_time": "2022-12-04T14:01:09.906Z"
   },
   {
    "duration": 0,
    "start_time": "2022-12-04T14:01:09.907Z"
   },
   {
    "duration": 0,
    "start_time": "2022-12-04T14:01:09.908Z"
   },
   {
    "duration": 0,
    "start_time": "2022-12-04T14:01:09.909Z"
   },
   {
    "duration": 0,
    "start_time": "2022-12-04T14:01:09.910Z"
   },
   {
    "duration": 0,
    "start_time": "2022-12-04T14:01:09.911Z"
   },
   {
    "duration": 0,
    "start_time": "2022-12-04T14:01:09.913Z"
   },
   {
    "duration": 152,
    "start_time": "2022-12-04T14:02:03.143Z"
   },
   {
    "duration": 148,
    "start_time": "2022-12-04T14:04:41.499Z"
   },
   {
    "duration": 4,
    "start_time": "2022-12-04T14:44:17.789Z"
   },
   {
    "duration": 120,
    "start_time": "2022-12-04T14:44:20.808Z"
   },
   {
    "duration": 18780,
    "start_time": "2022-12-04T14:44:48.028Z"
   },
   {
    "duration": 4,
    "start_time": "2022-12-04T14:45:32.008Z"
   },
   {
    "duration": 11,
    "start_time": "2022-12-04T14:47:37.558Z"
   },
   {
    "duration": 5,
    "start_time": "2022-12-04T15:13:16.416Z"
   },
   {
    "duration": 4,
    "start_time": "2022-12-04T15:13:24.944Z"
   },
   {
    "duration": 12,
    "start_time": "2022-12-04T15:20:26.398Z"
   },
   {
    "duration": 11,
    "start_time": "2022-12-04T15:20:36.259Z"
   },
   {
    "duration": 4,
    "start_time": "2022-12-04T16:22:41.610Z"
   },
   {
    "duration": 3,
    "start_time": "2022-12-04T16:23:55.860Z"
   },
   {
    "duration": 4,
    "start_time": "2022-12-04T16:25:13.359Z"
   },
   {
    "duration": 582367,
    "start_time": "2022-12-04T16:25:55.331Z"
   },
   {
    "duration": 0,
    "start_time": "2022-12-04T16:35:37.699Z"
   },
   {
    "duration": 3,
    "start_time": "2022-12-04T16:35:41.459Z"
   },
   {
    "duration": 456041,
    "start_time": "2022-12-04T16:35:43.430Z"
   },
   {
    "duration": 2,
    "start_time": "2022-12-04T16:43:28.890Z"
   },
   {
    "duration": 1006,
    "start_time": "2022-12-04T16:43:30.419Z"
   },
   {
    "duration": 7,
    "start_time": "2022-12-04T21:01:15.667Z"
   },
   {
    "duration": 44,
    "start_time": "2022-12-04T21:01:16.248Z"
   },
   {
    "duration": 1067,
    "start_time": "2022-12-04T21:01:22.775Z"
   },
   {
    "duration": 129,
    "start_time": "2022-12-04T21:01:23.844Z"
   },
   {
    "duration": 17,
    "start_time": "2022-12-04T21:01:23.975Z"
   },
   {
    "duration": 11,
    "start_time": "2022-12-04T21:01:23.994Z"
   },
   {
    "duration": 31,
    "start_time": "2022-12-04T21:01:24.008Z"
   },
   {
    "duration": 12,
    "start_time": "2022-12-04T21:01:24.041Z"
   },
   {
    "duration": 15,
    "start_time": "2022-12-04T21:01:24.055Z"
   },
   {
    "duration": 23,
    "start_time": "2022-12-04T21:01:24.072Z"
   },
   {
    "duration": 12,
    "start_time": "2022-12-04T21:01:24.096Z"
   },
   {
    "duration": 19,
    "start_time": "2022-12-04T21:01:24.110Z"
   },
   {
    "duration": 26,
    "start_time": "2022-12-04T21:01:24.131Z"
   },
   {
    "duration": 17,
    "start_time": "2022-12-04T21:01:24.159Z"
   },
   {
    "duration": 18847,
    "start_time": "2022-12-04T21:01:24.178Z"
   },
   {
    "duration": 4,
    "start_time": "2022-12-04T21:01:43.028Z"
   },
   {
    "duration": 16,
    "start_time": "2022-12-04T21:01:43.033Z"
   },
   {
    "duration": 3,
    "start_time": "2022-12-04T21:01:43.050Z"
   },
   {
    "duration": 636640,
    "start_time": "2022-12-04T21:01:43.054Z"
   },
   {
    "duration": 4,
    "start_time": "2022-12-04T21:12:19.696Z"
   },
   {
    "duration": 157,
    "start_time": "2022-12-04T21:12:19.701Z"
   },
   {
    "duration": 2,
    "start_time": "2022-12-04T21:12:19.860Z"
   },
   {
    "duration": 1124,
    "start_time": "2022-12-04T21:12:19.864Z"
   },
   {
    "duration": 28,
    "start_time": "2022-12-04T21:12:20.990Z"
   },
   {
    "duration": 11,
    "start_time": "2022-12-04T21:12:21.024Z"
   },
   {
    "duration": 115,
    "start_time": "2022-12-04T21:12:21.037Z"
   },
   {
    "duration": 0,
    "start_time": "2022-12-04T21:12:21.153Z"
   },
   {
    "duration": 0,
    "start_time": "2022-12-04T21:12:21.155Z"
   },
   {
    "duration": 0,
    "start_time": "2022-12-04T21:12:21.156Z"
   },
   {
    "duration": 25,
    "start_time": "2022-12-04T21:21:52.257Z"
   },
   {
    "duration": 177,
    "start_time": "2022-12-04T21:23:03.408Z"
   },
   {
    "duration": 26,
    "start_time": "2022-12-04T21:24:06.956Z"
   },
   {
    "duration": 17,
    "start_time": "2022-12-04T21:24:56.516Z"
   },
   {
    "duration": 9,
    "start_time": "2022-12-04T21:25:07.956Z"
   },
   {
    "duration": 14,
    "start_time": "2022-12-04T21:25:08.656Z"
   },
   {
    "duration": 9,
    "start_time": "2022-12-04T21:26:20.379Z"
   },
   {
    "duration": 9,
    "start_time": "2022-12-04T21:26:21.157Z"
   },
   {
    "duration": 15,
    "start_time": "2022-12-04T21:26:43.116Z"
   },
   {
    "duration": 6,
    "start_time": "2022-12-04T21:26:45.827Z"
   },
   {
    "duration": 13,
    "start_time": "2022-12-04T21:26:46.297Z"
   },
   {
    "duration": 6,
    "start_time": "2022-12-04T21:29:27.847Z"
   },
   {
    "duration": 13,
    "start_time": "2022-12-04T21:29:28.547Z"
   },
   {
    "duration": 50,
    "start_time": "2022-12-04T21:36:03.857Z"
   },
   {
    "duration": 27,
    "start_time": "2022-12-04T21:46:03.435Z"
   },
   {
    "duration": 1079,
    "start_time": "2022-12-04T21:46:58.737Z"
   },
   {
    "duration": 31,
    "start_time": "2022-12-04T21:46:59.818Z"
   },
   {
    "duration": 16,
    "start_time": "2022-12-04T21:46:59.851Z"
   },
   {
    "duration": 12,
    "start_time": "2022-12-04T21:46:59.869Z"
   },
   {
    "duration": 21,
    "start_time": "2022-12-04T21:46:59.883Z"
   },
   {
    "duration": 6,
    "start_time": "2022-12-04T21:46:59.907Z"
   },
   {
    "duration": 8,
    "start_time": "2022-12-04T21:46:59.914Z"
   },
   {
    "duration": 6,
    "start_time": "2022-12-04T21:46:59.923Z"
   },
   {
    "duration": 6,
    "start_time": "2022-12-04T21:46:59.930Z"
   },
   {
    "duration": 5,
    "start_time": "2022-12-04T21:46:59.938Z"
   },
   {
    "duration": 8,
    "start_time": "2022-12-04T21:46:59.944Z"
   },
   {
    "duration": 7,
    "start_time": "2022-12-04T21:46:59.954Z"
   },
   {
    "duration": 18967,
    "start_time": "2022-12-04T21:46:59.962Z"
   },
   {
    "duration": 4,
    "start_time": "2022-12-04T21:47:18.931Z"
   },
   {
    "duration": 13,
    "start_time": "2022-12-04T21:47:18.937Z"
   },
   {
    "duration": 4,
    "start_time": "2022-12-04T21:47:18.952Z"
   },
   {
    "duration": 625251,
    "start_time": "2022-12-04T21:47:18.958Z"
   },
   {
    "duration": 4,
    "start_time": "2022-12-04T21:57:44.212Z"
   },
   {
    "duration": 143,
    "start_time": "2022-12-04T21:57:44.218Z"
   },
   {
    "duration": 26,
    "start_time": "2022-12-04T21:57:44.362Z"
   },
   {
    "duration": 6,
    "start_time": "2022-12-04T21:57:44.390Z"
   },
   {
    "duration": 13,
    "start_time": "2022-12-04T21:57:44.412Z"
   },
   {
    "duration": 26,
    "start_time": "2022-12-04T21:57:44.426Z"
   },
   {
    "duration": 9,
    "start_time": "2022-12-04T21:57:44.454Z"
   },
   {
    "duration": 102,
    "start_time": "2022-12-04T22:19:29.737Z"
   },
   {
    "duration": 12,
    "start_time": "2022-12-04T22:20:41.296Z"
   },
   {
    "duration": 22,
    "start_time": "2022-12-04T22:20:59.226Z"
   },
   {
    "duration": 8,
    "start_time": "2022-12-04T22:21:20.206Z"
   },
   {
    "duration": 105,
    "start_time": "2022-12-04T22:25:24.656Z"
   },
   {
    "duration": 11,
    "start_time": "2022-12-04T22:26:13.337Z"
   },
   {
    "duration": 1150,
    "start_time": "2022-12-04T22:26:46.087Z"
   },
   {
    "duration": 31,
    "start_time": "2022-12-04T22:26:47.239Z"
   },
   {
    "duration": 16,
    "start_time": "2022-12-04T22:26:47.272Z"
   },
   {
    "duration": 11,
    "start_time": "2022-12-04T22:26:47.290Z"
   },
   {
    "duration": 23,
    "start_time": "2022-12-04T22:26:47.303Z"
   },
   {
    "duration": 5,
    "start_time": "2022-12-04T22:26:47.327Z"
   },
   {
    "duration": 9,
    "start_time": "2022-12-04T22:26:47.334Z"
   },
   {
    "duration": 7,
    "start_time": "2022-12-04T22:26:47.344Z"
   },
   {
    "duration": 10,
    "start_time": "2022-12-04T22:26:47.352Z"
   },
   {
    "duration": 8,
    "start_time": "2022-12-04T22:26:47.363Z"
   },
   {
    "duration": 10,
    "start_time": "2022-12-04T22:26:47.372Z"
   },
   {
    "duration": 6,
    "start_time": "2022-12-04T22:26:47.383Z"
   },
   {
    "duration": 19976,
    "start_time": "2022-12-04T22:26:47.390Z"
   },
   {
    "duration": 4,
    "start_time": "2022-12-04T22:27:07.369Z"
   },
   {
    "duration": 22,
    "start_time": "2022-12-04T22:27:07.375Z"
   },
   {
    "duration": 12,
    "start_time": "2022-12-04T22:27:07.398Z"
   },
   {
    "duration": 642241,
    "start_time": "2022-12-04T22:27:07.412Z"
   },
   {
    "duration": 4,
    "start_time": "2022-12-04T22:37:49.654Z"
   },
   {
    "duration": 121,
    "start_time": "2022-12-04T22:37:49.660Z"
   },
   {
    "duration": 32,
    "start_time": "2022-12-04T22:37:49.783Z"
   },
   {
    "duration": 10,
    "start_time": "2022-12-04T22:37:49.817Z"
   },
   {
    "duration": 29,
    "start_time": "2022-12-04T22:37:49.828Z"
   },
   {
    "duration": 9,
    "start_time": "2022-12-04T22:37:49.859Z"
   },
   {
    "duration": 18,
    "start_time": "2022-12-04T22:37:49.870Z"
   },
   {
    "duration": 4,
    "start_time": "2022-12-04T23:04:48.477Z"
   },
   {
    "duration": 5,
    "start_time": "2022-12-04T23:04:59.737Z"
   },
   {
    "duration": 1151,
    "start_time": "2022-12-04T23:05:15.524Z"
   },
   {
    "duration": 39,
    "start_time": "2022-12-04T23:05:16.679Z"
   },
   {
    "duration": 20,
    "start_time": "2022-12-04T23:05:16.721Z"
   },
   {
    "duration": 18,
    "start_time": "2022-12-04T23:05:16.744Z"
   },
   {
    "duration": 37,
    "start_time": "2022-12-04T23:05:16.764Z"
   },
   {
    "duration": 12,
    "start_time": "2022-12-04T23:05:16.803Z"
   },
   {
    "duration": 18,
    "start_time": "2022-12-04T23:05:16.817Z"
   },
   {
    "duration": 24,
    "start_time": "2022-12-04T23:05:16.837Z"
   },
   {
    "duration": 10,
    "start_time": "2022-12-04T23:05:16.862Z"
   },
   {
    "duration": 10,
    "start_time": "2022-12-04T23:05:16.875Z"
   },
   {
    "duration": 14,
    "start_time": "2022-12-04T23:05:16.887Z"
   },
   {
    "duration": 14,
    "start_time": "2022-12-04T23:05:16.903Z"
   },
   {
    "duration": 19237,
    "start_time": "2022-12-04T23:05:16.919Z"
   },
   {
    "duration": 4,
    "start_time": "2022-12-04T23:05:36.158Z"
   },
   {
    "duration": 14,
    "start_time": "2022-12-04T23:05:36.164Z"
   },
   {
    "duration": 3,
    "start_time": "2022-12-04T23:05:36.180Z"
   },
   {
    "duration": 627431,
    "start_time": "2022-12-04T23:05:36.185Z"
   },
   {
    "duration": 4,
    "start_time": "2022-12-04T23:16:03.618Z"
   },
   {
    "duration": 122,
    "start_time": "2022-12-04T23:16:03.624Z"
   },
   {
    "duration": 25,
    "start_time": "2022-12-04T23:16:03.747Z"
   },
   {
    "duration": 5,
    "start_time": "2022-12-04T23:16:03.774Z"
   },
   {
    "duration": 32,
    "start_time": "2022-12-04T23:16:03.781Z"
   },
   {
    "duration": 8,
    "start_time": "2022-12-04T23:16:03.815Z"
   },
   {
    "duration": 8,
    "start_time": "2022-12-04T23:16:03.825Z"
   },
   {
    "duration": 4,
    "start_time": "2022-12-04T23:44:59.877Z"
   },
   {
    "duration": 5,
    "start_time": "2022-12-04T23:49:49.919Z"
   },
   {
    "duration": 3,
    "start_time": "2022-12-04T23:49:58.307Z"
   },
   {
    "duration": 101,
    "start_time": "2022-12-05T00:59:23.368Z"
   },
   {
    "duration": 25,
    "start_time": "2022-12-05T01:14:21.367Z"
   },
   {
    "duration": 27,
    "start_time": "2022-12-05T01:15:08.726Z"
   },
   {
    "duration": 28,
    "start_time": "2022-12-05T01:15:56.216Z"
   },
   {
    "duration": 26,
    "start_time": "2022-12-05T01:16:41.106Z"
   },
   {
    "duration": 7,
    "start_time": "2022-12-05T02:32:26.675Z"
   },
   {
    "duration": 13,
    "start_time": "2022-12-05T02:32:27.333Z"
   },
   {
    "duration": 9,
    "start_time": "2022-12-05T02:38:00.756Z"
   },
   {
    "duration": 8,
    "start_time": "2022-12-05T02:38:01.605Z"
   },
   {
    "duration": 1045,
    "start_time": "2022-12-05T02:38:20.466Z"
   },
   {
    "duration": 31,
    "start_time": "2022-12-05T02:38:21.513Z"
   },
   {
    "duration": 17,
    "start_time": "2022-12-05T02:38:21.546Z"
   },
   {
    "duration": 12,
    "start_time": "2022-12-05T02:38:21.565Z"
   },
   {
    "duration": 21,
    "start_time": "2022-12-05T02:38:21.579Z"
   },
   {
    "duration": 4,
    "start_time": "2022-12-05T02:38:21.602Z"
   },
   {
    "duration": 9,
    "start_time": "2022-12-05T02:38:21.607Z"
   },
   {
    "duration": 8,
    "start_time": "2022-12-05T02:38:21.617Z"
   },
   {
    "duration": 5,
    "start_time": "2022-12-05T02:38:21.627Z"
   },
   {
    "duration": 7,
    "start_time": "2022-12-05T02:38:21.633Z"
   },
   {
    "duration": 8,
    "start_time": "2022-12-05T02:38:21.642Z"
   },
   {
    "duration": 6,
    "start_time": "2022-12-05T02:38:21.652Z"
   },
   {
    "duration": 18894,
    "start_time": "2022-12-05T02:38:21.660Z"
   },
   {
    "duration": 4,
    "start_time": "2022-12-05T02:38:40.557Z"
   },
   {
    "duration": 13,
    "start_time": "2022-12-05T02:38:40.562Z"
   },
   {
    "duration": 4,
    "start_time": "2022-12-05T02:38:40.576Z"
   },
   {
    "duration": 615751,
    "start_time": "2022-12-05T02:38:40.581Z"
   },
   {
    "duration": 6,
    "start_time": "2022-12-05T02:48:56.334Z"
   },
   {
    "duration": 150,
    "start_time": "2022-12-05T02:48:56.342Z"
   },
   {
    "duration": 48,
    "start_time": "2022-12-05T02:48:56.495Z"
   },
   {
    "duration": 9,
    "start_time": "2022-12-05T02:48:56.544Z"
   },
   {
    "duration": 16,
    "start_time": "2022-12-05T02:48:56.556Z"
   },
   {
    "duration": 11,
    "start_time": "2022-12-05T02:48:56.574Z"
   },
   {
    "duration": 10,
    "start_time": "2022-12-05T02:48:56.613Z"
   },
   {
    "duration": 1173,
    "start_time": "2022-12-05T13:03:46.297Z"
   },
   {
    "duration": 1457,
    "start_time": "2022-12-05T18:52:29.918Z"
   },
   {
    "duration": 213,
    "start_time": "2022-12-05T18:53:47.202Z"
   },
   {
    "duration": 53,
    "start_time": "2022-12-05T18:54:11.471Z"
   },
   {
    "duration": 122,
    "start_time": "2022-12-05T18:54:19.011Z"
   },
   {
    "duration": 76,
    "start_time": "2022-12-05T18:54:26.549Z"
   },
   {
    "duration": 416,
    "start_time": "2022-12-05T18:54:30.526Z"
   },
   {
    "duration": 9,
    "start_time": "2022-12-05T19:21:50.728Z"
   },
   {
    "duration": 55145,
    "start_time": "2022-12-05T19:21:56.874Z"
   },
   {
    "duration": 15,
    "start_time": "2022-12-05T19:23:23.330Z"
   },
   {
    "duration": 9,
    "start_time": "2022-12-05T19:24:10.266Z"
   },
   {
    "duration": 17,
    "start_time": "2022-12-05T19:24:17.295Z"
   },
   {
    "duration": 72877,
    "start_time": "2022-12-05T19:40:35.577Z"
   },
   {
    "duration": 71981,
    "start_time": "2022-12-05T19:42:02.407Z"
   },
   {
    "duration": 64927,
    "start_time": "2022-12-05T19:45:49.416Z"
   },
   {
    "duration": 64606,
    "start_time": "2022-12-05T19:47:42.239Z"
   },
   {
    "duration": 62331,
    "start_time": "2022-12-05T19:50:00.583Z"
   },
   {
    "duration": 2978,
    "start_time": "2022-12-05T20:13:54.586Z"
   },
   {
    "duration": 5182,
    "start_time": "2022-12-05T20:14:33.467Z"
   },
   {
    "duration": 4269,
    "start_time": "2022-12-05T20:14:45.069Z"
   },
   {
    "duration": 3178,
    "start_time": "2022-12-05T20:15:04.844Z"
   },
   {
    "duration": 3533,
    "start_time": "2022-12-05T20:20:39.667Z"
   },
   {
    "duration": 4600,
    "start_time": "2022-12-05T20:21:15.749Z"
   },
   {
    "duration": 4,
    "start_time": "2022-12-05T20:56:17.942Z"
   },
   {
    "duration": 1098,
    "start_time": "2022-12-05T20:57:55.422Z"
   },
   {
    "duration": 10,
    "start_time": "2022-12-05T20:58:14.192Z"
   },
   {
    "duration": 1161,
    "start_time": "2022-12-05T20:58:50.023Z"
   },
   {
    "duration": 9,
    "start_time": "2022-12-05T20:59:24.642Z"
   },
   {
    "duration": 8,
    "start_time": "2022-12-05T20:59:40.842Z"
   },
   {
    "duration": 67,
    "start_time": "2022-12-05T21:00:55.501Z"
   },
   {
    "duration": 10,
    "start_time": "2022-12-05T21:01:01.484Z"
   },
   {
    "duration": 10,
    "start_time": "2022-12-05T21:02:22.796Z"
   },
   {
    "duration": 71,
    "start_time": "2022-12-05T21:04:57.161Z"
   },
   {
    "duration": 72,
    "start_time": "2022-12-05T21:05:02.531Z"
   },
   {
    "duration": 65,
    "start_time": "2022-12-05T21:05:14.886Z"
   },
   {
    "duration": 1127,
    "start_time": "2022-12-05T21:05:30.201Z"
   },
   {
    "duration": 5,
    "start_time": "2022-12-05T21:06:02.040Z"
   },
   {
    "duration": 10,
    "start_time": "2022-12-05T21:07:29.032Z"
   },
   {
    "duration": 7,
    "start_time": "2022-12-05T21:07:37.900Z"
   },
   {
    "duration": 6,
    "start_time": "2022-12-05T21:07:46.951Z"
   },
   {
    "duration": 8,
    "start_time": "2022-12-05T21:08:01.760Z"
   },
   {
    "duration": 6,
    "start_time": "2022-12-05T21:11:56.379Z"
   },
   {
    "duration": 3,
    "start_time": "2022-12-05T21:21:04.468Z"
   },
   {
    "duration": 3,
    "start_time": "2022-12-05T21:39:40.864Z"
   },
   {
    "duration": 10,
    "start_time": "2022-12-05T21:39:48.868Z"
   },
   {
    "duration": 5,
    "start_time": "2022-12-05T22:11:17.059Z"
   },
   {
    "duration": 7,
    "start_time": "2022-12-05T22:11:51.006Z"
   },
   {
    "duration": 75,
    "start_time": "2022-12-05T22:13:21.057Z"
   },
   {
    "duration": 12,
    "start_time": "2022-12-05T22:21:18.849Z"
   },
   {
    "duration": 32,
    "start_time": "2022-12-05T22:22:04.968Z"
   },
   {
    "duration": 16,
    "start_time": "2022-12-05T22:22:12.838Z"
   },
   {
    "duration": 3,
    "start_time": "2022-12-05T22:22:42.899Z"
   },
   {
    "duration": 85,
    "start_time": "2022-12-05T22:22:54.678Z"
   },
   {
    "duration": 4,
    "start_time": "2022-12-05T22:23:23.095Z"
   },
   {
    "duration": 4,
    "start_time": "2022-12-05T22:27:23.258Z"
   },
   {
    "duration": 4,
    "start_time": "2022-12-05T22:47:33.287Z"
   },
   {
    "duration": 4,
    "start_time": "2022-12-05T22:48:48.900Z"
   },
   {
    "duration": 9,
    "start_time": "2022-12-05T22:50:48.128Z"
   },
   {
    "duration": 6,
    "start_time": "2022-12-05T22:50:59.397Z"
   },
   {
    "duration": 7,
    "start_time": "2022-12-05T22:51:51.255Z"
   },
   {
    "duration": 7,
    "start_time": "2022-12-05T22:52:36.147Z"
   },
   {
    "duration": 15,
    "start_time": "2022-12-05T23:17:05.997Z"
   },
   {
    "duration": 8,
    "start_time": "2022-12-05T23:17:30.727Z"
   },
   {
    "duration": 15,
    "start_time": "2022-12-05T23:17:32.983Z"
   },
   {
    "duration": 6,
    "start_time": "2022-12-05T23:21:37.393Z"
   },
   {
    "duration": 7,
    "start_time": "2022-12-05T23:45:09.282Z"
   },
   {
    "duration": 73,
    "start_time": "2022-12-06T12:00:50.680Z"
   },
   {
    "duration": 1679,
    "start_time": "2022-12-06T12:01:47.980Z"
   },
   {
    "duration": 77,
    "start_time": "2022-12-06T12:01:49.662Z"
   },
   {
    "duration": 16,
    "start_time": "2022-12-06T12:01:49.741Z"
   },
   {
    "duration": 12,
    "start_time": "2022-12-06T12:01:49.759Z"
   },
   {
    "duration": 26,
    "start_time": "2022-12-06T12:01:49.774Z"
   },
   {
    "duration": 5061,
    "start_time": "2022-12-06T12:01:49.801Z"
   },
   {
    "duration": 7,
    "start_time": "2022-12-06T12:01:54.865Z"
   },
   {
    "duration": 14,
    "start_time": "2022-12-06T12:01:54.874Z"
   },
   {
    "duration": 393,
    "start_time": "2022-12-06T12:01:54.890Z"
   },
   {
    "duration": 4,
    "start_time": "2022-12-06T12:01:55.285Z"
   },
   {
    "duration": 14,
    "start_time": "2022-12-06T12:01:55.291Z"
   },
   {
    "duration": 9,
    "start_time": "2022-12-06T12:01:55.307Z"
   },
   {
    "duration": 140,
    "start_time": "2022-12-06T12:01:55.317Z"
   },
   {
    "duration": 0,
    "start_time": "2022-12-06T12:01:55.459Z"
   },
   {
    "duration": 0,
    "start_time": "2022-12-06T12:01:55.461Z"
   },
   {
    "duration": 0,
    "start_time": "2022-12-06T12:01:55.463Z"
   },
   {
    "duration": 0,
    "start_time": "2022-12-06T12:01:55.464Z"
   },
   {
    "duration": 0,
    "start_time": "2022-12-06T12:01:55.465Z"
   },
   {
    "duration": 0,
    "start_time": "2022-12-06T12:01:55.466Z"
   },
   {
    "duration": 0,
    "start_time": "2022-12-06T12:01:55.467Z"
   },
   {
    "duration": 0,
    "start_time": "2022-12-06T12:01:55.468Z"
   },
   {
    "duration": 0,
    "start_time": "2022-12-06T12:01:55.469Z"
   },
   {
    "duration": 0,
    "start_time": "2022-12-06T12:01:55.470Z"
   },
   {
    "duration": 0,
    "start_time": "2022-12-06T12:01:55.472Z"
   },
   {
    "duration": 0,
    "start_time": "2022-12-06T12:01:55.473Z"
   },
   {
    "duration": 0,
    "start_time": "2022-12-06T12:01:55.473Z"
   },
   {
    "duration": 0,
    "start_time": "2022-12-06T12:01:55.474Z"
   },
   {
    "duration": 8,
    "start_time": "2022-12-06T12:03:35.439Z"
   },
   {
    "duration": 11,
    "start_time": "2022-12-06T12:03:56.619Z"
   },
   {
    "duration": 8,
    "start_time": "2022-12-06T12:04:16.450Z"
   },
   {
    "duration": 10,
    "start_time": "2022-12-06T12:05:39.730Z"
   },
   {
    "duration": 5,
    "start_time": "2022-12-06T12:05:46.339Z"
   },
   {
    "duration": 4,
    "start_time": "2022-12-06T12:47:28.656Z"
   },
   {
    "duration": 4,
    "start_time": "2022-12-06T12:47:43.637Z"
   },
   {
    "duration": 3086,
    "start_time": "2022-12-06T12:52:09.986Z"
   },
   {
    "duration": 5,
    "start_time": "2022-12-06T12:52:29.696Z"
   },
   {
    "duration": 5,
    "start_time": "2022-12-06T12:57:21.075Z"
   },
   {
    "duration": 10,
    "start_time": "2022-12-06T13:00:51.255Z"
   },
   {
    "duration": 4,
    "start_time": "2022-12-06T13:01:13.655Z"
   },
   {
    "duration": 3,
    "start_time": "2022-12-06T13:02:47.950Z"
   },
   {
    "duration": 155384,
    "start_time": "2022-12-06T13:12:02.525Z"
   },
   {
    "duration": 7,
    "start_time": "2022-12-06T13:16:13.332Z"
   },
   {
    "duration": 5,
    "start_time": "2022-12-06T13:16:39.275Z"
   },
   {
    "duration": 4,
    "start_time": "2022-12-06T13:16:51.847Z"
   },
   {
    "duration": 6,
    "start_time": "2022-12-06T13:16:58.955Z"
   },
   {
    "duration": 4,
    "start_time": "2022-12-06T13:17:29.617Z"
   },
   {
    "duration": 91,
    "start_time": "2022-12-06T13:20:05.326Z"
   },
   {
    "duration": 71,
    "start_time": "2022-12-06T13:20:11.675Z"
   },
   {
    "duration": 79,
    "start_time": "2022-12-06T13:20:26.075Z"
   },
   {
    "duration": 13,
    "start_time": "2022-12-06T13:21:54.365Z"
   },
   {
    "duration": 4,
    "start_time": "2022-12-06T13:27:35.591Z"
   },
   {
    "duration": 5,
    "start_time": "2022-12-06T13:27:50.015Z"
   },
   {
    "duration": 2,
    "start_time": "2022-12-06T13:57:25.325Z"
   },
   {
    "duration": 2,
    "start_time": "2022-12-06T13:58:42.794Z"
   },
   {
    "duration": 3,
    "start_time": "2022-12-06T14:00:04.234Z"
   },
   {
    "duration": 4,
    "start_time": "2022-12-06T14:00:15.034Z"
   },
   {
    "duration": 42,
    "start_time": "2022-12-06T14:01:06.225Z"
   },
   {
    "duration": 5,
    "start_time": "2022-12-06T14:02:20.584Z"
   },
   {
    "duration": 4,
    "start_time": "2022-12-06T14:03:00.814Z"
   },
   {
    "duration": 3,
    "start_time": "2022-12-06T14:03:01.275Z"
   },
   {
    "duration": 41,
    "start_time": "2022-12-06T14:03:01.935Z"
   },
   {
    "duration": 4,
    "start_time": "2022-12-06T14:03:02.755Z"
   },
   {
    "duration": 3,
    "start_time": "2022-12-06T14:03:40.324Z"
   },
   {
    "duration": 3,
    "start_time": "2022-12-06T14:03:41.074Z"
   },
   {
    "duration": 39,
    "start_time": "2022-12-06T14:03:41.644Z"
   },
   {
    "duration": 4,
    "start_time": "2022-12-06T14:03:42.295Z"
   },
   {
    "duration": 3,
    "start_time": "2022-12-06T14:03:56.439Z"
   },
   {
    "duration": 3,
    "start_time": "2022-12-06T14:03:57.035Z"
   },
   {
    "duration": 60,
    "start_time": "2022-12-06T14:03:57.619Z"
   },
   {
    "duration": 6,
    "start_time": "2022-12-06T14:03:58.244Z"
   },
   {
    "duration": 3,
    "start_time": "2022-12-06T14:07:03.194Z"
   },
   {
    "duration": 3,
    "start_time": "2022-12-06T14:07:06.304Z"
   },
   {
    "duration": 41,
    "start_time": "2022-12-06T14:07:06.964Z"
   },
   {
    "duration": 5,
    "start_time": "2022-12-06T14:07:07.884Z"
   },
   {
    "duration": 12,
    "start_time": "2022-12-06T14:10:13.724Z"
   },
   {
    "duration": 6,
    "start_time": "2022-12-06T14:10:28.479Z"
   },
   {
    "duration": 6,
    "start_time": "2022-12-06T14:10:56.835Z"
   },
   {
    "duration": 7,
    "start_time": "2022-12-06T14:11:06.404Z"
   },
   {
    "duration": 6,
    "start_time": "2022-12-06T14:11:16.004Z"
   },
   {
    "duration": 7,
    "start_time": "2022-12-06T14:11:25.114Z"
   },
   {
    "duration": 6,
    "start_time": "2022-12-06T14:11:35.273Z"
   },
   {
    "duration": 3166,
    "start_time": "2022-12-06T14:46:59.356Z"
   },
   {
    "duration": 2976,
    "start_time": "2022-12-06T14:47:57.826Z"
   },
   {
    "duration": 3123,
    "start_time": "2022-12-06T14:48:05.754Z"
   },
   {
    "duration": 3402,
    "start_time": "2022-12-06T14:48:14.657Z"
   },
   {
    "duration": 3306,
    "start_time": "2022-12-06T14:48:33.378Z"
   },
   {
    "duration": 3031,
    "start_time": "2022-12-06T14:48:47.165Z"
   },
   {
    "duration": 1446,
    "start_time": "2022-12-06T14:49:01.518Z"
   },
   {
    "duration": 30,
    "start_time": "2022-12-06T14:49:02.966Z"
   },
   {
    "duration": 14,
    "start_time": "2022-12-06T14:49:02.998Z"
   },
   {
    "duration": 14,
    "start_time": "2022-12-06T14:49:03.014Z"
   },
   {
    "duration": 37,
    "start_time": "2022-12-06T14:49:03.031Z"
   },
   {
    "duration": 5084,
    "start_time": "2022-12-06T14:49:03.070Z"
   },
   {
    "duration": 9,
    "start_time": "2022-12-06T14:49:08.156Z"
   },
   {
    "duration": 9,
    "start_time": "2022-12-06T14:49:08.167Z"
   },
   {
    "duration": 396,
    "start_time": "2022-12-06T14:49:08.177Z"
   },
   {
    "duration": 4,
    "start_time": "2022-12-06T14:49:08.575Z"
   },
   {
    "duration": 13,
    "start_time": "2022-12-06T14:49:08.581Z"
   },
   {
    "duration": 8,
    "start_time": "2022-12-06T14:49:08.596Z"
   },
   {
    "duration": 12,
    "start_time": "2022-12-06T14:49:08.606Z"
   },
   {
    "duration": 15,
    "start_time": "2022-12-06T14:49:08.637Z"
   },
   {
    "duration": 9,
    "start_time": "2022-12-06T14:49:08.654Z"
   },
   {
    "duration": 3313,
    "start_time": "2022-12-06T14:49:08.665Z"
   },
   {
    "duration": 5,
    "start_time": "2022-12-06T14:49:11.980Z"
   },
   {
    "duration": 10,
    "start_time": "2022-12-06T14:49:11.987Z"
   },
   {
    "duration": 11,
    "start_time": "2022-12-06T14:49:11.998Z"
   },
   {
    "duration": 26,
    "start_time": "2022-12-06T14:49:12.012Z"
   },
   {
    "duration": 162822,
    "start_time": "2022-12-06T14:49:12.041Z"
   },
   {
    "duration": 3,
    "start_time": "2022-12-06T14:51:54.865Z"
   },
   {
    "duration": 13,
    "start_time": "2022-12-06T14:51:54.870Z"
   },
   {
    "duration": 10,
    "start_time": "2022-12-06T14:51:54.885Z"
   },
   {
    "duration": 29,
    "start_time": "2022-12-06T14:51:54.897Z"
   },
   {
    "duration": 17,
    "start_time": "2022-12-06T14:51:54.937Z"
   },
   {
    "duration": 6,
    "start_time": "2022-12-06T14:51:54.956Z"
   },
   {
    "duration": 7,
    "start_time": "2022-12-06T15:10:15.958Z"
   },
   {
    "duration": 7,
    "start_time": "2022-12-06T15:23:43.863Z"
   },
   {
    "duration": 346,
    "start_time": "2022-12-06T15:44:53.079Z"
   },
   {
    "duration": 1537,
    "start_time": "2022-12-06T15:48:44.235Z"
   },
   {
    "duration": 32,
    "start_time": "2022-12-06T15:48:45.775Z"
   },
   {
    "duration": 16,
    "start_time": "2022-12-06T15:48:45.809Z"
   },
   {
    "duration": 14,
    "start_time": "2022-12-06T15:48:45.828Z"
   },
   {
    "duration": 40,
    "start_time": "2022-12-06T15:48:45.844Z"
   },
   {
    "duration": 5112,
    "start_time": "2022-12-06T15:48:45.886Z"
   },
   {
    "duration": 7,
    "start_time": "2022-12-06T15:48:51.000Z"
   },
   {
    "duration": 11,
    "start_time": "2022-12-06T15:48:51.009Z"
   },
   {
    "duration": 392,
    "start_time": "2022-12-06T15:48:51.022Z"
   },
   {
    "duration": 4,
    "start_time": "2022-12-06T15:48:51.418Z"
   },
   {
    "duration": 22,
    "start_time": "2022-12-06T15:48:51.423Z"
   },
   {
    "duration": 9,
    "start_time": "2022-12-06T15:48:51.447Z"
   },
   {
    "duration": 10,
    "start_time": "2022-12-06T15:48:51.457Z"
   },
   {
    "duration": 9,
    "start_time": "2022-12-06T15:48:51.468Z"
   },
   {
    "duration": 4,
    "start_time": "2022-12-06T15:48:51.479Z"
   },
   {
    "duration": 3080,
    "start_time": "2022-12-06T15:48:51.485Z"
   },
   {
    "duration": 3,
    "start_time": "2022-12-06T15:48:54.567Z"
   },
   {
    "duration": 8,
    "start_time": "2022-12-06T15:48:54.572Z"
   },
   {
    "duration": 5,
    "start_time": "2022-12-06T15:48:54.581Z"
   },
   {
    "duration": 5,
    "start_time": "2022-12-06T15:48:54.588Z"
   },
   {
    "duration": 155800,
    "start_time": "2022-12-06T15:48:54.594Z"
   },
   {
    "duration": 5,
    "start_time": "2022-12-06T15:51:30.397Z"
   },
   {
    "duration": 27,
    "start_time": "2022-12-06T15:51:30.404Z"
   },
   {
    "duration": 27,
    "start_time": "2022-12-06T15:51:30.433Z"
   },
   {
    "duration": 46,
    "start_time": "2022-12-06T15:51:30.461Z"
   },
   {
    "duration": 25,
    "start_time": "2022-12-06T15:51:30.509Z"
   },
   {
    "duration": 13,
    "start_time": "2022-12-06T15:51:30.536Z"
   },
   {
    "duration": 12,
    "start_time": "2022-12-06T16:20:58.158Z"
   },
   {
    "duration": 8,
    "start_time": "2022-12-06T16:28:09.968Z"
   },
   {
    "duration": 10,
    "start_time": "2022-12-06T16:30:28.526Z"
   },
   {
    "duration": 10,
    "start_time": "2022-12-06T16:30:33.638Z"
   },
   {
    "duration": 3239,
    "start_time": "2022-12-06T16:33:44.512Z"
   },
   {
    "duration": 3,
    "start_time": "2022-12-06T16:39:07.015Z"
   },
   {
    "duration": 3140,
    "start_time": "2022-12-06T16:41:34.698Z"
   },
   {
    "duration": 3,
    "start_time": "2022-12-06T16:41:57.530Z"
   },
   {
    "duration": 4,
    "start_time": "2022-12-06T16:42:11.877Z"
   },
   {
    "duration": 160720,
    "start_time": "2022-12-06T16:47:34.778Z"
   },
   {
    "duration": 3,
    "start_time": "2022-12-06T16:50:15.501Z"
   },
   {
    "duration": 36,
    "start_time": "2022-12-06T16:50:15.506Z"
   },
   {
    "duration": 12,
    "start_time": "2022-12-06T18:45:43.918Z"
   },
   {
    "duration": 1457,
    "start_time": "2022-12-06T18:45:59.266Z"
   },
   {
    "duration": 31,
    "start_time": "2022-12-06T18:46:00.726Z"
   },
   {
    "duration": 76,
    "start_time": "2022-12-06T18:46:00.759Z"
   },
   {
    "duration": 99,
    "start_time": "2022-12-06T18:46:00.837Z"
   },
   {
    "duration": 99,
    "start_time": "2022-12-06T18:46:00.938Z"
   },
   {
    "duration": 4947,
    "start_time": "2022-12-06T18:46:01.039Z"
   },
   {
    "duration": 6,
    "start_time": "2022-12-06T18:46:05.988Z"
   },
   {
    "duration": 9,
    "start_time": "2022-12-06T18:46:05.995Z"
   },
   {
    "duration": 393,
    "start_time": "2022-12-06T18:46:06.005Z"
   },
   {
    "duration": 4,
    "start_time": "2022-12-06T18:46:06.400Z"
   },
   {
    "duration": 16,
    "start_time": "2022-12-06T18:46:06.406Z"
   },
   {
    "duration": 14,
    "start_time": "2022-12-06T18:46:06.424Z"
   },
   {
    "duration": 51,
    "start_time": "2022-12-06T18:46:06.440Z"
   },
   {
    "duration": 28,
    "start_time": "2022-12-06T18:46:06.494Z"
   },
   {
    "duration": 30,
    "start_time": "2022-12-06T18:46:06.524Z"
   },
   {
    "duration": 3080,
    "start_time": "2022-12-06T18:46:06.556Z"
   },
   {
    "duration": 4,
    "start_time": "2022-12-06T18:46:09.638Z"
   },
   {
    "duration": 6,
    "start_time": "2022-12-06T18:46:09.643Z"
   },
   {
    "duration": 5,
    "start_time": "2022-12-06T18:46:09.650Z"
   },
   {
    "duration": 6,
    "start_time": "2022-12-06T18:46:09.657Z"
   },
   {
    "duration": 153419,
    "start_time": "2022-12-06T18:46:09.665Z"
   },
   {
    "duration": 4,
    "start_time": "2022-12-06T18:48:43.086Z"
   },
   {
    "duration": 9,
    "start_time": "2022-12-06T18:48:43.091Z"
   },
   {
    "duration": 6,
    "start_time": "2022-12-06T18:48:43.102Z"
   },
   {
    "duration": 41,
    "start_time": "2022-12-06T18:48:43.110Z"
   },
   {
    "duration": 16,
    "start_time": "2022-12-06T18:48:43.153Z"
   },
   {
    "duration": 4,
    "start_time": "2022-12-06T18:48:43.171Z"
   },
   {
    "duration": 93,
    "start_time": "2022-12-06T19:50:19.737Z"
   },
   {
    "duration": 6,
    "start_time": "2022-12-06T20:43:19.201Z"
   },
   {
    "duration": 7,
    "start_time": "2022-12-06T20:43:23.035Z"
   },
   {
    "duration": 1480,
    "start_time": "2022-12-06T20:43:31.497Z"
   },
   {
    "duration": 30,
    "start_time": "2022-12-06T20:43:32.979Z"
   },
   {
    "duration": 14,
    "start_time": "2022-12-06T20:43:33.011Z"
   },
   {
    "duration": 12,
    "start_time": "2022-12-06T20:43:33.027Z"
   },
   {
    "duration": 24,
    "start_time": "2022-12-06T20:43:33.042Z"
   },
   {
    "duration": 4890,
    "start_time": "2022-12-06T20:43:33.068Z"
   },
   {
    "duration": 6,
    "start_time": "2022-12-06T20:43:37.960Z"
   },
   {
    "duration": 7,
    "start_time": "2022-12-06T20:43:37.968Z"
   },
   {
    "duration": 380,
    "start_time": "2022-12-06T20:43:37.977Z"
   },
   {
    "duration": 3,
    "start_time": "2022-12-06T20:43:38.359Z"
   },
   {
    "duration": 12,
    "start_time": "2022-12-06T20:43:38.363Z"
   },
   {
    "duration": 5,
    "start_time": "2022-12-06T20:43:38.377Z"
   },
   {
    "duration": 10,
    "start_time": "2022-12-06T20:43:38.383Z"
   },
   {
    "duration": 7,
    "start_time": "2022-12-06T20:43:38.395Z"
   },
   {
    "duration": 6,
    "start_time": "2022-12-06T20:43:38.404Z"
   },
   {
    "duration": 3100,
    "start_time": "2022-12-06T20:43:38.411Z"
   },
   {
    "duration": 4,
    "start_time": "2022-12-06T20:43:41.512Z"
   },
   {
    "duration": 6,
    "start_time": "2022-12-06T20:43:41.518Z"
   },
   {
    "duration": 15,
    "start_time": "2022-12-06T20:43:41.526Z"
   },
   {
    "duration": 6,
    "start_time": "2022-12-06T20:43:41.543Z"
   },
   {
    "duration": 152906,
    "start_time": "2022-12-06T20:43:41.551Z"
   },
   {
    "duration": 4,
    "start_time": "2022-12-06T20:46:14.458Z"
   },
   {
    "duration": 7,
    "start_time": "2022-12-06T20:46:14.463Z"
   },
   {
    "duration": 5,
    "start_time": "2022-12-06T20:46:14.471Z"
   },
   {
    "duration": 19,
    "start_time": "2022-12-06T20:46:14.478Z"
   },
   {
    "duration": 38,
    "start_time": "2022-12-06T20:46:14.499Z"
   },
   {
    "duration": 6,
    "start_time": "2022-12-06T20:46:14.539Z"
   },
   {
    "duration": 6,
    "start_time": "2022-12-06T20:50:57.507Z"
   },
   {
    "duration": 6,
    "start_time": "2022-12-06T20:55:06.126Z"
   },
   {
    "duration": 84,
    "start_time": "2022-12-06T21:40:35.062Z"
   },
   {
    "duration": 76,
    "start_time": "2022-12-06T21:41:42.590Z"
   },
   {
    "duration": 67,
    "start_time": "2022-12-06T21:42:10.394Z"
   },
   {
    "duration": 68,
    "start_time": "2022-12-06T21:43:00.433Z"
   },
   {
    "duration": 14,
    "start_time": "2022-12-06T22:05:06.075Z"
   },
   {
    "duration": 1519,
    "start_time": "2022-12-06T22:05:27.935Z"
   },
   {
    "duration": 31,
    "start_time": "2022-12-06T22:05:29.456Z"
   },
   {
    "duration": 14,
    "start_time": "2022-12-06T22:05:29.489Z"
   },
   {
    "duration": 11,
    "start_time": "2022-12-06T22:05:29.505Z"
   },
   {
    "duration": 28,
    "start_time": "2022-12-06T22:05:29.519Z"
   },
   {
    "duration": 4797,
    "start_time": "2022-12-06T22:05:29.549Z"
   },
   {
    "duration": 7,
    "start_time": "2022-12-06T22:05:34.348Z"
   },
   {
    "duration": 9,
    "start_time": "2022-12-06T22:05:34.357Z"
   },
   {
    "duration": 359,
    "start_time": "2022-12-06T22:05:34.367Z"
   },
   {
    "duration": 10,
    "start_time": "2022-12-06T22:05:34.728Z"
   },
   {
    "duration": 16,
    "start_time": "2022-12-06T22:05:34.739Z"
   },
   {
    "duration": 6,
    "start_time": "2022-12-06T22:05:34.757Z"
   },
   {
    "duration": 10,
    "start_time": "2022-12-06T22:05:34.765Z"
   },
   {
    "duration": 8,
    "start_time": "2022-12-06T22:05:34.777Z"
   },
   {
    "duration": 5,
    "start_time": "2022-12-06T22:05:34.787Z"
   },
   {
    "duration": 3027,
    "start_time": "2022-12-06T22:05:34.793Z"
   },
   {
    "duration": 5,
    "start_time": "2022-12-06T22:05:37.822Z"
   },
   {
    "duration": 5,
    "start_time": "2022-12-06T22:05:37.840Z"
   },
   {
    "duration": 11,
    "start_time": "2022-12-06T22:05:37.847Z"
   },
   {
    "duration": 10,
    "start_time": "2022-12-06T22:05:37.860Z"
   },
   {
    "duration": 152779,
    "start_time": "2022-12-06T22:05:37.872Z"
   },
   {
    "duration": 4,
    "start_time": "2022-12-06T22:08:10.652Z"
   },
   {
    "duration": 25,
    "start_time": "2022-12-06T22:08:10.658Z"
   },
   {
    "duration": 19,
    "start_time": "2022-12-06T22:08:10.685Z"
   },
   {
    "duration": 31,
    "start_time": "2022-12-06T22:08:10.706Z"
   },
   {
    "duration": 30,
    "start_time": "2022-12-06T22:08:10.739Z"
   },
   {
    "duration": 6,
    "start_time": "2022-12-06T22:08:10.772Z"
   }
  ],
  "kernelspec": {
   "display_name": "Python 3 (ipykernel)",
   "language": "python",
   "name": "python3"
  },
  "language_info": {
   "codemirror_mode": {
    "name": "ipython",
    "version": 3
   },
   "file_extension": ".py",
   "mimetype": "text/x-python",
   "name": "python",
   "nbconvert_exporter": "python",
   "pygments_lexer": "ipython3",
   "version": "3.11.3"
  },
  "toc": {
   "base_numbering": 1,
   "nav_menu": {},
   "number_sections": true,
   "sideBar": true,
   "skip_h1_title": true,
   "title_cell": "Table of Contents",
   "title_sidebar": "Contents",
   "toc_cell": false,
   "toc_position": {
    "height": "calc(100% - 180px)",
    "left": "10px",
    "top": "150px",
    "width": "329.188px"
   },
   "toc_section_display": true,
   "toc_window_display": false
  }
 },
 "nbformat": 4,
 "nbformat_minor": 2
}

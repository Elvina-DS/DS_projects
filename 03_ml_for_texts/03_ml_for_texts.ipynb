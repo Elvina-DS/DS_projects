{
 "cells": [
  {
   "attachments": {},
   "cell_type": "markdown",
   "metadata": {},
   "source": [
    "<h2 style=\"color: darkslategray\">Project for \"WikiShop\" with BERT<a class=\"tocSkip\"></a></h2>\n",
    "\n",
    "The online store \"WikiShop\" is launching a new service. Now users can edit and enhance product descriptions, similar to wiki communities. This means that customers can suggest their edits and comment on other changes. The store needs a tool that will detect toxic comments and send them for moderation.\n",
    "\n",
    "**Project Objective:** To train a model to classify comments as positive or negative. We have a dataset with labels indicating the toxicity of the edits.\n",
    "\n",
    "**The goal** is to build a model with an F1 quality metric of at least 0.75.\n",
    "\n",
    "**Project Process**\n",
    "\n",
    "The research will be conducted in 4 stages:\n",
    "\n",
    "- 1. Data preparation.\n",
    "- 2. Model training.\n",
    "- 3. Model testing.\n",
    "- 4. Overall conclusion.\n",
    "\n",
    "**Data Description**\n",
    "\n",
    "The data is contained in the file `toxic_comments.csv`. The column *text* contains the comment text, and *toxic* represents the target feature.\n",
    "\n",
    "The problem can be solved both with and without the use of the **BERT** neural network. We will try both approaches.\n",
    "\n",
    "<img src=\"https://img.freepik.com/free-vector/customer-feedback-concept-illustration_114360-7038.jpg\" width=\"600\" height=\"600\" alt=\"Bar Chart\" />"
   ]
  },
  {
   "attachments": {},
   "cell_type": "markdown",
   "metadata": {},
   "source": [
    "## Data Preparation"
   ]
  },
  {
   "attachments": {},
   "cell_type": "markdown",
   "metadata": {},
   "source": [
    "Let's load the necessary libraries and open the data file."
   ]
  },
  {
   "cell_type": "code",
   "execution_count": 1,
   "metadata": {},
   "outputs": [
    {
     "name": "stdout",
     "output_type": "stream",
     "text": [
      "env: PYTHONWARNINGS=ignore\n"
     ]
    },
    {
     "name": "stderr",
     "output_type": "stream",
     "text": [
     ]
    }
   ],
   "source": [
    "# Library imports\n",
    "\n",
    "import pandas as pd\n",
    "import numpy as np\n",
    "import matplotlib.pyplot as plt\n",
    "import seaborn as sns\n",
    "\n",
    "from sklearn.model_selection import train_test_split, GridSearchCV, RandomizedSearchCV\n",
    "from sklearn.feature_extraction.text import TfidfVectorizer\n",
    "from sklearn.linear_model import LogisticRegression\n",
    "from sklearn.ensemble import RandomForestClassifier\n",
    "from sklearn.utils.class_weight import compute_class_weight\n",
    "from catboost import CatBoostClassifier\n",
    "from sklearn.metrics import f1_score\n",
    "from sklearn.pipeline import Pipeline\n",
    "\n",
    "import nltk\n",
    "from nltk.corpus import stopwords as nltk_stopwords\n",
    "from nltk.stem import WordNetLemmatizer \n",
    "\n",
    "import re\n",
    "import torch\n",
    "from torch.utils.data import Dataset, DataLoader\n",
    "import transformers\n",
    "\n",
    "plt.style.use('fivethirtyeight')\n",
    "sns.set(font_scale=1.5)\n",
    "%env PYTHONWARNINGS = ignore\n",
    "\n",
    "RANDOM_STATE = 12345\n",
    "\n",
    "nltk.download('wordnet')\n",
    "nltk.download('stopwords')\n",
    "nltk.download('punkt')\n",
    "\n",
    "lemmatizer = WordNetLemmatizer()\n",
    "stopwords = nltk_stopwords.words('english')"
   ]
  },
  {
   "cell_type": "code",
   "execution_count": 2,
   "metadata": {},
   "outputs": [],
   "source": [
    "# File import\n",
    "\n",
    "df_comments = pd.read_csv(\"./toxic_comments.csv\")"
   ]
  },
  {
   "attachments": {},
   "cell_type": "markdown",
   "metadata": {},
   "source": [
    "Now we will proceed to exploring the available data."
   ]
  },
  {
   "cell_type": "code",
   "execution_count": 3,
   "metadata": {},
   "outputs": [
    {
     "data": {
      "text/html": [
       "<div>\n",
       "<style scoped>\n",
       "    .dataframe tbody tr th:only-of-type {\n",
       "        vertical-align: middle;\n",
       "    }\n",
       "\n",
       "    .dataframe tbody tr th {\n",
       "        vertical-align: top;\n",
       "    }\n",
       "\n",
       "    .dataframe thead th {\n",
       "        text-align: right;\n",
       "    }\n",
       "</style>\n",
       "<table border=\"1\" class=\"dataframe\">\n",
       "  <thead>\n",
       "    <tr style=\"text-align: right;\">\n",
       "      <th></th>\n",
       "      <th>Unnamed: 0</th>\n",
       "      <th>text</th>\n",
       "      <th>toxic</th>\n",
       "    </tr>\n",
       "  </thead>\n",
       "  <tbody>\n",
       "    <tr>\n",
       "      <th>0</th>\n",
       "      <td>0</td>\n",
       "      <td>Explanation\\nWhy the edits made under my usern...</td>\n",
       "      <td>0</td>\n",
       "    </tr>\n",
       "    <tr>\n",
       "      <th>1</th>\n",
       "      <td>1</td>\n",
       "      <td>D'aww! He matches this background colour I'm s...</td>\n",
       "      <td>0</td>\n",
       "    </tr>\n",
       "    <tr>\n",
       "      <th>2</th>\n",
       "      <td>2</td>\n",
       "      <td>Hey man, I'm really not trying to edit war. It...</td>\n",
       "      <td>0</td>\n",
       "    </tr>\n",
       "    <tr>\n",
       "      <th>3</th>\n",
       "      <td>3</td>\n",
       "      <td>\"\\nMore\\nI can't make any real suggestions on ...</td>\n",
       "      <td>0</td>\n",
       "    </tr>\n",
       "    <tr>\n",
       "      <th>4</th>\n",
       "      <td>4</td>\n",
       "      <td>You, sir, are my hero. Any chance you remember...</td>\n",
       "      <td>0</td>\n",
       "    </tr>\n",
       "  </tbody>\n",
       "</table>\n",
       "</div>"
      ],
      "text/plain": [
       "   Unnamed: 0                                               text  toxic\n",
       "0           0  Explanation\\nWhy the edits made under my usern...      0\n",
       "1           1  D'aww! He matches this background colour I'm s...      0\n",
       "2           2  Hey man, I'm really not trying to edit war. It...      0\n",
       "3           3  \"\\nMore\\nI can't make any real suggestions on ...      0\n",
       "4           4  You, sir, are my hero. Any chance you remember...      0"
      ]
     },
     "execution_count": 3,
     "metadata": {},
     "output_type": "execute_result"
    }
   ],
   "source": [
    "# Displaying the first 5 rows of the table\n",
    "\n",
    "df_comments.head()"
   ]
  },
  {
   "attachments": {},
   "cell_type": "markdown",
   "metadata": {},
   "source": [
    "Removing the redundant column that duplicates the indices."
   ]
  },
  {
   "cell_type": "code",
   "execution_count": 4,
   "metadata": {},
   "outputs": [],
   "source": [
    "# Column removal\n",
    "\n",
    "df_comments = df_comments.drop(df_comments.columns[0], axis=1)"
   ]
  },
  {
   "cell_type": "code",
   "execution_count": 5,
   "metadata": {},
   "outputs": [
    {
     "name": "stdout",
     "output_type": "stream",
     "text": [
      "<class 'pandas.core.frame.DataFrame'>\n",
      "RangeIndex: 159292 entries, 0 to 159291\n",
      "Data columns (total 2 columns):\n",
      " #   Column  Non-Null Count   Dtype \n",
      "---  ------  --------------   ----- \n",
      " 0   text    159292 non-null  object\n",
      " 1   toxic   159292 non-null  int64 \n",
      "dtypes: int64(1), object(1)\n",
      "memory usage: 2.4+ MB\n"
     ]
    }
   ],
   "source": [
    "# Displaying general information about the dataframe\n",
    "\n",
    "df_comments.info()"
   ]
  },
  {
   "attachments": {},
   "cell_type": "markdown",
   "metadata": {},
   "source": [
    "The dataset contains 2 features and 159,292 observations. There are no missing values. Let's examine the class distribution in the target feature."
   ]
  },
  {
   "cell_type": "code",
   "execution_count": 6,
   "metadata": {},
   "outputs": [
    {
     "data": {
      "image/png": "[encoded data removed]",
      "text/plain": [
       "<Figure size 1800x600 with 2 Axes>"
      ]
     },
     "metadata": {},
     "output_type": "display_data"
    }
   ],
   "source": [
    "# Displaying the target feature\n",
    "\n",
    "fig, axes = plt.subplots(ncols=2, nrows=1, figsize=(18, 6), dpi=100)\n",
    "sns.countplot(data=df_comments, ax=axes[0], x='toxic')\n",
    "axes[1].pie(df_comments['toxic'].value_counts(),\n",
    "            labels=['Positive', 'Negative'],\n",
    "            autopct='%1.2f%%',\n",
    "            shadow=True,\n",
    "            explode=(0.05, 0),\n",
    "            startangle=60)\n",
    "fig.suptitle('Comment distribution', fontsize=24)\n",
    "plt.show()"
   ]
  },
  {
   "attachments": {},
   "cell_type": "markdown",
   "metadata": {},
   "source": [
    "There is a class imbalance in the dataset: 90% positive comments and 10% toxic comments."
   ]
  },
  {
   "attachments": {},
   "cell_type": "markdown",
   "metadata": {},
   "source": [
    "# Solving the Problem without BERT"
   ]
  },
  {
   "attachments": {},
   "cell_type": "markdown",
   "metadata": {},
   "source": [
    "Before moving on to word vector representation, I will preprocess the text. Firstly, I will tokenize each comment, lemmatize the words, and clean the text by removing unnecessary symbols. I will write a corresponding function to perform these actions."
   ]
  },
  {
   "cell_type": "code",
   "execution_count": 7,
   "metadata": {},
   "outputs": [],
   "source": [
    "def lemmatize_text(text):\n",
    "    tokens = nltk.word_tokenize(text)\n",
    "    joined = ' '.join(tokens)\n",
    "    regular = re.sub(r'[^a-zA-Z]', ' ', joined)\n",
    "    final_text = ' '.join(regular.split())\n",
    "    return final_text"
   ]
  },
  {
   "attachments": {},
   "cell_type": "markdown",
   "metadata": {},
   "source": [
    "Let's display the first line of the original text for comparison:"
   ]
  },
  {
   "cell_type": "code",
   "execution_count": 8,
   "metadata": {},
   "outputs": [
    {
     "name": "stdout",
     "output_type": "stream",
     "text": [
      "Original text: Explanation\n",
      "Why the edits made under my username Hardcore Metallica Fan were reverted? They weren't vandalisms, just closure on some GAs after I voted at New York Dolls FAC. And please don't remove the template from the talk page since I'm retired now.89.205.38.27\n"
     ]
    }
   ],
   "source": [
    "print(\"Original text:\", df_comments['text'][0])"
   ]
  },
  {
   "attachments": {},
   "cell_type": "markdown",
   "metadata": {},
   "source": [
    "I will apply the function to the data:"
   ]
  },
  {
   "cell_type": "code",
   "execution_count": 9,
   "metadata": {
    "scrolled": true
   },
   "outputs": [
    {
     "name": "stderr",
     "output_type": "stream",
     "text": [
      "100%|███████████████████████████████████████████████████████████| 159292/159292 [00:31<00:00, 5040.86it/s]\n"
     ]
    }
   ],
   "source": [
    "from tqdm import tqdm\n",
    "tqdm.pandas()\n",
    "df_comments['text'] = df_comments['text'].progress_apply(lemmatize_text) "
   ]
  },
  {
   "attachments": {},
   "cell_type": "markdown",
   "metadata": {},
   "source": [
    "Let's display the first line of the transformed text:"
   ]
  },
  {
   "cell_type": "code",
   "execution_count": 10,
   "metadata": {},
   "outputs": [
    {
     "name": "stdout",
     "output_type": "stream",
     "text": [
      "Cleaned and lemmatized text: Explanation Why the edits made under my username Hardcore Metallica Fan were reverted They were n t vandalisms just closure on some GAs after I voted at New York Dolls FAC And please do n t remove the template from the talk page since I m retired now\n"
     ]
    }
   ],
   "source": [
    "print(\"Cleaned and lemmatized text:\", df_comments['text'][0])"
   ]
  },
  {
   "attachments": {},
   "cell_type": "markdown",
   "metadata": {},
   "source": [
    "The data has been preprocessed successfully.\n",
    "\n",
    "To enable algorithms to determine the topic and sentiment of the text, they need to be trained on a corpus. Therefore, I will save the corpus as a feature variable."
   ]
  },
  {
   "cell_type": "code",
   "execution_count": 11,
   "metadata": {},
   "outputs": [],
   "source": [
    "features_nltk = df_comments['text']"
   ]
  },
  {
   "attachments": {},
   "cell_type": "markdown",
   "metadata": {},
   "source": [
    "Next, I will split the dataset into training and testing sets. When splitting, I will use the stratify argument to maintain the initial class distribution in the new datasets (since we previously observed a class imbalance)."
   ]
  },
  {
   "cell_type": "code",
   "execution_count": 12,
   "metadata": {},
   "outputs": [
    {
     "name": "stdout",
     "output_type": "stream",
     "text": [
      "Number of instances per class in the target feature for the training set: [114484  12949]\n",
      "Number of instances per class in the target feature for the testing set: [28622  3237]\n"
     ]
    }
   ],
   "source": [
    "train_features_nltk, test_features_nltk, train_target_nltk, test_target_nltk = train_test_split(features_nltk, \\\n",
    "                                                        df_comments['toxic'], test_size=0.2, \\\n",
    "                                                        random_state=RANDOM_STATE, stratify=df_comments['toxic'])\n",
    "print(f\"Number of instances per class in the target feature for the training set: {np.bincount(train_target_nltk)}\")\n",
    "print(f\"Number of instances per class in the target feature for the testing set: {np.bincount(test_target_nltk)}\")"
   ]
  },
  {
   "attachments": {},
   "cell_type": "markdown",
   "metadata": {},
   "source": [
    "We obtained two datasets with 80% and 20% of the original dataset, respectively, while preserving the initial class distribution - 90% of examples belong to class 0, and 10% belong to class 1.\n",
    "\n",
    "The data is ready, and we can proceed to the model training stage."
   ]
  },
  {
   "attachments": {},
   "cell_type": "markdown",
   "metadata": {},
   "source": [
    "## Model Training"
   ]
  },
  {
   "attachments": {},
   "cell_type": "markdown",
   "metadata": {},
   "source": [
    "For this classification task I will use the `LogisticRegression`, `RandomForestClassifier` and `CatBoostClassifier` models. To account for the class imbalance, I will set the **`class_weight`** attribute for automatic class weight adjustment. I will use the `RandomizedSearchCV` class to search for optimal parameter values. I will employ a Pipeline, where the first step will include a vectorizer and text cleaning by removing stop words."
   ]
  },
  {
   "attachments": {},
   "cell_type": "markdown",
   "metadata": {},
   "source": [
    "### LogisticRegression"
   ]
  },
  {
   "cell_type": "code",
   "execution_count": 13,
   "metadata": {},
   "outputs": [
    {
     "name": "stdout",
     "output_type": "stream",
     "text": [
      "0.7782241406706246\n"
     ]
    },
    {
     "name": "stderr",
     "output_type": "stream",
     "text": [
     ]
    }
   ],
   "source": [
    "pipeline_logreg = Pipeline([\n",
    "    ('tfidf', TfidfVectorizer(stop_words=stopwords)),\n",
    "    ('logreg', LogisticRegression(random_state=RANDOM_STATE, class_weight='balanced'))\n",
    "])\n",
    "parameters_logreg = {\n",
    "    'tfidf__max_df': (0.25, 0.5, 0.75),\n",
    "    'tfidf__ngram_range': [(1, 1), (1, 2), (1, 3)],\n",
    "    'logreg__C': [0.01, 0.1, 1, 10],\n",
    "    'logreg__max_iter': [10, 100, 1000]\n",
    "}\n",
    "\n",
    "grid_search_logreg = RandomizedSearchCV(pipeline_logreg, parameters_logreg, cv=3, n_jobs=-1, \\\n",
    "                                        scoring='f1', verbose=3)\n",
    "grid_search_logreg.fit(train_features_nltk, train_target_nltk)\n",
    "\n",
    "print(grid_search_logreg.best_score_)"
   ]
  },
  {
   "attachments": {},
   "cell_type": "markdown",
   "metadata": {},
   "source": [
    "### RandomForestClassifier"
   ]
  },
  {
   "cell_type": "code",
   "execution_count": 14,
   "metadata": {
    "scrolled": true
   },
   "outputs": [
    {
     "name": "stdout",
     "output_type": "stream",
     "text": [
      "0.37340155774831213\n"
     ]
    }
   ],
   "source": [
    "pipeline_forest = Pipeline([\n",
    "    ('tfidf', TfidfVectorizer(stop_words=stopwords)),\n",
    "    ('randomforest', RandomForestClassifier(random_state=RANDOM_STATE, class_weight='balanced'))\n",
    "])\n",
    "parameters_forest = {\n",
    "    'tfidf__max_df': (0.25, 0.5, 0.75),\n",
    "    'tfidf__ngram_range': [(1, 1), (1, 2), (1, 3)],\n",
    "    'randomforest__max_depth': [2, 8, 15],\n",
    "    'randomforest__n_estimators': [10, 50, 100]\n",
    "}\n",
    "\n",
    "grid_search_forest = RandomizedSearchCV(pipeline_forest, parameters_forest, cv=3, n_jobs=-1, \\\n",
    "                                        scoring='f1', verbose=3)\n",
    "grid_search_forest.fit(train_features_nltk, train_target_nltk)\n",
    "\n",
    "print(grid_search_forest.best_score_)"
   ]
  },
  {
   "attachments": {},
   "cell_type": "markdown",
   "metadata": {},
   "source": [
    "### CatBoostClassifier"
   ]
  },
  {
   "attachments": {},
   "cell_type": "markdown",
   "metadata": {},
   "source": [
    "For the CatBoostClassifier model I will create a `class_weights` dictionary with classes and corresponding weights calculated considering the class imbalance and pass it to the model as a parameter."
   ]
  },
  {
   "cell_type": "code",
   "execution_count": 15,
   "metadata": {},
   "outputs": [
    {
     "name": "stdout",
     "output_type": "stream",
     "text": [
      "{0: 0.5565537542363999, 1: 4.9205730172214075}\n"
     ]
    }
   ],
   "source": [
    "classes = np.unique(train_target_nltk)\n",
    "weights = compute_class_weight(class_weight='balanced', classes=classes, y=train_target_nltk)\n",
    "class_weights = dict(zip(classes, weights))\n",
    "\n",
    "print(class_weights)"
   ]
  },
  {
   "cell_type": "code",
   "execution_count": 16,
   "metadata": {},
   "outputs": [
    {
     "name": "stdout",
     "output_type": "stream",
     "text": [
      "0.708596559241197\n"
     ]
    }
   ],
   "source": [
    "pipeline_cbc = Pipeline([\n",
    "    ('tfidf', TfidfVectorizer(stop_words=stopwords)),\n",
    "    ('catboost', CatBoostClassifier(random_state=RANDOM_STATE, class_weights=class_weights))\n",
    "])\n",
    "parameters_cbc = {\n",
    "    'tfidf__max_df': (0.25, 0.5, 0.75),\n",
    "    'tfidf__ngram_range': [(1, 1), (1, 2), (1, 3)],\n",
    "    'catboost__learning_rate': [0.01, 0.1, 0.5],\n",
    "    'catboost__depth': [3, 5, 7, 9],\n",
    "    'catboost__iterations': [50, 100]\n",
    "}\n",
    "\n",
    "grid_search_cbc = RandomizedSearchCV(pipeline_cbc, parameters_cbc, cv=3, n_jobs=-1, \\\n",
    "                                        scoring='f1', verbose=3)\n",
    "grid_search_cbc.fit(train_features_nltk, train_target_nltk)\n",
    "\n",
    "print(grid_search_cbc.best_score_)"
   ]
  },
  {
   "attachments": {},
   "cell_type": "markdown",
   "metadata": {},
   "source": [
    "Let's summarize the results for three models we've built."
   ]
  },
  {
   "cell_type": "code",
   "execution_count": 17,
   "metadata": {},
   "outputs": [
    {
     "data": {
      "text/html": [
       "<div>\n",
       "<style scoped>\n",
       "    .dataframe tbody tr th:only-of-type {\n",
       "        vertical-align: middle;\n",
       "    }\n",
       "\n",
       "    .dataframe tbody tr th {\n",
       "        vertical-align: top;\n",
       "    }\n",
       "\n",
       "    .dataframe thead th {\n",
       "        text-align: right;\n",
       "    }\n",
       "</style>\n",
       "<table border=\"1\" class=\"dataframe\">\n",
       "  <thead>\n",
       "    <tr style=\"text-align: right;\">\n",
       "      <th></th>\n",
       "      <th>Prediction Quality (F1 Score)</th>\n",
       "    </tr>\n",
       "  </thead>\n",
       "  <tbody>\n",
       "    <tr>\n",
       "      <th>LogisticRegression</th>\n",
       "      <td>0.778224</td>\n",
       "    </tr>\n",
       "    <tr>\n",
       "      <th>RandomForestClassifier</th>\n",
       "      <td>0.373402</td>\n",
       "    </tr>\n",
       "    <tr>\n",
       "      <th>CatBoostClassifier</th>\n",
       "      <td>0.708596</td>\n",
       "    </tr>\n",
       "  </tbody>\n",
       "</table>\n",
       "</div>"
      ],
      "text/plain": [
       "                        Prediction Quality (F1 Score)\n",
       "LogisticRegression                           0.778224\n",
       "RandomForestClassifier                       0.373402\n",
       "CatBoostClassifier                           0.708596"
      ]
     },
     "metadata": {},
     "output_type": "display_data"
    }
   ],
   "source": [
    "# Passing the feature values to the DataFrame constructor()\n",
    "\n",
    "results = pd.DataFrame(\n",
    "    {'Prediction Quality (F1 Score)' : [grid_search_logreg.best_score_, grid_search_forest.best_score_, grid_search_cbc.best_score_]})\n",
    "\n",
    "# Setting column names to the indices\n",
    "\n",
    "results.index = ['LogisticRegression', 'RandomForestClassifier', 'CatBoostClassifier']\n",
    "\n",
    "# Displaying the table\n",
    "\n",
    "display(results)"
   ]
  },
  {
   "attachments": {},
   "cell_type": "markdown",
   "metadata": {},
   "source": [
    "Based on the results obtained, we can conclude that the best model for classifying comments as positive or negative is LogisticRegression (with an F1 score of 0.778, which meets the project's requirements)."
   ]
  },
  {
   "attachments": {},
   "cell_type": "markdown",
   "metadata": {},
   "source": [
    "## Model Testing"
   ]
  },
  {
   "attachments": {},
   "cell_type": "markdown",
   "metadata": {},
   "source": [
    "Evaluating the quality of the logistic regression model on the test set."
   ]
  },
  {
   "cell_type": "code",
   "execution_count": 18,
   "metadata": {},
   "outputs": [
    {
     "name": "stderr",
     "output_type": "stream",
     "text": [
     ]
    },
    {
     "name": "stdout",
     "output_type": "stream",
     "text": [
      "F1 score for logistic regression on the test set: 0.7934436181514646\n"
     ]
    }
   ],
   "source": [
    "estimator = grid_search_logreg.best_estimator_\n",
    "\n",
    "estimator.fit(train_features_nltk, train_target_nltk)\n",
    "predicted_nltk = estimator.predict(test_features_nltk)\n",
    "\n",
    "print('F1 score for logistic regression on the test set:', f1_score(test_target_nltk, predicted_nltk))"
   ]
  },
  {
   "attachments": {},
   "cell_type": "markdown",
   "metadata": {},
   "source": [
    "### BERT Solution"
   ]
  },
  {
   "attachments": {},
   "cell_type": "markdown",
   "metadata": {},
   "source": [
    "The data has already been cleaned and lemmatized in the previous stage. Before converting the texts into vectors, we need to prepare them. First, I will initialize the tokenizer."
   ]
  },
  {
   "cell_type": "code",
   "execution_count": 19,
   "metadata": {
    "scrolled": true
   },
   "outputs": [
    {
     "data": {
      "application/vnd.jupyter.widget-view+json": {
       "model_id": "3bcfd9e481b74395ac7bd3080c899952",
       "version_major": 2,
       "version_minor": 0
      },
      "text/plain": [
       "Downloading (…)solve/main/vocab.txt:   0%|          | 0.00/232k [00:00<?, ?B/s]"
      ]
     },
     "metadata": {},
     "output_type": "display_data"
    },
    {
     "data": {
      "application/vnd.jupyter.widget-view+json": {
       "model_id": "9f08830d51b24c20b0e77ba067a5b0a5",
       "version_major": 2,
       "version_minor": 0
      },
      "text/plain": [
       "Downloading (…)cial_tokens_map.json:   0%|          | 0.00/112 [00:00<?, ?B/s]"
      ]
     },
     "metadata": {},
     "output_type": "display_data"
    },
    {
     "data": {
      "application/vnd.jupyter.widget-view+json": {
       "model_id": "c816dd221c3b48db82f1aeb622b30eaa",
       "version_major": 2,
       "version_minor": 0
      },
      "text/plain": [
       "Downloading (…)okenizer_config.json:   0%|          | 0.00/174 [00:00<?, ?B/s]"
      ]
     },
     "metadata": {},
     "output_type": "display_data"
    },
    {
     "data": {
      "application/vnd.jupyter.widget-view+json": {
       "model_id": "a6924707274b4b0db38a27f807a22c0f",
       "version_major": 2,
       "version_minor": 0
      },
      "text/plain": [
       "Downloading (…)lve/main/config.json:   0%|          | 0.00/811 [00:00<?, ?B/s]"
      ]
     },
     "metadata": {},
     "output_type": "display_data"
    }
   ],
   "source": [
    "tokenizer = transformers.BertTokenizer.from_pretrained(\"unitary/toxic-bert\")"
   ]
  },
  {
   "attachments": {},
   "cell_type": "markdown",
   "metadata": {},
   "source": [
    "Let's see how the tokenizer works on the first row of the dataset."
   ]
  },
  {
   "cell_type": "code",
   "execution_count": 20,
   "metadata": {},
   "outputs": [
    {
     "name": "stdout",
     "output_type": "stream",
     "text": [
      "Original:  Explanation Why the edits made under my username Hardcore Metallica Fan were reverted They were n t vandalisms just closure on some GAs after I voted at New York Dolls FAC And please do n t remove the template from the talk page since I m retired now\n",
      "Tokenized:  ['explanation', 'why', 'the', 'edit', '##s', 'made', 'under', 'my', 'user', '##name', 'hardcore', 'metallic', '##a', 'fan', 'were', 'reverted', 'they', 'were', 'n', 't', 'van', '##dal', '##isms', 'just', 'closure', 'on', 'some', 'gas', 'after', 'i', 'voted', 'at', 'new', 'york', 'dolls', 'fa', '##c', 'and', 'please', 'do', 'n', 't', 'remove', 'the', 'template', 'from', 'the', 'talk', 'page', 'since', 'i', 'm', 'retired', 'now']\n",
      "Token IDs:  [7526, 2339, 1996, 10086, 2015, 2081, 2104, 2026, 5310, 18442, 13076, 12392, 2050, 5470, 2020, 16407, 2027, 2020, 1050, 1056, 3158, 9305, 22556, 2074, 8503, 2006, 2070, 3806, 2044, 1045, 5444, 2012, 2047, 2259, 14421, 6904, 2278, 1998, 3531, 2079, 1050, 1056, 6366, 1996, 23561, 2013, 1996, 2831, 3931, 2144, 1045, 1049, 3394, 2085]\n"
     ]
    }
   ],
   "source": [
    "# Displaying the original comment\n",
    "\n",
    "print('Original: ', df_comments['text'][0])\n",
    "\n",
    "# Displaying the tokenized version of the string\n",
    "\n",
    "print('Tokenized: ', tokenizer.tokenize(df_comments['text'][0]))\n",
    "\n",
    "# Displaying the sentence mapped to token IDs\n",
    "\n",
    "print('Token IDs: ', tokenizer.convert_tokens_to_ids(tokenizer.tokenize(df_comments['text'][0])))"
   ]
  },
  {
   "attachments": {},
   "cell_type": "markdown",
   "metadata": {},
   "source": [
    "To make the BERT model work, we need to convert the text into tokens. First, I will find the maximum token chain length for the majority of rows in our dataset. I will tokenize them and set 512 as the maximum length for the tokenizer because the model does not support longer chains."
   ]
  },
  {
   "cell_type": "code",
   "execution_count": 21,
   "metadata": {},
   "outputs": [],
   "source": [
    "max_len = 0\n",
    "sentence_length = []\n",
    "\n",
    "for text in df_comments['text']:\n",
    "    tokenized = tokenizer.encode(text, max_length=512, truncation=True, add_special_tokens=True)\n",
    "    max_len = max(max_len, len(tokenized))\n",
    "    sentence_length.append(len(tokenized))"
   ]
  },
  {
   "attachments": {},
   "cell_type": "markdown",
   "metadata": {},
   "source": [
    "I will create a Series object and display its characteristics."
   ]
  },
  {
   "cell_type": "code",
   "execution_count": 22,
   "metadata": {},
   "outputs": [
    {
     "data": {
      "text/plain": [
       "count    159292.000000\n",
       "mean         73.905350\n",
       "std          91.790195\n",
       "min           2.000000\n",
       "25%          21.000000\n",
       "50%          42.000000\n",
       "75%          86.000000\n",
       "max         512.000000\n",
       "dtype: float64"
      ]
     },
     "execution_count": 22,
     "metadata": {},
     "output_type": "execute_result"
    }
   ],
   "source": [
    "sentence_length = pd.Series(sentence_length)\n",
    "sentence_length.describe()"
   ]
  },
  {
   "attachments": {},
   "cell_type": "markdown",
   "metadata": {},
   "source": [
    "To make the model train faster, I will set the actual maximum length of the token chain within the 75% quantile to 86 for the tokenizer."
   ]
  },
  {
   "cell_type": "code",
   "execution_count": 23,
   "metadata": {},
   "outputs": [],
   "source": [
    "max_len = 86"
   ]
  },
  {
   "attachments": {},
   "cell_type": "markdown",
   "metadata": {},
   "source": [
    "I will consider this maximum size of the remaining token sequences, tokenize each cleaned text value, and apply padding and truncation methods to ensure that the token sequence in each case has a fixed length, both for token sequences shorter than the maximum allowed value and for those that are longer. I will also add special tokens to mark the beginning and end of sentences (`[CLS]`, `[PAD]`, and `[SEP]`).\n",
    "\n",
    "Let's check how these actions work on the first row of the dataset if I fix the tensor length at 100 (for a shorter and more illustrative form)."
   ]
  },
  {
   "cell_type": "code",
   "execution_count": 24,
   "metadata": {},
   "outputs": [
    {
     "name": "stdout",
     "output_type": "stream",
     "text": [
      "Returning the result as token indices and masks: {'input_ids': [101, 7526, 2339, 1996, 10086, 2015, 2081, 2104, 2026, 5310, 18442, 13076, 12392, 2050, 5470, 2020, 16407, 2027, 2020, 1050, 1056, 3158, 9305, 22556, 2074, 8503, 2006, 2070, 3806, 2044, 1045, 5444, 2012, 2047, 2259, 14421, 6904, 2278, 1998, 3531, 2079, 1050, 1056, 6366, 1996, 23561, 2013, 1996, 2831, 3931, 2144, 1045, 1049, 3394, 2085, 102, 0, 0, 0, 0, 0, 0, 0, 0, 0, 0, 0, 0, 0, 0, 0, 0, 0, 0, 0, 0, 0, 0, 0, 0, 0, 0, 0, 0, 0, 0, 0, 0, 0, 0, 0, 0, 0, 0, 0, 0, 0, 0, 0, 0], 'attention_mask': [1, 1, 1, 1, 1, 1, 1, 1, 1, 1, 1, 1, 1, 1, 1, 1, 1, 1, 1, 1, 1, 1, 1, 1, 1, 1, 1, 1, 1, 1, 1, 1, 1, 1, 1, 1, 1, 1, 1, 1, 1, 1, 1, 1, 1, 1, 1, 1, 1, 1, 1, 1, 1, 1, 1, 1, 0, 0, 0, 0, 0, 0, 0, 0, 0, 0, 0, 0, 0, 0, 0, 0, 0, 0, 0, 0, 0, 0, 0, 0, 0, 0, 0, 0, 0, 0, 0, 0, 0, 0, 0, 0, 0, 0, 0, 0, 0, 0, 0, 0]}\n"
     ]
    }
   ],
   "source": [
    "print('Returning the result as token indices and masks:',\n",
    "      tokenizer(df_comments['text'][0], padding='max_length',\n",
    "        max_length = 100, truncation=True, add_special_tokens=True,\n",
    "          return_token_type_ids=False, return_attention_mask=True))"
   ]
  },
  {
   "cell_type": "code",
   "execution_count": 25,
   "metadata": {},
   "outputs": [],
   "source": [
    "input_ids = []\n",
    "attention_masks = []\n",
    "\n",
    "for text in df_comments['text']:\n",
    "        encoded = tokenizer(text, padding='max_length', max_length = max_len,\n",
    "                            truncation=True, add_special_tokens=True,\n",
    "                            return_token_type_ids=False, return_attention_mask=True, return_tensors='pt')\n",
    "\n",
    "        input_ids.append(encoded.get('input_ids'))\n",
    "        attention_masks.append(encoded.get('attention_mask'))"
   ]
  },
  {
   "cell_type": "code",
   "execution_count": 26,
   "metadata": {},
   "outputs": [
    {
     "name": "stdout",
     "output_type": "stream",
     "text": [
      "tensor([[  101,  7526,  2339,  1996, 10086,  2015,  2081,  2104,  2026,  5310,\n",
      "         18442, 13076, 12392,  2050,  5470,  2020, 16407,  2027,  2020,  1050,\n",
      "          1056,  3158,  9305, 22556,  2074,  8503,  2006,  2070,  3806,  2044,\n",
      "          1045,  5444,  2012,  2047,  2259, 14421,  6904,  2278,  1998,  3531,\n",
      "          2079,  1050,  1056,  6366,  1996, 23561,  2013,  1996,  2831,  3931,\n",
      "          2144,  1045,  1049,  3394,  2085,   102,     0,     0,     0,     0,\n",
      "             0,     0,     0,     0,     0,     0,     0,     0,     0,     0,\n",
      "             0,     0,     0,     0,     0,     0,     0,     0,     0,     0,\n",
      "             0,     0,     0,     0,     0,     0]])\n",
      "tensor([[1, 1, 1, 1, 1, 1, 1, 1, 1, 1, 1, 1, 1, 1, 1, 1, 1, 1, 1, 1, 1, 1, 1, 1,\n",
      "         1, 1, 1, 1, 1, 1, 1, 1, 1, 1, 1, 1, 1, 1, 1, 1, 1, 1, 1, 1, 1, 1, 1, 1,\n",
      "         1, 1, 1, 1, 1, 1, 1, 1, 0, 0, 0, 0, 0, 0, 0, 0, 0, 0, 0, 0, 0, 0, 0, 0,\n",
      "         0, 0, 0, 0, 0, 0, 0, 0, 0, 0, 0, 0, 0, 0]])\n"
     ]
    }
   ],
   "source": [
    "print(input_ids[0])\n",
    "print(attention_masks[0])"
   ]
  },
  {
   "attachments": {},
   "cell_type": "markdown",
   "metadata": {},
   "source": [
    "I will initialize an instance of the BertModel class and pass it the pretrained model file."
   ]
  },
  {
   "cell_type": "code",
   "execution_count": 30,
   "metadata": {},
   "outputs": [],
   "source": [
    "model = transformers.BertModel.from_pretrained(\"unitary/toxic-bert\")"
   ]
  },
  {
   "attachments": {},
   "cell_type": "markdown",
   "metadata": {},
   "source": [
    "Next, I will convert the texts into embeddings."
   ]
  },
  {
   "cell_type": "code",
   "execution_count": 31,
   "metadata": {},
   "outputs": [
    {
     "name": "stdout",
     "output_type": "stream",
     "text": [
      "First iteration of data set:  {'comment': tensor([  101,  7526,  2339,  1996, 10086,  2015,  2081,  2104,  2026,  5310,\n",
      "        18442, 13076, 12392,  2050,  5470,  2020, 16407,  2027,  2020,  1050,\n",
      "         1056,  3158,  9305, 22556,  2074,  8503,  2006,  2070,  3806,  2044,\n",
      "         1045,  5444,  2012,  2047,  2259, 14421,  6904,  2278,  1998,  3531,\n",
      "         2079,  1050,  1056,  6366,  1996, 23561,  2013,  1996,  2831,  3931,\n",
      "         2144,  1045,  1049,  3394,  2085,   102,     0,     0,     0,     0,\n",
      "            0,     0,     0,     0,     0,     0,     0,     0,     0,     0,\n",
      "            0,     0,     0,     0,     0,     0,     0,     0,     0,     0,\n",
      "            0,     0,     0,     0,     0,     0]), 'mask': tensor([1, 1, 1, 1, 1, 1, 1, 1, 1, 1, 1, 1, 1, 1, 1, 1, 1, 1, 1, 1, 1, 1, 1, 1,\n",
      "        1, 1, 1, 1, 1, 1, 1, 1, 1, 1, 1, 1, 1, 1, 1, 1, 1, 1, 1, 1, 1, 1, 1, 1,\n",
      "        1, 1, 1, 1, 1, 1, 1, 1, 0, 0, 0, 0, 0, 0, 0, 0, 0, 0, 0, 0, 0, 0, 0, 0,\n",
      "        0, 0, 0, 0, 0, 0, 0, 0, 0, 0, 0, 0, 0, 0])} \n",
      "\n",
      "Length of data set:  159292 \n",
      "\n"
     ]
    }
   ],
   "source": [
    "# Creating a helper class for token and mask representation\n",
    "\n",
    "class CustomTextDataset(Dataset):\n",
    "    def __init__(self, input_ids, attention_masks):\n",
    "        self.input_ids = input_ids\n",
    "        self.attention_masks = attention_masks\n",
    "\n",
    "    def __len__(self):\n",
    "        return len(self.input_ids)\n",
    "\n",
    "    def __getitem__(self, idx):\n",
    "        comment_input_ids = self.input_ids[idx].flatten()\n",
    "        comment_attention_mask = self.attention_masks[idx].flatten()\n",
    "        return { \"comment\": comment_input_ids, \"mask\": comment_attention_mask }\n",
    "\n",
    "# Preparing the dataframe\n",
    "\n",
    "vectors_df = pd.DataFrame({ 'comment': input_ids, 'mask': attention_masks })\n",
    "\n",
    "# Creating the dataset\n",
    "\n",
    "TD = CustomTextDataset(vectors_df['comment'], vectors_df['mask'])\n",
    "\n",
    "# Checking the first iteration on the dataset\n",
    "\n",
    "print('First iteration of data set: ', next(iter(TD)), '\\n')\n",
    "\n",
    "# Displaying the dataset size\n",
    "\n",
    "print('Length of data set: ', len(TD), '\\n')"
   ]
  },
  {
   "cell_type": "code",
   "execution_count": 32,
   "metadata": {},
   "outputs": [
    {
     "name": "stderr",
     "output_type": "stream",
     "text": [
      "100%|█████████████████████████████████████████████████████████████████| 2489/2489 [47:53<00:00,  1.15s/it]\u001b[A\n"
     ]
    }
   ],
   "source": [
    "# Creating a data loader for our dataset\n",
    "\n",
    "bert_recommended_batch_size = 64\n",
    "DL_DS = DataLoader(TD, batch_size=bert_recommended_batch_size, shuffle=False)\n",
    "\n",
    "# Creating an empty list to store the embeddings\n",
    "\n",
    "embeddings = []\n",
    "\n",
    "# Writing a loop over batches\n",
    "\n",
    "for _i_batch, feed_data in enumerate(tqdm(DL_DS)):\n",
    "\n",
    "        batch = feed_data[\"comment\"]\n",
    "        attention_mask_batch = feed_data[\"mask\"]\n",
    "\n",
    "        # Indicating that gradients are not needed\n",
    "        \n",
    "        with torch.no_grad():\n",
    "            \n",
    "            # Passing the data and mask to the model\n",
    "            \n",
    "            batch_embeddings = model(input_ids=batch, attention_mask=attention_mask_batch)\n",
    "\n",
    "        # Converting the elements to numpy.array using the numpy() method\n",
    "        \n",
    "        embeddings.append(batch_embeddings[0][:,0,:].numpy())"
   ]
  },
  {
   "attachments": {},
   "cell_type": "markdown",
   "metadata": {},
   "source": [
    "I will collect all embeddings into a feature matrix."
   ]
  },
  {
   "cell_type": "code",
   "execution_count": 33,
   "metadata": {},
   "outputs": [
    {
     "name": "stdout",
     "output_type": "stream",
     "text": [
      "[-4.11893398e-01 -8.77829492e-01  7.77415931e-01 -4.82594937e-01\n",
      "  8.50107074e-01  4.33518648e-01  1.98859274e-01  1.37468725e-01\n",
      " -3.45301300e-01 -3.45849425e-01  8.62327740e-02 -7.86473989e-01\n",
      "  2.70417202e-02 -7.85285771e-01 -7.77828991e-01  4.87199008e-01\n",
      " -4.15122449e-01 -9.88148093e-01 -4.91547883e-01 -1.01553452e+00\n",
      "  4.59231675e-01 -9.43391204e-01 -3.58602628e-02  1.05021626e-01\n",
      " -6.82014525e-01 -6.40863717e-01 -5.69600761e-01 -1.05171227e+00\n",
      " -4.59430784e-01  1.11508512e+00 -8.91744494e-01  7.88838267e-01\n",
      "  4.22502518e-01  5.71764350e-01  5.17761469e-01  1.17000496e+00\n",
      "  8.78636003e-01  3.07266861e-01  7.77286053e-01  7.87967563e-01\n",
      "  8.27984512e-02 -7.13086486e-01  1.11169910e+00 -8.59033465e-01\n",
      " -1.11287482e-01  5.99534392e-01 -2.53653675e-01 -9.67781007e-01\n",
      " -1.56821966e+00 -1.01614678e+00  6.19224198e-02  9.11293924e-01\n",
      "  5.87509573e-01  8.69534314e-01 -7.29906499e-01  7.61343837e-01\n",
      " -2.51698196e-01 -2.95845896e-01 -6.26520574e-01 -1.13482308e+00\n",
      " -9.84248042e-01 -5.68812549e-01  4.79351133e-01  5.85320115e-01\n",
      " -8.10104311e-01  4.33421850e-01 -9.99710858e-01  7.13742375e-01\n",
      " -1.82711795e-01 -1.39248744e-02 -9.15483087e-02  3.64603490e-01\n",
      " -1.36082396e-01  5.34309030e-01  2.60220855e-01  8.44490290e-01\n",
      " -4.59796607e-01 -7.31984973e-01  8.52653384e-01  6.89207554e-01\n",
      " -7.05930054e-01  2.39205003e-01  6.06697679e-01 -5.44018626e-01\n",
      "  7.75029540e-01 -6.57901287e-01 -6.89171970e-01 -3.80991548e-02\n",
      " -2.14808255e-01  1.01504338e+00  8.53244960e-01 -8.93084764e-01\n",
      " -6.61948144e-01  3.83597553e-01 -4.23370898e-01 -1.20827889e+00\n",
      " -3.53429392e-02  7.45706141e-01  7.75966346e-01  1.24733829e+00\n",
      " -2.70402074e-01  1.50180966e-01 -2.55476743e-01 -2.26339102e-01\n",
      " -1.00783527e+00 -1.17697680e+00 -8.68403316e-01 -6.67391002e-01\n",
      "  2.99012989e-01  9.92886201e-02  4.18871641e-01 -7.60093689e-01\n",
      "  7.33335197e-01 -6.58943117e-01 -9.14385915e-01 -6.89079612e-02\n",
      "  5.41261956e-02  3.38199884e-01  5.42969942e-01  1.33662954e-01\n",
      " -6.52689159e-01  7.35538721e-01  5.96527994e-01  7.98575580e-01\n",
      "  2.61802763e-01  3.23961854e-01  1.52282238e-01 -7.61123657e-01\n",
      "  8.15752864e-01  6.62842512e-01  3.96436572e-01  5.64887226e-01\n",
      "  2.22295865e-01 -6.48396194e-01 -2.45405346e-01 -8.35848004e-02\n",
      " -4.63454515e-01 -5.95702887e-01  3.18559080e-01 -8.99829745e-01\n",
      "  3.94935548e-01  9.00789618e-01 -1.41426362e-02  6.20067477e-01\n",
      "  5.78423738e-01  5.62469125e-01 -4.71085936e-01 -2.61125475e-01\n",
      "  8.48166108e-01  1.10817385e+00  1.12070417e+00  5.55127025e-01\n",
      " -6.81828499e-01 -5.17186224e-01 -5.59799373e-01 -1.09920353e-02\n",
      " -5.63670993e-01  9.91652071e-01 -5.67547977e-01  2.27342341e-02\n",
      "  5.13509929e-01  1.13920879e+00 -8.42556894e-01 -5.20903647e-01\n",
      " -3.44524086e-01 -4.14155304e-01 -5.68801872e-02 -5.39783955e-01\n",
      " -1.26902223e-01 -6.39516175e-01 -2.12835908e-01 -8.82568419e-01\n",
      "  7.15542495e-01  9.20880437e-01 -6.92260206e-01 -6.80876493e-01\n",
      "  6.55098557e-02  6.92232698e-03  7.18838215e-01 -3.67030323e-01\n",
      " -2.90721178e-01  5.22189975e-01  6.84559524e-01 -8.80541682e-01\n",
      "  7.10038543e-01 -6.89084589e-01 -4.05681580e-01 -7.62304246e-01\n",
      "  4.43616778e-01 -5.43944538e-04 -7.57873356e-01 -1.30762613e+00\n",
      "  5.04096806e-01  9.56582785e-01 -5.50756454e-01  2.10737824e-01\n",
      " -6.65379763e-01 -5.45642495e-01  3.79660666e-01  4.91856515e-01\n",
      "  1.48337975e-01 -5.57055809e-02 -7.87741363e-01  1.01433134e+00\n",
      "  9.65519071e-01  4.58199590e-01 -6.86831415e-01  9.33784395e-02\n",
      " -2.39035755e-01 -2.37722188e-01 -5.48503160e-01  6.16359413e-01\n",
      "  6.39301956e-01  3.29760790e-01  9.24520433e-01 -7.74120331e-01\n",
      "  3.52735102e-01 -1.05102408e+00 -7.36473918e-01  6.33812606e-01\n",
      "  6.22751296e-01  3.31206679e-01 -6.77086890e-01  8.61486733e-01\n",
      " -6.56433105e-01  6.20184004e-01  9.82291102e-01 -2.12628543e-01\n",
      "  3.78689408e-01 -3.72278914e-02  5.05848050e-01  4.16460335e-01\n",
      " -4.76009220e-01 -4.81784433e-01  7.04993129e-01  8.24078083e-01\n",
      "  3.48072261e-01 -1.73071831e-01 -1.00221395e+00 -3.58307302e-01\n",
      "  5.66184640e-01  4.16027784e-01  4.39028919e-01  4.38382685e-01\n",
      " -3.42874229e-01  3.00789148e-01  8.52241516e-01 -8.69125009e-01\n",
      "  2.04696715e-01 -8.19670856e-01 -5.51486909e-01 -8.97088706e-01\n",
      "  1.14958155e+00  2.16961280e-01 -5.83412588e-01  8.11711967e-01\n",
      " -9.07022655e-01 -4.04626310e-01 -1.26997352e-01  4.83048767e-01\n",
      "  8.36627036e-02 -6.83991790e-01 -2.20934123e-01 -5.28481722e-01\n",
      " -7.80118346e-01 -5.17589152e-01 -7.22496867e-01 -2.60193110e-01\n",
      "  3.59293163e-01 -4.55834806e-01 -6.46866024e-01 -3.12540293e-01\n",
      "  1.71067059e-01 -1.29535437e-01 -1.17585850e+00  7.83107460e-01\n",
      "  1.09142065e+00  3.73688370e-01 -1.35650441e-01 -1.50936830e+00\n",
      "  4.88924682e-01  6.04891002e-01 -3.05780113e-01  5.22063732e-01\n",
      " -5.32168984e-01  2.95274496e-01 -9.36933100e-01 -4.85238582e-02\n",
      " -9.66363728e-01 -1.00626493e+00 -3.04885775e-01  1.20601380e+00\n",
      "  5.35732210e-01  3.91125023e-01  1.05064817e-01  9.46913779e-01\n",
      "  7.61441886e-01 -1.30814195e+00 -2.34030083e-01 -4.85592812e-01\n",
      "  3.72348040e-01 -2.39401653e-01  1.28661025e+00  3.19792032e-01\n",
      " -3.29987586e-01 -1.24913454e+00 -7.40332127e-01 -9.16798949e-01\n",
      " -5.20106256e-01 -9.58224833e-01 -4.37155068e-01 -8.64256740e-01\n",
      "  9.70321521e-02 -7.49832869e-01  4.37842607e-01 -5.16840339e-01\n",
      "  8.22772682e-02  5.84251106e-01 -7.85842776e-01 -5.55519342e-01\n",
      "  7.22896695e-01  3.23954493e-01  7.03690350e-01 -1.08234316e-01\n",
      "  4.40725803e-01  8.14736247e-01 -4.43064660e-01 -7.27073252e-01\n",
      "  9.35672164e-01 -6.69864833e-01 -1.18382029e-01 -8.92953947e-03\n",
      " -3.59878391e-01  8.46038938e-01  8.56965184e-02 -7.96142042e-01\n",
      " -4.41029847e-01 -5.40040493e-01 -8.19873810e-01 -2.30045751e-01\n",
      "  4.57782507e-01  6.02206647e-01  3.85262191e-01 -6.54697776e-01\n",
      " -1.03756011e-01  4.67561871e-01  4.35108691e-01 -3.40579927e-01\n",
      "  9.26053166e-01  2.10494548e-01  3.64120364e-01 -7.75636882e-02\n",
      "  1.00074515e-01  3.62872094e-01  7.11036325e-01 -5.17736435e-01\n",
      " -2.30670452e-01  3.48940313e-01  7.94411123e-01 -3.46985221e-01\n",
      "  4.03213389e-02 -4.46462184e-01  3.99269402e-01 -9.52323020e-01\n",
      " -8.30913782e-01  8.50343049e-01  6.66239321e-01  6.03090882e-01\n",
      " -2.93793708e-01  2.70296693e-01 -2.39020422e-01 -8.89325619e-01\n",
      "  6.92963123e-01 -1.24453038e-01  7.08324194e-01 -4.78675336e-01\n",
      "  1.03668022e+00  5.43243229e-01 -3.34051222e-01 -6.53955877e-01\n",
      "  1.05014658e+00 -1.08509034e-01 -3.83947670e-01  5.37310183e-01\n",
      " -4.20440316e-01 -5.34325838e-01  4.98410344e-01  1.96448877e-01\n",
      "  6.63690716e-02 -4.53139096e-01  3.22729230e-01  1.15073562e-01\n",
      "  3.48058909e-01 -7.55286455e-01  1.06267893e+00  8.66576791e-01\n",
      " -4.48472023e-01 -2.21794114e-01  6.42581999e-01  9.11291897e-01\n",
      "  4.59301859e-01  6.56373739e-01  7.33536959e-01  8.32028627e-01\n",
      "  5.01996160e-01 -4.68669713e-01  5.76553524e-01 -1.08437657e+00\n",
      "  5.35605013e-01 -1.05124784e+00 -6.55253351e-01 -5.43897748e-02\n",
      "  1.10194099e+00  7.16655791e-01 -7.79496074e-01 -4.54486549e-01\n",
      "  7.73095965e-01  7.11342096e-01  1.02767646e+00  6.32958710e-01\n",
      "  7.34844089e-01 -1.07710457e+00  1.47810251e-01 -3.05534393e-01\n",
      "  5.10937512e-01  7.23562062e-01 -1.13642561e+00  8.73521924e-01\n",
      " -7.30331123e-01  7.82273531e-01  1.01408386e+00 -9.07339692e-01\n",
      " -9.49908078e-01 -6.77848935e-01 -2.31047720e-01 -5.05201161e-01\n",
      "  2.76371866e-01  3.59703094e-01 -4.80413288e-01  5.63472986e-01\n",
      "  4.41094220e-01 -5.16558290e-01 -3.61599624e-01  6.29122794e-01\n",
      " -3.04834187e-01 -6.73768044e-01  7.24334776e-01  4.17423755e-01\n",
      "  3.08205336e-01  3.92271012e-01 -9.94086802e-01 -1.76473409e-01\n",
      " -2.75025487e-01  6.58484876e-01 -1.39547288e-02  1.07478201e+00\n",
      " -3.54929328e-01  8.35053146e-01  7.31025994e-01 -5.38513482e-01\n",
      "  7.29529500e-01 -1.42737955e-01  6.34136081e-01 -5.09760201e-01\n",
      " -8.05062473e-01 -8.34131539e-01  7.19109178e-01 -7.21326411e-01\n",
      " -5.67040443e-01 -1.47031799e-01 -3.84030104e-01  4.40557674e-03\n",
      "  2.96137333e-01  6.58634961e-01  6.00668728e-01 -1.10279524e+00\n",
      " -7.39474654e-01  6.45198941e-01  3.55025530e-01 -8.27573895e-01\n",
      " -7.36076236e-01  4.41760033e-01  1.56568378e-01  3.88054878e-01\n",
      " -1.01744545e+00 -4.44842458e-01  4.35136676e-01 -2.75211513e-01\n",
      "  1.05199468e+00 -1.14167941e+00 -3.88290018e-01 -1.20921083e-01\n",
      "  7.50973940e-01  8.98006320e-01 -5.18482327e-01 -6.29815757e-01\n",
      " -7.37031281e-01  5.91106117e-01  9.24355388e-01 -3.86273116e-01\n",
      "  8.46216559e-01 -4.68180120e-01  6.68614864e-01 -4.27511096e-01\n",
      "  4.63662326e-01  1.38163793e+00 -7.76821673e-01  4.06481177e-01\n",
      " -1.62172601e-01  1.31112682e-02 -7.20934689e-01  9.89848077e-01\n",
      " -5.61679229e-02 -4.01579887e-01  2.54483014e-01  6.18330061e-01\n",
      " -6.20497465e-01  2.44619429e-01  6.35676324e-01 -5.70281208e-01\n",
      " -3.33914936e-01 -6.04654491e-01 -4.80178326e-01  1.44927549e+00\n",
      "  3.46466869e-01  5.96972883e-01 -6.93573892e-01 -4.42602515e-01\n",
      " -4.01103944e-01 -6.79308414e-01 -6.47794187e-01 -7.44904399e-01\n",
      " -5.80622375e-01  6.14765942e-01 -8.46375525e-02 -3.62917870e-01\n",
      "  1.45971036e+00  6.69150501e-02  9.42266464e-01  6.42556190e-01\n",
      " -2.62015581e-01  6.07263505e-01  4.20066893e-01 -4.94827777e-02\n",
      " -6.11667395e-01  2.66105801e-01 -6.74133301e-01 -7.88501143e-01\n",
      "  7.78362811e-01  1.29133308e+00 -6.34162247e-01 -4.84208107e-01\n",
      "  3.78011942e-01  3.52106094e-01 -5.54773748e-01  8.45319629e-01\n",
      " -8.04292679e-01  2.31565207e-01  1.03070617e+00 -8.45127285e-01\n",
      " -4.60191637e-01  1.65922448e-01 -7.04931736e-01  8.27537894e-01\n",
      " -6.33502066e-01 -3.29411447e-01 -1.37098277e+00 -7.76895940e-01\n",
      "  6.52756393e-01 -8.08033824e-01 -1.26061082e+00 -3.43434691e-01\n",
      "  6.70174122e-01 -8.15950856e-02  5.21616757e-01  6.02252781e-01\n",
      " -5.78073040e-02 -6.44226372e-01 -5.04406989e-01 -1.87121466e-01\n",
      " -3.25309873e-01  8.24790955e-01  6.44956172e-01 -7.95867205e-01\n",
      "  9.11086917e-01 -1.98108777e-01 -2.97227025e-01 -4.87868041e-01\n",
      "  4.33204174e-01 -7.59352446e-01  1.04396975e+00  4.19926673e-01\n",
      " -9.06167030e-01 -1.09764302e+00 -8.33994508e-01 -8.65030468e-01\n",
      " -4.94513422e-01  5.10919571e-01  2.55739927e-01  6.69612229e-01\n",
      " -5.62051237e-01  4.70853567e-01  5.32125950e-01  6.73020929e-02\n",
      " -5.17803192e-01 -3.27359200e-01 -3.04462880e-01 -7.60401547e-01\n",
      "  6.50035858e-01  8.79689693e-01 -6.87636137e-01  5.06364286e-01\n",
      "  5.71694434e-01  3.46558616e-02  7.71179080e-01 -7.75521576e-01\n",
      " -6.58631563e-01 -2.19356969e-01 -3.52380842e-01 -1.63717017e-01\n",
      "  2.63597995e-01  4.75373894e-01 -9.17146266e-01  4.63376582e-01\n",
      "  1.55721217e-01  1.18923172e-01 -8.91884446e-01  5.81985474e-01\n",
      "  7.78712511e-01 -1.16116393e+00  5.09582043e-01  4.71777081e-01\n",
      " -8.24868903e-02  2.67224878e-01 -4.46402311e-01  3.95500243e-01\n",
      " -1.07739401e+00  5.48545003e-01 -1.04342437e+00 -7.75318027e-01\n",
      "  4.37754661e-01  1.11854351e+00  4.39369768e-01 -1.62162736e-01\n",
      "  5.33862948e-01 -5.45197129e-01 -1.08377182e+00 -1.01493156e+00\n",
      "  3.74629974e-01  9.11219060e-01  3.60192716e-01  4.02181894e-01\n",
      " -9.50784624e-01 -8.86503100e-01 -3.18169564e-01 -2.68171698e-01\n",
      " -4.69020933e-01  9.04367983e-01 -8.50396454e-01 -5.13225608e-02\n",
      " -3.98119211e-01 -7.90092468e-01  5.69649458e-01  9.68872130e-01\n",
      "  3.94417048e-01  9.00243700e-01  9.93386745e-01 -1.87403917e-01\n",
      "  7.55953014e-01  6.22952938e-01  1.12220168e+00 -1.03747167e-01\n",
      "  8.61153156e-02 -2.81790078e-01  6.42438114e-01 -9.87116814e-01\n",
      " -2.19236165e-01 -1.35797963e-01 -1.30616516e-01  4.12692249e-01\n",
      " -7.30463386e-01  7.88991034e-01  2.69975275e-01 -1.29068211e-01\n",
      " -9.76670459e-02 -5.72767854e-01 -7.19060004e-01 -4.98029947e-01\n",
      " -7.85679936e-01 -3.52979779e-01 -4.71036494e-01  1.81868151e-01\n",
      "  5.66958010e-01 -1.09758520e+00 -1.90289527e-01 -2.84370273e-01\n",
      "  6.90494925e-02  2.13687971e-01  1.31512120e-01 -1.61464542e-01\n",
      " -7.39761353e-01 -1.04569077e+00  7.07761586e-01 -1.38648891e+00\n",
      "  5.65253437e-01  7.43588269e-01  1.40341699e+00 -1.38254797e+00\n",
      "  6.86680317e-01  3.91854525e-01 -5.45179963e-01  1.77072614e-01\n",
      "  9.46168125e-01 -3.65058303e-01 -4.08515483e-01 -3.39737505e-01\n",
      "  1.60884216e-01  1.16219151e+00  6.40591264e-01 -6.53624952e-01\n",
      " -8.26209545e-01  6.13654494e-01 -6.70926750e-01 -2.35041678e-01\n",
      " -5.01234531e-01 -7.72069931e-01 -4.17271256e-01 -8.48082125e-01\n",
      "  1.01353502e+00 -6.51261747e-01  5.55045664e-01  1.08960256e-01\n",
      "  3.97134364e-01 -5.90812922e-01  5.34993470e-01 -6.75871432e-01\n",
      " -8.74234065e-02  1.73435599e-01  1.37449217e+00 -7.68028378e-01\n",
      "  8.73359978e-01 -3.12013388e-01 -3.65823746e-01  9.54765320e-01\n",
      "  3.43761623e-01  6.55476153e-01  8.00345778e-01 -1.82069689e-01\n",
      " -5.74608803e-01 -8.37521970e-01 -7.51606643e-01  7.68357992e-01\n",
      "  1.19626790e-01  7.24894881e-01 -7.06548512e-01 -6.76331699e-01\n",
      " -5.37773788e-01 -1.46088585e-01 -8.11765254e-01 -1.04231989e+00\n",
      "  4.26803410e-01 -4.93931830e-01 -2.67131086e-02  5.80255687e-01\n",
      " -5.22323012e-01 -7.72209227e-01  7.29829967e-01  2.65524209e-01]\n",
      "159292\n"
     ]
    }
   ],
   "source": [
    "features = np.concatenate(embeddings)\n",
    "print(features[0])\n",
    "print(len(features))"
   ]
  },
  {
   "attachments": {},
   "cell_type": "markdown",
   "metadata": {},
   "source": [
    "The features are ready, and we can proceed to the model training stage.\n",
    "\n",
    "First, let's prepare the datasets."
   ]
  },
  {
   "cell_type": "code",
   "execution_count": 34,
   "metadata": {},
   "outputs": [
    {
     "name": "stdout",
     "output_type": "stream",
     "text": [
      "Number of instances per class in the target feature for the training set: [114484  12949]\n",
      "Number of instances per class in the target feature for the testing set: [28622  3237]\n"
     ]
    }
   ],
   "source": [
    "train_features, test_features, train_target, test_target = train_test_split(features, \\\n",
    "                                                        df_comments['toxic'], test_size=0.2, \\\n",
    "                                                        random_state=RANDOM_STATE, stratify=df_comments['toxic'])\n",
    "print(f\"Number of instances per class in the target feature for the training set: {np.bincount(train_target)}\")\n",
    "print(f\"Number of instances per class in the target feature for the testing set: {np.bincount(test_target)}\")"
   ]
  },
  {
   "attachments": {},
   "cell_type": "markdown",
   "metadata": {},
   "source": [
    "Next, I will train two models - LogisticRegression and RandomForestClassifier."
   ]
  },
  {
   "attachments": {},
   "cell_type": "markdown",
   "metadata": {},
   "source": [
    "* **LogisticRegression**"
   ]
  },
  {
   "cell_type": "code",
   "execution_count": 35,
   "metadata": {},
   "outputs": [
    {
     "name": "stdout",
     "output_type": "stream",
     "text": [
      "Fitting 5 folds for each of 8 candidates, totalling 40 fits\n"
     ]
    },
    {
     "name": "stdout",
     "output_type": "stream",
     "text": [
      "0.8668163065788359\n"
     ]
    }
   ],
   "source": [
    "model_logistic = LogisticRegression(random_state=RANDOM_STATE, class_weight='balanced')\n",
    "\n",
    "param_grid_logistic = {\n",
    "    'C': [0.01, 0.1, 1, 10],\n",
    "    'max_iter': [10, 100]\n",
    "}\n",
    "\n",
    "grid_logistic = GridSearchCV(model_logistic, param_grid_logistic, verbose=1, scoring='f1')\n",
    "grid_logistic.fit(train_features, train_target)\n",
    "\n",
    "print(grid_logistic.best_score_)"
   ]
  },
  {
   "attachments": {},
   "cell_type": "markdown",
   "metadata": {},
   "source": [
    "* **RandomForestClassifier**"
   ]
  },
  {
   "cell_type": "code",
   "execution_count": 36,
   "metadata": {},
   "outputs": [
    {
     "name": "stdout",
     "output_type": "stream",
     "text": [
      "Fitting 5 folds for each of 9 candidates, totalling 45 fits\n",
      "0.9049093433614461\n"
     ]
    }
   ],
   "source": [
    "model_forest = RandomForestClassifier(random_state=RANDOM_STATE, class_weight='balanced')\n",
    "\n",
    "param_grid_forest = {\n",
    "    'max_depth': [2, 8, 15],\n",
    "    'n_estimators': [10, 50, 100]\n",
    "}\n",
    "\n",
    "grid_forest = GridSearchCV(model_forest, param_grid_forest, verbose=1, scoring='f1')\n",
    "grid_forest.fit(train_features, train_target)\n",
    "\n",
    "print(grid_forest.best_score_)"
   ]
  },
  {
   "attachments": {},
   "cell_type": "markdown",
   "metadata": {},
   "source": [
    "## General conclusion"
   ]
  },
  {
   "attachments": {},
   "cell_type": "markdown",
   "metadata": {},
   "source": [
    "Based on the results of our analysis, we have reached the following conclusions.\n",
    "\n",
    "Solving the comment tone classification task **with BERT** showed better results than without BERT.\n",
    "\n",
    "✔️ Performed tokenization, lemmatization, and text cleaning by removing unnecessary symbols and stop words.\n",
    "\n",
    "✔️ Computed TF-IDF to determine sentiment.\n",
    "\n",
    "✔️ Trained three models: LogisticRegression, RandomForestClassifier and CatBoostClassifier.\n",
    "\n",
    "✔️ Conducted testing of the best model.\n",
    "\n",
    "The best model for classifying comments as positive or negative without using BERT is LogisticRegression (with an F1 score of 0.778, meeting the project's requirements).\n",
    "\n",
    "When using BERT, I preprocessed the data by cleaning it from unnecessary symbols and handling outliers. I trained the LogisticRegression and RandomForestClassifier models and obtained higher F1 scores compared to the first approach. The best overall result was achieved from RandomForestClassifier with BERT having a F1 score of 0.904."
   ]
  }
 ],
 "metadata": {
  "ExecuteTimeLog": [
   {
    "duration": 2894,
    "start_time": "2023-02-17T07:37:16.983Z"
   },
   {
    "duration": 250,
    "start_time": "2023-02-17T07:37:22.088Z"
   },
   {
    "duration": 33,
    "start_time": "2023-02-17T07:37:24.989Z"
   },
   {
    "duration": 1012,
    "start_time": "2023-02-17T07:37:27.690Z"
   },
   {
    "duration": 72,
    "start_time": "2023-02-17T07:37:40.520Z"
   },
   {
    "duration": 63,
    "start_time": "2023-02-18T11:55:58.001Z"
   }
  ],
  "kernelspec": {
   "display_name": "Python 3 (ipykernel)",
   "language": "python",
   "name": "python3"
  },
  "toc": {
   "base_numbering": 1,
   "nav_menu": {},
   "number_sections": true,
   "sideBar": true,
   "skip_h1_title": true,
   "title_cell": "Содержание",
   "title_sidebar": "Contents",
   "toc_cell": true,
   "toc_position": {
    "height": "calc(100% - 180px)",
    "left": "10px",
    "top": "150px",
    "width": "302.391px"
   },
   "toc_section_display": true,
   "toc_window_display": false
  }
 },
 "nbformat": 4,
 "nbformat_minor": 2
}
